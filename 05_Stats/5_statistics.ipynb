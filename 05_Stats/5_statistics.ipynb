{
 "cells": [
  {
   "cell_type": "markdown",
   "metadata": {},
   "source": [
    "# Biostatistiques\n",
    "\n",
    "Aux chapitres précédents, nous avons vu comment organiser et manipuler des tableaux de données, puis les visualiser. La statistique est une collection de disciplines liées à la collecte, l'oragnisation, l'analyse, l'interprétation et la présentation de données. Les biostatistiques est l'application de ces disciplines à la biosphère.\n",
    "\n",
    "Dans [*Principles and procedures of statistics: A biometrical approach*](https://www.amazon.com/Principles-Procedures-Statistics-Biometrical-Approach/dp/0070610282), Steel, Torie et Dickey (1997) définissent les statistiques ainsi:\n",
    "\n",
    "> Les statistiques forment la science, pure et appliquée, de la création, du développement, et de l'application de techniques par lesquelles l'incertitude de l'induction inférentielle peut être évaluée. (ma traduction)\n",
    "\n",
    "Alors que l'inférence consiste à généraliser des observations sur des échantillons à l'ensemble d'une population, l'induction est un type de raisonnement qui permet de généraliser des observations en théories. Les statistiques permettent d'évaluer l'incertitude découlant du processus qui permet d'abord de passer de l'échantillon à la population représenté par cet échantillon, puis de passer de cette représentation d'une population en lois générales la concernant.\n",
    "\n",
    "Ainsi les statistiques consistent à *faire du sens* (anglicisme assumé) avec des observations: collecter des échantillons, transformer les données, effectuer des tests,  analyser les résultats, les interpréter et les visualiser. Bien que ces tâches soient complexes, en particulier en ce qui a trait aux tests statistiques, la plupart des opérations statistiques peuvent être effectuées sans l'assistance de statisticien.ne.s, à condition de comprendre suffisamment les concepts utilisés. Ce chapitre à lui seul est trop court pour permettre d'intégrer toutes les connaissances nécessaires à une utilisation raisonnée des statistiques, mais fourni les bases pour aller plus loin. Notez que les erreurs d'interprétation statistiques sont courantes et la consultation de spécialistes n'est souvent pas un luxe.\n",
    "\n",
    "Dans ce chapitre, nous verrons comment répondre correctement à une question valide et adéquate avec l'aide d'outils de calcul scientifique. Nous couvrirons les notions de bases des distributions et des variables aléatoires qui nous permettront d'effectuer des tests statistiques commun avec Python. Nous couvrirons aussi les erreurs communément commises en recherche académique et les moyens simples de les éviter.\n",
    "\n",
    "Ce chapitre est une introduction aux statistiques avec Python, et ne rempalcera pas un bon cours de stats.\n",
    "\n",
    "Nous aurons besoin des modules suivants.\n",
    "\n",
    "- Modules scientifiques de base: `numpy`, `scipy` et `pandas`\n",
    "- Modules graphiques: `matplotlib` et `seaborn`\n",
    "- Modules de calcul statistique: [`statsmodels`](http://www.statsmodels.org) et le sous-module `scipy.stats`.\n",
    "\n",
    "Avant de survoler les applications statistiques avec Python, je vais d'abord et rapidement présenter quelques notions importantes en statistiques: populations et échantillons, variables, probabilités et distributions. Nous allons effectuer des tests d'hypothèse univariés (notamment les tests de *t* et les analyses de variance) et détailler la notion de p-value. Je vais m'attarder plus longuement aux modèles linéaires généralisés, incluant en particulier des effets fixes et aléatoires (modèles mixtes), qui fournissent une trousse d'analyse polyvalente en analyse multivariée. Je terminerai avec les perspectives multivariés que sont les matrices de covariance et de corrélation.\n",
    "\n",
    "Ce chapitre est inspiré en particulier du livre [*An introduction to statistics with Python - With applications on life science*](https://www.springer.com/us/book/9783319283159), de Thomas Haslwanter (2016)."
   ]
  },
  {
   "cell_type": "code",
   "execution_count": 10,
   "metadata": {},
   "outputs": [],
   "source": [
    "import numpy as np\n",
    "import pandas as pd\n",
    "import matplotlib.pyplot as plt\n",
    "import seaborn as sns\n",
    "import scipy.stats as stats\n",
    "import statsmodels.api as smf"
   ]
  },
  {
   "cell_type": "markdown",
   "metadata": {},
   "source": [
    "## Populations et échantillons\n",
    "\n",
    "Le principe d'inférence consiste à généraliser des conclusions à l'échelle d'une population à partir d'échantillons issus de cette population. Alors qu'une **population** contient tous les éléments étudiés, un **échantillon** d'une population est une observation unique. Une expérience bien conçue fera en sorte que les échantillons sont représentatifs de la population qui, la plupart du temps, ne peut être observée entièrement pour des raisons pratiques.\n",
    "\n",
    "Les principes d'expérimentation servant de base à la conception d'une bonne méthodologie sont présentés dans le cours [*Dispositifs expérimentaux (BVG-7002)*](https://www.ulaval.ca/les-etudes/cours/repertoire/detailsCours/bvg-7002-dispositifs-experimentaux.html). Également, je recommande le livre *Princpes d'expérimentation: planification des expériences et analyse de leurs résultats* de Pierre Dagnelie (2012), [disponible en ligne en format PDF](http://www.dagnelie.be/docpdf/ex2012.pdf). Un bon aperçu des dispositifs expérimentaux est aussi présenté dans [*An introduction to statistics with Python*](https://www.springer.com/us/book/9783319283159), de Thomas Haslwanter (2016).\n",
    "\n",
    "Une population est échantillonnée pour induire des **paramètres**: un rendement typique dans des conditions météorologiques, édaphiques et managériales données, la masse typique des faucons pélerins, mâles et femelles, le microbiome typique d'un sol agricole ou forestier, etc. Une **statistique** est une estimation d'un paramètre calculée à partir des données, par exemple une moyenne et un écart-type.\n",
    "\n",
    "Par exemple, la moyenne ($\\mu$) et l'écart-type ($\\sigma$) d'une population sont estimés par les moyennes ($\\bar{x}$) et écarts-types ($s$) calculés sur les données issues de l'échantillonnage.\n",
    "\n",
    "Chaque paramètre est liée à une perspective que l'on désire conaître chez une population. Ces angles d'observations sont les **variables**."
   ]
  },
  {
   "cell_type": "markdown",
   "metadata": {},
   "source": [
    "## Les variables\n",
    "\n",
    "Nous avons abordé au chapitre 3 la notion de *variable* par l'intermédiaire d'une donnée. Une variable est l'observation d'une caractéristique décrivant un échantillon et qui est susceptible de varier d'un échantillon à un autre. Si les observations varient en effet d'un échantillon à un autre, on parlera de variable aléatoire. Même le hasard est régit par certaines loi: ce qui est aléatoire dans une variable peut être décrit par des **lois de probabilité**, que nous verrons plus bas.\n",
    "\n",
    "Mais restons aux variables pour l'instant. Par convention, on peut attribuer aux variables un symbole mathématique. Par exemple, on peut donner à la masse volumique d'un sol (qui est le résultat d'une méthodologie précise) le sympole $\\rho$. Lorsque l'on attribue une valeur à $\\rho$, on parle d'une donnée. Chaque donnée d'une observation a un indice qui lui est propre, que l'on désigne souvent par $i$, que l'on place en indice $\\rho_i$. Pour la première donnée, on a $i=1$, donc $\\rho_1$. Pour un nombre $n$ d'échantillons, on aura $\\rho_1$, $\\rho_2$, $\\rho_3$, ..., $\\rho_n$, formant le vecteur $\\rho = \\left[\\rho_1, \\rho_2, \\rho_3, ..., \\rho_n \\right]$.\n",
    "\n",
    "En Python, une variable est associée à une liste, une matrice unidimentionnelle (i.e. un vecteur) ou une colonne d'un tableau `pandas` (notez que Python accepte les lettres grecques)."
   ]
  },
  {
   "cell_type": "code",
   "execution_count": 11,
   "metadata": {},
   "outputs": [
    {
     "data": {
      "text/html": [
       "<div>\n",
       "<style scoped>\n",
       "    .dataframe tbody tr th:only-of-type {\n",
       "        vertical-align: middle;\n",
       "    }\n",
       "\n",
       "    .dataframe tbody tr th {\n",
       "        vertical-align: top;\n",
       "    }\n",
       "\n",
       "    .dataframe thead th {\n",
       "        text-align: right;\n",
       "    }\n",
       "</style>\n",
       "<table border=\"1\" class=\"dataframe\">\n",
       "  <thead>\n",
       "    <tr style=\"text-align: right;\">\n",
       "      <th></th>\n",
       "      <th>ρ</th>\n",
       "    </tr>\n",
       "  </thead>\n",
       "  <tbody>\n",
       "    <tr>\n",
       "      <th>0</th>\n",
       "      <td>1.34</td>\n",
       "    </tr>\n",
       "    <tr>\n",
       "      <th>1</th>\n",
       "      <td>1.52</td>\n",
       "    </tr>\n",
       "    <tr>\n",
       "      <th>2</th>\n",
       "      <td>1.26</td>\n",
       "    </tr>\n",
       "    <tr>\n",
       "      <th>3</th>\n",
       "      <td>1.43</td>\n",
       "    </tr>\n",
       "    <tr>\n",
       "      <th>4</th>\n",
       "      <td>1.39</td>\n",
       "    </tr>\n",
       "  </tbody>\n",
       "</table>\n",
       "</div>"
      ],
      "text/plain": [
       "      ρ\n",
       "0  1.34\n",
       "1  1.52\n",
       "2  1.26\n",
       "3  1.43\n",
       "4  1.39"
      ]
     },
     "execution_count": 11,
     "metadata": {},
     "output_type": "execute_result"
    }
   ],
   "source": [
    "ρ = np.array([1.34, 1.52, 1.26, 1.43, 1.39]) # matrice 1D\n",
    "data = pd.DataFrame({'ρ': ρ}) # tableau\n",
    "data"
   ]
  },
  {
   "cell_type": "markdown",
   "metadata": {},
   "source": [
    "Il existe plusieurs types de variables, qui se regroupe en deux grandes catégories: les **variables quantitatives** et les **variables qualitatives**.\n",
    "\n",
    "### Variables quantitatives\n",
    "\n",
    "Ces variables peuvent être continuent dans un espace échantillonal réel ou discrètes dans un espace échantillonnal ne considérant que des valeurs fixes. Notons que la notion de nombre réel est toujours une approximation en sciences expérimentales comme en calcul numérique, étant donnée que l'on est limité par la précision des appareils comme par le nombre d'octets à utiliser. Bien que les valeurs fixes des disctributions discrètes ne soient pas toujours des valeurs entières, c'est bien souvent le cas en biostatistiques comme en démocgraphie, où les décomptes d'individus sont souvents présents (et où la notion de fraction d'individus n'est pas acceptée).\n",
    "\n",
    "### Variables qualitatives\n",
    "\n",
    "On exprime parfois qu'une variable qualitative est une variable impossible à mesurer numériquement: une couleur, l'appartenance à espèce ou à une série de sol. Pourtant, dans bien des cas, les variables qualitatives peut être encodées en variables quantitatives. Par exemple, on peut accoler des pourcentages de sable, limon et argile à un loam sableux, qui autrement est décrit par la classe texturale d'un sol. Pour une couleur, on peut lui associer des pourcentages de rouge, vert et bleu, ainsi qu'un ton. En ce qui a trait aux variables ordonnées, il est possible de supposer un étalement. Par exemple, une variable d'intensité faible-moyenne-forte peut être transformée linéairement en valeurs quantitatives -1, 0 et 1. Attention toutefois, l'étalement peut parfois être quadratique ou logarithmique. Les séries de sol peuvent être encodées par la proportion de gleyfication ([Parent et al., 2017](https://www.frontiersin.org/articles/10.3389/fenvs.2017.00081/full#B4)). Quant aux catégories difficilement transformables en quantités, on pourra passer par l'**encodage catégoriel**, souvent appelé *dummyfication*.\n",
    "\n",
    "### Encodage catégoriel\n",
    "\n",
    "Une variable à $C$ catégories pourra être déclinée en $C$ variables dont chaque colonne désigne par un 1 l'appartenance au groupe de la colonne et par un 0 la non-appartenance. Pour l'exemple, créons un vecteur désignant le cultivar de pomme de terre."
   ]
  },
  {
   "cell_type": "code",
   "execution_count": 12,
   "metadata": {},
   "outputs": [
    {
     "data": {
      "text/html": [
       "<div>\n",
       "<style scoped>\n",
       "    .dataframe tbody tr th:only-of-type {\n",
       "        vertical-align: middle;\n",
       "    }\n",
       "\n",
       "    .dataframe tbody tr th {\n",
       "        vertical-align: top;\n",
       "    }\n",
       "\n",
       "    .dataframe thead th {\n",
       "        text-align: right;\n",
       "    }\n",
       "</style>\n",
       "<table border=\"1\" class=\"dataframe\">\n",
       "  <thead>\n",
       "    <tr style=\"text-align: right;\">\n",
       "      <th></th>\n",
       "      <th>cultivar</th>\n",
       "      <th>cultivar_Kenebec</th>\n",
       "      <th>cultivar_Russet</th>\n",
       "      <th>cultivar_Superior</th>\n",
       "    </tr>\n",
       "  </thead>\n",
       "  <tbody>\n",
       "    <tr>\n",
       "      <th>0</th>\n",
       "      <td>Superior</td>\n",
       "      <td>0</td>\n",
       "      <td>0</td>\n",
       "      <td>1</td>\n",
       "    </tr>\n",
       "    <tr>\n",
       "      <th>1</th>\n",
       "      <td>Superior</td>\n",
       "      <td>0</td>\n",
       "      <td>0</td>\n",
       "      <td>1</td>\n",
       "    </tr>\n",
       "    <tr>\n",
       "      <th>2</th>\n",
       "      <td>Superior</td>\n",
       "      <td>0</td>\n",
       "      <td>0</td>\n",
       "      <td>1</td>\n",
       "    </tr>\n",
       "    <tr>\n",
       "      <th>3</th>\n",
       "      <td>Russet</td>\n",
       "      <td>0</td>\n",
       "      <td>1</td>\n",
       "      <td>0</td>\n",
       "    </tr>\n",
       "    <tr>\n",
       "      <th>4</th>\n",
       "      <td>Kenebec</td>\n",
       "      <td>1</td>\n",
       "      <td>0</td>\n",
       "      <td>0</td>\n",
       "    </tr>\n",
       "    <tr>\n",
       "      <th>5</th>\n",
       "      <td>Russet</td>\n",
       "      <td>0</td>\n",
       "      <td>1</td>\n",
       "      <td>0</td>\n",
       "    </tr>\n",
       "  </tbody>\n",
       "</table>\n",
       "</div>"
      ],
      "text/plain": [
       "   cultivar  cultivar_Kenebec  cultivar_Russet  cultivar_Superior\n",
       "0  Superior                 0                0                  1\n",
       "1  Superior                 0                0                  1\n",
       "2  Superior                 0                0                  1\n",
       "3    Russet                 0                1                  0\n",
       "4   Kenebec                 1                0                  0\n",
       "5    Russet                 0                1                  0"
      ]
     },
     "execution_count": 12,
     "metadata": {},
     "output_type": "execute_result"
    }
   ],
   "source": [
    "data = pd.DataFrame({'cultivar': ['Superior', 'Superior', 'Superior', 'Russet', 'Kenebec', 'Russet']}) # créer un tableau\n",
    "dummies = pd.get_dummies(data) # encodage catégoriel\n",
    "pd.concat([data, dummies], axis=1) # coller data et dummies l'un contre l'autre"
   ]
  },
  {
   "cell_type": "markdown",
   "metadata": {},
   "source": [
    "Nous avons trois catégories, encodées en trois colonnes. Il reste toutefois un détail important à régler: la redondance d'information. En partant du principe que l'appartenance à une catégorie est mutuellement exclusive, c'est-à-dire qu'un échantillon ne peut être assigné qu'à une seule catégorie, on peut déduire une catégorie à partir de l'information sur toutes les autres. Par exemple, si `cultivar_Russet` et `cultivar_Superior` sont toutes deux égales à $0$, on concluera que `cultivar_Kenebec` est nécessairement égal à $1$. Et si l'un d'entre `cultivar_Russet` et `cultivar_Superior` est égal à $1$, `cultivar_Kenebec` est nécessairement égal à $0$. L'information contenue dans un nombre $C$ de catégorie peut être encodée dans un nombre $C-1$ de colonnes. C'est pourquoi, dans une analyse statistique, on désignera une catégorie comme une référence, que l'on détecte lorsque toutes les autres catégories sont encodées avec des $0$. Dans l'exemple des cultivars de pomme de terre, la transformation des variables qualitatives en variables qualitatives permettant l'analyse statistique, en prenant `cultivar_Superior` comme référence arbitraire, prendra la forme suivante."
   ]
  },
  {
   "cell_type": "code",
   "execution_count": 13,
   "metadata": {},
   "outputs": [
    {
     "data": {
      "text/html": [
       "<div>\n",
       "<style scoped>\n",
       "    .dataframe tbody tr th:only-of-type {\n",
       "        vertical-align: middle;\n",
       "    }\n",
       "\n",
       "    .dataframe tbody tr th {\n",
       "        vertical-align: top;\n",
       "    }\n",
       "\n",
       "    .dataframe thead th {\n",
       "        text-align: right;\n",
       "    }\n",
       "</style>\n",
       "<table border=\"1\" class=\"dataframe\">\n",
       "  <thead>\n",
       "    <tr style=\"text-align: right;\">\n",
       "      <th></th>\n",
       "      <th>cultivar_Kenebec</th>\n",
       "      <th>cultivar_Russet</th>\n",
       "    </tr>\n",
       "  </thead>\n",
       "  <tbody>\n",
       "    <tr>\n",
       "      <th>0</th>\n",
       "      <td>0</td>\n",
       "      <td>0</td>\n",
       "    </tr>\n",
       "    <tr>\n",
       "      <th>1</th>\n",
       "      <td>0</td>\n",
       "      <td>0</td>\n",
       "    </tr>\n",
       "    <tr>\n",
       "      <th>2</th>\n",
       "      <td>0</td>\n",
       "      <td>0</td>\n",
       "    </tr>\n",
       "    <tr>\n",
       "      <th>3</th>\n",
       "      <td>0</td>\n",
       "      <td>1</td>\n",
       "    </tr>\n",
       "    <tr>\n",
       "      <th>4</th>\n",
       "      <td>1</td>\n",
       "      <td>0</td>\n",
       "    </tr>\n",
       "    <tr>\n",
       "      <th>5</th>\n",
       "      <td>0</td>\n",
       "      <td>1</td>\n",
       "    </tr>\n",
       "  </tbody>\n",
       "</table>\n",
       "</div>"
      ],
      "text/plain": [
       "   cultivar_Kenebec  cultivar_Russet\n",
       "0                 0                0\n",
       "1                 0                0\n",
       "2                 0                0\n",
       "3                 0                1\n",
       "4                 1                0\n",
       "5                 0                1"
      ]
     },
     "execution_count": 13,
     "metadata": {},
     "output_type": "execute_result"
    }
   ],
   "source": [
    "dummies.drop('cultivar_Superior', axis=1)"
   ]
  },
  {
   "cell_type": "markdown",
   "metadata": {},
   "source": [
    "Pour certains modèles, vous devrez vous assurer vous-même de l'encodage catégoriel. Pour d'autre, en particulier avec l'interface par formule de `statsmodels`, ce sera fait automatiquement. Nous verrons cela plus loin."
   ]
  },
  {
   "cell_type": "markdown",
   "metadata": {
    "inputHidden": false,
    "outputHidden": false
   },
   "source": [
    "## Les probabilités\n",
    "\n",
    "> « Nous sommes si éloignés de connaître tous les agens de la nature, et leurs divers modes d'action ; qu'il ne serait pas philosophique de nier les phénomènes, uniquement parce qu'ils sont inexplicables dans l'état actuel de nos connaissances. Seulement, nous devons les examiner avec une attention d'autant plus scrupuleuse, qu'il paraît plus difficile de les admettre ; et c'est ici que le calcul des probabilités devient indispensable, pour déterminer jusqu'à quel point il faut multiplier les observations ou les expériences, afin d'obtenir en faveur des agens qu'elles indiquent, une probabilité supérieure aux raisons que l'on peut avoir d'ailleurs, de ne pas les admettre. » — Pierre-Simon de Laplace\n",
    "\n",
    "Une probabilité est la vraissemblance qu'un événements se réalise chez un échantillon. Les probabilités forment le cadre des systèmes stochastiques, c'est-à-dire des systèmes trop complexes pour en connaître exactement les aboutissants, auxquels ont attribue une part de hasard. Ces systèmes sont prédominants dans les processus vivants.\n",
    "\n",
    "On peut dégager deux perspectives sur les probabilités: l'une passe par une interprétations fréquentistes, l'autre bayésiennes. L'interprétation **fréquentiste** représente la fréquence des occurences après un nombre infini d'événements. Par exemple, si vous jouez à pile ou face un grand nombre de fois, le nombre de pile sera égal à la moitié du nombre de lancés. Il s'agit de l'interprétation communément utilisée.\n",
    "\n",
    "L'interprétation **bayésienne** vise à quantifier l'incertitude des phénomènes. Dans cette perspective, plus l'information s'accumule, plus l'incertitude diminue. Cette approche gagne en notoriété notamment parce qu'elle permet de décrire des phénomènes qui, intrinsèquement, ne peuvent être répétés infiniments (absence d'asymptote), comme celles qui sont bien définis dans le temps ou sur des populations limités.\n",
    "\n",
    "L'approche fréquentielle teste si les données concordent avec un modèle du réel, tandis que l'approche bayésienne évalue la probabilité que le modèle soit réel. Une erreur courrante consiste à aborder des statistiques fréquentielles comme des statistiques bayésiennes. Par exemple, si l'on désire évaluer la probabilité de l'existance de vie sur Mars, on devra passer par le bayésien, car avec les stats fréquentielles, l'on devra plutôt conclure si les données sont conforme ou non avec l'hypothèse de la vie sur Mars (exemple tirée du blogue [Dynamic Ecology](https://dynamicecology.wordpress.com/2011/10/11/frequentist-vs-bayesian-statistics-resources-to-help-you-choose/)).\n",
    "\n",
    "Des rivalités factives s'installent enter les tenants des différentes approches, dont chacune, en réalité, répond à des questions différentes dont il convient réfléchir sur les limitations. Bien que les statistiques bayésiennes soient de plus en plus utilisées, nous ne couvrirons dans ce chapitre que l'approche fréquentielle. L'approche bayésienne est néamoins traitée dans le document compplémentaire 5.1_bayes.ipynb."
   ]
  },
  {
   "cell_type": "markdown",
   "metadata": {},
   "source": [
    "## Les distributions\n",
    "\n",
    "Une variable aléatoire peut prendre des valeurs selon des modèles de distribution des probabilités. Une distribution est une fonction mathématique décrivant la probabilité d'observer une série d'évennements. Ces événemements peuvent être des valeurs continues, des nombres entiers, des catégories, des valeurs booléennes (Vrai/Faux), etc. Dépendamment du type de valeur et des observations obtenues, on peut associer des variables à différentes lois de probabilité. Toujours, l'aire sous la courbe d'une distribution de probabilité est égale à 1.\n",
    "\n",
    "En statistiques inférentielle, les distributions sont les modèles, comprenant certains paramètres comme la moyenne et la variance pour les distributions normales, à partir desquelles les données sont générées.\n",
    "\n",
    "Il existe deux grandes familles de distribution: **discrètes** et **continues**. Les distributions discrètes sont contraintes à des valeurs prédéfinies (finies ou infinies), alors que les distributions continues prennent nécessairement un nombre infinie de valeur, dont la probabilité ne peut pas être évaluée ponctellement, mais sur un intervalle."
   ]
  },
  {
   "cell_type": "markdown",
   "metadata": {},
   "source": [
    "L'**espérance** mathématique est une fonction de tendance centrale, souvent décrite par un paramètre. Il s'agit de la moyenne d'une population pour une distribution normale. La **variance**, quant à elle, décrit la variabilité d'une population, i.e. son étalement autour de l'espérance. Pour une distribution normale, la variance d'une population est aussi appelée variance, souvent présentée par l'écart-type."
   ]
  },
  {
   "cell_type": "markdown",
   "metadata": {},
   "source": [
    "### Distribution binomiale\n",
    "\n",
    "En tant que scénario à deux issues possibles, des tirages à pile ou face suivent une loi binomiale, comme toute variable booléenne prenant une valeur vraie ou fausse. En biostatistiques, les cas communs sont la présence/absence d'une espèce, d'une maladie, d'un trait phylogénétique, ainsi que les catégories encodées. Lorsque l'opération ne comprend qu'un seul échantillon (i.e. un seul tirage à pile ou face), il s'agit d'un cas particulier d'une loi binomiale que l'on nomme une loi de *Bernouilli*.\n",
    "\n",
    "Pour 25 tirages à pile ou face indépendants (i.e. dont l'ordre des tirages ne compte pas), on peut dessiner une courbe de distribution dont la somme des probabilités est de 1. Notez que dans la fonction `stats.binom(25, 0.5).pmf(x)`, on utilise `pmf`. En effet, les fonctions de distribution des probabilités discrètes sont appelées des fonctions de masse (*probability mass function*, pmf)."
   ]
  },
  {
   "cell_type": "code",
   "execution_count": 97,
   "metadata": {},
   "outputs": [
    {
     "name": "stdout",
     "output_type": "stream",
     "text": [
      "La somme des probabilités est de 1.0\n"
     ]
    },
    {
     "data": {
      "image/png": "[encoded data removed]",
      "text/plain": [
       "<matplotlib.figure.Figure at 0x7f205d1b9e10>"
      ]
     },
     "metadata": {},
     "output_type": "display_data"
    }
   ],
   "source": [
    "x = np.arange(26)\n",
    "y = stats.binom(n=25, p=0.5).pmf(x)\n",
    "print('La somme des probabilités est de', y.sum())\n",
    "\n",
    "plt.plot(x, y, 'o', markersize=10)\n",
    "plt.vlines(x, 0, y, color='blue')\n",
    "plt.xlabel('Nombre de tirages gagnants')\n",
    "plt.ylabel('Nombre de tirages gagnants');"
   ]
  },
  {
   "cell_type": "markdown",
   "metadata": {},
   "source": [
    "### Distribution de Poisson\n",
    "\n",
    "La loi de Poisson (avec un P majuscule, introduite par le mathématicien français Siméon Denis Poisson) décrit des distributions discrètes de probabilité d'un nombre d'événements se produisant dans l'espace ou dans le temps. Les distributions de Poisson décrive ce qui tient du décompte. Il peut s'agir du nombre de grenouilles traversant une rue quotidiennement, du nombre de plants d'asclépiades se trouvant sur une terre cultivée, ou du nombre d'événemnts de précipitation au mois de juin, etc. La distribution de poisson n'a qu'un seul paramètre, $\\lambda$, qui décrit tant la moyenne du décompte.\n",
    "\n",
    "Par exemple, en un mois de 30 jours, et une moyenne de 8 événements de précipitation pour ce mois, on obtient la distribution suivante."
   ]
  },
  {
   "cell_type": "code",
   "execution_count": 98,
   "metadata": {},
   "outputs": [
    {
     "name": "stdout",
     "output_type": "stream",
     "text": [
      "La somme des probabilités est de 0.999999999463\n"
     ]
    },
    {
     "data": {
      "image/png": "[encoded data removed]",
      "text/plain": [
       "<matplotlib.figure.Figure at 0x7f205d1255c0>"
      ]
     },
     "metadata": {},
     "output_type": "display_data"
    }
   ],
   "source": [
    "x = np.arange(31)\n",
    "y = stats.poisson(mu=8).pmf(x)\n",
    "print('La somme des probabilités est de', y.sum())\n",
    "\n",
    "plt.plot(x, y, 'o', markersize=10)\n",
    "plt.vlines(x, 0, y, color='blue')\n",
    "plt.xlabel('Nombre de tirages gagnants')\n",
    "plt.ylabel('Nombre de tirages gagnants');"
   ]
  },
  {
   "cell_type": "markdown",
   "metadata": {},
   "source": [
    "### Distribution uniforme\n",
    "\n",
    "La distribution la plus simple est probablement la distribution uniforme. Si la variable est discrète, chaque catégorie est associé à une probabilité égale. Si la variable est continue, la probabilité est directement proportionnelle à la largeur de l'intervalle.  On utilise rarement la distribution uniforme en biostatistiques, sinon pour décrire des *a prioris* vagues pour l'analyse bayésienne (ce sujet est traité dans le document 5.1_bayes.ipynb). Nous utilisons la fonction `pdf` dans `stats.uniform(-3, 6).pdf(x)`, pour dresser la fonction de densité d'une loi de probabilité (*probability density function*, pdf)."
   ]
  },
  {
   "cell_type": "code",
   "execution_count": 94,
   "metadata": {},
   "outputs": [
    {
     "data": {
      "text/plain": [
       "<matplotlib.legend.Legend at 0x7f205d2314a8>"
      ]
     },
     "execution_count": 94,
     "metadata": {},
     "output_type": "execute_result"
    },
    {
     "data": {
      "image/png": "[encoded data removed]",
      "text/plain": [
       "<matplotlib.figure.Figure at 0x7f205d27b278>"
      ]
     },
     "metadata": {},
     "output_type": "display_data"
    }
   ],
   "source": [
    "x = np.arange(-4, 4, 0.01) # créer un vecteur\n",
    "y1 = stats.uniform.pdf(x, loc=-3, scale=6) # la fonction de probabilité uniforme pour x, partant de -3, d'une largeur de 6\n",
    "y2 = stats.uniform.pdf(x, loc=-2, scale=4)\n",
    "y3 = stats.uniform(loc=-1, scale=2).pdf(x) # autre forme possible pour le calcul\n",
    "\n",
    "plt.plot(x, y1, label=\"Uniforme entre -3 et 3\")\n",
    "plt.plot(x, y2, label=\"Uniforme entre -2 et 2\")\n",
    "plt.plot(x, y3, label=\"Uniforme entre -1 et 1\")\n",
    "plt.xlabel('Variable')\n",
    "plt.ylabel('Densité')\n",
    "plt.legend()"
   ]
  },
  {
   "cell_type": "markdown",
   "metadata": {},
   "source": [
    "### Distribution normale\n",
    "La plus répendue de ces lois est probablement la loi normale, parfois nommée loi gaussienne et plus rarement loi laplacienne. Il s'agit de la distribution classique en forme de cloche.\n",
    "\n",
    "La loi normale est décrite par une moyenne, qui désigne la tendance centrale, et une variance, qui désigne l'étalement des probabilités autours de la moyenne. La racine carrée de la variance est l'écart-type.\n",
    "\n",
    "Pour les distributions mesures exclusivement positives (comme le poids ou la taille) sont parfois avantageusement approximées par une loi **log-normale**, ce qui est une loi normale sur le logarithme des valeurs: la moyenne d'une loi log-normale est la moyenne géométrique.\n",
    "\n",
    "Les modules `scipy.stats` permettent de tracer des courbes normales."
   ]
  },
  {
   "cell_type": "code",
   "execution_count": 93,
   "metadata": {},
   "outputs": [
    {
     "data": {
      "text/plain": [
       "<matplotlib.legend.Legend at 0x7f205d2d4898>"
      ]
     },
     "execution_count": 93,
     "metadata": {},
     "output_type": "execute_result"
    },
    {
     "data": {
      "image/png": "[encoded data removed]",
      "text/plain": [
       "<matplotlib.figure.Figure at 0x7f205d29c588>"
      ]
     },
     "metadata": {},
     "output_type": "display_data"
    }
   ],
   "source": [
    "x = np.arange(-10, 10, 0.001) # créer un vecteur\n",
    "y1 = stats.norm.pdf(x, loc=0, scale=1) # la fonction de probabilité normale pour x, moyenne de 0, écart-type de 1\n",
    "y2 = stats.norm.pdf(x, loc=0, scale=2)\n",
    "y3 = stats.norm.pdf(x, loc=0, scale=3)\n",
    "\n",
    "plt.plot(x, y1, label=\"Écart-type = 1\")\n",
    "plt.plot(x, y2, label=\"Écart-type = 2\")\n",
    "plt.plot(x, y3, label=\"Écart-type = 3\")\n",
    "plt.xlabel('Variable')\n",
    "plt.ylabel('Densité')\n",
    "plt.legend()"
   ]
  },
  {
   "cell_type": "markdown",
   "metadata": {},
   "source": [
    "Quelle est la probabilité d'obtenir le nombre 0 chez une observation continue distribuée normalement dont la moyenne est 0 et l'écart-type est de 1? Réponse: 0. La loi normale étant une distribution continue, les probabilités non-nulles ne peuvent être calculés que sur des intervalles. Par exemple, la probabilité de retrouver une valeur dans l'intervalle entre -0.1 et 0.2 est calculée en soustraiyant la probabilité cumulée à -0.1 de la probabilité cumulée à 0.2."
   ]
  },
  {
   "cell_type": "code",
   "execution_count": 13,
   "metadata": {},
   "outputs": [
    {
     "name": "stdout",
     "output_type": "stream",
     "text": [
      "81.859461412 %\n"
     ]
    },
    {
     "data": {
      "image/png": "[encoded data removed]",
      "text/plain": [
       "<matplotlib.figure.Figure at 0x7f06fb9edc18>"
      ]
     },
     "metadata": {},
     "output_type": "display_data"
    }
   ],
   "source": [
    "x = np.arange(-5, 5, 0.1) # créer un vecteur\n",
    "y1 = stats.norm.pdf(x, 0, 1)\n",
    "\n",
    "fill_condition = (x > -1) & (x<2)\n",
    "\n",
    "plt.plot(x, y1)\n",
    "plt.fill_between(x[fill_condition], y1[fill_condition], color='pink')\n",
    "\n",
    "print((stats.norm.cdf(2, loc=0, scale=1) - stats.norm.cdf(-1, loc=0, scale=1))*100, '%')"
   ]
  },
  {
   "cell_type": "markdown",
   "metadata": {},
   "source": [
    "Donc, la probabilité d'obtenir une valeur entre -1 et 2 lors d'un tirage aléatoire chez une distribution normale à moyenne de 0 et à écart-type de 1 est d'environ 82%."
   ]
  },
  {
   "cell_type": "markdown",
   "metadata": {},
   "source": [
    "La courbe normale peut être utile pour évaluer la distribution d'une population. Par exemple, on peut calculer les limites de région sur la courbe normale qui contient 95% des valeurs possibles en tranchant 2.5% de part et d'autre de la moyenne. Il s'agit ainsi de l'intervalle de confiance sur la déviation de la distribution."
   ]
  },
  {
   "cell_type": "code",
   "execution_count": 14,
   "metadata": {
    "scrolled": true
   },
   "outputs": [
    {
     "data": {
      "text/plain": [
       "Text(1.95996,0.1,'1.96')"
      ]
     },
     "execution_count": 14,
     "metadata": {},
     "output_type": "execute_result"
    },
    {
     "data": {
      "image/png": "[encoded data removed]",
      "text/plain": [
       "<matplotlib.figure.Figure at 0x7f06fb9bb208>"
      ]
     },
     "metadata": {},
     "output_type": "display_data"
    }
   ],
   "source": [
    "fill_condition = (x > stats.norm(loc=0, scale=1).ppf(0.025)) & (x<stats.norm(loc=0, scale=1).ppf(0.975))\n",
    "plt.plot(x, y1)\n",
    "plt.fill_between(x[fill_condition], y1[fill_condition], color='pink')\n",
    "plt.text(x=stats.norm(loc=0, scale=1).ppf(0.025), y=0.1,\n",
    "         s=str(np.round(stats.norm(loc=0, scale=1).ppf(0.025), 2)), ha='center')\n",
    "plt.text(x=stats.norm(loc=0, scale=1).ppf(0.975), y=0.1,\n",
    "         s=str(np.round(stats.norm(loc=0, scale=1).ppf(0.975), 2)), ha='center')"
   ]
  },
  {
   "cell_type": "markdown",
   "metadata": {},
   "source": [
    "On pourrait aussi être intéressé à l'intervalle de confiance sur la moyenne. En effet, la moyenne suit aussi une distribution normale, dont la tendance centrale est la moyenne de la distribution, et dont l'écart-type est noté *erreur standard*. On calcule cette erreur en divisant la variance par le nombre d'observation, ou en divisant l'écart-type par la racine carrée du nombre d'observations. Ainsi, pour 10 échantillons:"
   ]
  },
  {
   "cell_type": "code",
   "execution_count": 20,
   "metadata": {},
   "outputs": [
    {
     "data": {
      "text/plain": [
       "Text(0.619795,0.1,'0.62')"
      ]
     },
     "execution_count": 20,
     "metadata": {},
     "output_type": "execute_result"
    },
    {
     "data": {
      "image/png": "[encoded data removed]",
      "text/plain": [
       "<matplotlib.figure.Figure at 0x7f06fbad66a0>"
      ]
     },
     "metadata": {},
     "output_type": "display_data"
    }
   ],
   "source": [
    "standard_error = stats.norm(loc=0, scale=1/np.sqrt(10)).ppf(0.975) # égal à l'inverse de 0.025. notez l'échelle divisée par 5\n",
    "\n",
    "fill_condition = (x > -standard_error) & (x < standard_error)\n",
    "plt.plot(x, y1)\n",
    "plt.fill_between(x[fill_condition], y1[fill_condition], color='pink')\n",
    "plt.text(x=-standard_error, y=0.1, s=str(np.round(-standard_error, 2)), ha='center')\n",
    "plt.text(x=standard_error, y=0.1, s=str(np.round(standard_error, 2)), ha='center')"
   ]
  },
  {
   "cell_type": "markdown",
   "metadata": {},
   "source": [
    "### Distributions dérivées de la distribution normale\n",
    "\n",
    "La **distribution de Student** (ou de *t*) ...\n",
    "\n",
    "La **distribution du chi-carré** ou $\\chi^2$ ...\n",
    "\n",
    "La **distribution de Fisher** (ou de *F*) ..."
   ]
  },
  {
   "cell_type": "code",
   "execution_count": null,
   "metadata": {},
   "outputs": [],
   "source": []
  },
  {
   "cell_type": "code",
   "execution_count": null,
   "metadata": {},
   "outputs": [],
   "source": []
  },
  {
   "cell_type": "code",
   "execution_count": null,
   "metadata": {},
   "outputs": [],
   "source": []
  },
  {
   "cell_type": "markdown",
   "metadata": {},
   "source": [
    "### Distribution exponentielle\n",
    "### Distribution Beta"
   ]
  },
  {
   "cell_type": "code",
   "execution_count": null,
   "metadata": {},
   "outputs": [],
   "source": []
  },
  {
   "cell_type": "code",
   "execution_count": null,
   "metadata": {},
   "outputs": [],
   "source": []
  },
  {
   "cell_type": "code",
   "execution_count": null,
   "metadata": {},
   "outputs": [],
   "source": []
  },
  {
   "cell_type": "markdown",
   "metadata": {},
   "source": [
    "## Statistiques univariées\n",
    "\n",
    "On aura souvent avantage à aborder les systèmes vivants sous plusieurs angles à la fois. Mais lorsqu'un seul aspect mérite d'être approfondi indépendamment des autres aspects, on travaillera en mode univarié - avec une seule variable. Cette section présente comment aborder des données une à la fois."
   ]
  },
  {
   "cell_type": "markdown",
   "metadata": {},
   "source": [
    "Nous avons vu au chapitre 3 que `pandas` pouvait générer des statistiques rapidement."
   ]
  },
  {
   "cell_type": "code",
   "execution_count": 108,
   "metadata": {},
   "outputs": [
    {
     "data": {
      "text/html": [
       "<div>\n",
       "<style scoped>\n",
       "    .dataframe tbody tr th:only-of-type {\n",
       "        vertical-align: middle;\n",
       "    }\n",
       "\n",
       "    .dataframe tbody tr th {\n",
       "        vertical-align: top;\n",
       "    }\n",
       "\n",
       "    .dataframe thead th {\n",
       "        text-align: right;\n",
       "    }\n",
       "</style>\n",
       "<table border=\"1\" class=\"dataframe\">\n",
       "  <thead>\n",
       "    <tr style=\"text-align: right;\">\n",
       "      <th></th>\n",
       "      <th>Sepal Length</th>\n",
       "      <th>Sepal Width</th>\n",
       "      <th>Petal Length</th>\n",
       "      <th>Petal Width</th>\n",
       "    </tr>\n",
       "  </thead>\n",
       "  <tbody>\n",
       "    <tr>\n",
       "      <th>count</th>\n",
       "      <td>150.000000</td>\n",
       "      <td>150.000000</td>\n",
       "      <td>150.000000</td>\n",
       "      <td>150.000000</td>\n",
       "    </tr>\n",
       "    <tr>\n",
       "      <th>mean</th>\n",
       "      <td>5.843333</td>\n",
       "      <td>3.057333</td>\n",
       "      <td>3.758000</td>\n",
       "      <td>1.199333</td>\n",
       "    </tr>\n",
       "    <tr>\n",
       "      <th>std</th>\n",
       "      <td>0.828066</td>\n",
       "      <td>0.435866</td>\n",
       "      <td>1.765298</td>\n",
       "      <td>0.762238</td>\n",
       "    </tr>\n",
       "    <tr>\n",
       "      <th>min</th>\n",
       "      <td>4.300000</td>\n",
       "      <td>2.000000</td>\n",
       "      <td>1.000000</td>\n",
       "      <td>0.100000</td>\n",
       "    </tr>\n",
       "    <tr>\n",
       "      <th>25%</th>\n",
       "      <td>5.100000</td>\n",
       "      <td>2.800000</td>\n",
       "      <td>1.600000</td>\n",
       "      <td>0.300000</td>\n",
       "    </tr>\n",
       "    <tr>\n",
       "      <th>50%</th>\n",
       "      <td>5.800000</td>\n",
       "      <td>3.000000</td>\n",
       "      <td>4.350000</td>\n",
       "      <td>1.300000</td>\n",
       "    </tr>\n",
       "    <tr>\n",
       "      <th>75%</th>\n",
       "      <td>6.400000</td>\n",
       "      <td>3.300000</td>\n",
       "      <td>5.100000</td>\n",
       "      <td>1.800000</td>\n",
       "    </tr>\n",
       "    <tr>\n",
       "      <th>max</th>\n",
       "      <td>7.900000</td>\n",
       "      <td>4.400000</td>\n",
       "      <td>6.900000</td>\n",
       "      <td>2.500000</td>\n",
       "    </tr>\n",
       "  </tbody>\n",
       "</table>\n",
       "</div>"
      ],
      "text/plain": [
       "       Sepal Length  Sepal Width  Petal Length  Petal Width\n",
       "count    150.000000   150.000000    150.000000   150.000000\n",
       "mean       5.843333     3.057333      3.758000     1.199333\n",
       "std        0.828066     0.435866      1.765298     0.762238\n",
       "min        4.300000     2.000000      1.000000     0.100000\n",
       "25%        5.100000     2.800000      1.600000     0.300000\n",
       "50%        5.800000     3.000000      4.350000     1.300000\n",
       "75%        6.400000     3.300000      5.100000     1.800000\n",
       "max        7.900000     4.400000      6.900000     2.500000"
      ]
     },
     "execution_count": 108,
     "metadata": {},
     "output_type": "execute_result"
    }
   ],
   "source": [
    "iris = pd.read_csv('data/iris.csv', index_col=0)\n",
    "iris.describe()"
   ]
  },
  {
   "cell_type": "markdown",
   "metadata": {},
   "source": [
    "### Caractéristiques de la distribution\n",
    "\n",
    "Afin d'aller chercher directement des statistiques nous pouvons calculer des **moyennes** (`mean`), des **médianes** (`median`) et des **modes** (`mode`) selon l'axe vertical (`axis=0`) ou horizontal (`axis=1`) du tableau."
   ]
  },
  {
   "cell_type": "code",
   "execution_count": 109,
   "metadata": {},
   "outputs": [
    {
     "data": {
      "text/plain": [
       "Sepal Length    5.843333\n",
       "Sepal Width     3.057333\n",
       "Petal Length    3.758000\n",
       "Petal Width     1.199333\n",
       "dtype: float64"
      ]
     },
     "execution_count": 109,
     "metadata": {},
     "output_type": "execute_result"
    }
   ],
   "source": [
    "iris.mean(axis=0)# # Caluler la moyenne par colonne"
   ]
  },
  {
   "cell_type": "code",
   "execution_count": 110,
   "metadata": {},
   "outputs": [
    {
     "data": {
      "text/plain": [
       "Sepal Length    5.80\n",
       "Sepal Width     3.00\n",
       "Petal Length    4.35\n",
       "Petal Width     1.30\n",
       "dtype: float64"
      ]
     },
     "execution_count": 110,
     "metadata": {},
     "output_type": "execute_result"
    }
   ],
   "source": [
    "iris.median(axis=0)# # Caluler la médiane par colonne"
   ]
  },
  {
   "cell_type": "markdown",
   "metadata": {},
   "source": [
    "Notez que les opération sur les tableaux `pandas` concordent avec certaines fonctions qui peuvent être effectuées sur des matrices `numpy`. Pour des opérations plus spécialisées comme les **moyennes géométriques**, on pourra passer par des fonctions spécialisées, notamment celles du module `stats` de `scipy`."
   ]
  },
  {
   "cell_type": "code",
   "execution_count": 111,
   "metadata": {},
   "outputs": [
    {
     "data": {
      "text/plain": [
       "array([ 5.78572039,  3.02659785,  3.23826684,  0.84170755])"
      ]
     },
     "execution_count": 111,
     "metadata": {},
     "output_type": "execute_result"
    }
   ],
   "source": [
    "stats.gmean(iris.iloc[:, :4], axis=0)"
   ]
  },
  {
   "cell_type": "markdown",
   "metadata": {},
   "source": [
    "La variabilité des données univariées, pour une distribution normale, est approchée par l'écart-type (standard deviation, *std*)."
   ]
  },
  {
   "cell_type": "code",
   "execution_count": 113,
   "metadata": {},
   "outputs": [
    {
     "data": {
      "text/plain": [
       "Sepal Length    0.828066\n",
       "Sepal Width     0.435866\n",
       "Petal Length    1.765298\n",
       "Petal Width     0.762238\n",
       "dtype: float64"
      ]
     },
     "execution_count": 113,
     "metadata": {},
     "output_type": "execute_result"
    }
   ],
   "source": [
    "iris.std(axis=0)"
   ]
  },
  {
   "cell_type": "markdown",
   "metadata": {},
   "source": [
    "# DIFFÉRENCE ENTRE VARIANCE ÉCHANTILLONNALE ET VARIANCE DE LA POPULATION, page 93"
   ]
  },
  {
   "cell_type": "markdown",
   "metadata": {},
   "source": [
    "Obtenir l'**étendue** des données ($max-min$) permet aussi d'évaluer la variabilité des données. On utilisera `numpy.ptp` (ptp pour peak-to-peak). Je profite de cet auter exemple pour présenter une manière élégante de composer en `pandas`."
   ]
  },
  {
   "cell_type": "code",
   "execution_count": 112,
   "metadata": {},
   "outputs": [
    {
     "data": {
      "text/plain": [
       "Sepal Length    3.6\n",
       "Sepal Width     2.4\n",
       "Petal Length    5.9\n",
       "Petal Width     2.4\n",
       "dtype: float64"
      ]
     },
     "execution_count": 112,
     "metadata": {},
     "output_type": "execute_result"
    }
   ],
   "source": [
    "iris.iloc[:, :4].\\\n",
    "    apply(lambda x: np.ptp(x), axis=0)"
   ]
  },
  {
   "cell_type": "markdown",
   "metadata": {},
   "source": [
    "La fonction `quantile` de `pandas` est équivalente à la fonction `numpy.percentile`. Elle calcule les percentiles ou **quantiles** d'une distribution normale."
   ]
  },
  {
   "cell_type": "code",
   "execution_count": 80,
   "metadata": {},
   "outputs": [
    {
     "data": {
      "text/html": [
       "<div>\n",
       "<style scoped>\n",
       "    .dataframe tbody tr th:only-of-type {\n",
       "        vertical-align: middle;\n",
       "    }\n",
       "\n",
       "    .dataframe tbody tr th {\n",
       "        vertical-align: top;\n",
       "    }\n",
       "\n",
       "    .dataframe thead th {\n",
       "        text-align: right;\n",
       "    }\n",
       "</style>\n",
       "<table border=\"1\" class=\"dataframe\">\n",
       "  <thead>\n",
       "    <tr style=\"text-align: right;\">\n",
       "      <th></th>\n",
       "      <th>Sepal Length</th>\n",
       "      <th>Sepal Width</th>\n",
       "      <th>Petal Length</th>\n",
       "      <th>Petal Width</th>\n",
       "    </tr>\n",
       "  </thead>\n",
       "  <tbody>\n",
       "    <tr>\n",
       "      <th>0.00</th>\n",
       "      <td>4.3</td>\n",
       "      <td>2.0</td>\n",
       "      <td>1.00</td>\n",
       "      <td>0.1</td>\n",
       "    </tr>\n",
       "    <tr>\n",
       "      <th>0.25</th>\n",
       "      <td>5.1</td>\n",
       "      <td>2.8</td>\n",
       "      <td>1.60</td>\n",
       "      <td>0.3</td>\n",
       "    </tr>\n",
       "    <tr>\n",
       "      <th>0.50</th>\n",
       "      <td>5.8</td>\n",
       "      <td>3.0</td>\n",
       "      <td>4.35</td>\n",
       "      <td>1.3</td>\n",
       "    </tr>\n",
       "    <tr>\n",
       "      <th>0.75</th>\n",
       "      <td>6.4</td>\n",
       "      <td>3.3</td>\n",
       "      <td>5.10</td>\n",
       "      <td>1.8</td>\n",
       "    </tr>\n",
       "    <tr>\n",
       "      <th>1.00</th>\n",
       "      <td>7.9</td>\n",
       "      <td>4.4</td>\n",
       "      <td>6.90</td>\n",
       "      <td>2.5</td>\n",
       "    </tr>\n",
       "  </tbody>\n",
       "</table>\n",
       "</div>"
      ],
      "text/plain": [
       "      Sepal Length  Sepal Width  Petal Length  Petal Width\n",
       "0.00           4.3          2.0          1.00          0.1\n",
       "0.25           5.1          2.8          1.60          0.3\n",
       "0.50           5.8          3.0          4.35          1.3\n",
       "0.75           6.4          3.3          5.10          1.8\n",
       "1.00           7.9          4.4          6.90          2.5"
      ]
     },
     "execution_count": 80,
     "metadata": {},
     "output_type": "execute_result"
    }
   ],
   "source": [
    "iris_quantile = iris.iloc[:, :4].quantile(q=[0, 0.25, 0.50, 0.75, 1], axis=0)\n",
    "iris_quantile"
   ]
  },
  {
   "cell_type": "markdown",
   "metadata": {},
   "source": [
    "Les quantiles sont les valeurs associées aux fonctions de densité cumulées (*cdf*), c'est-à-dire l'aire sous la fonction de densité. Pour les données d'iris, 25% des valeurs on une longueur de sépale inférieure à 5.1, la médiane est de 5.8 et 75% ont des longueurs de sépales inférieures à 6.4. Les quantiles se trouvent sur la *cdf*."
   ]
  },
  {
   "cell_type": "code",
   "execution_count": 92,
   "metadata": {},
   "outputs": [
    {
     "data": {
      "text/plain": [
       "Text(0,0.5,'Sepal Length (cm)')"
      ]
     },
     "execution_count": 92,
     "metadata": {},
     "output_type": "execute_result"
    },
    {
     "data": {
      "image/png": "[encoded data removed]",
      "text/plain": [
       "<matplotlib.figure.Figure at 0x7f205d68cc18>"
      ]
     },
     "metadata": {},
     "output_type": "display_data"
    }
   ],
   "source": [
    "iris_sl_sort = np.sort(iris['Sepal Length'])\n",
    "cdf_index = np.array(range(iris.shape[0]))/iris.shape[0]\n",
    "plt.plot(cdf_index, iris_sl_sort, linewidth=4)\n",
    "plt.axvline(x=0.5, c='red', linewidth=0.5)\n",
    "plt.axhline(y=iris_quantile.loc[0.5, 'Sepal Length'], c='red', linewidth=0.5)\n",
    "plt.xlabel('Quantile')\n",
    "plt.ylabel('Sepal Length (cm)')"
   ]
  },
  {
   "cell_type": "markdown",
   "metadata": {},
   "source": [
    "Les données sont rarement distribées selon une cloche normale impeccable. On peut tester la normalité d'une courbe selon l'**asymétrie** (*skewness*) des données autour de la moyenne."
   ]
  },
  {
   "cell_type": "code",
   "execution_count": 104,
   "metadata": {},
   "outputs": [
    {
     "data": {
      "text/plain": [
       "KurtosistestResult(statistic=array([ -1.78533429,   0.71570637, -14.82321258, -11.71638195]), pvalue=array([  7.42071108e-02,   4.74172676e-01,   1.03703722e-49,\n",
       "         1.05063934e-31]))"
      ]
     },
     "execution_count": 104,
     "metadata": {},
     "output_type": "execute_result"
    }
   ],
   "source": []
  },
  {
   "cell_type": "markdown",
   "metadata": {},
   "source": [
    "On pourra ausso tester si la courbe normale est trop **pointue** avec un test de *Kurtosis*. L'hypothèse nulle est que les données suivent une distribution qui n'est pas pointue."
   ]
  },
  {
   "cell_type": "code",
   "execution_count": 107,
   "metadata": {},
   "outputs": [
    {
     "data": {
      "text/plain": [
       "<matplotlib.axes._subplots.AxesSubplot at 0x7f205d0e17b8>"
      ]
     },
     "execution_count": 107,
     "metadata": {},
     "output_type": "execute_result"
    },
    {
     "data": {
      "image/png": "[encoded data removed]",
      "text/plain": [
       "<matplotlib.figure.Figure at 0x7f205d12cba8>"
      ]
     },
     "metadata": {},
     "output_type": "display_data"
    }
   ],
   "source": [
    "A =  [1, 6, 4, 5, 3, 6, 4, 5, 8, 6, 5, 7, 8, 5, 7, 9, 1, 3, 5, 7, 5, 6, 7, 4, 5, 6, 8, 2, 6, 5, 8, 6, 9]\n",
    "sns.distplot(A)"
   ]
  },
  {
   "cell_type": "code",
   "execution_count": 106,
   "metadata": {},
   "outputs": [
    {
     "data": {
      "text/plain": [
       "KurtosistestResult(statistic=array([ -1.78533429,   0.71570637, -14.82321258, -11.71638195]), pvalue=array([  7.42071108e-02,   4.74172676e-01,   1.03703722e-49,\n",
       "         1.05063934e-31]))"
      ]
     },
     "execution_count": 106,
     "metadata": {},
     "output_type": "execute_result"
    }
   ],
   "source": [
    "stats.kurtosistest(iris.iloc[:, :4], axis=0)"
   ]
  },
  {
   "cell_type": "markdown",
   "metadata": {},
   "source": [
    "Les hypothèses nulles sont rejetées au seuil 0.05 pour les deux premières colonnes (les sépales), mais sont acceptées à ce seuil pourles deux dernières colonnes (les pétales). \n",
    "\n",
    "Les **tests de normalité** de *Shapiro-Wilk* et de *Anderson-Darling* sont courrants en statistiques pour évaluer la normalité des données."
   ]
  },
  {
   "cell_type": "code",
   "execution_count": 100,
   "metadata": {},
   "outputs": [
    {
     "data": {
      "text/plain": [
       "\u001b[0;31mSignature:\u001b[0m \u001b[0mstats\u001b[0m\u001b[0;34m.\u001b[0m\u001b[0mshapiro\u001b[0m\u001b[0;34m(\u001b[0m\u001b[0mx\u001b[0m\u001b[0;34m)\u001b[0m\u001b[0;34m\u001b[0m\u001b[0m\n",
       "\u001b[0;31mDocstring:\u001b[0m\n",
       "Perform the Shapiro-Wilk test for normality.\n",
       "\n",
       "The Shapiro-Wilk test tests the null hypothesis that the\n",
       "data was drawn from a normal distribution.\n",
       "\n",
       "Parameters\n",
       "----------\n",
       "x : array_like\n",
       "    Array of sample data.\n",
       "\n",
       "Returns\n",
       "-------\n",
       "W : float\n",
       "    The test statistic.\n",
       "p-value : float\n",
       "    The p-value for the hypothesis test.\n",
       "\n",
       "See Also\n",
       "--------\n",
       "anderson : The Anderson-Darling test for normality\n",
       "kstest : The Kolmogorov-Smirnov test for goodness of fit.\n",
       "\n",
       "Notes\n",
       "-----\n",
       "The algorithm used is described in [4]_ but censoring parameters as\n",
       "described are not implemented. For N > 5000 the W test statistic is accurate\n",
       "but the p-value may not be.\n",
       "\n",
       "The chance of rejecting the null hypothesis when it is true is close to 5%\n",
       "regardless of sample size.\n",
       "\n",
       "References\n",
       "----------\n",
       ".. [1] http://www.itl.nist.gov/div898/handbook/prc/section2/prc213.htm\n",
       ".. [2] Shapiro, S. S. & Wilk, M.B (1965). An analysis of variance test for\n",
       "       normality (complete samples), Biometrika, Vol. 52, pp. 591-611.\n",
       ".. [3] Razali, N. M. & Wah, Y. B. (2011) Power comparisons of Shapiro-Wilk,\n",
       "       Kolmogorov-Smirnov, Lilliefors and Anderson-Darling tests, Journal of\n",
       "       Statistical Modeling and Analytics, Vol. 2, pp. 21-33.\n",
       ".. [4] ALGORITHM AS R94 APPL. STATIST. (1995) VOL. 44, NO. 4.\n",
       "\n",
       "Examples\n",
       "--------\n",
       ">>> from scipy import stats\n",
       ">>> np.random.seed(12345678)\n",
       ">>> x = stats.norm.rvs(loc=5, scale=3, size=100)\n",
       ">>> stats.shapiro(x)\n",
       "(0.9772805571556091, 0.08144091814756393)\n",
       "\u001b[0;31mFile:\u001b[0m      ~/bin/anaconda3/lib/python3.6/site-packages/scipy/stats/morestats.py\n",
       "\u001b[0;31mType:\u001b[0m      function\n"
      ]
     },
     "metadata": {},
     "output_type": "display_data"
    }
   ],
   "source": [
    "?stats.shapiro()"
   ]
  },
  {
   "cell_type": "code",
   "execution_count": 101,
   "metadata": {},
   "outputs": [
    {
     "data": {
      "text/plain": [
       "\u001b[0;31mSignature:\u001b[0m \u001b[0mstats\u001b[0m\u001b[0;34m.\u001b[0m\u001b[0manderson\u001b[0m\u001b[0;34m(\u001b[0m\u001b[0mx\u001b[0m\u001b[0;34m,\u001b[0m \u001b[0mdist\u001b[0m\u001b[0;34m=\u001b[0m\u001b[0;34m'norm'\u001b[0m\u001b[0;34m)\u001b[0m\u001b[0;34m\u001b[0m\u001b[0m\n",
       "\u001b[0;31mDocstring:\u001b[0m\n",
       "Anderson-Darling test for data coming from a particular distribution\n",
       "\n",
       "The Anderson-Darling test is a modification of the Kolmogorov-\n",
       "Smirnov test `kstest` for the null hypothesis that a sample is\n",
       "drawn from a population that follows a particular distribution.\n",
       "For the Anderson-Darling test, the critical values depend on\n",
       "which distribution is being tested against.  This function works\n",
       "for normal, exponential, logistic, or Gumbel (Extreme Value\n",
       "Type I) distributions.\n",
       "\n",
       "Parameters\n",
       "----------\n",
       "x : array_like\n",
       "    array of sample data\n",
       "dist : {'norm','expon','logistic','gumbel','gumbel_l', gumbel_r',\n",
       "    'extreme1'}, optional\n",
       "    the type of distribution to test against.  The default is 'norm'\n",
       "    and 'extreme1', 'gumbel_l' and 'gumbel' are synonyms.\n",
       "\n",
       "Returns\n",
       "-------\n",
       "statistic : float\n",
       "    The Anderson-Darling test statistic\n",
       "critical_values : list\n",
       "    The critical values for this distribution\n",
       "significance_level : list\n",
       "    The significance levels for the corresponding critical values\n",
       "    in percents.  The function returns critical values for a\n",
       "    differing set of significance levels depending on the\n",
       "    distribution that is being tested against.\n",
       "\n",
       "Notes\n",
       "-----\n",
       "Critical values provided are for the following significance levels:\n",
       "\n",
       "normal/exponenential\n",
       "    15%, 10%, 5%, 2.5%, 1%\n",
       "logistic\n",
       "    25%, 10%, 5%, 2.5%, 1%, 0.5%\n",
       "Gumbel\n",
       "    25%, 10%, 5%, 2.5%, 1%\n",
       "\n",
       "If A2 is larger than these critical values then for the corresponding\n",
       "significance level, the null hypothesis that the data come from the\n",
       "chosen distribution can be rejected.\n",
       "\n",
       "References\n",
       "----------\n",
       ".. [1] http://www.itl.nist.gov/div898/handbook/prc/section2/prc213.htm\n",
       ".. [2] Stephens, M. A. (1974). EDF Statistics for Goodness of Fit and\n",
       "       Some Comparisons, Journal of the American Statistical Association,\n",
       "       Vol. 69, pp. 730-737.\n",
       ".. [3] Stephens, M. A. (1976). Asymptotic Results for Goodness-of-Fit\n",
       "       Statistics with Unknown Parameters, Annals of Statistics, Vol. 4,\n",
       "       pp. 357-369.\n",
       ".. [4] Stephens, M. A. (1977). Goodness of Fit for the Extreme Value\n",
       "       Distribution, Biometrika, Vol. 64, pp. 583-588.\n",
       ".. [5] Stephens, M. A. (1977). Goodness of Fit with Special Reference\n",
       "       to Tests for Exponentiality , Technical Report No. 262,\n",
       "       Department of Statistics, Stanford University, Stanford, CA.\n",
       ".. [6] Stephens, M. A. (1979). Tests of Fit for the Logistic Distribution\n",
       "       Based on the Empirical Distribution Function, Biometrika, Vol. 66,\n",
       "       pp. 591-595.\n",
       "\u001b[0;31mFile:\u001b[0m      ~/bin/anaconda3/lib/python3.6/site-packages/scipy/stats/morestats.py\n",
       "\u001b[0;31mType:\u001b[0m      function\n"
      ]
     },
     "metadata": {},
     "output_type": "display_data"
    }
   ],
   "source": [
    "?stats.anderson() # test plus générique"
   ]
  },
  {
   "cell_type": "markdown",
   "metadata": {},
   "source": [
    "### Le théorème central limite"
   ]
  },
  {
   "cell_type": "code",
   "execution_count": null,
   "metadata": {},
   "outputs": [],
   "source": []
  },
  {
   "cell_type": "code",
   "execution_count": null,
   "metadata": {},
   "outputs": [],
   "source": []
  },
  {
   "cell_type": "code",
   "execution_count": null,
   "metadata": {},
   "outputs": [],
   "source": []
  },
  {
   "cell_type": "code",
   "execution_count": null,
   "metadata": {},
   "outputs": [],
   "source": []
  },
  {
   "cell_type": "markdown",
   "metadata": {},
   "source": [
    "## Tests d'hypothèse\n",
    "\n",
    "Selon l'expérience effectuée et la question posée, on pourra avoir recours à différents tests d'hypothèse. Chaque test a ses limitations dont il faut soigneusement se rendre compte."
   ]
  },
  {
   "cell_type": "markdown",
   "metadata": {},
   "source": [
    "### Variance, covariance et corrélation\n",
    "\n",
    "### Test de t\n",
    "\n",
    "### ANOVA\n",
    "- Anova sens unique\n",
    "- Anova double sens\n",
    "\n",
    "### MANOVA et MANCOVA\n",
    "Tout comme les ANOVA et les ANCOVA supposent que les les données sont distribuées normalement, les MANOVA et MANCOVA supposent des données multinormales. La multinornalité des données peut être testée avec un test de M (Box's M test).\n",
    "\n",
    "### Modélisation linéaire\n",
    "- GLM\n",
    "- dummification des facteurs et matrices de concept\n",
    "- Régression linéaire (lmplot, residplot)\n",
    "\n",
    "\n",
    "\n",
    "### Analyse de covariance"
   ]
  },
  {
   "cell_type": "markdown",
   "metadata": {},
   "source": [
    "### Modélisation mixte\n",
    "\n",
    "L'outil que je privilégie en biostatistique est le modèle linéaire mixte, qui consiste à intégrer dans un modèle linéaire autant des effets fixes que des effets aléatoires."
   ]
  },
  {
   "cell_type": "markdown",
   "metadata": {},
   "source": [
    "## Erreurs communes\n",
    "\n",
    "### Un résultat montrant une p-value plus élevée que 0.05 n'est pas pertinent\n",
    "\n",
    "Lors d'une conférence, Dr Evil ne présentent que les résultats significatifs de ses essais au seuil de 0.05. Certains essais ne sont pas significatifs, mais bon, ceux-ci ne sont pas importants... En écartant ces résultats, Dr Evil commet 3 erreurs:\n",
    "\n",
    "1. La p-value n'est pas un bon indicateur de l'importance d'un test statistique. L'importance d'une variable dans un modèle linéaire devrait être évaluée par la valeur de son coefficient. Son incertitude devrait être évaluée par sa variance. Une manière d'évaluer plus intuitive la variance est l'écart-type ou l'intervalle de confiance. À un certain seuil d'intervalle de confiance, la p-value traduira la probabilité qu'un coefficient soit réellement nul ait pu générer des données démontrant un coefficient égal ou supérieur.\n",
    "2. Il est tout aussi important de savoir que le traitement fonctionne que de savoir qu'il ne fonctionne pas. Les résultats démontrant des effets sont malheureusement davantage soumis aux journaux et davantage publiés que ceux ne démontrant pas d'effets ([Decullier et al., 2005]( https://doi.org/10.1136/bmj.38488.385995.8F )).\n",
    "3. Le seuil de 0.05 est arbitraire.\n",
    "\n"
   ]
  },
  {
   "cell_type": "code",
   "execution_count": 1,
   "metadata": {
    "inputHidden": false,
    "outputHidden": false
   },
   "outputs": [],
   "source": []
  },
  {
   "cell_type": "code",
   "execution_count": 1,
   "metadata": {
    "inputHidden": false,
    "outputHidden": false
   },
   "outputs": [],
   "source": []
  },
  {
   "cell_type": "code",
   "execution_count": null,
   "metadata": {
    "inputHidden": false,
    "outputHidden": false
   },
   "outputs": [],
   "source": []
  },
  {
   "cell_type": "markdown",
   "metadata": {},
   "source": [
    "## Poser la bonne question\n",
    "\n",
    "La conception d'une expérience commence par une question. \n",
    "- Quels sont les variables et leurs types\n",
    "- Quels effets désire-t-on évaluer, de quel type de variable s'agit-il\n",
    "\n",
    "\n",
    "..."
   ]
  },
  {
   "cell_type": "markdown",
   "metadata": {},
   "source": [
    "## Pile ou face? Les stats pour hackers\n",
    "\n",
    "Cet exemple de tirages à pile ou face est tiré d'une [conférence de Jake Vanderplas](https://www.youtube.com/watch?v=Iq9DzN6mvYA). Lorsque l'on lance une pièce de monnaie, le résultat est soit pile, soit face. Si la pièce n'est pas biaisée, la probabilité d'obtenir l'un ou l'autre de ces résultats est égale. `numpy` comprend des algorithmes pour générer des nombres aléatoires selon des distributions. Dans le cas d'un jeu de hasard à deux possibilités, on parle d'une distribution binomiale: on utilise la fonction `np.random.binomial` pour générer des tirages aléatoires. On peut lancer une pièce virtuelle avec Python. Mais avant tout, appelons `numpy`, `pandas` et `matplotlib.pyplot`."
   ]
  },
  {
   "cell_type": "code",
   "execution_count": 1,
   "metadata": {
    "inputHidden": false,
    "outputHidden": false
   },
   "outputs": [],
   "source": [
    "import numpy as np\n",
    "import pandas as pd\n",
    "import matplotlib.pyplot as plt\n",
    "%matplotlib inline"
   ]
  },
  {
   "cell_type": "markdown",
   "metadata": {},
   "source": [
    "*Mise en situation*: Vous jouez à pile ou face avec Schtroumpfette. Ce sera elle ou vous qui devrez payer un sac de chip au gagnant au jeu de pile ou face où la pèce est lancée 25 fois. Vous choisissez pile, elle choisi face. La fonction `np.random.binomial` retournera le nombre de 1 (pile). Quant à la fonction `np.random.seed`, elle assume que la sortie de la fonction aléatoire sera toujours la même à chaque fois que la cellule sera exécutée (pour les fins de l'exemple)."
   ]
  },
  {
   "cell_type": "code",
   "execution_count": 2,
   "metadata": {
    "inputHidden": false,
    "outputHidden": false
   },
   "outputs": [
    {
     "data": {
      "text/plain": [
       "19"
      ]
     },
     "execution_count": 2,
     "metadata": {},
     "output_type": "execute_result"
    }
   ],
   "source": [
    "np.random.seed(seed=184008)\n",
    "pf_result = np.random.binomial(n=25, p=0.5)\n",
    "pf_result"
   ]
  },
  {
   "cell_type": "markdown",
   "metadata": {},
   "source": [
    "Fantastique, vous avez 19 lancés à votre faveur: vous vous pressez de commissionner Schtroumpfette au dépanneur pour un sac de chips aux baies schtroumpfantes. Mais Schtroumpfette n'est pas d'accord: pour elle, un tel score ne peut pas avoir été le résultat d'une pièce non biaisée. Vous pourriez alors demander au Schtroumpf ingénieur d'examiner la distribution de la masse dans la pièce: mais ce serait une approche mécanistique laborieuse, et il s'avère que Schtroumpfette, qui est ferrée en stats, y va de manière analytique.\n",
    "\n",
    "La probabilité d'obtenir l'un ou l'autre des résultats (disons face, ou $F$) est de 50%, donc $P\\left( F \\right) = \\frac{1}{2}$. La probabilité d'obtenir deux $F$ consécutifs est de $P\\left( FF \\right) = \\left( \\frac{1}{2} \\right)^2$.\n",
    "\n",
    "La probabilité d'obtenir face, face, pile est de $P\\left( FF \\right) = \\left( \\frac{1}{2} \\right)^3$. Mais l'ordre dans lequel les résultats sont obtenu n'est pas important dans la question. Alors, la probabilité d'obtenir 2 face et un pile est de $P\\left( 2F, 1P \\right) = P\\left( FFP \\right) + P\\left( FPF \\right) + P\\left( PFF \\right) = \\frac{3}{8}$.\n",
    "\n",
    "Schtroumpfette connait la fonction d'une distribution binômiale, qui permet de généraliser le calcul de probabilité lorsque l'ordre n'est pas important, avec $k$ succès d'une probabilité $p$ avec $n$ tirages.\n",
    "\n",
    "$$P\\left(n, k\\right) = \\binom{n}{k} p^k \\left( 1-p \\right)^{n-k}$$\n",
    "\n",
    "où \n",
    "\n",
    "$$\\binom{n}{k} = \\frac{n!}{k!\\left( n-k\\right)!}$$\n",
    "\n",
    "où $n! = n \\times \\left(n-1 \\right) \\times ... \\times 2 \\times 1$."
   ]
  },
  {
   "cell_type": "markdown",
   "metadata": {},
   "source": [
    "Schtroumpfette recherche la probabilité d'obtenir un tel résultat en supposant que la pièce n'est pas biaisée (i.e. que la probabilités d'obtenir face ou pile est de 0.5). Vous commencez à être agile en Python et vous encodez la formule que Schtroumpfette vous transmet."
   ]
  },
  {
   "cell_type": "code",
   "execution_count": 3,
   "metadata": {},
   "outputs": [],
   "source": [
    "def my_binomial(n, k, p):\n",
    "    nk = np.math.factorial(n) / (np.math.factorial(k) * np.math.factorial(n-k))\n",
    "    prob = nk * p**k * (1-p)**(n-k)\n",
    "    return prob"
   ]
  },
  {
   "cell_type": "markdown",
   "metadata": {},
   "source": [
    "Vous calculez les probabilités d'obtenir des résultats de 19 à 25 inclusivement, puis vous en faites la somme."
   ]
  },
  {
   "cell_type": "code",
   "execution_count": 4,
   "metadata": {},
   "outputs": [
    {
     "name": "stdout",
     "output_type": "stream",
     "text": [
      "La probabilité d'obtenir 19 piles ou plus est de 0.731664896011 %\n"
     ]
    }
   ],
   "source": [
    "probs = []\n",
    "for i in range(19, 26): # avec range, la limite supérieure est exclue\n",
    "    probs.append(my_binomial(25, i, 0.5))\n",
    "    \n",
    "print(\"La probabilité d'obtenir 19 piles ou plus est de\",\n",
    "       np.sum(probs) * 100, \"%\") "
   ]
  },
  {
   "cell_type": "markdown",
   "metadata": {},
   "source": [
    "Vous pouvez aussi bien utiliser le sous-module `stats` de `scipy`."
   ]
  },
  {
   "cell_type": "code",
   "execution_count": 5,
   "metadata": {},
   "outputs": [
    {
     "data": {
      "text/plain": [
       "0.0073166489601135185"
      ]
     },
     "execution_count": 5,
     "metadata": {},
     "output_type": "execute_result"
    }
   ],
   "source": [
    "from scipy import stats\n",
    "stats.binom(25, 0.5).pmf(range(19, 26)).sum()"
   ]
  },
  {
   "cell_type": "markdown",
   "metadata": {},
   "source": [
    "La probabilité que vous venez de calculer est une **p-value**.\n",
    "\n",
    "Une **p-value** est une probabilité que le résultat soit obtenu de manière aléatoire si l'hypothèse nulle est vraie.\n",
    "\n",
    "Dans le cas qui nous concerne, il s'agit de la probabilité d'obtenir 19 succès ou plus dans un jeu non biaisé. La convention veut que le seuil de significativité d'un test en biostatistique soit de 5%. Dans ce cas particulier, la probabilité de 0.7% est plus faible que 5% et nous pouvons conclure à ce seuil que la pièce est biaisée. \n",
    "\n",
    "Nous y reviendrons, mais retenez pour l'instant que la **p-value** est dans la littérature scientifique une source importante de mauvaise interprétation et que le seuil purement arbitraire de 5% n'est pas un seuil particulièrement prudent."
   ]
  },
  {
   "cell_type": "markdown",
   "metadata": {},
   "source": [
    "Puisque vous maîtrisez bien Python, vous désirez éviter les formulations statistiques. Vous modélisez alors un grand nombre de jeux de 25 lancés que vous savez non-biaisés (avec `numpy`), puis vous calculez la proportion de ces lancés qui donnent 19 piles ou plus. Comme ceci."
   ]
  },
  {
   "cell_type": "code",
   "execution_count": 6,
   "metadata": {
    "inputHidden": false,
    "outputHidden": false
   },
   "outputs": [
    {
     "name": "stdout",
     "output_type": "stream",
     "text": [
      "La proportion des 100000 simulations ayant obtenu 19 piles ou plus est de 0.766 %\n"
     ]
    }
   ],
   "source": [
    "more_than_19 = 0 # initialisation du décompte des jeux où vous gagnez avec 19 et plus\n",
    "n_sim = 100000 # nombre de simulations\n",
    "for i in range(n_sim):\n",
    "    pf_result = np.random.binomial(n=25, p=0.5) # tirage\n",
    "    if pf_result >= 19: # si le tirage donne 19 ou plus, ajouter 1 au décompte\n",
    "        more_than_19 = more_than_19 + 1\n",
    "\n",
    "print(\"La proportion des\", n_sim, \n",
    "      \"simulations ayant obtenu 19 piles ou plus est de\",\n",
    "      more_than_19/n_sim * 100, \"%\")"
   ]
  },
  {
   "cell_type": "markdown",
   "metadata": {
    "inputHidden": false,
    "outputHidden": false
   },
   "source": [
    "Le résultat est semblable. Pour une personne habituée à réfléchir en terme de code, les tenants et aboutissants du processus par modélisation sont bien plus intuitif qu'un développement analytique. La formulation analytique reste néanmoins la référence en science.\n",
    "\n",
    "La probabilité que la pièce ne soit pas biaisée est faible. Étant donné que nous avons nous-même écrit le code pour générer le tirage, nous pouvons auditer notre pièce de monnaie virtuelle. Or nous avions bien écrit `pf_result = np.random.binomial(n=25, p=0.5)`, où `p=0.5` indique que la pièce n'était pas biaisée. Bien que la probabilité que la pièce ne soit pas biaisée est très faible, cette probabilité n'est pas nulle. Trancher l'enjeu au seuil 0.05 nous mène vers une erreur de diagnostique de type 1, où nous rejetons l'hypothèse nulle alors qu'elle est vraie."
   ]
  }
 ],
 "metadata": {
  "kernel_info": {
   "name": "python3"
  },
  "kernelspec": {
   "display_name": "Python 3",
   "language": "python",
   "name": "python3"
  },
  "language_info": {
   "codemirror_mode": {
    "name": "ipython",
    "version": 3
   },
   "file_extension": ".py",
   "mimetype": "text/x-python",
   "name": "python",
   "nbconvert_exporter": "python",
   "pygments_lexer": "ipython3",
   "version": "3.6.4"
  },
  "nteract": {
   "version": "0.5.5"
  }
 },
 "nbformat": 4,
 "nbformat_minor": 4
}
