{
 "cells": [
  {
   "cell_type": "markdown",
   "metadata": {},
   "source": [
    "# Organisation des données\n",
    "\n",
    "Les données sont utilisées àchaque étape dans les flux de travail en sciences. Elles alimentent l'analyse, et la modélisation. Les résultats qui en découlent sont aussi des données qui peuvent alimenter les travaux subséquents. Une bonne organisation des données facilitera le flux de travail.\n",
    "\n",
    "> **Dicton**. Proportions de temps voué aux calcul scientifique: 80% de nettoyage de données mal organisées, 20% de calcul.\n",
    "\n",
    "Qu'est-ce qu'une donnée? De manière abstraite, il s'agit d'une valeur associée à une variable. Une variable peut être une dimension, une date, une couleur, le résultat d'un test statistique, à laquelle on attribue la valeur quantitative ou qualitative d'un chiffre, d'une chaîne de charactère, d'un symbole conventionné, etc. Par exemple, lorsque vous commandez un café *latte* végane, *au latte* est la valeur que vous attribuez à la variable *type de café*, et *végane* est la valeur de la variable *type de lait*.\n",
    "\n",
    "L'exemple est peut être horrible. J'ai besoin d'un café...\n",
    "\n",
    "![](https://media.giphy.com/media/3nbxypT20Ulmo/giphy.gif)\n",
    "\n",
    "Ce chapitre traite de l'importation, l'utilisation et l'exportation de données structurées, en R, sous forme de vecteurs, matrices, tableaux et ensemble de tableaux (bases de données).\n",
    "\n",
    "Bien qu'il soit toujours préférable d'organiser les structures qui accueilleront les données d'une expérience avant-même de procéder à la collecte de données, l'analyste doit s'attendre à réorganiser ses données en cours de route. Or, des données bien organisées au départ faciliteront aussi leur réoganisation.\n",
    "\n",
    "Ce chapitre débute avec quelques définitions: les données, les matrices, les tableaux et les bases de données, ainsi que leur signification en R. Puis nous verrons comment organiser un tableau selon quelques règles simples, mais importantes pour éviter les erreurs et les opérations fastidieuses pour reconstruire un tableau mal conçu. Ensuite, nous traiterons des formats de tableau courrant, pour enfin passer à l'utilisation de [`dplyr`](http://pandas.pydata.org), le module tidyverse pour effectuer des opérations sur les tableaux."
   ]
  },
  {
   "cell_type": "markdown",
   "metadata": {},
   "source": [
    "## Les collections de données\n",
    "\n",
    "Dans le chapitre 2, nous avons survoler différents types d'objets: réels, entiers, chaînes de caractères et booléens. Les données peuvent appartenir à d'autres types: dates, catégories ordinales (ordonnées: faible, moyen, élevé) et nominales (non ordonnées: espèces, cultivars, couleurs, unité pédodlogique, etc.). Comme mentionné en début de chapitre, une donnée est une valeur associée à une variable. Les données peuvent être organisées en collections.\n",
    "\n",
    "Nous avons vu au chapitre 2 que la manière privilégiée d'organiser des données était sous forme de **tableau**. De manière générale, un tableau de données est une organisation de données en deux dimensions, comportant des *lignes* et des *colonnes*. Il est préférable de respecter la convention selon laquelle les lignes sont des observations et les colonnes sont des variables. Ainsi, un tableau est une collection de vecteurs de même longueur, chaque vecteur représentant une variable. Chaque variable est libre de prendre le type de données approprié. La position d'une donnée dans le vecteur correspond à une observation.\n",
    "\n",
    "Imaginez que vous consignez des données de différents sites (A, B et C), et que chaque site possède ses propres caractéristiques. Il est redondant de décrire le site pour chaque observation. Vous préférerez créer deux tableaux: un pour décrire vos observations, et un autre pour décrire les sites. De cette manière, vous créez une collection de tableaux intereliés: une **base de données**. R peut soutirer des données des bases de données grâce au module DBI, qui n'est pas couvert à ce stade de développement du cours.\n",
    "\n",
    "Dans R, les données structurées en tableaux, ainsi que les opérations sur les tableaux, peuvent être gérés grâce aux modules readr, dplyr et tidyr. Mais avant de se lancer dans l'utilisation de ces modules, voyons quelques règles à suivre pour bien structurer ses données en format *tidy*, un du jargon tidyverse qui signifie *proprement organisé*."
   ]
  },
  {
   "cell_type": "markdown",
   "metadata": {},
   "source": [
    "## Organiser un tableau de données\n",
    "\n",
    "Afin de reprérer chaque cellule d'un tableau, on attribue à chaque lignes et à chaque colonne colonnes un identifiant *unique*, que l'on nomme *indice* pour les lignes et *entête* pour les colonnes.\n",
    "\n",
    "> **Règle no 1.** Une variable par colonne, une observation par ligne, une valeur par cellule.\n",
    "\n",
    "Les unités expérimentales sont décrits par une ou plusieurs variables par des chiffres ou des lettres. Chaque variable devrait être présente en une seule colonne, et chaque ligne devrait correspondre à une unité expérimentale où ces variables ont été mesurées. La règle parait simple, mais elle est rarement respectée. Prenez par exemple le tableau suivant.\n",
    "\n",
    "| Site | Traitement A | Traitement B | Traitement C |\n",
    "| --- | --- | --- | --- |\n",
    "| Sainte-Zéphirine | 4.1 | 8.2 | 6.8 |\n",
    "| Sainte-Aurélie | 5.8 | 5.9 | NA |\n",
    "| Saint-Serge-Étienne | 2.9 | 3.4 | 4.6 |\n",
    "\n",
    "*Tableau 1. Rendements obtenus sur les sites expérimentaux selon les traitements.*\n",
    "\n",
    "Qu'est-ce qui cloche avec ce tableau? Chaque ligne est une observation, mais contient plussieurs observations d'une même variable, le rendement, qui devient étalé sur plusieurs colonnes. *À bien y penser*, le type de traitement est une variable et le rendement en est une autre:\n",
    "\n",
    "| Site | Traitement | Rendement |\n",
    "| --- | --- | --- |\n",
    "| Sainte-Zéphirine | A | 4.1 |\n",
    "| Sainte-Zéphirine | B | 8.2 |\n",
    "| Sainte-Zéphirine | C | 6.8 |\n",
    "| Sainte-Aurélie | A | 5.8 |\n",
    "| Sainte-Aurélie | B | 5.9 |\n",
    "| Sainte-Aurélie | C | NA |\n",
    "| Saint-Serge-Étienne | A | 2.9 |\n",
    "| Saint-Serge-Étienne | B | 3.4 |\n",
    "| Saint-Serge-Étienne | C | 4.6 |\n",
    "\n",
    "*Tableau 2. Rendements obtenus sur les sites expérimentaux selon les traitements.*\n",
    "\n",
    "Plus précisément, l'expression *à bien y penser* suggère une réflexion sur la signification des données. Certaines variables peuvent parfois être intégrées dans une même colonne, parfois pas. Par exemple, les concentrations en cuivre, zinc et plomb dans un sol contaminé peuvent être placés dans la même colonne \"Concentration\" ou déclinées en plusieurs colonnes Cu, Zn et Pb. La première version trouvera son utilité pour des créer des graphiques (chapitre 3), alors que la deuxième favorise le traitement statistique (chapitre 5). Il est possible de passer d'un format à l'autre grâce à la fonction `gather()` et `spread()` du module tidyr.\n",
    "\n",
    "> **Règle no 2.** Un tableau par unité observationnelle: ne pas répéter les informations.\n",
    "\n",
    "Rerpenons la même expérience. Supposons que vous mesurez la précipitation à l'échelle du site.\n",
    "\n",
    "| Site | Traitement | Rendement | Précipitations |\n",
    "| --- | --- | --- | --- |\n",
    "| Sainte-Zéphirine | A | 4.1 | 813 |\n",
    "| Sainte-Zéphirine | B | 8.2 | 813 |\n",
    "| Sainte-Zéphirine | C | 6.8 | 813 |\n",
    "| Sainte-Aurélie | A | 5.8 | 642 |\n",
    "| Sainte-Aurélie | B | 5.9 | 642 |\n",
    "| Sainte-Aurélie | C | NA | 642 |\n",
    "| Saint-Serge-Étienne | A | 2.9 | 1028 |\n",
    "| Saint-Serge-Étienne | B | 3.4 | 1028 |\n",
    "| Saint-Serge-Étienne | C | 4.6 | 1028 |\n",
    "\n",
    "*Tableau 3. Rendements obtenus sur les sites expérimentaux selon les traitements.*\n",
    "\n",
    "Segmenter l'information en deux tableaux serait préférable.\n",
    "\n",
    "| Site | Précipitations |\n",
    "| --- | --- |\n",
    "| Sainte-Zéphirine | 813 |\n",
    "| Sainte-Aurélie | 642 |\n",
    "| Saint-Serge-Étienne | 1028 |\n",
    "\n",
    "*Tableau 4. Précipitations sur les sites expérimentaux.*\n",
    "\n",
    "Les tableaux 2 et 4, ensemble, forment une base de données (collection organisée de tableaux). Les opérations de fusion entre les tableaux peuvent être effectuées grâce aux fonctions de jointure (`left_join()`, par exemple) du module tidyr.\n",
    "\n",
    "> **Règle no 3.** Ne pas bousiller les données.\n",
    "\n",
    "Par exemple.\n",
    "\n",
    "- *Ajouter des commentaires dans des cellules*. Si une cellule mérite d'être commentée, il est préférable de placer les commentaires soit dans un fichier décrivant le tableau de données, soit dans une colonne de commentaire justaposée à la colonne de la variable à commenter. Par exemple, si vous n'avez pas mesure le pH pour une observation, n'écrivez pas \"échantillon contaminé\" dans la cellule, mais annoter dans un fichier d'explication que l'échantillon no X a été contaminé. Si les commentaires sont systématique, il peut être pratique de les inscrire dans une colonne `commentaire_pH`.\n",
    "- *Inscrition non systématiques*. Il arrive souvent que des catégories d'une variable ou que des valeurs manquantes soient annotées différemment. Il arrive même que le séparateur décimal soit non systématique, parfois noté par un point, parfois par une virgule. Par exemple, une fois importés dans votre session, les catégories `St-Ours` et `Saint-Ours` seront traitées comme deux catégories distinctes. De même, les cellules correspondant à des valeurs manquantes ne devraient pas être inscrite parfois avec une cellule vide, parfois avec un point, parfois avec un tiret ou avec la mention `NA`. Le plus simple est de laisser systématiquement ces cellules vides.\n",
    "- *Inclure des notes dans un tableau*. La règle \"une colonne, une variable\" n'est pas respectée si on ajoute des notes un peu n'importe où sous ou à côté du tableau.\n",
    "- *Ajouter des sommaires*. Si vous ajoutez une ligne sous un tableau comprenant la moyenne de chaque colonne, qu'est-ce qui arrivera lorsque vous importerez votre tableau dans votre session de travail? La ligne sera considérée comme une observation supplémentaire.\n",
    "- *Inclure une hiérarchie dans le entêtes*. Afin de consigner des données de texture du sol, comprenant la proprotion de sable, de limon et d'argile, vous organisez votre entête en plusieurs lignes. Une ligne pour la catégorie de donnée, *Texture*, fusionnée sur trois colonnes, puis trois colonnes intitullées *Sable*, *Limon* et *Argile*. Votre tableau est joli, mais il ne pourra pas être importé conformément dans un votre session de calcul: on recherche *une entête unique par colonne*. Votre tableau de données devrait plutôt porter les entêtes *Texture sable*, *Texture limon* et *Texture argile*. Un conseil: réserver le travail esthétique à la toute fin d'un flux de travail."
   ]
  },
  {
   "cell_type": "markdown",
   "metadata": {},
   "source": [
    "## Formats de tableau\n",
    "\n",
    "Plusieurs outils sont à votre disposition pour créer des tableaux. Je vous présente ici les plus communs.\n",
    "\n",
    "### *xls* ou *xlsx*\n",
    "Microsoft Excel est un logiciel de type *tableur*, ou chiffrier électronique. L'ancien format *xls* a été remplacé par le format *xlsx* avec l'arrivée de Microsoft Office 2010. Il s'agit d'un format propriétaire, dont l'alternative libre la plus connue est le format *ods*, popularisé par la suite bureautique LibreOffice. Les formats *xls*, *xlsx* ou *ods* sont davantage utilisés comme outils de calcul que d'entreposage de données. Ils contiennent des formules, des graphiques, du formattage de cellule, etc. *Je ne les recommande pas pour stocker des données*.\n",
    "\n",
    "### *csv*\n",
    "Le format *csv*, pour *comma separated values*, est un fichier texte, que vous pouvez ouvrir avec n'importe quel éditeur de texte brut (Bloc note, [Atom](https://atom.io), [Notepad++](https://notepad-plus-plus.org), etc.). Chaque colonne doit être délimitée par un caractère cohérent (conventionnellement une virgule, mais en français un point-virgule ou une tabulation pour éviter la confusion avec le séparateur décimal) et chaque ligne du tableau est un retour de ligne. Il est possible d'ouvrir et d'éditer les fichiers csv dans un éditeur texte, mais il est plus pratique de les ouvrir avec des tableurs (LibreOffice Calc, Microsoft Excel, Google Sheets, etc.).\n",
    "\n",
    "**Encodage des fichiers texte**. Puisque le format *csv* est un fichier texte, un souci particulier doit être porté sur la manière dont le texte est encodé. Les caractères accentués pourrait être importer incorrectement si vous importez votre tableau en spécifiant le mauvais encodage. Pour les fichiers en langues occidentales, l'encodage UTF-8 devrait être utilisé. Toutefois, par défaut, Excel utilise un encodage de Microsoft. Si le *csv* a été généré par Excel, il est préférable de l'ouvrir avec votre éditeur texte et de l'enregistrer dans l'encodage UTF-8.\n",
    "\n",
    "### *json*\n",
    "Comme le format *csv*, le format *json* indique un fichier en texte clair. Il est utilisé davantage pour le partage de données des applications web. En analyse et modélisation, ce format est surtout utilisé pour les données géoréférencées. L'encodage est géré de la même manière qu'un fichier *csv*.\n",
    "\n",
    "### SQLite\n",
    "SQLite est une application pour les bases de données relationnelles de type SQL qui n'a pas besoin de serveur pour fonctionner. Les bases de donnnées SQLite sont encodés dans des fichiers portant l'extension *db*, qui peuvent être facilement partagés.\n",
    "\n",
    "### Suggestion\n",
    "En *csv* pour les petits tableaux, en *sqlite* pour les bases de données plus complexes. Ce cours se concentre toutefois sur les données de type *csv*."
   ]
  },
  {
   "cell_type": "markdown",
   "metadata": {},
   "source": [
    "## Entreposer ses données\n",
    "\n",
    "La manière la plus sécure pour entreposer ses données est de les confiner dans une base de données sécurisée sur un serveur sécurisé dans un environnement sécurisé et d'encrypter les communications. C'est aussi la manière la moins accessible. Des espaces de stockage nuagiques, comme Dropbox ou d'autres [options similaires](https://alternativeto.net/software/dropbox/), peuvent être pratiques pour les backups et le partage des données avec une équipe de travail (qui risque en retour de bousiller vos données). Le suivi de version est possible chez certains fournisseurs d'espace de stockage. Mais pour un suivi de version plus rigoureux, les espaces de développement (comme GitHub et GitLab) sont plus appropriés. Dans tous les cas, il est important de garder (1) des copies anciennes pour y revenir en cas d'erreurs et (2) un petit fichier décrivant les changements effectués sur les données."
   ]
  },
  {
   "cell_type": "markdown",
   "metadata": {},
   "source": [
    "## Manipuler des données en mode tidyverse\n",
    "\n",
    "Le méta-module tidyverse regroupe une collection de précieux modules  pour l'analyse de données en R. Il permet d'importer des données dans votre session de travail avec readr, de les explorer avec ggplot2, de les transformer avec tidyr et dplyr et de les exporter aevc readr. Les tableaux de classe *data.frame*, comme ceux de la plus moderne classe *tibble*, peuvent être manipulés à travers le flux de travail pour l'analyse et la modélisation (chapitres suivants). Comme c'était le cas pour le chapitre sur la visualisation, ce chapitre est loin de couvrir les nombreuses fonctionnalités qui sont offertes dans le tidyverse."
   ]
  },
  {
   "cell_type": "markdown",
   "metadata": {},
   "source": [
    "### Importer vos données dans voter session de travail\n",
    "\n",
    "Supposons que vous avec bien organisé vos données en mode *tidy*. Pour les importer dans votre session et commencer à les inspecter, vous lancerez une des commandes du module readr, décrites dans la documentation dédiée.\n",
    "\n",
    "- ` read_csv()` si le séparateur de colonne est une virgule\n",
    "- ` read_csv2()` si le séparateur de colonne est un point-virgule et que le séparateur décimal est une virgule\n",
    "- ` read_tsv()` si le séparateur de colonne est une tabulation\n",
    "- ` read_table()` si le séparateur de colonne est un espace blanc\n",
    "- ` read_delim()` si le séparateur de colonne est un autre caractère (comme le point-virgule) que vous spécifierez dans l'argument `delim = \";\"`\n",
    "\n",
    "Les principaux arguments sont les suivants.\n",
    "\n",
    "- `file`: le chemin vers le fichier. Ce chemin peut aussi bien être une adresse locale (data/...) qu'une adresse internet (https://...).\n",
    "- `delim`: le symbole délimitant les colonnes dans le cas de `read_delim`.\n",
    "- `col_names`: si TRUE, la première ligne est l'entête du tableau, sinon FALSE. Si vous spécifiez un vecteur numérique, ce sont les numéros des lignes utilisées pour le nom de l'entête. Si vous utilisez un vecteur de charactères, ce sont les noms des colonnes que vous désirez donner à votre tableau.\n",
    "- `na`: le symbole spécifiant une valeur manquante. L'argument `na=''` signifie que les cellules vides sont des données manquantes. Si les valeurs manquantes ne sont pas uniformes, vous pouvez les indiquer dans un vecteur, par exemple `na = c(\"\", \"NA\", \"NaN\", \".\", \"-\")`.\n",
    "- `local`: cet argument prend une fonction `local()` qui peut inclure des arguments de format de temps, mais aussi d'encodage ([voir documentation](https://readr.tidyverse.org/reference/locale.html))\n",
    "\n",
    "D'autres arguments peuvent être spécifiés au besoin, et les répéter ici dupliquerait l'information de la documentation de [la fonction `read_csv` de readr](https://readr.tidyverse.org/reference/read_delim.html).\n",
    "\n",
    "Je déconseille d'importer des données en format xls ou xlsx. Si toutefois cela vous convient, je vous réfère au module [readxl](https://readxl.tidyverse.org/).\n",
    "\n",
    "L'[aide-mémoire de readr](https://github.com/rstudio/cheatsheets/raw/master/data-import.pdf) est à afficher près de soi.\n",
    "\n",
    "[![](https://www.rstudio.com/wp-content/uploads/2015/01/data-import-cheatsheet-1-600x464.png)](https://github.com/rstudio/cheatsheets/raw/master/data-import.pdf)\n",
    "Aide-mémoire de readr, source: https://www.rstudio.com/resources/cheatsheets/"
   ]
  },
  {
   "cell_type": "markdown",
   "metadata": {},
   "source": [
    "Nous allons charger des données de culture de la chicouté (*Rubus chamaemorus*), un petit fruit nordique, tiré de Parent et al. (2013). Ouvrons d'abord le fichier pour vérifier les séparateurs de colonne et de décimale.\n",
    "\n",
    "![](images/chicoute-csv-atom.png)\n",
    "\n",
    "Le séparateur de colonne est un point-virgule et le décimal est une virgule.\n",
    "\n",
    "Avec [Atom](https://atom.io/), mon éditeur texte préféré, je vais dans Edit > Select Encoding et j'obtiens bien le UTF-8.\n",
    "\n",
    "![](images/chicoute-csv-encoding.png)\n",
    "\n",
    "Nous allons donc utiliser `read_csv2()` avec ses arguments par défaut."
   ]
  },
  {
   "cell_type": "code",
   "execution_count": 11,
   "metadata": {},
   "outputs": [
    {
     "name": "stderr",
     "output_type": "stream",
     "text": [
      "Using ',' as decimal and '.' as grouping mark. Use read_delim() for more control.\n",
      "Parsed with column specification:\n",
      "cols(\n",
      "  .default = col_double(),\n",
      "  ID = col_integer(),\n",
      "  CodeTourbiere = col_character(),\n",
      "  Ordre = col_character(),\n",
      "  Site = col_integer(),\n",
      "  Traitement = col_character(),\n",
      "  DemiParcelle = col_character(),\n",
      "  SousTraitement = col_character(),\n",
      "  Latitude_m = col_integer(),\n",
      "  Longitude_m = col_integer()\n",
      ")\n",
      "See spec(...) for full column specifications.\n"
     ]
    }
   ],
   "source": [
    "library(\"tidyverse\")\n",
    "chicoute <- read_csv2('data/chicoute.csv')"
   ]
  },
  {
   "cell_type": "markdown",
   "metadata": {},
   "source": [
    "Quelques commandes utiles inspecter le tableau:\n",
    "\n",
    "- `head()` présente l'entête du tableau, soit ses 6 premières lignes\n",
    "- `str()` et `glimpse()` présentent les variables du tableau et leur type - `glimpse()`est la fonction tidyverse et `str()` est la fonction classique (je préfère `str()`)\n",
    "- `summary()` présente des statistiques de base du tableau\n",
    "- `names()` ou `colnames()` sort les noms des colonnes sous forme d'un vecteur\n",
    "- `dim()` donne les dimensions du tableau, `ncol()` son nombre de colonnes et `nrow()` son nombre de lignes\n",
    "- `skim` est une fonction du module skimr montrant un portrait graphique et numérique du tableau"
   ]
  },
  {
   "cell_type": "markdown",
   "metadata": {},
   "source": [
    "**Extra 1**. Plusieurs modules ne se trouvent pas dans les dépôt CRAN, mais sont disponibles sur GitHub. Pour les installer, installez d'abord le module devtools disponible sur CRAN. Vous pourrez alors installer les packages de GitHub comme on le fait avec le package skimr.\n",
    "\n",
    "**Extra 2**. Lorsque je désire utiliser une fonction, mais sans charger le module dans la session, j'utilise la notation `module::fonction`. Comme dans ce cas, pour skimr."
   ]
  },
  {
   "cell_type": "code",
   "execution_count": null,
   "metadata": {},
   "outputs": [],
   "source": [
    "# devtools::install_github(\"ropenscilabs/skimr\")"
   ]
  },
  {
   "cell_type": "code",
   "execution_count": 31,
   "metadata": {},
   "outputs": [
    {
     "data": {
      "text/html": [
       "<table>\n",
       "<thead><tr><th scope=col>variable</th><th scope=col>type</th><th scope=col>stat</th><th scope=col>level</th><th scope=col>value</th><th scope=col>formatted</th></tr></thead>\n",
       "<tbody>\n",
       "\t<tr><td>ID           </td><td>integer      </td><td>missing      </td><td>.all         </td><td> 0.000000    </td><td>0            </td></tr>\n",
       "\t<tr><td>ID           </td><td>integer      </td><td>complete     </td><td>.all         </td><td>90.000000    </td><td>90           </td></tr>\n",
       "\t<tr><td>ID           </td><td>integer      </td><td>n            </td><td>.all         </td><td>90.000000    </td><td>90           </td></tr>\n",
       "\t<tr><td>ID           </td><td>integer      </td><td>mean         </td><td>.all         </td><td>45.500000    </td><td>45.5         </td></tr>\n",
       "\t<tr><td>ID           </td><td>integer      </td><td>sd           </td><td>.all         </td><td>26.124701    </td><td>26.12        </td></tr>\n",
       "\t<tr><td>ID           </td><td>integer      </td><td>p0           </td><td>.all         </td><td> 1.000000    </td><td>1            </td></tr>\n",
       "\t<tr><td>ID           </td><td>integer      </td><td>p25          </td><td>.all         </td><td>23.250000    </td><td>23.25        </td></tr>\n",
       "\t<tr><td>ID           </td><td>integer      </td><td>p50          </td><td>.all         </td><td>45.500000    </td><td>45.5         </td></tr>\n",
       "\t<tr><td>ID           </td><td>integer      </td><td>p75          </td><td>.all         </td><td>67.750000    </td><td>67.75        </td></tr>\n",
       "\t<tr><td>ID           </td><td>integer      </td><td>p100         </td><td>.all         </td><td>90.000000    </td><td>90           </td></tr>\n",
       "\t<tr><td>ID           </td><td>integer      </td><td>hist         </td><td>.all         </td><td>       NA    </td><td>▇▇▇▇▇▇▇▇     </td></tr>\n",
       "\t<tr><td>CodeTourbiere</td><td>character    </td><td>missing      </td><td>.all         </td><td> 0.000000    </td><td>0            </td></tr>\n",
       "\t<tr><td>CodeTourbiere</td><td>character    </td><td>complete     </td><td>.all         </td><td>90.000000    </td><td>90           </td></tr>\n",
       "\t<tr><td>CodeTourbiere</td><td>character    </td><td>n            </td><td>.all         </td><td>90.000000    </td><td>90           </td></tr>\n",
       "\t<tr><td>CodeTourbiere</td><td>character    </td><td>min          </td><td>.all         </td><td> 1.000000    </td><td>1            </td></tr>\n",
       "\t<tr><td>CodeTourbiere</td><td>character    </td><td>max          </td><td>.all         </td><td> 4.000000    </td><td>4            </td></tr>\n",
       "\t<tr><td>CodeTourbiere</td><td>character    </td><td>empty        </td><td>.all         </td><td> 0.000000    </td><td>0            </td></tr>\n",
       "\t<tr><td>CodeTourbiere</td><td>character    </td><td>n_unique     </td><td>.all         </td><td>12.000000    </td><td>12           </td></tr>\n",
       "\t<tr><td>Ordre        </td><td>character    </td><td>missing      </td><td>.all         </td><td> 0.000000    </td><td>0            </td></tr>\n",
       "\t<tr><td>Ordre        </td><td>character    </td><td>complete     </td><td>.all         </td><td>90.000000    </td><td>90           </td></tr>\n",
       "\t<tr><td>Ordre        </td><td>character    </td><td>n            </td><td>.all         </td><td>90.000000    </td><td>90           </td></tr>\n",
       "\t<tr><td>Ordre        </td><td>character    </td><td>min          </td><td>.all         </td><td> 1.000000    </td><td>1            </td></tr>\n",
       "\t<tr><td>Ordre        </td><td>character    </td><td>max          </td><td>.all         </td><td> 2.000000    </td><td>2            </td></tr>\n",
       "\t<tr><td>Ordre        </td><td>character    </td><td>empty        </td><td>.all         </td><td> 0.000000    </td><td>0            </td></tr>\n",
       "\t<tr><td>Ordre        </td><td>character    </td><td>n_unique     </td><td>.all         </td><td>20.000000    </td><td>20           </td></tr>\n",
       "\t<tr><td>Site         </td><td>integer      </td><td>missing      </td><td>.all         </td><td> 0.000000    </td><td>0            </td></tr>\n",
       "\t<tr><td>Site         </td><td>integer      </td><td>complete     </td><td>.all         </td><td>90.000000    </td><td>90           </td></tr>\n",
       "\t<tr><td>Site         </td><td>integer      </td><td>n            </td><td>.all         </td><td>90.000000    </td><td>90           </td></tr>\n",
       "\t<tr><td>Site         </td><td>integer      </td><td>mean         </td><td>.all         </td><td> 6.333333    </td><td>6.33         </td></tr>\n",
       "\t<tr><td>Site         </td><td>integer      </td><td>sd           </td><td>.all         </td><td> 5.487473    </td><td>5.49         </td></tr>\n",
       "\t<tr><td>⋮</td><td>⋮</td><td>⋮</td><td>⋮</td><td>⋮</td><td>⋮</td></tr>\n",
       "\t<tr><td>Mn_pourc    </td><td>numeric     </td><td>mean        </td><td>.all        </td><td>3.345239e-02</td><td>0.033       </td></tr>\n",
       "\t<tr><td>Mn_pourc    </td><td>numeric     </td><td>sd          </td><td>.all        </td><td>2.519212e-02</td><td>0.025       </td></tr>\n",
       "\t<tr><td>Mn_pourc    </td><td>numeric     </td><td>p0          </td><td>.all        </td><td>2.298267e-03</td><td>0.0023      </td></tr>\n",
       "\t<tr><td>Mn_pourc    </td><td>numeric     </td><td>p25         </td><td>.all        </td><td>1.204780e-02</td><td>0.012       </td></tr>\n",
       "\t<tr><td>Mn_pourc    </td><td>numeric     </td><td>p50         </td><td>.all        </td><td>2.787249e-02</td><td>0.028       </td></tr>\n",
       "\t<tr><td>Mn_pourc    </td><td>numeric     </td><td>p75         </td><td>.all        </td><td>5.005090e-02</td><td>0.05        </td></tr>\n",
       "\t<tr><td>Mn_pourc    </td><td>numeric     </td><td>p100        </td><td>.all        </td><td>1.044499e-01</td><td>0.1         </td></tr>\n",
       "\t<tr><td>Mn_pourc    </td><td>numeric     </td><td>hist        </td><td>.all        </td><td>          NA</td><td>▇▃▃▃▂▁▁▁    </td></tr>\n",
       "\t<tr><td>Fe_pourc    </td><td>numeric     </td><td>missing     </td><td>.all        </td><td>0.000000e+00</td><td>0           </td></tr>\n",
       "\t<tr><td>Fe_pourc    </td><td>numeric     </td><td>complete    </td><td>.all        </td><td>9.000000e+01</td><td>90          </td></tr>\n",
       "\t<tr><td>Fe_pourc    </td><td>numeric     </td><td>n           </td><td>.all        </td><td>9.000000e+01</td><td>90          </td></tr>\n",
       "\t<tr><td>Fe_pourc    </td><td>numeric     </td><td>mean        </td><td>.all        </td><td>1.514885e-02</td><td>0.015       </td></tr>\n",
       "\t<tr><td>Fe_pourc    </td><td>numeric     </td><td>sd          </td><td>.all        </td><td>5.873920e-03</td><td>0.0059      </td></tr>\n",
       "\t<tr><td>Fe_pourc    </td><td>numeric     </td><td>p0          </td><td>.all        </td><td>9.132463e-03</td><td>0.0091      </td></tr>\n",
       "\t<tr><td>Fe_pourc    </td><td>numeric     </td><td>p25         </td><td>.all        </td><td>1.090693e-02</td><td>0.011       </td></tr>\n",
       "\t<tr><td>Fe_pourc    </td><td>numeric     </td><td>p50         </td><td>.all        </td><td>1.425366e-02</td><td>0.014       </td></tr>\n",
       "\t<tr><td>Fe_pourc    </td><td>numeric     </td><td>p75         </td><td>.all        </td><td>1.727110e-02</td><td>0.017       </td></tr>\n",
       "\t<tr><td>Fe_pourc    </td><td>numeric     </td><td>p100        </td><td>.all        </td><td>5.206466e-02</td><td>0.052       </td></tr>\n",
       "\t<tr><td>Fe_pourc    </td><td>numeric     </td><td>hist        </td><td>.all        </td><td>          NA</td><td>▇▅▂▁▁▁▁▁    </td></tr>\n",
       "\t<tr><td>Al_pourc    </td><td>numeric     </td><td>missing     </td><td>.all        </td><td>0.000000e+00</td><td>0           </td></tr>\n",
       "\t<tr><td>Al_pourc    </td><td>numeric     </td><td>complete    </td><td>.all        </td><td>9.000000e+01</td><td>90          </td></tr>\n",
       "\t<tr><td>Al_pourc    </td><td>numeric     </td><td>n           </td><td>.all        </td><td>9.000000e+01</td><td>90          </td></tr>\n",
       "\t<tr><td>Al_pourc    </td><td>numeric     </td><td>mean        </td><td>.all        </td><td>2.694979e-03</td><td>0.0027      </td></tr>\n",
       "\t<tr><td>Al_pourc    </td><td>numeric     </td><td>sd          </td><td>.all        </td><td>1.325531e-03</td><td>0.0013      </td></tr>\n",
       "\t<tr><td>Al_pourc    </td><td>numeric     </td><td>p0          </td><td>.all        </td><td>8.953445e-04</td><td>9e-04       </td></tr>\n",
       "\t<tr><td>Al_pourc    </td><td>numeric     </td><td>p25         </td><td>.all        </td><td>1.919949e-03</td><td>0.0019      </td></tr>\n",
       "\t<tr><td>Al_pourc    </td><td>numeric     </td><td>p50         </td><td>.all        </td><td>2.361740e-03</td><td>0.0024      </td></tr>\n",
       "\t<tr><td>Al_pourc    </td><td>numeric     </td><td>p75         </td><td>.all        </td><td>3.338909e-03</td><td>0.0033      </td></tr>\n",
       "\t<tr><td>Al_pourc    </td><td>numeric     </td><td>p100        </td><td>.all        </td><td>9.333716e-03</td><td>0.0093      </td></tr>\n",
       "\t<tr><td>Al_pourc    </td><td>numeric     </td><td>hist        </td><td>.all        </td><td>          NA</td><td>▆▇▅▂▁▁▁▁    </td></tr>\n",
       "</tbody>\n",
       "</table>\n"
      ],
      "text/latex": [
       "\\begin{tabular}{r|llllll}\n",
       " variable & type & stat & level & value & formatted\\\\\n",
       "\\hline\n",
       "\t ID            & integer       & missing       & .all          &  0.000000     & 0            \\\\\n",
       "\t ID            & integer       & complete      & .all          & 90.000000     & 90           \\\\\n",
       "\t ID            & integer       & n             & .all          & 90.000000     & 90           \\\\\n",
       "\t ID            & integer       & mean          & .all          & 45.500000     & 45.5         \\\\\n",
       "\t ID            & integer       & sd            & .all          & 26.124701     & 26.12        \\\\\n",
       "\t ID            & integer       & p0            & .all          &  1.000000     & 1            \\\\\n",
       "\t ID            & integer       & p25           & .all          & 23.250000     & 23.25        \\\\\n",
       "\t ID            & integer       & p50           & .all          & 45.500000     & 45.5         \\\\\n",
       "\t ID            & integer       & p75           & .all          & 67.750000     & 67.75        \\\\\n",
       "\t ID            & integer       & p100          & .all          & 90.000000     & 90           \\\\\n",
       "\t ID            & integer       & hist          & .all          &        NA     & ▇▇▇▇▇▇▇▇     \\\\\n",
       "\t CodeTourbiere & character     & missing       & .all          &  0.000000     & 0            \\\\\n",
       "\t CodeTourbiere & character     & complete      & .all          & 90.000000     & 90           \\\\\n",
       "\t CodeTourbiere & character     & n             & .all          & 90.000000     & 90           \\\\\n",
       "\t CodeTourbiere & character     & min           & .all          &  1.000000     & 1            \\\\\n",
       "\t CodeTourbiere & character     & max           & .all          &  4.000000     & 4            \\\\\n",
       "\t CodeTourbiere & character     & empty         & .all          &  0.000000     & 0            \\\\\n",
       "\t CodeTourbiere & character     & n\\_unique    & .all          & 12.000000     & 12           \\\\\n",
       "\t Ordre         & character     & missing       & .all          &  0.000000     & 0            \\\\\n",
       "\t Ordre         & character     & complete      & .all          & 90.000000     & 90           \\\\\n",
       "\t Ordre         & character     & n             & .all          & 90.000000     & 90           \\\\\n",
       "\t Ordre         & character     & min           & .all          &  1.000000     & 1            \\\\\n",
       "\t Ordre         & character     & max           & .all          &  2.000000     & 2            \\\\\n",
       "\t Ordre         & character     & empty         & .all          &  0.000000     & 0            \\\\\n",
       "\t Ordre         & character     & n\\_unique    & .all          & 20.000000     & 20           \\\\\n",
       "\t Site          & integer       & missing       & .all          &  0.000000     & 0            \\\\\n",
       "\t Site          & integer       & complete      & .all          & 90.000000     & 90           \\\\\n",
       "\t Site          & integer       & n             & .all          & 90.000000     & 90           \\\\\n",
       "\t Site          & integer       & mean          & .all          &  6.333333     & 6.33         \\\\\n",
       "\t Site          & integer       & sd            & .all          &  5.487473     & 5.49         \\\\\n",
       "\t ⋮ & ⋮ & ⋮ & ⋮ & ⋮ & ⋮\\\\\n",
       "\t Mn\\_pourc   & numeric      & mean         & .all         & 3.345239e-02 & 0.033       \\\\\n",
       "\t Mn\\_pourc   & numeric      & sd           & .all         & 2.519212e-02 & 0.025       \\\\\n",
       "\t Mn\\_pourc   & numeric      & p0           & .all         & 2.298267e-03 & 0.0023      \\\\\n",
       "\t Mn\\_pourc   & numeric      & p25          & .all         & 1.204780e-02 & 0.012       \\\\\n",
       "\t Mn\\_pourc   & numeric      & p50          & .all         & 2.787249e-02 & 0.028       \\\\\n",
       "\t Mn\\_pourc   & numeric      & p75          & .all         & 5.005090e-02 & 0.05        \\\\\n",
       "\t Mn\\_pourc   & numeric      & p100         & .all         & 1.044499e-01 & 0.1         \\\\\n",
       "\t Mn\\_pourc   & numeric      & hist         & .all         &           NA & ▇▃▃▃▂▁▁▁    \\\\\n",
       "\t Fe\\_pourc   & numeric      & missing      & .all         & 0.000000e+00 & 0           \\\\\n",
       "\t Fe\\_pourc   & numeric      & complete     & .all         & 9.000000e+01 & 90          \\\\\n",
       "\t Fe\\_pourc   & numeric      & n            & .all         & 9.000000e+01 & 90          \\\\\n",
       "\t Fe\\_pourc   & numeric      & mean         & .all         & 1.514885e-02 & 0.015       \\\\\n",
       "\t Fe\\_pourc   & numeric      & sd           & .all         & 5.873920e-03 & 0.0059      \\\\\n",
       "\t Fe\\_pourc   & numeric      & p0           & .all         & 9.132463e-03 & 0.0091      \\\\\n",
       "\t Fe\\_pourc   & numeric      & p25          & .all         & 1.090693e-02 & 0.011       \\\\\n",
       "\t Fe\\_pourc   & numeric      & p50          & .all         & 1.425366e-02 & 0.014       \\\\\n",
       "\t Fe\\_pourc   & numeric      & p75          & .all         & 1.727110e-02 & 0.017       \\\\\n",
       "\t Fe\\_pourc   & numeric      & p100         & .all         & 5.206466e-02 & 0.052       \\\\\n",
       "\t Fe\\_pourc   & numeric      & hist         & .all         &           NA & ▇▅▂▁▁▁▁▁    \\\\\n",
       "\t Al\\_pourc   & numeric      & missing      & .all         & 0.000000e+00 & 0           \\\\\n",
       "\t Al\\_pourc   & numeric      & complete     & .all         & 9.000000e+01 & 90          \\\\\n",
       "\t Al\\_pourc   & numeric      & n            & .all         & 9.000000e+01 & 90          \\\\\n",
       "\t Al\\_pourc   & numeric      & mean         & .all         & 2.694979e-03 & 0.0027      \\\\\n",
       "\t Al\\_pourc   & numeric      & sd           & .all         & 1.325531e-03 & 0.0013      \\\\\n",
       "\t Al\\_pourc   & numeric      & p0           & .all         & 8.953445e-04 & 9e-04       \\\\\n",
       "\t Al\\_pourc   & numeric      & p25          & .all         & 1.919949e-03 & 0.0019      \\\\\n",
       "\t Al\\_pourc   & numeric      & p50          & .all         & 2.361740e-03 & 0.0024      \\\\\n",
       "\t Al\\_pourc   & numeric      & p75          & .all         & 3.338909e-03 & 0.0033      \\\\\n",
       "\t Al\\_pourc   & numeric      & p100         & .all         & 9.333716e-03 & 0.0093      \\\\\n",
       "\t Al\\_pourc   & numeric      & hist         & .all         &           NA & ▆▇▅▂▁▁▁▁    \\\\\n",
       "\\end{tabular}\n"
      ],
      "text/markdown": [
       "\n",
       "variable | type | stat | level | value | formatted | \n",
       "|---|---|---|---|---|---|---|---|---|---|---|---|---|---|---|---|---|---|---|---|---|---|---|---|---|---|---|---|---|---|---|---|---|---|---|---|---|---|---|---|---|---|---|---|---|---|---|---|---|---|---|---|---|---|---|---|---|---|---|---|---|\n",
       "| ID            | integer       | missing       | .all          |  0.000000     | 0             | \n",
       "| ID            | integer       | complete      | .all          | 90.000000     | 90            | \n",
       "| ID            | integer       | n             | .all          | 90.000000     | 90            | \n",
       "| ID            | integer       | mean          | .all          | 45.500000     | 45.5          | \n",
       "| ID            | integer       | sd            | .all          | 26.124701     | 26.12         | \n",
       "| ID            | integer       | p0            | .all          |  1.000000     | 1             | \n",
       "| ID            | integer       | p25           | .all          | 23.250000     | 23.25         | \n",
       "| ID            | integer       | p50           | .all          | 45.500000     | 45.5          | \n",
       "| ID            | integer       | p75           | .all          | 67.750000     | 67.75         | \n",
       "| ID            | integer       | p100          | .all          | 90.000000     | 90            | \n",
       "| ID            | integer       | hist          | .all          |        NA     | ▇▇▇▇▇▇▇▇      | \n",
       "| CodeTourbiere | character     | missing       | .all          |  0.000000     | 0             | \n",
       "| CodeTourbiere | character     | complete      | .all          | 90.000000     | 90            | \n",
       "| CodeTourbiere | character     | n             | .all          | 90.000000     | 90            | \n",
       "| CodeTourbiere | character     | min           | .all          |  1.000000     | 1             | \n",
       "| CodeTourbiere | character     | max           | .all          |  4.000000     | 4             | \n",
       "| CodeTourbiere | character     | empty         | .all          |  0.000000     | 0             | \n",
       "| CodeTourbiere | character     | n_unique      | .all          | 12.000000     | 12            | \n",
       "| Ordre         | character     | missing       | .all          |  0.000000     | 0             | \n",
       "| Ordre         | character     | complete      | .all          | 90.000000     | 90            | \n",
       "| Ordre         | character     | n             | .all          | 90.000000     | 90            | \n",
       "| Ordre         | character     | min           | .all          |  1.000000     | 1             | \n",
       "| Ordre         | character     | max           | .all          |  2.000000     | 2             | \n",
       "| Ordre         | character     | empty         | .all          |  0.000000     | 0             | \n",
       "| Ordre         | character     | n_unique      | .all          | 20.000000     | 20            | \n",
       "| Site          | integer       | missing       | .all          |  0.000000     | 0             | \n",
       "| Site          | integer       | complete      | .all          | 90.000000     | 90            | \n",
       "| Site          | integer       | n             | .all          | 90.000000     | 90            | \n",
       "| Site          | integer       | mean          | .all          |  6.333333     | 6.33          | \n",
       "| Site          | integer       | sd            | .all          |  5.487473     | 5.49          | \n",
       "| ⋮ | ⋮ | ⋮ | ⋮ | ⋮ | ⋮ | \n",
       "| Mn_pourc     | numeric      | mean         | .all         | 3.345239e-02 | 0.033        | \n",
       "| Mn_pourc     | numeric      | sd           | .all         | 2.519212e-02 | 0.025        | \n",
       "| Mn_pourc     | numeric      | p0           | .all         | 2.298267e-03 | 0.0023       | \n",
       "| Mn_pourc     | numeric      | p25          | .all         | 1.204780e-02 | 0.012        | \n",
       "| Mn_pourc     | numeric      | p50          | .all         | 2.787249e-02 | 0.028        | \n",
       "| Mn_pourc     | numeric      | p75          | .all         | 5.005090e-02 | 0.05         | \n",
       "| Mn_pourc     | numeric      | p100         | .all         | 1.044499e-01 | 0.1          | \n",
       "| Mn_pourc     | numeric      | hist         | .all         |           NA | ▇▃▃▃▂▁▁▁     | \n",
       "| Fe_pourc     | numeric      | missing      | .all         | 0.000000e+00 | 0            | \n",
       "| Fe_pourc     | numeric      | complete     | .all         | 9.000000e+01 | 90           | \n",
       "| Fe_pourc     | numeric      | n            | .all         | 9.000000e+01 | 90           | \n",
       "| Fe_pourc     | numeric      | mean         | .all         | 1.514885e-02 | 0.015        | \n",
       "| Fe_pourc     | numeric      | sd           | .all         | 5.873920e-03 | 0.0059       | \n",
       "| Fe_pourc     | numeric      | p0           | .all         | 9.132463e-03 | 0.0091       | \n",
       "| Fe_pourc     | numeric      | p25          | .all         | 1.090693e-02 | 0.011        | \n",
       "| Fe_pourc     | numeric      | p50          | .all         | 1.425366e-02 | 0.014        | \n",
       "| Fe_pourc     | numeric      | p75          | .all         | 1.727110e-02 | 0.017        | \n",
       "| Fe_pourc     | numeric      | p100         | .all         | 5.206466e-02 | 0.052        | \n",
       "| Fe_pourc     | numeric      | hist         | .all         |           NA | ▇▅▂▁▁▁▁▁     | \n",
       "| Al_pourc     | numeric      | missing      | .all         | 0.000000e+00 | 0            | \n",
       "| Al_pourc     | numeric      | complete     | .all         | 9.000000e+01 | 90           | \n",
       "| Al_pourc     | numeric      | n            | .all         | 9.000000e+01 | 90           | \n",
       "| Al_pourc     | numeric      | mean         | .all         | 2.694979e-03 | 0.0027       | \n",
       "| Al_pourc     | numeric      | sd           | .all         | 1.325531e-03 | 0.0013       | \n",
       "| Al_pourc     | numeric      | p0           | .all         | 8.953445e-04 | 9e-04        | \n",
       "| Al_pourc     | numeric      | p25          | .all         | 1.919949e-03 | 0.0019       | \n",
       "| Al_pourc     | numeric      | p50          | .all         | 2.361740e-03 | 0.0024       | \n",
       "| Al_pourc     | numeric      | p75          | .all         | 3.338909e-03 | 0.0033       | \n",
       "| Al_pourc     | numeric      | p100         | .all         | 9.333716e-03 | 0.0093       | \n",
       "| Al_pourc     | numeric      | hist         | .all         |           NA | ▆▇▅▂▁▁▁▁     | \n",
       "\n",
       "\n"
      ],
      "text/plain": [
       "    variable      type      stat     level value        formatted\n",
       "1   ID            integer   missing  .all   0.000000    0        \n",
       "2   ID            integer   complete .all  90.000000    90       \n",
       "3   ID            integer   n        .all  90.000000    90       \n",
       "4   ID            integer   mean     .all  45.500000    45.5     \n",
       "5   ID            integer   sd       .all  26.124701    26.12    \n",
       "6   ID            integer   p0       .all   1.000000    1        \n",
       "7   ID            integer   p25      .all  23.250000    23.25    \n",
       "8   ID            integer   p50      .all  45.500000    45.5     \n",
       "9   ID            integer   p75      .all  67.750000    67.75    \n",
       "10  ID            integer   p100     .all  90.000000    90       \n",
       "11  ID            integer   hist     .all         NA    ▇▇▇▇▇▇▇▇ \n",
       "12  CodeTourbiere character missing  .all   0.000000    0        \n",
       "13  CodeTourbiere character complete .all  90.000000    90       \n",
       "14  CodeTourbiere character n        .all  90.000000    90       \n",
       "15  CodeTourbiere character min      .all   1.000000    1        \n",
       "16  CodeTourbiere character max      .all   4.000000    4        \n",
       "17  CodeTourbiere character empty    .all   0.000000    0        \n",
       "18  CodeTourbiere character n_unique .all  12.000000    12       \n",
       "19  Ordre         character missing  .all   0.000000    0        \n",
       "20  Ordre         character complete .all  90.000000    90       \n",
       "21  Ordre         character n        .all  90.000000    90       \n",
       "22  Ordre         character min      .all   1.000000    1        \n",
       "23  Ordre         character max      .all   2.000000    2        \n",
       "24  Ordre         character empty    .all   0.000000    0        \n",
       "25  Ordre         character n_unique .all  20.000000    20       \n",
       "26  Site          integer   missing  .all   0.000000    0        \n",
       "27  Site          integer   complete .all  90.000000    90       \n",
       "28  Site          integer   n        .all  90.000000    90       \n",
       "29  Site          integer   mean     .all   6.333333    6.33     \n",
       "30  Site          integer   sd       .all   5.487473    5.49     \n",
       "⋮   ⋮             ⋮         ⋮        ⋮     ⋮            ⋮        \n",
       "292 Mn_pourc      numeric   mean     .all  3.345239e-02 0.033    \n",
       "293 Mn_pourc      numeric   sd       .all  2.519212e-02 0.025    \n",
       "294 Mn_pourc      numeric   p0       .all  2.298267e-03 0.0023   \n",
       "295 Mn_pourc      numeric   p25      .all  1.204780e-02 0.012    \n",
       "296 Mn_pourc      numeric   p50      .all  2.787249e-02 0.028    \n",
       "297 Mn_pourc      numeric   p75      .all  5.005090e-02 0.05     \n",
       "298 Mn_pourc      numeric   p100     .all  1.044499e-01 0.1      \n",
       "299 Mn_pourc      numeric   hist     .all            NA ▇▃▃▃▂▁▁▁ \n",
       "300 Fe_pourc      numeric   missing  .all  0.000000e+00 0        \n",
       "301 Fe_pourc      numeric   complete .all  9.000000e+01 90       \n",
       "302 Fe_pourc      numeric   n        .all  9.000000e+01 90       \n",
       "303 Fe_pourc      numeric   mean     .all  1.514885e-02 0.015    \n",
       "304 Fe_pourc      numeric   sd       .all  5.873920e-03 0.0059   \n",
       "305 Fe_pourc      numeric   p0       .all  9.132463e-03 0.0091   \n",
       "306 Fe_pourc      numeric   p25      .all  1.090693e-02 0.011    \n",
       "307 Fe_pourc      numeric   p50      .all  1.425366e-02 0.014    \n",
       "308 Fe_pourc      numeric   p75      .all  1.727110e-02 0.017    \n",
       "309 Fe_pourc      numeric   p100     .all  5.206466e-02 0.052    \n",
       "310 Fe_pourc      numeric   hist     .all            NA ▇▅▂▁▁▁▁▁ \n",
       "311 Al_pourc      numeric   missing  .all  0.000000e+00 0        \n",
       "312 Al_pourc      numeric   complete .all  9.000000e+01 90       \n",
       "313 Al_pourc      numeric   n        .all  9.000000e+01 90       \n",
       "314 Al_pourc      numeric   mean     .all  2.694979e-03 0.0027   \n",
       "315 Al_pourc      numeric   sd       .all  1.325531e-03 0.0013   \n",
       "316 Al_pourc      numeric   p0       .all  8.953445e-04 9e-04    \n",
       "317 Al_pourc      numeric   p25      .all  1.919949e-03 0.0019   \n",
       "318 Al_pourc      numeric   p50      .all  2.361740e-03 0.0024   \n",
       "319 Al_pourc      numeric   p75      .all  3.338909e-03 0.0033   \n",
       "320 Al_pourc      numeric   p100     .all  9.333716e-03 0.0093   \n",
       "321 Al_pourc      numeric   hist     .all            NA ▆▇▅▂▁▁▁▁ "
      ]
     },
     "metadata": {},
     "output_type": "display_data"
    }
   ],
   "source": [
    "skimr::skim(chicoute)"
   ]
  },
  {
   "cell_type": "markdown",
   "metadata": {},
   "source": [
    "**Exercice**. Inspectez le tableau."
   ]
  },
  {
   "cell_type": "code",
   "execution_count": null,
   "metadata": {},
   "outputs": [],
   "source": []
  },
  {
   "cell_type": "code",
   "execution_count": null,
   "metadata": {},
   "outputs": [],
   "source": []
  },
  {
   "cell_type": "markdown",
   "metadata": {},
   "source": [
    "### Comment sélectionner et filtrer des données?\n",
    "\n",
    "On utiliser le terme *sélectionner* lorsque l'on désire choisir une ou plusieurs lignes et colonnes d'un tableau (la plupart du temps des colonnes). L'action de *filtrer* signifie de sélectionner des lignes selon certains critères."
   ]
  },
  {
   "cell_type": "markdown",
   "metadata": {},
   "source": [
    "#### Sélectionner\n",
    "\n",
    "Voici trois manières de sélectionner une colonne en R.\n",
    "\n",
    "- Une méthode rapide mais peu expressive consiste à indiquer les valeurs numériques de l'indice de la colonne entre des crochets. Il s'agit d'appeler le tableau suivit de crochets. L'intérieur des crochets comprend deux éléments séparés par une virgule. Le premier élément sert à filter selon l'indice, le deuxième sert à sélectionner selon l'indice. Ainsi:\n",
    "    - chicoute[, 1]: sélectionner la première colonne\n",
    "    - chicoute[, 1:10]: sélectionner les 10 premières colonnes\n",
    "    - chicoute[, c(2, 4, 5)]: sélectionner les colonnes 2, 4 et 5\n",
    "    - chicoute[c(10, 13, 20), c(2, 4, 5)]: sélectionner les colonnes 2, 4 et 5 et les lignes 10, 13 et 20.\n",
    "\n",
    "- Une autre méthode rapide, mais plus expressive, consiste à appeler le tableau, suivi du symbole `$`, puis le nom de la colonne.\n",
    "\n",
    "> **Truc**. La plupart des IDE, comme RStudio ou Jupyter, peuvent vous proposer des colonnes dans une liste. Après avoir entrer le `$`, taper sur la touche de tabulation: vous pourrez sélectionner la colonne dans une liste défilante.\n",
    "\n",
    "![](images/auto-complete-cols.png)\n",
    "\n",
    "- Une autre option est d'inscrire le nom de la colonne, ou du vecteur des colonnes, entre des crochets suivant le nom du tableau, c'est-à-dire `chicoute[c(\"Site\", \"Latitude_m\", \"Longitude_m\")]`.\n",
    "\n",
    "- Enfin, dans une séquence d'opérations en mode pipeline (chaque opération est mise à la suite de la précédente en plaçant le *pipe* `%>%` entre chacune), il peut être préférable de sélectionner des colonnes avec la fonction `select()`, i.e.\n",
    "\n",
    "```\n",
    "chicoute %>%\n",
    "    select(Site, Latitude_m, Longitude_m)\n",
    "```\n",
    "\n",
    "La fonction `select()` permet aussi de travailler en exclusion. Ainsi pour enlever des colonnes, on placera un `-` (signe de soustraction) devant le nom de la colonne.\n",
    "\n",
    "D'autre arguments de `select()` permettent une sélection rapide. Par exemple, pour obtenir les colonnes contenant des pourcentages:"
   ]
  },
  {
   "cell_type": "code",
   "execution_count": 22,
   "metadata": {},
   "outputs": [
    {
     "data": {
      "text/html": [
       "<table>\n",
       "<thead><tr><th scope=col>C_pourc</th><th scope=col>N_pourc</th><th scope=col>P_pourc</th><th scope=col>K_pourc</th><th scope=col>Ca_pourc</th><th scope=col>Mg_pourc</th><th scope=col>S_pourc</th><th scope=col>B_pourc</th><th scope=col>Cu_pourc</th><th scope=col>Zn_pourc</th><th scope=col>Mn_pourc</th><th scope=col>Fe_pourc</th><th scope=col>Al_pourc</th></tr></thead>\n",
       "<tbody>\n",
       "\t<tr><td>51.47       </td><td>1.725       </td><td>0.10828292  </td><td>1.213369    </td><td>0.4354813   </td><td>0.4703105   </td><td>0.09765     </td><td>0.0025784   </td><td>0.0001745158</td><td>0.004698245 </td><td>0.10060177  </td><td>0.01328136  </td><td>0.001558297 </td></tr>\n",
       "\t<tr><td>51.29       </td><td>2.183       </td><td>0.09849983  </td><td>1.215155    </td><td>0.3367917   </td><td>0.4393830   </td><td>0.09961     </td><td>0.0025784   </td><td>0.0004066941</td><td>0.007287799 </td><td>0.07829742  </td><td>0.01477312  </td><td>0.001890295 </td></tr>\n",
       "\t<tr><td>50.55       </td><td>2.122       </td><td>0.07076705  </td><td>1.049444    </td><td>0.3732162   </td><td>0.4204327   </td><td>0.10440     </td><td>0.0025784   </td><td>0.0000370000</td><td>0.007131813 </td><td>0.07220070  </td><td>0.01475394  </td><td>0.001601709 </td></tr>\n",
       "</tbody>\n",
       "</table>\n"
      ],
      "text/latex": [
       "\\begin{tabular}{r|lllllllllllll}\n",
       " C\\_pourc & N\\_pourc & P\\_pourc & K\\_pourc & Ca\\_pourc & Mg\\_pourc & S\\_pourc & B\\_pourc & Cu\\_pourc & Zn\\_pourc & Mn\\_pourc & Fe\\_pourc & Al\\_pourc\\\\\n",
       "\\hline\n",
       "\t 51.47        & 1.725        & 0.10828292   & 1.213369     & 0.4354813    & 0.4703105    & 0.09765      & 0.0025784    & 0.0001745158 & 0.004698245  & 0.10060177   & 0.01328136   & 0.001558297 \\\\\n",
       "\t 51.29        & 2.183        & 0.09849983   & 1.215155     & 0.3367917    & 0.4393830    & 0.09961      & 0.0025784    & 0.0004066941 & 0.007287799  & 0.07829742   & 0.01477312   & 0.001890295 \\\\\n",
       "\t 50.55        & 2.122        & 0.07076705   & 1.049444     & 0.3732162    & 0.4204327    & 0.10440      & 0.0025784    & 0.0000370000 & 0.007131813  & 0.07220070   & 0.01475394   & 0.001601709 \\\\\n",
       "\\end{tabular}\n"
      ],
      "text/markdown": [
       "\n",
       "C_pourc | N_pourc | P_pourc | K_pourc | Ca_pourc | Mg_pourc | S_pourc | B_pourc | Cu_pourc | Zn_pourc | Mn_pourc | Fe_pourc | Al_pourc | \n",
       "|---|---|---|\n",
       "| 51.47        | 1.725        | 0.10828292   | 1.213369     | 0.4354813    | 0.4703105    | 0.09765      | 0.0025784    | 0.0001745158 | 0.004698245  | 0.10060177   | 0.01328136   | 0.001558297  | \n",
       "| 51.29        | 2.183        | 0.09849983   | 1.215155     | 0.3367917    | 0.4393830    | 0.09961      | 0.0025784    | 0.0004066941 | 0.007287799  | 0.07829742   | 0.01477312   | 0.001890295  | \n",
       "| 50.55        | 2.122        | 0.07076705   | 1.049444     | 0.3732162    | 0.4204327    | 0.10440      | 0.0025784    | 0.0000370000 | 0.007131813  | 0.07220070   | 0.01475394   | 0.001601709  | \n",
       "\n",
       "\n"
      ],
      "text/plain": [
       "  C_pourc N_pourc P_pourc    K_pourc  Ca_pourc  Mg_pourc  S_pourc B_pourc  \n",
       "1 51.47   1.725   0.10828292 1.213369 0.4354813 0.4703105 0.09765 0.0025784\n",
       "2 51.29   2.183   0.09849983 1.215155 0.3367917 0.4393830 0.09961 0.0025784\n",
       "3 50.55   2.122   0.07076705 1.049444 0.3732162 0.4204327 0.10440 0.0025784\n",
       "  Cu_pourc     Zn_pourc    Mn_pourc   Fe_pourc   Al_pourc   \n",
       "1 0.0001745158 0.004698245 0.10060177 0.01328136 0.001558297\n",
       "2 0.0004066941 0.007287799 0.07829742 0.01477312 0.001890295\n",
       "3 0.0000370000 0.007131813 0.07220070 0.01475394 0.001601709"
      ]
     },
     "metadata": {},
     "output_type": "display_data"
    }
   ],
   "source": [
    "chicoute %>%\n",
    "    select(ends_with(\"pourc\")) %>%\n",
    "    head(3)"
   ]
  },
  {
   "cell_type": "markdown",
   "metadata": {},
   "source": [
    "#### Filtrer\n",
    "\n",
    "Comme c'est le cas de la sélection, on pourra filtrer un tableau de plusieurs manières. J'ai déjà présenté comment filtrer selon les indices des lignes. Les autres manières reposent néanmoins sur une opération logique `==`, `<`, `>` ou `%in%` (le %in% signifie *se trouve parmi* et peut être suivi d'un vecteur de valeur que l'on désire accepter).\n",
    "\n",
    "Les conditions booléennes peuvent être combinées avec les opérateurs *et*,  `&`, et *ou*, `|`. Pour rappel,\n",
    "\n",
    "\n",
    "| Opération | Résultat |\n",
    "| --------- | -------- |\n",
    "| Vrai **et** Vrai | Vrai |\n",
    "| Vrai **et** Faux | Faux |\n",
    "| Faux **et** Faux | Faux |\n",
    "| Vrai **ou** Vrai | Vrai |\n",
    "| Vrai **ou** Faux | Vrai |\n",
    "| Faux **ou** Faux | Faux |\n",
    "\n",
    "- La méthode classique consiste à appliquer une opération logique entre les crochets, par exemple `chicoute[chicoute$CodeTourbiere == \"BEAU\", ]`\n",
    "- La méthode tidyverse, plus pratique en mode pipeline, passe par la fonction `filter()`, i.e.\n",
    "\n",
    "```\n",
    "chicoute %>%\n",
    "    filter(CodeTourbiere == \"BEAU\")\n",
    "```\n",
    "\n",
    "Combiner le tout."
   ]
  },
  {
   "cell_type": "code",
   "execution_count": 28,
   "metadata": {},
   "outputs": [
    {
     "data": {
      "text/html": [
       "<table>\n",
       "<thead><tr><th scope=col>C_pourc</th><th scope=col>N_pourc</th><th scope=col>P_pourc</th><th scope=col>K_pourc</th><th scope=col>Ca_pourc</th><th scope=col>Mg_pourc</th><th scope=col>S_pourc</th><th scope=col>B_pourc</th><th scope=col>Cu_pourc</th><th scope=col>Zn_pourc</th><th scope=col>Mn_pourc</th><th scope=col>Fe_pourc</th><th scope=col>Al_pourc</th></tr></thead>\n",
       "<tbody>\n",
       "\t<tr><td>51.29       </td><td>2.183       </td><td>0.09849983  </td><td>1.2151553   </td><td>0.3367917   </td><td>0.4393830   </td><td>0.09961     </td><td>0.002578400 </td><td>0.0004066941</td><td>0.007287799 </td><td>0.07829742  </td><td>0.01477312  </td><td>0.001890295 </td></tr>\n",
       "\t<tr><td>50.55       </td><td>2.122       </td><td>0.07076705  </td><td>1.0494440   </td><td>0.3732162   </td><td>0.4204327   </td><td>0.10440     </td><td>0.002578400 </td><td>0.0000370000</td><td>0.007131813 </td><td>0.07220070  </td><td>0.01475394  </td><td>0.001601709 </td></tr>\n",
       "\t<tr><td>53.83       </td><td>2.039       </td><td>0.11524730  </td><td>0.9465649   </td><td>0.3326871   </td><td>0.4717097   </td><td>0.10620     </td><td>0.002578400 </td><td>0.0000370000</td><td>0.005101117 </td><td>0.03454964  </td><td>0.01201100  </td><td>0.001020535 </td></tr>\n",
       "\t<tr><td>52.65       </td><td>2.110       </td><td>0.08474290  </td><td>0.9127262   </td><td>0.3283184   </td><td>0.3762010   </td><td>0.11060     </td><td>0.002964948 </td><td>0.0000370000</td><td>0.006787259 </td><td>0.04908455  </td><td>0.01412557  </td><td>0.001512923 </td></tr>\n",
       "</tbody>\n",
       "</table>\n"
      ],
      "text/latex": [
       "\\begin{tabular}{r|lllllllllllll}\n",
       " C\\_pourc & N\\_pourc & P\\_pourc & K\\_pourc & Ca\\_pourc & Mg\\_pourc & S\\_pourc & B\\_pourc & Cu\\_pourc & Zn\\_pourc & Mn\\_pourc & Fe\\_pourc & Al\\_pourc\\\\\n",
       "\\hline\n",
       "\t 51.29        & 2.183        & 0.09849983   & 1.2151553    & 0.3367917    & 0.4393830    & 0.09961      & 0.002578400  & 0.0004066941 & 0.007287799  & 0.07829742   & 0.01477312   & 0.001890295 \\\\\n",
       "\t 50.55        & 2.122        & 0.07076705   & 1.0494440    & 0.3732162    & 0.4204327    & 0.10440      & 0.002578400  & 0.0000370000 & 0.007131813  & 0.07220070   & 0.01475394   & 0.001601709 \\\\\n",
       "\t 53.83        & 2.039        & 0.11524730   & 0.9465649    & 0.3326871    & 0.4717097    & 0.10620      & 0.002578400  & 0.0000370000 & 0.005101117  & 0.03454964   & 0.01201100   & 0.001020535 \\\\\n",
       "\t 52.65        & 2.110        & 0.08474290   & 0.9127262    & 0.3283184    & 0.3762010    & 0.11060      & 0.002964948  & 0.0000370000 & 0.006787259  & 0.04908455   & 0.01412557   & 0.001512923 \\\\\n",
       "\\end{tabular}\n"
      ],
      "text/markdown": [
       "\n",
       "C_pourc | N_pourc | P_pourc | K_pourc | Ca_pourc | Mg_pourc | S_pourc | B_pourc | Cu_pourc | Zn_pourc | Mn_pourc | Fe_pourc | Al_pourc | \n",
       "|---|---|---|---|\n",
       "| 51.29        | 2.183        | 0.09849983   | 1.2151553    | 0.3367917    | 0.4393830    | 0.09961      | 0.002578400  | 0.0004066941 | 0.007287799  | 0.07829742   | 0.01477312   | 0.001890295  | \n",
       "| 50.55        | 2.122        | 0.07076705   | 1.0494440    | 0.3732162    | 0.4204327    | 0.10440      | 0.002578400  | 0.0000370000 | 0.007131813  | 0.07220070   | 0.01475394   | 0.001601709  | \n",
       "| 53.83        | 2.039        | 0.11524730   | 0.9465649    | 0.3326871    | 0.4717097    | 0.10620      | 0.002578400  | 0.0000370000 | 0.005101117  | 0.03454964   | 0.01201100   | 0.001020535  | \n",
       "| 52.65        | 2.110        | 0.08474290   | 0.9127262    | 0.3283184    | 0.3762010    | 0.11060      | 0.002964948  | 0.0000370000 | 0.006787259  | 0.04908455   | 0.01412557   | 0.001512923  | \n",
       "\n",
       "\n"
      ],
      "text/plain": [
       "  C_pourc N_pourc P_pourc    K_pourc   Ca_pourc  Mg_pourc  S_pourc B_pourc    \n",
       "1 51.29   2.183   0.09849983 1.2151553 0.3367917 0.4393830 0.09961 0.002578400\n",
       "2 50.55   2.122   0.07076705 1.0494440 0.3732162 0.4204327 0.10440 0.002578400\n",
       "3 53.83   2.039   0.11524730 0.9465649 0.3326871 0.4717097 0.10620 0.002578400\n",
       "4 52.65   2.110   0.08474290 0.9127262 0.3283184 0.3762010 0.11060 0.002964948\n",
       "  Cu_pourc     Zn_pourc    Mn_pourc   Fe_pourc   Al_pourc   \n",
       "1 0.0004066941 0.007287799 0.07829742 0.01477312 0.001890295\n",
       "2 0.0000370000 0.007131813 0.07220070 0.01475394 0.001601709\n",
       "3 0.0000370000 0.005101117 0.03454964 0.01201100 0.001020535\n",
       "4 0.0000370000 0.006787259 0.04908455 0.01412557 0.001512923"
      ]
     },
     "metadata": {},
     "output_type": "display_data"
    }
   ],
   "source": [
    "chicoute %>%\n",
    "    filter(Ca_pourc < 0.4 & CodeTourbiere %in% c(\"BEAU\", \"MB\", \"WTP\")) %>%\n",
    "    select(contains(\"pourc\"))"
   ]
  },
  {
   "cell_type": "markdown",
   "metadata": {},
   "source": [
    "### Le format long et le format large\n",
    "\n",
    "Dans le tableau `chicoute`, chaque élément possède sa propre colonne. Si l'on voulait mettre en graphique les boxplot des facettes de concentrations d'azote, de phosphore et de potassium dans les différentes tourbières, il faudrait obtenir une seule colonne de concentrations.\n",
    "\n",
    "Pour ce faire, nous utiliserons la fonction `gather()`. Le premier argument est le nom de la colonne des variables, le deuxième est le nom de la nouvelle colonne des valeurs. La suite consiste à décrire les colonnes à inclure ou à exclulre. Dans le cas qui suit, j'exclue CodeTourbiere de la refonte j'utilise `sample_n()` pour présenter un échantillon du résultat."
   ]
  },
  {
   "cell_type": "code",
   "execution_count": 71,
   "metadata": {},
   "outputs": [
    {
     "data": {
      "text/html": [
       "<table>\n",
       "<thead><tr><th scope=col>CodeTourbiere</th><th scope=col>element</th><th scope=col>concentration</th></tr></thead>\n",
       "<tbody>\n",
       "\t<tr><td>MB        </td><td>N_pourc   </td><td>2.35000000</td></tr>\n",
       "\t<tr><td>BEAU      </td><td>P_pourc   </td><td>0.07076705</td></tr>\n",
       "\t<tr><td>NBM       </td><td>N_pourc   </td><td>2.14600000</td></tr>\n",
       "\t<tr><td>2         </td><td>K_pourc   </td><td>1.17486374</td></tr>\n",
       "\t<tr><td>2         </td><td>N_pourc   </td><td>2.69800000</td></tr>\n",
       "\t<tr><td>NTP       </td><td>P_pourc   </td><td>0.07762925</td></tr>\n",
       "\t<tr><td>BEAU      </td><td>K_pourc   </td><td>1.21336926</td></tr>\n",
       "\t<tr><td>2         </td><td>K_pourc   </td><td>0.62733413</td></tr>\n",
       "\t<tr><td>NBM       </td><td>K_pourc   </td><td>0.74477600</td></tr>\n",
       "\t<tr><td>1         </td><td>P_pourc   </td><td>0.15454452</td></tr>\n",
       "</tbody>\n",
       "</table>\n"
      ],
      "text/latex": [
       "\\begin{tabular}{r|lll}\n",
       " CodeTourbiere & element & concentration\\\\\n",
       "\\hline\n",
       "\t MB         & N\\_pourc  & 2.35000000\\\\\n",
       "\t BEAU       & P\\_pourc  & 0.07076705\\\\\n",
       "\t NBM        & N\\_pourc  & 2.14600000\\\\\n",
       "\t 2          & K\\_pourc  & 1.17486374\\\\\n",
       "\t 2          & N\\_pourc  & 2.69800000\\\\\n",
       "\t NTP        & P\\_pourc  & 0.07762925\\\\\n",
       "\t BEAU       & K\\_pourc  & 1.21336926\\\\\n",
       "\t 2          & K\\_pourc  & 0.62733413\\\\\n",
       "\t NBM        & K\\_pourc  & 0.74477600\\\\\n",
       "\t 1          & P\\_pourc  & 0.15454452\\\\\n",
       "\\end{tabular}\n"
      ],
      "text/markdown": [
       "\n",
       "CodeTourbiere | element | concentration | \n",
       "|---|---|---|---|---|---|---|---|---|---|\n",
       "| MB         | N_pourc    | 2.35000000 | \n",
       "| BEAU       | P_pourc    | 0.07076705 | \n",
       "| NBM        | N_pourc    | 2.14600000 | \n",
       "| 2          | K_pourc    | 1.17486374 | \n",
       "| 2          | N_pourc    | 2.69800000 | \n",
       "| NTP        | P_pourc    | 0.07762925 | \n",
       "| BEAU       | K_pourc    | 1.21336926 | \n",
       "| 2          | K_pourc    | 0.62733413 | \n",
       "| NBM        | K_pourc    | 0.74477600 | \n",
       "| 1          | P_pourc    | 0.15454452 | \n",
       "\n",
       "\n"
      ],
      "text/plain": [
       "   CodeTourbiere element concentration\n",
       "1  MB            N_pourc 2.35000000   \n",
       "2  BEAU          P_pourc 0.07076705   \n",
       "3  NBM           N_pourc 2.14600000   \n",
       "4  2             K_pourc 1.17486374   \n",
       "5  2             N_pourc 2.69800000   \n",
       "6  NTP           P_pourc 0.07762925   \n",
       "7  BEAU          K_pourc 1.21336926   \n",
       "8  2             K_pourc 0.62733413   \n",
       "9  NBM           K_pourc 0.74477600   \n",
       "10 1             P_pourc 0.15454452   "
      ]
     },
     "metadata": {},
     "output_type": "display_data"
    }
   ],
   "source": [
    "chicoute_long <- chicoute %>%\n",
    "    select(CodeTourbiere, N_pourc, P_pourc, K_pourc) %>%\n",
    "    gather(key = element, value = concentration, -CodeTourbiere)\n",
    "chicoute_long %>% sample_n(10)"
   ]
  },
  {
   "cell_type": "markdown",
   "metadata": {},
   "source": [
    "L'opération inverse est `spread()`. Pour que cette opération fonctionne, `spread()` a besoin d'une colonne ayant un identifiant unique."
   ]
  },
  {
   "cell_type": "code",
   "execution_count": 78,
   "metadata": {},
   "outputs": [],
   "source": [
    "chicoute_long$ID <- 1:nrow(chicoute_long)"
   ]
  },
  {
   "cell_type": "markdown",
   "metadata": {},
   "source": [
    "Nous pouvons enlever cet identifiant une fois l'opération effectuée."
   ]
  },
  {
   "cell_type": "code",
   "execution_count": 80,
   "metadata": {},
   "outputs": [
    {
     "data": {
      "text/html": [
       "<table>\n",
       "<thead><tr><th scope=col>CodeTourbiere</th><th scope=col>K_pourc</th><th scope=col>N_pourc</th><th scope=col>P_pourc</th></tr></thead>\n",
       "<tbody>\n",
       "\t<tr><td>1        </td><td>0.6674525</td><td>0.000    </td><td>0.0000000</td></tr>\n",
       "\t<tr><td>1        </td><td>0.0000000</td><td>1.983    </td><td>0.0000000</td></tr>\n",
       "\t<tr><td>NBM      </td><td>0.0000000</td><td>1.595    </td><td>0.0000000</td></tr>\n",
       "\t<tr><td>NTP      </td><td>0.0000000</td><td>1.672    </td><td>0.0000000</td></tr>\n",
       "\t<tr><td>SSP      </td><td>0.6862593</td><td>0.000    </td><td>0.0000000</td></tr>\n",
       "\t<tr><td>2        </td><td>1.1748637</td><td>0.000    </td><td>0.0000000</td></tr>\n",
       "\t<tr><td>2        </td><td>1.2410965</td><td>0.000    </td><td>0.0000000</td></tr>\n",
       "\t<tr><td>1        </td><td>0.0000000</td><td>0.000    </td><td>0.2064365</td></tr>\n",
       "\t<tr><td>SSP      </td><td>0.0000000</td><td>0.000    </td><td>0.1307720</td></tr>\n",
       "\t<tr><td>2        </td><td>0.0000000</td><td>0.000    </td><td>0.2244190</td></tr>\n",
       "</tbody>\n",
       "</table>\n"
      ],
      "text/latex": [
       "\\begin{tabular}{r|llll}\n",
       " CodeTourbiere & K\\_pourc & N\\_pourc & P\\_pourc\\\\\n",
       "\\hline\n",
       "\t 1         & 0.6674525 & 0.000     & 0.0000000\\\\\n",
       "\t 1         & 0.0000000 & 1.983     & 0.0000000\\\\\n",
       "\t NBM       & 0.0000000 & 1.595     & 0.0000000\\\\\n",
       "\t NTP       & 0.0000000 & 1.672     & 0.0000000\\\\\n",
       "\t SSP       & 0.6862593 & 0.000     & 0.0000000\\\\\n",
       "\t 2         & 1.1748637 & 0.000     & 0.0000000\\\\\n",
       "\t 2         & 1.2410965 & 0.000     & 0.0000000\\\\\n",
       "\t 1         & 0.0000000 & 0.000     & 0.2064365\\\\\n",
       "\t SSP       & 0.0000000 & 0.000     & 0.1307720\\\\\n",
       "\t 2         & 0.0000000 & 0.000     & 0.2244190\\\\\n",
       "\\end{tabular}\n"
      ],
      "text/markdown": [
       "\n",
       "CodeTourbiere | K_pourc | N_pourc | P_pourc | \n",
       "|---|---|---|---|---|---|---|---|---|---|\n",
       "| 1         | 0.6674525 | 0.000     | 0.0000000 | \n",
       "| 1         | 0.0000000 | 1.983     | 0.0000000 | \n",
       "| NBM       | 0.0000000 | 1.595     | 0.0000000 | \n",
       "| NTP       | 0.0000000 | 1.672     | 0.0000000 | \n",
       "| SSP       | 0.6862593 | 0.000     | 0.0000000 | \n",
       "| 2         | 1.1748637 | 0.000     | 0.0000000 | \n",
       "| 2         | 1.2410965 | 0.000     | 0.0000000 | \n",
       "| 1         | 0.0000000 | 0.000     | 0.2064365 | \n",
       "| SSP       | 0.0000000 | 0.000     | 0.1307720 | \n",
       "| 2         | 0.0000000 | 0.000     | 0.2244190 | \n",
       "\n",
       "\n"
      ],
      "text/plain": [
       "   CodeTourbiere K_pourc   N_pourc P_pourc  \n",
       "1  1             0.6674525 0.000   0.0000000\n",
       "2  1             0.0000000 1.983   0.0000000\n",
       "3  NBM           0.0000000 1.595   0.0000000\n",
       "4  NTP           0.0000000 1.672   0.0000000\n",
       "5  SSP           0.6862593 0.000   0.0000000\n",
       "6  2             1.1748637 0.000   0.0000000\n",
       "7  2             1.2410965 0.000   0.0000000\n",
       "8  1             0.0000000 0.000   0.2064365\n",
       "9  SSP           0.0000000 0.000   0.1307720\n",
       "10 2             0.0000000 0.000   0.2244190"
      ]
     },
     "metadata": {},
     "output_type": "display_data"
    }
   ],
   "source": [
    "chicoute_large <- chicoute_long %>%\n",
    "    spread(key=element, value=concentration, fill=0) %>%\n",
    "    select(-ID)\n",
    "chicoute_large %>% sample_n(10)"
   ]
  },
  {
   "cell_type": "markdown",
   "metadata": {},
   "source": [
    "Sans créer de nouveau tableau, il est possible de créer le graphique dans un seu pipeline."
   ]
  },
  {
   "cell_type": "code",
   "execution_count": 88,
   "metadata": {},
   "outputs": [
    {
     "data": {},
     "metadata": {},
     "output_type": "display_data"
    },
    {
     "data": {
      "image/png": "[encoded data removed]",
      "text/plain": [
       "plot without title"
      ]
     },
     "metadata": {},
     "output_type": "display_data"
    }
   ],
   "source": [
    "chicoute %>%\n",
    "    select(CodeTourbiere, N_pourc, P_pourc, K_pourc) %>%\n",
    "    gather(key = element, value = concentration, -CodeTourbiere) %>%\n",
    "    ggplot(mapping = aes(x = CodeTourbiere, y = concentration)) +\n",
    "        facet_grid(element ~ ., scales = 'free') +\n",
    "        geom_boxplot()"
   ]
  },
  {
   "cell_type": "markdown",
   "metadata": {},
   "source": [
    "### Combiner des tableaux\n",
    "\n",
    "Nous avons introduit plus haut la notion de base de données. Nous voudrions peut-être utiliser le code des tourbières pour inclure leur nom, le type d'essai mené à ces tourbières, etc. Importons d'abord le tableau des noms liés aux codes."
   ]
  },
  {
   "cell_type": "code",
   "execution_count": 89,
   "metadata": {},
   "outputs": [
    {
     "name": "stderr",
     "output_type": "stream",
     "text": [
      "Using ',' as decimal and '.' as grouping mark. Use read_delim() for more control.\n",
      "Parsed with column specification:\n",
      "cols(\n",
      "  Tourbiere = col_character(),\n",
      "  CodeTourbiere = col_character(),\n",
      "  Type = col_character(),\n",
      "  TypeCulture = col_character()\n",
      ")\n"
     ]
    },
    {
     "data": {
      "text/html": [
       "<table>\n",
       "<thead><tr><th scope=col>Tourbiere</th><th scope=col>CodeTourbiere</th><th scope=col>Type</th><th scope=col>TypeCulture</th></tr></thead>\n",
       "<tbody>\n",
       "\t<tr><td>Beaulieu               </td><td>BEAU                   </td><td>calibration            </td><td>naturel                </td></tr>\n",
       "\t<tr><td>Brador Path            </td><td>BP                     </td><td>calibration            </td><td>naturel                </td></tr>\n",
       "\t<tr><td>Lichen (BS2E)          </td><td>2                      </td><td>validation             </td><td>cultive sec            </td></tr>\n",
       "\t<tr><td>Mannys Brook           </td><td>MB                     </td><td>calibration            </td><td>naturel                </td></tr>\n",
       "\t<tr><td>Middle Bay Road        </td><td>MR                     </td><td>calibration            </td><td>naturel                </td></tr>\n",
       "\t<tr><td>North Est of Smelt Pond</td><td>NESP                   </td><td>calibration            </td><td>naturel                </td></tr>\n",
       "\t<tr><td>North of Blue Moon     </td><td>NBM                    </td><td>calibration            </td><td>naturel                </td></tr>\n",
       "\t<tr><td>South of Smelt Pond    </td><td>SSP                    </td><td>calibration            </td><td>naturel                </td></tr>\n",
       "\t<tr><td>Sphaigne (BS2F)        </td><td>BS2                    </td><td>validation             </td><td>cultive sec            </td></tr>\n",
       "\t<tr><td>Sphaigne (BS2F)        </td><td>1                      </td><td>calibration            </td><td>naturel                </td></tr>\n",
       "\t<tr><td>West of Trout Pond     </td><td>WTP                    </td><td>calibration            </td><td>naturel                </td></tr>\n",
       "</tbody>\n",
       "</table>\n"
      ],
      "text/latex": [
       "\\begin{tabular}{r|llll}\n",
       " Tourbiere & CodeTourbiere & Type & TypeCulture\\\\\n",
       "\\hline\n",
       "\t Beaulieu                & BEAU                    & calibration             & naturel                \\\\\n",
       "\t Brador Path             & BP                      & calibration             & naturel                \\\\\n",
       "\t Lichen (BS2E)           & 2                       & validation              & cultive sec            \\\\\n",
       "\t Mannys Brook            & MB                      & calibration             & naturel                \\\\\n",
       "\t Middle Bay Road         & MR                      & calibration             & naturel                \\\\\n",
       "\t North Est of Smelt Pond & NESP                    & calibration             & naturel                \\\\\n",
       "\t North of Blue Moon      & NBM                     & calibration             & naturel                \\\\\n",
       "\t South of Smelt Pond     & SSP                     & calibration             & naturel                \\\\\n",
       "\t Sphaigne (BS2F)         & BS2                     & validation              & cultive sec            \\\\\n",
       "\t Sphaigne (BS2F)         & 1                       & calibration             & naturel                \\\\\n",
       "\t West of Trout Pond      & WTP                     & calibration             & naturel                \\\\\n",
       "\\end{tabular}\n"
      ],
      "text/markdown": [
       "\n",
       "Tourbiere | CodeTourbiere | Type | TypeCulture | \n",
       "|---|---|---|---|---|---|---|---|---|---|---|\n",
       "| Beaulieu                | BEAU                    | calibration             | naturel                 | \n",
       "| Brador Path             | BP                      | calibration             | naturel                 | \n",
       "| Lichen (BS2E)           | 2                       | validation              | cultive sec             | \n",
       "| Mannys Brook            | MB                      | calibration             | naturel                 | \n",
       "| Middle Bay Road         | MR                      | calibration             | naturel                 | \n",
       "| North Est of Smelt Pond | NESP                    | calibration             | naturel                 | \n",
       "| North of Blue Moon      | NBM                     | calibration             | naturel                 | \n",
       "| South of Smelt Pond     | SSP                     | calibration             | naturel                 | \n",
       "| Sphaigne (BS2F)         | BS2                     | validation              | cultive sec             | \n",
       "| Sphaigne (BS2F)         | 1                       | calibration             | naturel                 | \n",
       "| West of Trout Pond      | WTP                     | calibration             | naturel                 | \n",
       "\n",
       "\n"
      ],
      "text/plain": [
       "   Tourbiere               CodeTourbiere Type        TypeCulture\n",
       "1  Beaulieu                BEAU          calibration naturel    \n",
       "2  Brador Path             BP            calibration naturel    \n",
       "3  Lichen (BS2E)           2             validation  cultive sec\n",
       "4  Mannys Brook            MB            calibration naturel    \n",
       "5  Middle Bay Road         MR            calibration naturel    \n",
       "6  North Est of Smelt Pond NESP          calibration naturel    \n",
       "7  North of Blue Moon      NBM           calibration naturel    \n",
       "8  South of Smelt Pond     SSP           calibration naturel    \n",
       "9  Sphaigne (BS2F)         BS2           validation  cultive sec\n",
       "10 Sphaigne (BS2F)         1             calibration naturel    \n",
       "11 West of Trout Pond      WTP           calibration naturel    "
      ]
     },
     "metadata": {},
     "output_type": "display_data"
    }
   ],
   "source": [
    "tourbieres <- read_csv2(\"data/tourbieres.csv\")\n",
    "tourbieres"
   ]
  },
  {
   "cell_type": "markdown",
   "metadata": {},
   "source": [
    "Notre information est organisée en deux tableaux, liés par la colonne `CodeTourbiere`. Comment fusionner l'information pour qu'elle puisse être utilisée dans son ensemble?  La fonction `left_join` effectue cette opération typique avec les bases de données."
   ]
  },
  {
   "cell_type": "code",
   "execution_count": 95,
   "metadata": {},
   "outputs": [
    {
     "data": {
      "text/html": [
       "<table>\n",
       "<thead><tr><th scope=col>ID</th><th scope=col>CodeTourbiere</th><th scope=col>Ordre</th><th scope=col>Site</th><th scope=col>Traitement</th><th scope=col>DemiParcelle</th><th scope=col>SousTraitement</th><th scope=col>Latitude_m</th><th scope=col>Longitude_m</th><th scope=col>Rendement_g_5m2</th><th scope=col>⋯</th><th scope=col>S_pourc</th><th scope=col>B_pourc</th><th scope=col>Cu_pourc</th><th scope=col>Zn_pourc</th><th scope=col>Mn_pourc</th><th scope=col>Fe_pourc</th><th scope=col>Al_pourc</th><th scope=col>Tourbiere</th><th scope=col>Type</th><th scope=col>TypeCulture</th></tr></thead>\n",
       "<tbody>\n",
       "\t<tr><td> 7             </td><td>BP             </td><td>H              </td><td>2              </td><td>NA             </td><td>NA             </td><td>NA             </td><td>5706307        </td><td>484054         </td><td>      NA       </td><td>⋯              </td><td>0.14370        </td><td>0.002390637    </td><td>0.0001215601   </td><td>0.005519615    </td><td>0.052750397    </td><td>0.01275287     </td><td>0.003738149    </td><td>Brador Path    </td><td>calibration    </td><td>naturel        </td></tr>\n",
       "\t<tr><td> 1             </td><td>BEAU           </td><td>A              </td><td>1              </td><td>NA             </td><td>NA             </td><td>NA             </td><td>5702454        </td><td>490627         </td><td>      NA       </td><td>⋯              </td><td>0.09765        </td><td>0.002578400    </td><td>0.0001745158   </td><td>0.004698245    </td><td>0.100601771    </td><td>0.01328136     </td><td>0.001558297    </td><td>Beaulieu       </td><td>calibration    </td><td>naturel        </td></tr>\n",
       "\t<tr><td>69             </td><td>1              </td><td>1              </td><td>2              </td><td>temoin         </td><td>right          </td><td>Cu             </td><td>5702099        </td><td>486528         </td><td>8.696253       </td><td>⋯              </td><td>0.09878        </td><td>0.003503088    </td><td>0.0000370000   </td><td>0.006705383    </td><td>0.009545062    </td><td>0.01943581     </td><td>0.003095987    </td><td>Sphaigne (BS2F)</td><td>calibration    </td><td>naturel        </td></tr>\n",
       "\t<tr><td>39             </td><td>MR             </td><td>I              </td><td>4              </td><td>NA             </td><td>NA             </td><td>NA             </td><td>5701966        </td><td>459894         </td><td>      NA       </td><td>⋯              </td><td>0.10530        </td><td>0.001819608    </td><td>0.0017420899   </td><td>0.003266947    </td><td>0.020774335    </td><td>0.01500192     </td><td>0.002116829    </td><td>Middle Bay Road</td><td>calibration    </td><td>naturel        </td></tr>\n",
       "</tbody>\n",
       "</table>\n"
      ],
      "text/latex": [
       "\\begin{tabular}{r|llllllllllllllllllllllllllllllllll}\n",
       " ID & CodeTourbiere & Ordre & Site & Traitement & DemiParcelle & SousTraitement & Latitude\\_m & Longitude\\_m & Rendement\\_g\\_5m2 & ⋯ & S\\_pourc & B\\_pourc & Cu\\_pourc & Zn\\_pourc & Mn\\_pourc & Fe\\_pourc & Al\\_pourc & Tourbiere & Type & TypeCulture\\\\\n",
       "\\hline\n",
       "\t  7              & BP              & H               & 2               & NA              & NA              & NA              & 5706307         & 484054          &       NA        & ⋯               & 0.14370         & 0.002390637     & 0.0001215601    & 0.005519615     & 0.052750397     & 0.01275287      & 0.003738149     & Brador Path     & calibration     & naturel        \\\\\n",
       "\t  1              & BEAU            & A               & 1               & NA              & NA              & NA              & 5702454         & 490627          &       NA        & ⋯               & 0.09765         & 0.002578400     & 0.0001745158    & 0.004698245     & 0.100601771     & 0.01328136      & 0.001558297     & Beaulieu        & calibration     & naturel        \\\\\n",
       "\t 69              & 1               & 1               & 2               & temoin          & right           & Cu              & 5702099         & 486528          & 8.696253        & ⋯               & 0.09878         & 0.003503088     & 0.0000370000    & 0.006705383     & 0.009545062     & 0.01943581      & 0.003095987     & Sphaigne (BS2F) & calibration     & naturel        \\\\\n",
       "\t 39              & MR              & I               & 4               & NA              & NA              & NA              & 5701966         & 459894          &       NA        & ⋯               & 0.10530         & 0.001819608     & 0.0017420899    & 0.003266947     & 0.020774335     & 0.01500192      & 0.002116829     & Middle Bay Road & calibration     & naturel        \\\\\n",
       "\\end{tabular}\n"
      ],
      "text/markdown": [
       "\n",
       "ID | CodeTourbiere | Ordre | Site | Traitement | DemiParcelle | SousTraitement | Latitude_m | Longitude_m | Rendement_g_5m2 | ⋯ | S_pourc | B_pourc | Cu_pourc | Zn_pourc | Mn_pourc | Fe_pourc | Al_pourc | Tourbiere | Type | TypeCulture | \n",
       "|---|---|---|---|\n",
       "|  7              | BP              | H               | 2               | NA              | NA              | NA              | 5706307         | 484054          |       NA        | ⋯               | 0.14370         | 0.002390637     | 0.0001215601    | 0.005519615     | 0.052750397     | 0.01275287      | 0.003738149     | Brador Path     | calibration     | naturel         | \n",
       "|  1              | BEAU            | A               | 1               | NA              | NA              | NA              | 5702454         | 490627          |       NA        | ⋯               | 0.09765         | 0.002578400     | 0.0001745158    | 0.004698245     | 0.100601771     | 0.01328136      | 0.001558297     | Beaulieu        | calibration     | naturel         | \n",
       "| 69              | 1               | 1               | 2               | temoin          | right           | Cu              | 5702099         | 486528          | 8.696253        | ⋯               | 0.09878         | 0.003503088     | 0.0000370000    | 0.006705383     | 0.009545062     | 0.01943581      | 0.003095987     | Sphaigne (BS2F) | calibration     | naturel         | \n",
       "| 39              | MR              | I               | 4               | NA              | NA              | NA              | 5701966         | 459894          |       NA        | ⋯               | 0.10530         | 0.001819608     | 0.0017420899    | 0.003266947     | 0.020774335     | 0.01500192      | 0.002116829     | Middle Bay Road | calibration     | naturel         | \n",
       "\n",
       "\n"
      ],
      "text/plain": [
       "  ID CodeTourbiere Ordre Site Traitement DemiParcelle SousTraitement Latitude_m\n",
       "1  7 BP            H     2    NA         NA           NA             5706307   \n",
       "2  1 BEAU          A     1    NA         NA           NA             5702454   \n",
       "3 69 1             1     2    temoin     right        Cu             5702099   \n",
       "4 39 MR            I     4    NA         NA           NA             5701966   \n",
       "  Longitude_m Rendement_g_5m2 ⋯ S_pourc B_pourc     Cu_pourc     Zn_pourc   \n",
       "1 484054            NA        ⋯ 0.14370 0.002390637 0.0001215601 0.005519615\n",
       "2 490627            NA        ⋯ 0.09765 0.002578400 0.0001745158 0.004698245\n",
       "3 486528      8.696253        ⋯ 0.09878 0.003503088 0.0000370000 0.006705383\n",
       "4 459894            NA        ⋯ 0.10530 0.001819608 0.0017420899 0.003266947\n",
       "  Mn_pourc    Fe_pourc   Al_pourc    Tourbiere       Type        TypeCulture\n",
       "1 0.052750397 0.01275287 0.003738149 Brador Path     calibration naturel    \n",
       "2 0.100601771 0.01328136 0.001558297 Beaulieu        calibration naturel    \n",
       "3 0.009545062 0.01943581 0.003095987 Sphaigne (BS2F) calibration naturel    \n",
       "4 0.020774335 0.01500192 0.002116829 Middle Bay Road calibration naturel    "
      ]
     },
     "metadata": {},
     "output_type": "display_data"
    }
   ],
   "source": [
    "chicoute_merge <- left_join(x = chicoute, y = tourbieres, by = \"CodeTourbiere\")\n",
    "# ou bien chicoute %>% left_join(y = tourbieres, by = \"CodeTourbiere\")\n",
    "chicoute_merge %>% sample_n(4)"
   ]
  },
  {
   "cell_type": "markdown",
   "metadata": {},
   "source": [
    "D'autres types de jointures sont possibles, et décrites dans la [documentation](https://dplyr.tidyverse.org/reference/join.html)."
   ]
  },
  {
   "cell_type": "markdown",
   "metadata": {},
   "source": [
    "### Opérations sur les tableaux\n",
    "\n",
    "Les tableaux peuvent être segmentés en éléments sur lesquels on calculera ce qui nous chante. Le rendement de chicouté étant exprimé en g par 5 m², on pourra effectué un changement d'unité pour le rendre en g/m²"
   ]
  },
  {
   "cell_type": "code",
   "execution_count": 108,
   "metadata": {},
   "outputs": [],
   "source": [
    "# chicoute$Rendement_g_5m2 / 5"
   ]
  },
  {
   "cell_type": "markdown",
   "metadata": {},
   "source": [
    "On pourrait vouloir obtenir:\n",
    "\n",
    "- la somme avec la function `sum()`\n",
    "- la moyenne avec la function `mean()` ou la médiane avec la fonction `median()`\n",
    "- l'écart-type avec la function `sd()`\n",
    "- les maximum et minimum avec les fonctions `min()` et `max()`\n",
    "- un décompte d'occurence avec la fonction `n()` ou `count()`\n",
    "\n",
    "Par exemple,"
   ]
  },
  {
   "cell_type": "code",
   "execution_count": 110,
   "metadata": {},
   "outputs": [
    {
     "data": {
      "text/html": [
       "13.328512736845"
      ],
      "text/latex": [
       "13.328512736845"
      ],
      "text/markdown": [
       "13.328512736845"
      ],
      "text/plain": [
       "[1] 13.32851"
      ]
     },
     "metadata": {},
     "output_type": "display_data"
    }
   ],
   "source": [
    "mean(chicoute$Rendement_g_5m2, na.rm = TRUE)"
   ]
  },
  {
   "cell_type": "markdown",
   "metadata": {},
   "source": [
    "En mode classique, pour effectuer des opérations sur des tableaux, on utilisera la fonction `apply()`. Cette fonction prend, comme arguments, le tableau, l'axe (opération par ligne = 1, opération par colonne = 2), puis la fonction à appliquer."
   ]
  },
  {
   "cell_type": "code",
   "execution_count": 112,
   "metadata": {},
   "outputs": [
    {
     "data": {
      "text/html": [
       "<dl class=dl-horizontal>\n",
       "\t<dt>C_pourc</dt>\n",
       "\t\t<dd>50.2791111111111</dd>\n",
       "\t<dt>N_pourc</dt>\n",
       "\t\t<dd>2.19941111111111</dd>\n",
       "\t<dt>P_pourc</dt>\n",
       "\t\t<dd>0.138895920458889</dd>\n",
       "\t<dt>K_pourc</dt>\n",
       "\t\t<dd>0.888700041898889</dd>\n",
       "\t<dt>Ca_pourc</dt>\n",
       "\t\t<dd>0.388439076572222</dd>\n",
       "\t<dt>Mg_pourc</dt>\n",
       "\t\t<dd>0.498014208118889</dd>\n",
       "\t<dt>S_pourc</dt>\n",
       "\t\t<dd>0.134717666666667</dd>\n",
       "\t<dt>B_pourc</dt>\n",
       "\t\t<dd>0.00309092186111111</dd>\n",
       "\t<dt>Cu_pourc</dt>\n",
       "\t\t<dd>0.000408989109078501</dd>\n",
       "\t<dt>Zn_pourc</dt>\n",
       "\t\t<dd>0.00666215470444444</dd>\n",
       "\t<dt>Mn_pourc</dt>\n",
       "\t\t<dd>0.0334523939122222</dd>\n",
       "\t<dt>Fe_pourc</dt>\n",
       "\t\t<dd>0.0151488485477778</dd>\n",
       "\t<dt>Al_pourc</dt>\n",
       "\t\t<dd>0.00269497937222222</dd>\n",
       "</dl>\n"
      ],
      "text/latex": [
       "\\begin{description*}\n",
       "\\item[C\\textbackslash{}\\_pourc] 50.2791111111111\n",
       "\\item[N\\textbackslash{}\\_pourc] 2.19941111111111\n",
       "\\item[P\\textbackslash{}\\_pourc] 0.138895920458889\n",
       "\\item[K\\textbackslash{}\\_pourc] 0.888700041898889\n",
       "\\item[Ca\\textbackslash{}\\_pourc] 0.388439076572222\n",
       "\\item[Mg\\textbackslash{}\\_pourc] 0.498014208118889\n",
       "\\item[S\\textbackslash{}\\_pourc] 0.134717666666667\n",
       "\\item[B\\textbackslash{}\\_pourc] 0.00309092186111111\n",
       "\\item[Cu\\textbackslash{}\\_pourc] 0.000408989109078501\n",
       "\\item[Zn\\textbackslash{}\\_pourc] 0.00666215470444444\n",
       "\\item[Mn\\textbackslash{}\\_pourc] 0.0334523939122222\n",
       "\\item[Fe\\textbackslash{}\\_pourc] 0.0151488485477778\n",
       "\\item[Al\\textbackslash{}\\_pourc] 0.00269497937222222\n",
       "\\end{description*}\n"
      ],
      "text/markdown": [
       "C_pourc\n",
       ":   50.2791111111111N_pourc\n",
       ":   2.19941111111111P_pourc\n",
       ":   0.138895920458889K_pourc\n",
       ":   0.888700041898889Ca_pourc\n",
       ":   0.388439076572222Mg_pourc\n",
       ":   0.498014208118889S_pourc\n",
       ":   0.134717666666667B_pourc\n",
       ":   0.00309092186111111Cu_pourc\n",
       ":   0.000408989109078501Zn_pourc\n",
       ":   0.00666215470444444Mn_pourc\n",
       ":   0.0334523939122222Fe_pourc\n",
       ":   0.0151488485477778Al_pourc\n",
       ":   0.00269497937222222\n",
       "\n"
      ],
      "text/plain": [
       "     C_pourc      N_pourc      P_pourc      K_pourc     Ca_pourc     Mg_pourc \n",
       "5.027911e+01 2.199411e+00 1.388959e-01 8.887000e-01 3.884391e-01 4.980142e-01 \n",
       "     S_pourc      B_pourc     Cu_pourc     Zn_pourc     Mn_pourc     Fe_pourc \n",
       "1.347177e-01 3.090922e-03 4.089891e-04 6.662155e-03 3.345239e-02 1.514885e-02 \n",
       "    Al_pourc \n",
       "2.694979e-03 "
      ]
     },
     "metadata": {},
     "output_type": "display_data"
    }
   ],
   "source": [
    "apply(chicoute %>% select(contains(\"pourc\")), 2, mean)"
   ]
  },
  {
   "cell_type": "markdown",
   "metadata": {},
   "source": [
    "Les opération peuvent aussi être effectuées par ligne, par exemple une somme (je garde seulement les 10 premiers résultats)."
   ]
  },
  {
   "cell_type": "code",
   "execution_count": 117,
   "metadata": {},
   "outputs": [
    {
     "data": {
      "text/html": [
       "<ol class=list-inline>\n",
       "\t<li>55.6429865541</li>\n",
       "\t<li>55.7676734893</li>\n",
       "\t<li>54.7885635589</li>\n",
       "\t<li>55.8445272230171</li>\n",
       "\t<li>57.8967066889</li>\n",
       "\t<li>55.5360334473</li>\n",
       "\t<li>55.6252625305</li>\n",
       "\t<li>55.1099082961</li>\n",
       "\t<li>55.0629455263</li>\n",
       "\t<li>55.1677422198</li>\n",
       "</ol>\n"
      ],
      "text/latex": [
       "\\begin{enumerate*}\n",
       "\\item 55.6429865541\n",
       "\\item 55.7676734893\n",
       "\\item 54.7885635589\n",
       "\\item 55.8445272230171\n",
       "\\item 57.8967066889\n",
       "\\item 55.5360334473\n",
       "\\item 55.6252625305\n",
       "\\item 55.1099082961\n",
       "\\item 55.0629455263\n",
       "\\item 55.1677422198\n",
       "\\end{enumerate*}\n"
      ],
      "text/markdown": [
       "1. 55.6429865541\n",
       "2. 55.7676734893\n",
       "3. 54.7885635589\n",
       "4. 55.8445272230171\n",
       "5. 57.8967066889\n",
       "6. 55.5360334473\n",
       "7. 55.6252625305\n",
       "8. 55.1099082961\n",
       "9. 55.0629455263\n",
       "10. 55.1677422198\n",
       "\n",
       "\n"
      ],
      "text/plain": [
       " [1] 55.64299 55.76767 54.78856 55.84453 57.89671 55.53603 55.62526 55.10991\n",
       " [9] 55.06295 55.16774"
      ]
     },
     "metadata": {},
     "output_type": "display_data"
    }
   ],
   "source": [
    "apply(chicoute %>% select(contains(\"pourc\")), 1, sum)[1:10]"
   ]
  },
  {
   "cell_type": "markdown",
   "metadata": {},
   "source": [
    "La fonction à appliquer peut être personnalisée, par exemple:"
   ]
  },
  {
   "cell_type": "code",
   "execution_count": 115,
   "metadata": {},
   "outputs": [
    {
     "data": {
      "text/html": [
       "<dl class=dl-horizontal>\n",
       "\t<dt>C_pourc</dt>\n",
       "\t\t<dd>50.2534291036104</dd>\n",
       "\t<dt>N_pourc</dt>\n",
       "\t\t<dd>2.1652469148721</dd>\n",
       "\t<dt>P_pourc</dt>\n",
       "\t\t<dd>0.13375452985845</dd>\n",
       "\t<dt>K_pourc</dt>\n",
       "\t\t<dd>0.846193827263981</dd>\n",
       "\t<dt>Ca_pourc</dt>\n",
       "\t\t<dd>0.37619272395891</dd>\n",
       "\t<dt>Mg_pourc</dt>\n",
       "\t\t<dd>0.491763884368771</dd>\n",
       "\t<dt>S_pourc</dt>\n",
       "\t\t<dd>0.129900753348824</dd>\n",
       "\t<dt>B_pourc</dt>\n",
       "\t\t<dd>0.00301467465598357</dd>\n",
       "\t<dt>Cu_pourc</dt>\n",
       "\t\t<dd>0</dd>\n",
       "\t<dt>Zn_pourc</dt>\n",
       "\t\t<dd>0.00640877487847237</dd>\n",
       "\t<dt>Mn_pourc</dt>\n",
       "\t\t<dd>0.0241403274252836</dd>\n",
       "\t<dt>Fe_pourc</dt>\n",
       "\t\t<dd>0.0143517452215524</dd>\n",
       "\t<dt>Al_pourc</dt>\n",
       "\t\t<dd>0.00245098173394887</dd>\n",
       "</dl>\n"
      ],
      "text/latex": [
       "\\begin{description*}\n",
       "\\item[C\\textbackslash{}\\_pourc] 50.2534291036104\n",
       "\\item[N\\textbackslash{}\\_pourc] 2.1652469148721\n",
       "\\item[P\\textbackslash{}\\_pourc] 0.13375452985845\n",
       "\\item[K\\textbackslash{}\\_pourc] 0.846193827263981\n",
       "\\item[Ca\\textbackslash{}\\_pourc] 0.37619272395891\n",
       "\\item[Mg\\textbackslash{}\\_pourc] 0.491763884368771\n",
       "\\item[S\\textbackslash{}\\_pourc] 0.129900753348824\n",
       "\\item[B\\textbackslash{}\\_pourc] 0.00301467465598357\n",
       "\\item[Cu\\textbackslash{}\\_pourc] 0\n",
       "\\item[Zn\\textbackslash{}\\_pourc] 0.00640877487847237\n",
       "\\item[Mn\\textbackslash{}\\_pourc] 0.0241403274252836\n",
       "\\item[Fe\\textbackslash{}\\_pourc] 0.0143517452215524\n",
       "\\item[Al\\textbackslash{}\\_pourc] 0.00245098173394887\n",
       "\\end{description*}\n"
      ],
      "text/markdown": [
       "C_pourc\n",
       ":   50.2534291036104N_pourc\n",
       ":   2.1652469148721P_pourc\n",
       ":   0.13375452985845K_pourc\n",
       ":   0.846193827263981Ca_pourc\n",
       ":   0.37619272395891Mg_pourc\n",
       ":   0.491763884368771S_pourc\n",
       ":   0.129900753348824B_pourc\n",
       ":   0.00301467465598357Cu_pourc\n",
       ":   0Zn_pourc\n",
       ":   0.00640877487847237Mn_pourc\n",
       ":   0.0241403274252836Fe_pourc\n",
       ":   0.0143517452215524Al_pourc\n",
       ":   0.00245098173394887\n",
       "\n"
      ],
      "text/plain": [
       "     C_pourc      N_pourc      P_pourc      K_pourc     Ca_pourc     Mg_pourc \n",
       "50.253429104  2.165246915  0.133754530  0.846193827  0.376192724  0.491763884 \n",
       "     S_pourc      B_pourc     Cu_pourc     Zn_pourc     Mn_pourc     Fe_pourc \n",
       " 0.129900753  0.003014675  0.000000000  0.006408775  0.024140327  0.014351745 \n",
       "    Al_pourc \n",
       " 0.002450982 "
      ]
     },
     "metadata": {},
     "output_type": "display_data"
    }
   ],
   "source": [
    "apply(chicoute %>% select(contains(\"pourc\")), 2,\n",
    "      function(x) (prod(x))^(1/length(x)))"
   ]
  },
  {
   "cell_type": "markdown",
   "metadata": {},
   "source": [
    "Vous reconnaissez cette fonction? C'était la moyenne géométrique (la fonction `prod()` étant le produit d'un vecteur)."
   ]
  },
  {
   "cell_type": "markdown",
   "metadata": {},
   "source": [
    "En mode tidyverse, on aura besoin principalement des fonction suivantes:\n",
    "\n",
    "#### `group_by()` pour effectuer des opérations par groupe\n",
    "\n",
    "L'oprération `group_by()` sépare le tableau en plusieurs petits tableaux, en attendant de les recombiner. C'est un peu l'équivalent des facettes en ggplot2...\n",
    "\n",
    "#### `summarise()` pour réduire plusieurs valeurs en une seule\n",
    "\n",
    "`summarise()` est l'équivalent de `apply()`: il applique un calcul sur chaque petit tableau segmenté s'il y a lieu. Il en existe quelques variantes.\n",
    "\n",
    "- `summarise_all()` applique la fonction à toutes les colonnes\n",
    "- `summarise_at()` applique la fonction aux colonnes spécifiées\n",
    "- `summarise_if()` applique la fonction aux colonnes qui resortent comme `TRUE` selon une opération booléenne\n",
    "\n",
    "#### `mutate()` pour ajotuer une nouvelle colonne\n",
    "\n",
    "Si l'on désire ajouter une colonne à un tableau, par exemple le sommaire calculé avec `summarise()`. À l'inverse, la fonction `transmute()` retournera seulement le résultat, sans le tableau à partir duquel il a été calculé. De même que `summarise()`, `mutate()` et `transmute()` possèdent leurs équivalents `_all()`, `_at()` et `_if()`.\n",
    "\n",
    "\n",
    "#### `arrange()` pour réordonner le tableau\n",
    "On a déjà couvert `arrange()` dans le chapitre 3. Rappelons que cette fonction n'est pas une opération sur un tableau, mais plutôt un changement d'affichage en changeant l'ordre d'apparition des données."
   ]
  },
  {
   "cell_type": "markdown",
   "metadata": {},
   "source": [
    "Ces opérations sont décrites dans l'aide-mémoire [*Data Transformation Cheat Sheet*](https://github.com/rstudio/cheatsheets/raw/master/data-transformation.pdf).\n",
    "\n",
    "[![](https://www.rstudio.com/wp-content/uploads/2015/01/data-transformation-cheatsheet-600x464.png)](https://github.com/rstudio/cheatsheets/raw/master/data-transformation.pdf)\n",
    "Aide-mémoire de dplyr, source: https://www.rstudio.com/resources/cheatsheets/"
   ]
  },
  {
   "cell_type": "markdown",
   "metadata": {},
   "source": [
    "Revenons à notre tableau des especes meancées."
   ]
  },
  {
   "cell_type": "code",
   "execution_count": 121,
   "metadata": {},
   "outputs": [
    {
     "name": "stderr",
     "output_type": "stream",
     "text": [
      "Parsed with column specification:\n",
      "cols(\n",
      "  IUCN = col_character(),\n",
      "  `IUCN Category` = col_character(),\n",
      "  SPEC = col_character(),\n",
      "  Species = col_character(),\n",
      "  COU = col_character(),\n",
      "  Country = col_character(),\n",
      "  `Unit Code` = col_character(),\n",
      "  Unit = col_character(),\n",
      "  `PowerCode Code` = col_integer(),\n",
      "  PowerCode = col_character(),\n",
      "  `Reference Period Code` = col_character(),\n",
      "  `Reference Period` = col_character(),\n",
      "  Value = col_integer(),\n",
      "  `Flag Codes` = col_character(),\n",
      "  Flags = col_character()\n",
      ")\n",
      "Warning message in rbind(names(probs), probs_f):\n",
      "“number of columns of result is not a multiple of vector length (arg 1)”Warning message:\n",
      "“491 parsing failures.\n",
      "row # A tibble: 5 x 5 col     row col   expected               actual file                                expected   <int> <chr> <chr>                  <chr>  <chr>                               actual 1  1128 Value no trailing characters .933   'data/WILD_LIFE_17062017210614338.… file 2  1129 Value no trailing characters .131   'data/WILD_LIFE_17062017210614338.… row 3  1130 Value no trailing characters .054   'data/WILD_LIFE_17062017210614338.… col 4  1131 Value no trailing characters .134   'data/WILD_LIFE_17062017210614338.… expected 5  1132 Value no trailing characters .58    'data/WILD_LIFE_17062017210614338.…\n",
      "... ................. ... ............................................................................... ........ ............................................................................... ...... ............................................................................... .... ............................................................................... ... ............................................................................... ... ............................................................................... ........ ...............................................................................\n",
      "See problems(...) for more details.\n",
      "”"
     ]
    }
   ],
   "source": [
    "especes_menacees <- read_csv('data/WILD_LIFE_17062017210614338.csv')"
   ]
  },
  {
   "cell_type": "markdown",
   "metadata": {},
   "source": [
    "Nous avions exécuté le pipeline suivant."
   ]
  },
  {
   "cell_type": "code",
   "execution_count": 127,
   "metadata": {},
   "outputs": [
    {
     "name": "stderr",
     "output_type": "stream",
     "text": [
      "Selecting by n_critical_species\n"
     ]
    },
    {
     "data": {
      "text/html": [
       "<table>\n",
       "<thead><tr><th scope=col>Country</th><th scope=col>n_critical_species</th></tr></thead>\n",
       "<tbody>\n",
       "\t<tr><td>Czech Republic </td><td>2159           </td></tr>\n",
       "\t<tr><td>United States  </td><td>1409           </td></tr>\n",
       "\t<tr><td>Germany        </td><td> 915           </td></tr>\n",
       "\t<tr><td>Japan          </td><td> 628           </td></tr>\n",
       "\t<tr><td>Austria        </td><td> 618           </td></tr>\n",
       "\t<tr><td>Slovak Republic</td><td> 594           </td></tr>\n",
       "\t<tr><td>Poland         </td><td> 485           </td></tr>\n",
       "\t<tr><td>Switzerland    </td><td> 483           </td></tr>\n",
       "\t<tr><td>Brazil         </td><td> 453           </td></tr>\n",
       "\t<tr><td>Belgium        </td><td> 424           </td></tr>\n",
       "</tbody>\n",
       "</table>\n"
      ],
      "text/latex": [
       "\\begin{tabular}{r|ll}\n",
       " Country & n\\_critical\\_species\\\\\n",
       "\\hline\n",
       "\t Czech Republic  & 2159           \\\\\n",
       "\t United States   & 1409           \\\\\n",
       "\t Germany         &  915           \\\\\n",
       "\t Japan           &  628           \\\\\n",
       "\t Austria         &  618           \\\\\n",
       "\t Slovak Republic &  594           \\\\\n",
       "\t Poland          &  485           \\\\\n",
       "\t Switzerland     &  483           \\\\\n",
       "\t Brazil          &  453           \\\\\n",
       "\t Belgium         &  424           \\\\\n",
       "\\end{tabular}\n"
      ],
      "text/markdown": [
       "\n",
       "Country | n_critical_species | \n",
       "|---|---|---|---|---|---|---|---|---|---|\n",
       "| Czech Republic  | 2159            | \n",
       "| United States   | 1409            | \n",
       "| Germany         |  915            | \n",
       "| Japan           |  628            | \n",
       "| Austria         |  618            | \n",
       "| Slovak Republic |  594            | \n",
       "| Poland          |  485            | \n",
       "| Switzerland     |  483            | \n",
       "| Brazil          |  453            | \n",
       "| Belgium         |  424            | \n",
       "\n",
       "\n"
      ],
      "text/plain": [
       "   Country         n_critical_species\n",
       "1  Czech Republic  2159              \n",
       "2  United States   1409              \n",
       "3  Germany          915              \n",
       "4  Japan            628              \n",
       "5  Austria          618              \n",
       "6  Slovak Republic  594              \n",
       "7  Poland           485              \n",
       "8  Switzerland      483              \n",
       "9  Brazil           453              \n",
       "10 Belgium          424              "
      ]
     },
     "metadata": {},
     "output_type": "display_data"
    }
   ],
   "source": [
    "especes_menacees %>%\n",
    "    filter(IUCN == 'CRITICAL') %>%\n",
    "    select(Country, Value) %>%\n",
    "    group_by(Country)  %>%\n",
    "    summarise(n_critical_species = sum(Value)) %>%\n",
    "    arrange(desc(n_critical_species)) %>%\n",
    "    top_n(10)"
   ]
  },
  {
   "cell_type": "markdown",
   "metadata": {},
   "source": [
    "Ce pipeline consistait à:\n",
    "\n",
    "```\n",
    "prendre le tableau especes_menacees, puis\n",
    "    filtrer pour n'obtenir que les espèces critiques, puis\n",
    "    sélectionner les colonnes des pays et des valeurs (nombre d'espèces), puis\n",
    "    segmenter le tableaux en plusieurs tableaux selon le pays, puis\n",
    "    appliquer la fonction sum pour chacun de ces petits tableaux (puis de recombiner ces sommaires), puis\n",
    "    trier les pays en nombre décroissant de décompte d'espèces, puis\n",
    "    afficher le top 10\n",
    "```"
   ]
  },
  {
   "cell_type": "markdown",
   "metadata": {},
   "source": [
    "Pour revenir à notre tableau `chicoute`, imaginez que vous aviez une station météo (station_A) située aux coordonnées (490640, 5702453) et que vous désiriez calculer la distance entre l'observation et la station. Prenez du temps pour réfléchir à la manière dont vous procéderez... "
   ]
  },
  {
   "cell_type": "markdown",
   "metadata": {},
   "source": [
    "On pourra créer une fonction qui mesure la distance entre un point x, y et les coordonnées de la station A..."
   ]
  },
  {
   "cell_type": "code",
   "execution_count": 159,
   "metadata": {},
   "outputs": [],
   "source": [
    "dist_station_A <- function (x, y) {\n",
    "    return(sqrt((x - 490640)^2 + (y - 5702453)^2))\n",
    "}"
   ]
  },
  {
   "cell_type": "markdown",
   "metadata": {},
   "source": [
    "... puis ajouter une colonne avec mutate grâce à une fonction prenant les arguments x et y spécifiés."
   ]
  },
  {
   "cell_type": "code",
   "execution_count": 160,
   "metadata": {},
   "outputs": [
    {
     "name": "stderr",
     "output_type": "stream",
     "text": [
      "Selecting by dist\n"
     ]
    },
    {
     "data": {
      "text/html": [
       "<table>\n",
       "<thead><tr><th scope=col>ID</th><th scope=col>CodeTourbiere</th><th scope=col>Longitude_m</th><th scope=col>Latitude_m</th><th scope=col>dist</th></tr></thead>\n",
       "<tbody>\n",
       "\t<tr><td> 7       </td><td>BP       </td><td>484054   </td><td>5706307  </td><td> 7630.774</td></tr>\n",
       "\t<tr><td>36       </td><td>MR       </td><td>459875   </td><td>5701988  </td><td>30768.514</td></tr>\n",
       "\t<tr><td>37       </td><td>MR       </td><td>459873   </td><td>5701987  </td><td>30770.529</td></tr>\n",
       "\t<tr><td>38       </td><td>MR       </td><td>459880   </td><td>5701971  </td><td>30763.776</td></tr>\n",
       "\t<tr><td>39       </td><td>MR       </td><td>459894   </td><td>5701966  </td><td>30749.857</td></tr>\n",
       "\t<tr><td>40       </td><td>MR       </td><td>459915   </td><td>5701994  </td><td>30728.428</td></tr>\n",
       "\t<tr><td>46       </td><td>NBM      </td><td>485975   </td><td>5695688  </td><td> 8217.509</td></tr>\n",
       "\t<tr><td>48       </td><td>NBM      </td><td>485912   </td><td>5696607  </td><td> 7518.624</td></tr>\n",
       "\t<tr><td>49       </td><td>NBM      </td><td>485903   </td><td>5696611  </td><td> 7521.179</td></tr>\n",
       "\t<tr><td>50       </td><td>NBM      </td><td>485884   </td><td>5696612  </td><td> 7532.385</td></tr>\n",
       "</tbody>\n",
       "</table>\n"
      ],
      "text/latex": [
       "\\begin{tabular}{r|lllll}\n",
       " ID & CodeTourbiere & Longitude\\_m & Latitude\\_m & dist\\\\\n",
       "\\hline\n",
       "\t  7        & BP        & 484054    & 5706307   &  7630.774\\\\\n",
       "\t 36        & MR        & 459875    & 5701988   & 30768.514\\\\\n",
       "\t 37        & MR        & 459873    & 5701987   & 30770.529\\\\\n",
       "\t 38        & MR        & 459880    & 5701971   & 30763.776\\\\\n",
       "\t 39        & MR        & 459894    & 5701966   & 30749.857\\\\\n",
       "\t 40        & MR        & 459915    & 5701994   & 30728.428\\\\\n",
       "\t 46        & NBM       & 485975    & 5695688   &  8217.509\\\\\n",
       "\t 48        & NBM       & 485912    & 5696607   &  7518.624\\\\\n",
       "\t 49        & NBM       & 485903    & 5696611   &  7521.179\\\\\n",
       "\t 50        & NBM       & 485884    & 5696612   &  7532.385\\\\\n",
       "\\end{tabular}\n"
      ],
      "text/markdown": [
       "\n",
       "ID | CodeTourbiere | Longitude_m | Latitude_m | dist | \n",
       "|---|---|---|---|---|---|---|---|---|---|\n",
       "|  7        | BP        | 484054    | 5706307   |  7630.774 | \n",
       "| 36        | MR        | 459875    | 5701988   | 30768.514 | \n",
       "| 37        | MR        | 459873    | 5701987   | 30770.529 | \n",
       "| 38        | MR        | 459880    | 5701971   | 30763.776 | \n",
       "| 39        | MR        | 459894    | 5701966   | 30749.857 | \n",
       "| 40        | MR        | 459915    | 5701994   | 30728.428 | \n",
       "| 46        | NBM       | 485975    | 5695688   |  8217.509 | \n",
       "| 48        | NBM       | 485912    | 5696607   |  7518.624 | \n",
       "| 49        | NBM       | 485903    | 5696611   |  7521.179 | \n",
       "| 50        | NBM       | 485884    | 5696612   |  7532.385 | \n",
       "\n",
       "\n"
      ],
      "text/plain": [
       "   ID CodeTourbiere Longitude_m Latitude_m dist     \n",
       "1   7 BP            484054      5706307     7630.774\n",
       "2  36 MR            459875      5701988    30768.514\n",
       "3  37 MR            459873      5701987    30770.529\n",
       "4  38 MR            459880      5701971    30763.776\n",
       "5  39 MR            459894      5701966    30749.857\n",
       "6  40 MR            459915      5701994    30728.428\n",
       "7  46 NBM           485975      5695688     8217.509\n",
       "8  48 NBM           485912      5696607     7518.624\n",
       "9  49 NBM           485903      5696611     7521.179\n",
       "10 50 NBM           485884      5696612     7532.385"
      ]
     },
     "metadata": {},
     "output_type": "display_data"
    }
   ],
   "source": [
    "chicoute %>%\n",
    "    mutate(dist = dist_station_A(x = Longitude_m, y= Latitude_m)) %>%\n",
    "    select(ID, CodeTourbiere, Longitude_m, Latitude_m, dist) %>%\n",
    "    top_n(10)"
   ]
  },
  {
   "cell_type": "markdown",
   "metadata": {},
   "source": [
    "Nous pourrions procéder de la même manière pour fusionner des données climatiques. Le tableau `chicoute` ne possède pas d'indicateurs climatiques, mais il est possible de les soutirer de stations météos placées près des site. Ces données ne sont pas disponibles pour le tableau de la chicouté, alors j'utiliserai des données fictives pour l'exemple.\n",
    "\n",
    "Voici ce qui pourrait être fait.\n",
    "\n",
    "1. Créer un tableau des stations météo ainsi que des indices météo associés à ces stations.\n",
    "2. Lier chaque site à une station (à la main où selon la plus petite distance entre le site et la station).\n",
    "3. Fusionner les inices climatiques aux sites, puis les sites aux mesures de rendement.\n",
    "\n",
    "Ces opérations demandent habituellement du tâtonnement. Il serait surprenant que même une personne expérimentée soit en mesure de compiler ces opérations sans obtenir de message d'erreur, et retravailler jusqu'à obtenir le résultat souhaité. L'objectif de cette section est de vous présenté un flux de travail que vous pourriez être amenés à effectuer et de fournir quelques éléments nouveau pour mener à bien une opération. Il peut être frustant de ne pas saisir toutes les opérations: passez à travers cette section sans jugement. Si vous devez vous frotter à problème semblable, vous saurez que vous trouverez dans ce manuel une recette intéressante."
   ]
  },
  {
   "cell_type": "markdown",
   "metadata": {},
   "source": [
    "D'abord créer un tableau des stations."
   ]
  },
  {
   "cell_type": "code",
   "execution_count": 176,
   "metadata": {},
   "outputs": [
    {
     "data": {
      "text/html": [
       "<table>\n",
       "<thead><tr><th scope=col>Station</th><th scope=col>Longitude_m</th><th scope=col>Latitude_m</th><th scope=col>t_moy_C</th><th scope=col>prec_tot_mm</th></tr></thead>\n",
       "<tbody>\n",
       "\t<tr><td>A      </td><td>490640 </td><td>5702453</td><td>13.8   </td><td>687    </td></tr>\n",
       "\t<tr><td>B      </td><td>484870 </td><td>5701870</td><td>18.2   </td><td>714    </td></tr>\n",
       "\t<tr><td>C      </td><td>485929 </td><td>5696421</td><td>16.3   </td><td>732    </td></tr>\n",
       "</tbody>\n",
       "</table>\n"
      ],
      "text/latex": [
       "\\begin{tabular}{r|lllll}\n",
       " Station & Longitude\\_m & Latitude\\_m & t\\_moy\\_C & prec\\_tot\\_mm\\\\\n",
       "\\hline\n",
       "\t A       & 490640  & 5702453 & 13.8    & 687    \\\\\n",
       "\t B       & 484870  & 5701870 & 18.2    & 714    \\\\\n",
       "\t C       & 485929  & 5696421 & 16.3    & 732    \\\\\n",
       "\\end{tabular}\n"
      ],
      "text/markdown": [
       "\n",
       "Station | Longitude_m | Latitude_m | t_moy_C | prec_tot_mm | \n",
       "|---|---|---|\n",
       "| A       | 490640  | 5702453 | 13.8    | 687     | \n",
       "| B       | 484870  | 5701870 | 18.2    | 714     | \n",
       "| C       | 485929  | 5696421 | 16.3    | 732     | \n",
       "\n",
       "\n"
      ],
      "text/plain": [
       "  Station Longitude_m Latitude_m t_moy_C prec_tot_mm\n",
       "1 A       490640      5702453    13.8    687        \n",
       "2 B       484870      5701870    18.2    714        \n",
       "3 C       485929      5696421    16.3    732        "
      ]
     },
     "metadata": {},
     "output_type": "display_data"
    }
   ],
   "source": [
    "stations <- data.frame(Station = c('A', 'B', 'C'),\n",
    "                       Longitude_m = c(490640, 484870, 485929),\n",
    "                       Latitude_m = c(5702453, 5701870, 5696421), \n",
    "                       t_moy_C = c(13.8, 18.2, 16.30),\n",
    "                       prec_tot_mm = c(687, 714, 732))\n",
    "stations"
   ]
  },
  {
   "cell_type": "markdown",
   "metadata": {},
   "source": [
    "La fonction suivante calcule la distance entre des coordonnées x et y et chaque station d'un tableau de stations, puis retourne le nom de la station dont la distance est la moindre."
   ]
  },
  {
   "cell_type": "code",
   "execution_count": 177,
   "metadata": {},
   "outputs": [],
   "source": [
    "dist_station <- function (x, y, stations_df) {\n",
    "    # stations est le tableau des stations à trois colonnes\n",
    "    # 1iere: nom de la station\n",
    "    # 2ieme: longiture\n",
    "    # 3ieme: latitude\n",
    "    distance <- c()\n",
    "    for (i in 1:nrow(stations)) {\n",
    "        distance[i] <- sqrt((x - stations[i, 2])^2 + (y - stations[i, 3])^2)\n",
    "    }\n",
    "    nom_station <- as.character(stations$Station[which.min(distance)])\n",
    "    return(nom_station)\n",
    "}"
   ]
  },
  {
   "cell_type": "markdown",
   "metadata": {},
   "source": [
    "Testons la fonction avec des coordonnées."
   ]
  },
  {
   "cell_type": "code",
   "execution_count": 178,
   "metadata": {},
   "outputs": [
    {
     "data": {
      "text/html": [
       "'B'"
      ],
      "text/latex": [
       "'B'"
      ],
      "text/markdown": [
       "'B'"
      ],
      "text/plain": [
       "[1] \"B\""
      ]
     },
     "metadata": {},
     "output_type": "display_data"
    }
   ],
   "source": [
    "dist_station(x = 459875, y = 5701988, stations_df = stations)"
   ]
  },
  {
   "cell_type": "markdown",
   "metadata": {},
   "source": [
    "Nous appliquons cette fonction à toutes les lignes du tableau, puis en retournons un échantillon."
   ]
  },
  {
   "cell_type": "code",
   "execution_count": 180,
   "metadata": {},
   "outputs": [
    {
     "data": {
      "text/html": [
       "<table>\n",
       "<thead><tr><th scope=col>ID</th><th scope=col>CodeTourbiere</th><th scope=col>Longitude_m</th><th scope=col>Latitude_m</th><th scope=col>Station</th></tr></thead>\n",
       "<tbody>\n",
       "\t<tr><td>84     </td><td>1      </td><td>486514 </td><td>5702160</td><td>B      </td></tr>\n",
       "\t<tr><td>86     </td><td>WTP    </td><td>487075 </td><td>5700788</td><td>B      </td></tr>\n",
       "\t<tr><td>78     </td><td>1      </td><td>486499 </td><td>5702076</td><td>B      </td></tr>\n",
       "\t<tr><td>70     </td><td>1      </td><td>486488 </td><td>5702120</td><td>B      </td></tr>\n",
       "\t<tr><td>50     </td><td>NBM    </td><td>485884 </td><td>5696612</td><td>C      </td></tr>\n",
       "\t<tr><td>33     </td><td>MB     </td><td>491947 </td><td>5699330</td><td>A      </td></tr>\n",
       "\t<tr><td>18     </td><td>2      </td><td>486501 </td><td>5702627</td><td>B      </td></tr>\n",
       "\t<tr><td>16     </td><td>2      </td><td>486498 </td><td>5702643</td><td>B      </td></tr>\n",
       "\t<tr><td> 6     </td><td>BP     </td><td>484865 </td><td>5706394</td><td>B      </td></tr>\n",
       "\t<tr><td>39     </td><td>MR     </td><td>459894 </td><td>5701966</td><td>B      </td></tr>\n",
       "</tbody>\n",
       "</table>\n"
      ],
      "text/latex": [
       "\\begin{tabular}{r|lllll}\n",
       " ID & CodeTourbiere & Longitude\\_m & Latitude\\_m & Station\\\\\n",
       "\\hline\n",
       "\t 84      & 1       & 486514  & 5702160 & B      \\\\\n",
       "\t 86      & WTP     & 487075  & 5700788 & B      \\\\\n",
       "\t 78      & 1       & 486499  & 5702076 & B      \\\\\n",
       "\t 70      & 1       & 486488  & 5702120 & B      \\\\\n",
       "\t 50      & NBM     & 485884  & 5696612 & C      \\\\\n",
       "\t 33      & MB      & 491947  & 5699330 & A      \\\\\n",
       "\t 18      & 2       & 486501  & 5702627 & B      \\\\\n",
       "\t 16      & 2       & 486498  & 5702643 & B      \\\\\n",
       "\t  6      & BP      & 484865  & 5706394 & B      \\\\\n",
       "\t 39      & MR      & 459894  & 5701966 & B      \\\\\n",
       "\\end{tabular}\n"
      ],
      "text/markdown": [
       "\n",
       "ID | CodeTourbiere | Longitude_m | Latitude_m | Station | \n",
       "|---|---|---|---|---|---|---|---|---|---|\n",
       "| 84      | 1       | 486514  | 5702160 | B       | \n",
       "| 86      | WTP     | 487075  | 5700788 | B       | \n",
       "| 78      | 1       | 486499  | 5702076 | B       | \n",
       "| 70      | 1       | 486488  | 5702120 | B       | \n",
       "| 50      | NBM     | 485884  | 5696612 | C       | \n",
       "| 33      | MB      | 491947  | 5699330 | A       | \n",
       "| 18      | 2       | 486501  | 5702627 | B       | \n",
       "| 16      | 2       | 486498  | 5702643 | B       | \n",
       "|  6      | BP      | 484865  | 5706394 | B       | \n",
       "| 39      | MR      | 459894  | 5701966 | B       | \n",
       "\n",
       "\n"
      ],
      "text/plain": [
       "   ID CodeTourbiere Longitude_m Latitude_m Station\n",
       "1  84 1             486514      5702160    B      \n",
       "2  86 WTP           487075      5700788    B      \n",
       "3  78 1             486499      5702076    B      \n",
       "4  70 1             486488      5702120    B      \n",
       "5  50 NBM           485884      5696612    C      \n",
       "6  33 MB            491947      5699330    A      \n",
       "7  18 2             486501      5702627    B      \n",
       "8  16 2             486498      5702643    B      \n",
       "9   6 BP            484865      5706394    B      \n",
       "10 39 MR            459894      5701966    B      "
      ]
     },
     "metadata": {},
     "output_type": "display_data"
    }
   ],
   "source": [
    "chicoute %>%\n",
    "    rowwise() %>%\n",
    "    mutate(Station = dist_station(x = Longitude_m, y = Latitude_m, stations_df = stations)) %>%\n",
    "    select(ID, CodeTourbiere, Longitude_m, Latitude_m, Station) %>%\n",
    "    sample_n(10)"
   ]
  },
  {
   "cell_type": "markdown",
   "metadata": {},
   "source": [
    "Cela semble fonctionner. On peut y ajouter un `left_join()` pour joindre les données météo au tableau principal."
   ]
  },
  {
   "cell_type": "code",
   "execution_count": 182,
   "metadata": {},
   "outputs": [
    {
     "name": "stderr",
     "output_type": "stream",
     "text": [
      "Warning message:\n",
      "“Column `Station` joining character vector and factor, coercing into character vector”"
     ]
    },
    {
     "data": {
      "text/html": [
       "<table>\n",
       "<thead><tr><th scope=col>ID</th><th scope=col>CodeTourbiere</th><th scope=col>Ordre</th><th scope=col>Site</th><th scope=col>Traitement</th><th scope=col>DemiParcelle</th><th scope=col>SousTraitement</th><th scope=col>Latitude_m.x</th><th scope=col>Longitude_m.x</th><th scope=col>Rendement_g_5m2</th><th scope=col>⋯</th><th scope=col>Cu_pourc</th><th scope=col>Zn_pourc</th><th scope=col>Mn_pourc</th><th scope=col>Fe_pourc</th><th scope=col>Al_pourc</th><th scope=col>Station</th><th scope=col>Longitude_m.y</th><th scope=col>Latitude_m.y</th><th scope=col>t_moy_C</th><th scope=col>prec_tot_mm</th></tr></thead>\n",
       "<tbody>\n",
       "\t<tr><td>10          </td><td>BP          </td><td>H           </td><td> 5          </td><td>NA          </td><td>NA          </td><td>NA          </td><td>5706364     </td><td>484780      </td><td>      NA    </td><td>⋯           </td><td>0.0000370000</td><td>0.006184506 </td><td>0.035728063 </td><td>0.011836155 </td><td>0.003466040 </td><td>B           </td><td>484870      </td><td>5701870     </td><td>18.2        </td><td>714         </td></tr>\n",
       "\t<tr><td>81          </td><td>1           </td><td>4           </td><td> 8          </td><td>temoin      </td><td>right       </td><td>Cu          </td><td>5702081     </td><td>486504      </td><td>23.05768    </td><td>⋯           </td><td>0.0011217835</td><td>0.007330449 </td><td>0.024631368 </td><td>0.021298317 </td><td>0.001954111 </td><td>B           </td><td>484870      </td><td>5701870     </td><td>18.2        </td><td>714         </td></tr>\n",
       "\t<tr><td> 9          </td><td>BP          </td><td>H           </td><td> 4          </td><td>NA          </td><td>NA          </td><td>NA          </td><td>5706324     </td><td>484761      </td><td>      NA    </td><td>⋯           </td><td>0.0000370000</td><td>0.006812606 </td><td>0.028301634 </td><td>0.012288495 </td><td>0.003589784 </td><td>B           </td><td>484870      </td><td>5701870     </td><td>18.2        </td><td>714         </td></tr>\n",
       "\t<tr><td>40          </td><td>MR          </td><td>I           </td><td> 5          </td><td>NA          </td><td>NA          </td><td>NA          </td><td>5701994     </td><td>459915      </td><td>      NA    </td><td>⋯           </td><td>0.0042487033</td><td>0.005352355 </td><td>0.008643213 </td><td>0.027685856 </td><td>0.004586002 </td><td>B           </td><td>484870      </td><td>5701870     </td><td>18.2        </td><td>714         </td></tr>\n",
       "\t<tr><td>35          </td><td>MB          </td><td>C           </td><td> 5          </td><td>NA          </td><td>NA          </td><td>NA          </td><td>5699362     </td><td>491949      </td><td>      NA    </td><td>⋯           </td><td>0.0000370000</td><td>0.006787259 </td><td>0.049084551 </td><td>0.014125567 </td><td>0.001512923 </td><td>A           </td><td>490640      </td><td>5702453     </td><td>13.8        </td><td>687         </td></tr>\n",
       "\t<tr><td>24          </td><td>2           </td><td>9           </td><td>17          </td><td>fertilisant </td><td>right       </td><td>Cu          </td><td>5702544     </td><td>486327      </td><td> 0.00000    </td><td>⋯           </td><td>0.0002930000</td><td>0.008305379 </td><td>0.018796592 </td><td>0.009190759 </td><td>0.002604718 </td><td>B           </td><td>484870      </td><td>5701870     </td><td>18.2        </td><td>714         </td></tr>\n",
       "\t<tr><td>42          </td><td>NESP        </td><td>J           </td><td> 2          </td><td>NA          </td><td>NA          </td><td>NA          </td><td>5701876     </td><td>484870      </td><td>      NA    </td><td>⋯           </td><td>0.0007051523</td><td>0.005626151 </td><td>0.035929997 </td><td>0.017286749 </td><td>0.003181160 </td><td>B           </td><td>484870      </td><td>5701870     </td><td>18.2        </td><td>714         </td></tr>\n",
       "\t<tr><td>68          </td><td>1           </td><td>1           </td><td> 2          </td><td>temoin      </td><td>left        </td><td>Control     </td><td>5702099     </td><td>486528      </td><td> 6.41800    </td><td>⋯           </td><td>0.0000370000</td><td>0.005535679 </td><td>0.008103199 </td><td>0.010448109 </td><td>0.001573198 </td><td>B           </td><td>484870      </td><td>5701870     </td><td>18.2        </td><td>714         </td></tr>\n",
       "\t<tr><td>21          </td><td>2           </td><td>8           </td><td>16          </td><td>temoin      </td><td>left        </td><td>Control     </td><td>5702537     </td><td>486524      </td><td> 0.00000    </td><td>⋯           </td><td>0.0006820000</td><td>0.007338812 </td><td>0.014087521 </td><td>0.009922731 </td><td>0.002539868 </td><td>B           </td><td>484870      </td><td>5701870     </td><td>18.2        </td><td>714         </td></tr>\n",
       "\t<tr><td>13          </td><td>2           </td><td>6           </td><td>12          </td><td>temoin      </td><td>left        </td><td>Control     </td><td>5702562     </td><td>486538      </td><td> 0.00000    </td><td>⋯           </td><td>0.0009860000</td><td>0.008256900 </td><td>0.013330579 </td><td>0.011007260 </td><td>0.002797288 </td><td>B           </td><td>484870      </td><td>5701870     </td><td>18.2        </td><td>714         </td></tr>\n",
       "</tbody>\n",
       "</table>\n"
      ],
      "text/latex": [
       "\\begin{tabular}{r|llllllllllllllllllllllllllllllllllll}\n",
       " ID & CodeTourbiere & Ordre & Site & Traitement & DemiParcelle & SousTraitement & Latitude\\_m.x & Longitude\\_m.x & Rendement\\_g\\_5m2 & ⋯ & Cu\\_pourc & Zn\\_pourc & Mn\\_pourc & Fe\\_pourc & Al\\_pourc & Station & Longitude\\_m.y & Latitude\\_m.y & t\\_moy\\_C & prec\\_tot\\_mm\\\\\n",
       "\\hline\n",
       "\t 10           & BP           & H            &  5           & NA           & NA           & NA           & 5706364      & 484780       &       NA     & ⋯            & 0.0000370000 & 0.006184506  & 0.035728063  & 0.011836155  & 0.003466040  & B            & 484870       & 5701870      & 18.2         & 714         \\\\\n",
       "\t 81           & 1            & 4            &  8           & temoin       & right        & Cu           & 5702081      & 486504       & 23.05768     & ⋯            & 0.0011217835 & 0.007330449  & 0.024631368  & 0.021298317  & 0.001954111  & B            & 484870       & 5701870      & 18.2         & 714         \\\\\n",
       "\t  9           & BP           & H            &  4           & NA           & NA           & NA           & 5706324      & 484761       &       NA     & ⋯            & 0.0000370000 & 0.006812606  & 0.028301634  & 0.012288495  & 0.003589784  & B            & 484870       & 5701870      & 18.2         & 714         \\\\\n",
       "\t 40           & MR           & I            &  5           & NA           & NA           & NA           & 5701994      & 459915       &       NA     & ⋯            & 0.0042487033 & 0.005352355  & 0.008643213  & 0.027685856  & 0.004586002  & B            & 484870       & 5701870      & 18.2         & 714         \\\\\n",
       "\t 35           & MB           & C            &  5           & NA           & NA           & NA           & 5699362      & 491949       &       NA     & ⋯            & 0.0000370000 & 0.006787259  & 0.049084551  & 0.014125567  & 0.001512923  & A            & 490640       & 5702453      & 13.8         & 687         \\\\\n",
       "\t 24           & 2            & 9            & 17           & fertilisant  & right        & Cu           & 5702544      & 486327       &  0.00000     & ⋯            & 0.0002930000 & 0.008305379  & 0.018796592  & 0.009190759  & 0.002604718  & B            & 484870       & 5701870      & 18.2         & 714         \\\\\n",
       "\t 42           & NESP         & J            &  2           & NA           & NA           & NA           & 5701876      & 484870       &       NA     & ⋯            & 0.0007051523 & 0.005626151  & 0.035929997  & 0.017286749  & 0.003181160  & B            & 484870       & 5701870      & 18.2         & 714         \\\\\n",
       "\t 68           & 1            & 1            &  2           & temoin       & left         & Control      & 5702099      & 486528       &  6.41800     & ⋯            & 0.0000370000 & 0.005535679  & 0.008103199  & 0.010448109  & 0.001573198  & B            & 484870       & 5701870      & 18.2         & 714         \\\\\n",
       "\t 21           & 2            & 8            & 16           & temoin       & left         & Control      & 5702537      & 486524       &  0.00000     & ⋯            & 0.0006820000 & 0.007338812  & 0.014087521  & 0.009922731  & 0.002539868  & B            & 484870       & 5701870      & 18.2         & 714         \\\\\n",
       "\t 13           & 2            & 6            & 12           & temoin       & left         & Control      & 5702562      & 486538       &  0.00000     & ⋯            & 0.0009860000 & 0.008256900  & 0.013330579  & 0.011007260  & 0.002797288  & B            & 484870       & 5701870      & 18.2         & 714         \\\\\n",
       "\\end{tabular}\n"
      ],
      "text/markdown": [
       "\n",
       "ID | CodeTourbiere | Ordre | Site | Traitement | DemiParcelle | SousTraitement | Latitude_m.x | Longitude_m.x | Rendement_g_5m2 | ⋯ | Cu_pourc | Zn_pourc | Mn_pourc | Fe_pourc | Al_pourc | Station | Longitude_m.y | Latitude_m.y | t_moy_C | prec_tot_mm | \n",
       "|---|---|---|---|---|---|---|---|---|---|\n",
       "| 10           | BP           | H            |  5           | NA           | NA           | NA           | 5706364      | 484780       |       NA     | ⋯            | 0.0000370000 | 0.006184506  | 0.035728063  | 0.011836155  | 0.003466040  | B            | 484870       | 5701870      | 18.2         | 714          | \n",
       "| 81           | 1            | 4            |  8           | temoin       | right        | Cu           | 5702081      | 486504       | 23.05768     | ⋯            | 0.0011217835 | 0.007330449  | 0.024631368  | 0.021298317  | 0.001954111  | B            | 484870       | 5701870      | 18.2         | 714          | \n",
       "|  9           | BP           | H            |  4           | NA           | NA           | NA           | 5706324      | 484761       |       NA     | ⋯            | 0.0000370000 | 0.006812606  | 0.028301634  | 0.012288495  | 0.003589784  | B            | 484870       | 5701870      | 18.2         | 714          | \n",
       "| 40           | MR           | I            |  5           | NA           | NA           | NA           | 5701994      | 459915       |       NA     | ⋯            | 0.0042487033 | 0.005352355  | 0.008643213  | 0.027685856  | 0.004586002  | B            | 484870       | 5701870      | 18.2         | 714          | \n",
       "| 35           | MB           | C            |  5           | NA           | NA           | NA           | 5699362      | 491949       |       NA     | ⋯            | 0.0000370000 | 0.006787259  | 0.049084551  | 0.014125567  | 0.001512923  | A            | 490640       | 5702453      | 13.8         | 687          | \n",
       "| 24           | 2            | 9            | 17           | fertilisant  | right        | Cu           | 5702544      | 486327       |  0.00000     | ⋯            | 0.0002930000 | 0.008305379  | 0.018796592  | 0.009190759  | 0.002604718  | B            | 484870       | 5701870      | 18.2         | 714          | \n",
       "| 42           | NESP         | J            |  2           | NA           | NA           | NA           | 5701876      | 484870       |       NA     | ⋯            | 0.0007051523 | 0.005626151  | 0.035929997  | 0.017286749  | 0.003181160  | B            | 484870       | 5701870      | 18.2         | 714          | \n",
       "| 68           | 1            | 1            |  2           | temoin       | left         | Control      | 5702099      | 486528       |  6.41800     | ⋯            | 0.0000370000 | 0.005535679  | 0.008103199  | 0.010448109  | 0.001573198  | B            | 484870       | 5701870      | 18.2         | 714          | \n",
       "| 21           | 2            | 8            | 16           | temoin       | left         | Control      | 5702537      | 486524       |  0.00000     | ⋯            | 0.0006820000 | 0.007338812  | 0.014087521  | 0.009922731  | 0.002539868  | B            | 484870       | 5701870      | 18.2         | 714          | \n",
       "| 13           | 2            | 6            | 12           | temoin       | left         | Control      | 5702562      | 486538       |  0.00000     | ⋯            | 0.0009860000 | 0.008256900  | 0.013330579  | 0.011007260  | 0.002797288  | B            | 484870       | 5701870      | 18.2         | 714          | \n",
       "\n",
       "\n"
      ],
      "text/plain": [
       "   ID CodeTourbiere Ordre Site Traitement  DemiParcelle SousTraitement\n",
       "1  10 BP            H      5   NA          NA           NA            \n",
       "2  81 1             4      8   temoin      right        Cu            \n",
       "3   9 BP            H      4   NA          NA           NA            \n",
       "4  40 MR            I      5   NA          NA           NA            \n",
       "5  35 MB            C      5   NA          NA           NA            \n",
       "6  24 2             9     17   fertilisant right        Cu            \n",
       "7  42 NESP          J      2   NA          NA           NA            \n",
       "8  68 1             1      2   temoin      left         Control       \n",
       "9  21 2             8     16   temoin      left         Control       \n",
       "10 13 2             6     12   temoin      left         Control       \n",
       "   Latitude_m.x Longitude_m.x Rendement_g_5m2 ⋯ Cu_pourc     Zn_pourc   \n",
       "1  5706364      484780              NA        ⋯ 0.0000370000 0.006184506\n",
       "2  5702081      486504        23.05768        ⋯ 0.0011217835 0.007330449\n",
       "3  5706324      484761              NA        ⋯ 0.0000370000 0.006812606\n",
       "4  5701994      459915              NA        ⋯ 0.0042487033 0.005352355\n",
       "5  5699362      491949              NA        ⋯ 0.0000370000 0.006787259\n",
       "6  5702544      486327         0.00000        ⋯ 0.0002930000 0.008305379\n",
       "7  5701876      484870              NA        ⋯ 0.0007051523 0.005626151\n",
       "8  5702099      486528         6.41800        ⋯ 0.0000370000 0.005535679\n",
       "9  5702537      486524         0.00000        ⋯ 0.0006820000 0.007338812\n",
       "10 5702562      486538         0.00000        ⋯ 0.0009860000 0.008256900\n",
       "   Mn_pourc    Fe_pourc    Al_pourc    Station Longitude_m.y Latitude_m.y\n",
       "1  0.035728063 0.011836155 0.003466040 B       484870        5701870     \n",
       "2  0.024631368 0.021298317 0.001954111 B       484870        5701870     \n",
       "3  0.028301634 0.012288495 0.003589784 B       484870        5701870     \n",
       "4  0.008643213 0.027685856 0.004586002 B       484870        5701870     \n",
       "5  0.049084551 0.014125567 0.001512923 A       490640        5702453     \n",
       "6  0.018796592 0.009190759 0.002604718 B       484870        5701870     \n",
       "7  0.035929997 0.017286749 0.003181160 B       484870        5701870     \n",
       "8  0.008103199 0.010448109 0.001573198 B       484870        5701870     \n",
       "9  0.014087521 0.009922731 0.002539868 B       484870        5701870     \n",
       "10 0.013330579 0.011007260 0.002797288 B       484870        5701870     \n",
       "   t_moy_C prec_tot_mm\n",
       "1  18.2    714        \n",
       "2  18.2    714        \n",
       "3  18.2    714        \n",
       "4  18.2    714        \n",
       "5  13.8    687        \n",
       "6  18.2    714        \n",
       "7  18.2    714        \n",
       "8  18.2    714        \n",
       "9  18.2    714        \n",
       "10 18.2    714        "
      ]
     },
     "metadata": {},
     "output_type": "display_data"
    }
   ],
   "source": [
    "chicoute_weather <- chicoute %>%\n",
    "    rowwise() %>%\n",
    "    mutate(Station = dist_station(x = Longitude_m, y = Latitude_m, stations_df = stations)) %>%\n",
    "    left_join(y = stations, by = \"Station\")\n",
    "chicoute_weather %>% sample_n(10)"
   ]
  },
  {
   "cell_type": "markdown",
   "metadata": {},
   "source": [
    "### Exporter un tableau\n",
    "\n",
    "Simplement avec `write_csv()`."
   ]
  },
  {
   "cell_type": "code",
   "execution_count": 183,
   "metadata": {},
   "outputs": [],
   "source": [
    "write_csv(chicoute_weather, \"data/chicoute_weather.csv\")"
   ]
  },
  {
   "cell_type": "markdown",
   "metadata": {},
   "source": [
    "### Aller plus loin dans le tidyverse\n",
    "\n",
    "Le livre [R for Data Science](http://r4ds.had.co.nz), de Garrett Grolemund et Hadley Wickham, est un incontournable.\n",
    "\n",
    "[<img src=\"http://r4ds.had.co.nz/cover.png\" width=200>](http://r4ds.had.co.nz)"
   ]
  },
  {
   "cell_type": "markdown",
   "metadata": {},
   "source": [
    "## Références\n",
    "\n",
    "Parent L.E., Parent, S.É., Herbert-Gentile, V., Naess, K. et  Lapointe, L. 2013. Mineral Balance Plasticity of Cloudberry (Rubus chamaemorus) in Quebec-Labrador Bogs. American Journal of Plant Sciences, 4, 1508-1520. DOI: 10.4236/ajps.2013.47183 "
   ]
  },
  {
   "cell_type": "code",
   "execution_count": null,
   "metadata": {},
   "outputs": [],
   "source": []
  }
 ],
 "metadata": {
  "kernel_info": {
   "name": "python3"
  },
  "kernelspec": {
   "display_name": "R",
   "language": "R",
   "name": "ir"
  },
  "language_info": {
   "codemirror_mode": "r",
   "file_extension": ".r",
   "mimetype": "text/x-r-source",
   "name": "R",
   "pygments_lexer": "r",
   "version": "3.4.4"
  }
 },
 "nbformat": 4,
 "nbformat_minor": 4
}
