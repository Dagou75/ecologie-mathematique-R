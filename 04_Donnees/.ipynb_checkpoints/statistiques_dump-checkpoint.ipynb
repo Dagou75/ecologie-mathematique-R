{
 "cells": [
  {
   "cell_type": "code",
   "execution_count": null,
   "metadata": {},
   "outputs": [],
   "source": []
  },
  {
   "cell_type": "markdown",
   "metadata": {},
   "source": [
    "## Statistiques univariées\n",
    "\n",
    "On aura souvent avantage à aborder les systèmes vivants sous plusieurs angles à la fois. Mais lorsqu'un seul aspect mérite d'être approfondi indépendamment des autres aspects, on travaillera en mode univarié - avec une seule variable. Cette section présente comment aborder des données une à la fois."
   ]
  },
  {
   "cell_type": "markdown",
   "metadata": {},
   "source": [
    "Nous avons vu au chapitre 3 que `pandas` pouvait générer des statistiques rapidement."
   ]
  },
  {
   "cell_type": "code",
   "execution_count": 108,
   "metadata": {},
   "outputs": [
    {
     "data": {
      "text/html": [
       "<div>\n",
       "<style scoped>\n",
       "    .dataframe tbody tr th:only-of-type {\n",
       "        vertical-align: middle;\n",
       "    }\n",
       "\n",
       "    .dataframe tbody tr th {\n",
       "        vertical-align: top;\n",
       "    }\n",
       "\n",
       "    .dataframe thead th {\n",
       "        text-align: right;\n",
       "    }\n",
       "</style>\n",
       "<table border=\"1\" class=\"dataframe\">\n",
       "  <thead>\n",
       "    <tr style=\"text-align: right;\">\n",
       "      <th></th>\n",
       "      <th>Sepal Length</th>\n",
       "      <th>Sepal Width</th>\n",
       "      <th>Petal Length</th>\n",
       "      <th>Petal Width</th>\n",
       "    </tr>\n",
       "  </thead>\n",
       "  <tbody>\n",
       "    <tr>\n",
       "      <th>count</th>\n",
       "      <td>150.000000</td>\n",
       "      <td>150.000000</td>\n",
       "      <td>150.000000</td>\n",
       "      <td>150.000000</td>\n",
       "    </tr>\n",
       "    <tr>\n",
       "      <th>mean</th>\n",
       "      <td>5.843333</td>\n",
       "      <td>3.057333</td>\n",
       "      <td>3.758000</td>\n",
       "      <td>1.199333</td>\n",
       "    </tr>\n",
       "    <tr>\n",
       "      <th>std</th>\n",
       "      <td>0.828066</td>\n",
       "      <td>0.435866</td>\n",
       "      <td>1.765298</td>\n",
       "      <td>0.762238</td>\n",
       "    </tr>\n",
       "    <tr>\n",
       "      <th>min</th>\n",
       "      <td>4.300000</td>\n",
       "      <td>2.000000</td>\n",
       "      <td>1.000000</td>\n",
       "      <td>0.100000</td>\n",
       "    </tr>\n",
       "    <tr>\n",
       "      <th>25%</th>\n",
       "      <td>5.100000</td>\n",
       "      <td>2.800000</td>\n",
       "      <td>1.600000</td>\n",
       "      <td>0.300000</td>\n",
       "    </tr>\n",
       "    <tr>\n",
       "      <th>50%</th>\n",
       "      <td>5.800000</td>\n",
       "      <td>3.000000</td>\n",
       "      <td>4.350000</td>\n",
       "      <td>1.300000</td>\n",
       "    </tr>\n",
       "    <tr>\n",
       "      <th>75%</th>\n",
       "      <td>6.400000</td>\n",
       "      <td>3.300000</td>\n",
       "      <td>5.100000</td>\n",
       "      <td>1.800000</td>\n",
       "    </tr>\n",
       "    <tr>\n",
       "      <th>max</th>\n",
       "      <td>7.900000</td>\n",
       "      <td>4.400000</td>\n",
       "      <td>6.900000</td>\n",
       "      <td>2.500000</td>\n",
       "    </tr>\n",
       "  </tbody>\n",
       "</table>\n",
       "</div>"
      ],
      "text/plain": [
       "       Sepal Length  Sepal Width  Petal Length  Petal Width\n",
       "count    150.000000   150.000000    150.000000   150.000000\n",
       "mean       5.843333     3.057333      3.758000     1.199333\n",
       "std        0.828066     0.435866      1.765298     0.762238\n",
       "min        4.300000     2.000000      1.000000     0.100000\n",
       "25%        5.100000     2.800000      1.600000     0.300000\n",
       "50%        5.800000     3.000000      4.350000     1.300000\n",
       "75%        6.400000     3.300000      5.100000     1.800000\n",
       "max        7.900000     4.400000      6.900000     2.500000"
      ]
     },
     "execution_count": 108,
     "metadata": {},
     "output_type": "execute_result"
    }
   ],
   "source": [
    "iris = pd.read_csv('data/iris.csv', index_col=0)\n",
    "iris.describe()"
   ]
  },
  {
   "cell_type": "markdown",
   "metadata": {},
   "source": [
    "### Caractéristiques de la distribution\n",
    "\n",
    "Afin d'aller chercher directement des statistiques nous pouvons calculer des **moyennes** (`mean`), des **médianes** (`median`) et des **modes** (`mode`) selon l'axe vertical (`axis=0`) ou horizontal (`axis=1`) du tableau."
   ]
  },
  {
   "cell_type": "code",
   "execution_count": 109,
   "metadata": {},
   "outputs": [
    {
     "data": {
      "text/plain": [
       "Sepal Length    5.843333\n",
       "Sepal Width     3.057333\n",
       "Petal Length    3.758000\n",
       "Petal Width     1.199333\n",
       "dtype: float64"
      ]
     },
     "execution_count": 109,
     "metadata": {},
     "output_type": "execute_result"
    }
   ],
   "source": [
    "iris.mean(axis=0)# # Caluler la moyenne par colonne"
   ]
  },
  {
   "cell_type": "code",
   "execution_count": 110,
   "metadata": {},
   "outputs": [
    {
     "data": {
      "text/plain": [
       "Sepal Length    5.80\n",
       "Sepal Width     3.00\n",
       "Petal Length    4.35\n",
       "Petal Width     1.30\n",
       "dtype: float64"
      ]
     },
     "execution_count": 110,
     "metadata": {},
     "output_type": "execute_result"
    }
   ],
   "source": [
    "iris.median(axis=0)# # Caluler la médiane par colonne"
   ]
  },
  {
   "cell_type": "markdown",
   "metadata": {},
   "source": [
    "Notez que les opération sur les tableaux `pandas` concordent avec certaines fonctions qui peuvent être effectuées sur des matrices `numpy`. Pour des opérations plus spécialisées comme les **moyennes géométriques**, on pourra passer par des fonctions spécialisées, notamment celles du module `stats` de `scipy`."
   ]
  },
  {
   "cell_type": "code",
   "execution_count": 111,
   "metadata": {},
   "outputs": [
    {
     "data": {
      "text/plain": [
       "array([ 5.78572039,  3.02659785,  3.23826684,  0.84170755])"
      ]
     },
     "execution_count": 111,
     "metadata": {},
     "output_type": "execute_result"
    }
   ],
   "source": [
    "stats.gmean(iris.iloc[:, :4], axis=0)"
   ]
  },
  {
   "cell_type": "markdown",
   "metadata": {},
   "source": [
    "La variabilité des données univariées, pour une distribution normale, est approchée par l'écart-type (standard deviation, *std*)."
   ]
  },
  {
   "cell_type": "code",
   "execution_count": 113,
   "metadata": {},
   "outputs": [
    {
     "data": {
      "text/plain": [
       "Sepal Length    0.828066\n",
       "Sepal Width     0.435866\n",
       "Petal Length    1.765298\n",
       "Petal Width     0.762238\n",
       "dtype: float64"
      ]
     },
     "execution_count": 113,
     "metadata": {},
     "output_type": "execute_result"
    }
   ],
   "source": [
    "iris.std(axis=0)"
   ]
  },
  {
   "cell_type": "markdown",
   "metadata": {},
   "source": [
    "# DIFFÉRENCE ENTRE VARIANCE ÉCHANTILLONNALE ET VARIANCE DE LA POPULATION, page 93"
   ]
  },
  {
   "cell_type": "markdown",
   "metadata": {},
   "source": [
    "Obtenir l'**étendue** des données ($max-min$) permet aussi d'évaluer la variabilité des données. On utilisera `numpy.ptp` (ptp pour peak-to-peak). Je profite de cet auter exemple pour présenter une manière élégante de composer en `pandas`."
   ]
  },
  {
   "cell_type": "code",
   "execution_count": 112,
   "metadata": {},
   "outputs": [
    {
     "data": {
      "text/plain": [
       "Sepal Length    3.6\n",
       "Sepal Width     2.4\n",
       "Petal Length    5.9\n",
       "Petal Width     2.4\n",
       "dtype: float64"
      ]
     },
     "execution_count": 112,
     "metadata": {},
     "output_type": "execute_result"
    }
   ],
   "source": [
    "iris.iloc[:, :4].\\\n",
    "    apply(lambda x: np.ptp(x), axis=0)"
   ]
  },
  {
   "cell_type": "markdown",
   "metadata": {},
   "source": [
    "La fonction `quantile` de `pandas` est équivalente à la fonction `numpy.percentile`. Elle calcule les percentiles ou **quantiles** d'une distribution normale."
   ]
  },
  {
   "cell_type": "code",
   "execution_count": 80,
   "metadata": {},
   "outputs": [
    {
     "data": {
      "text/html": [
       "<div>\n",
       "<style scoped>\n",
       "    .dataframe tbody tr th:only-of-type {\n",
       "        vertical-align: middle;\n",
       "    }\n",
       "\n",
       "    .dataframe tbody tr th {\n",
       "        vertical-align: top;\n",
       "    }\n",
       "\n",
       "    .dataframe thead th {\n",
       "        text-align: right;\n",
       "    }\n",
       "</style>\n",
       "<table border=\"1\" class=\"dataframe\">\n",
       "  <thead>\n",
       "    <tr style=\"text-align: right;\">\n",
       "      <th></th>\n",
       "      <th>Sepal Length</th>\n",
       "      <th>Sepal Width</th>\n",
       "      <th>Petal Length</th>\n",
       "      <th>Petal Width</th>\n",
       "    </tr>\n",
       "  </thead>\n",
       "  <tbody>\n",
       "    <tr>\n",
       "      <th>0.00</th>\n",
       "      <td>4.3</td>\n",
       "      <td>2.0</td>\n",
       "      <td>1.00</td>\n",
       "      <td>0.1</td>\n",
       "    </tr>\n",
       "    <tr>\n",
       "      <th>0.25</th>\n",
       "      <td>5.1</td>\n",
       "      <td>2.8</td>\n",
       "      <td>1.60</td>\n",
       "      <td>0.3</td>\n",
       "    </tr>\n",
       "    <tr>\n",
       "      <th>0.50</th>\n",
       "      <td>5.8</td>\n",
       "      <td>3.0</td>\n",
       "      <td>4.35</td>\n",
       "      <td>1.3</td>\n",
       "    </tr>\n",
       "    <tr>\n",
       "      <th>0.75</th>\n",
       "      <td>6.4</td>\n",
       "      <td>3.3</td>\n",
       "      <td>5.10</td>\n",
       "      <td>1.8</td>\n",
       "    </tr>\n",
       "    <tr>\n",
       "      <th>1.00</th>\n",
       "      <td>7.9</td>\n",
       "      <td>4.4</td>\n",
       "      <td>6.90</td>\n",
       "      <td>2.5</td>\n",
       "    </tr>\n",
       "  </tbody>\n",
       "</table>\n",
       "</div>"
      ],
      "text/plain": [
       "      Sepal Length  Sepal Width  Petal Length  Petal Width\n",
       "0.00           4.3          2.0          1.00          0.1\n",
       "0.25           5.1          2.8          1.60          0.3\n",
       "0.50           5.8          3.0          4.35          1.3\n",
       "0.75           6.4          3.3          5.10          1.8\n",
       "1.00           7.9          4.4          6.90          2.5"
      ]
     },
     "execution_count": 80,
     "metadata": {},
     "output_type": "execute_result"
    }
   ],
   "source": [
    "iris_quantile = iris.iloc[:, :4].quantile(q=[0, 0.25, 0.50, 0.75, 1], axis=0)\n",
    "iris_quantile"
   ]
  },
  {
   "cell_type": "markdown",
   "metadata": {},
   "source": [
    "Les quantiles sont les valeurs associées aux fonctions de densité cumulées (*cdf*), c'est-à-dire l'aire sous la fonction de densité. Pour les données d'iris, 25% des valeurs on une longueur de sépale inférieure à 5.1, la médiane est de 5.8 et 75% ont des longueurs de sépales inférieures à 6.4. Les quantiles se trouvent sur la *cdf*."
   ]
  },
  {
   "cell_type": "code",
   "execution_count": 92,
   "metadata": {},
   "outputs": [
    {
     "data": {
      "text/plain": [
       "Text(0,0.5,'Sepal Length (cm)')"
      ]
     },
     "execution_count": 92,
     "metadata": {},
     "output_type": "execute_result"
    },
    {
     "data": {
      "image/png": "[encoded data removed]",
      "text/plain": [
       "<matplotlib.figure.Figure at 0x7f205d68cc18>"
      ]
     },
     "metadata": {},
     "output_type": "display_data"
    }
   ],
   "source": [
    "iris_sl_sort = np.sort(iris['Sepal Length'])\n",
    "cdf_index = np.array(range(iris.shape[0]))/iris.shape[0]\n",
    "plt.plot(cdf_index, iris_sl_sort, linewidth=4)\n",
    "plt.axvline(x=0.5, c='red', linewidth=0.5)\n",
    "plt.axhline(y=iris_quantile.loc[0.5, 'Sepal Length'], c='red', linewidth=0.5)\n",
    "plt.xlabel('Quantile')\n",
    "plt.ylabel('Sepal Length (cm)')"
   ]
  },
  {
   "cell_type": "markdown",
   "metadata": {},
   "source": [
    "Les données sont rarement distribées selon une cloche normale impeccable. On peut tester la normalité d'une courbe selon l'**asymétrie** (*skewness*) des données autour de la moyenne."
   ]
  },
  {
   "cell_type": "code",
   "execution_count": 104,
   "metadata": {},
   "outputs": [
    {
     "data": {
      "text/plain": [
       "KurtosistestResult(statistic=array([ -1.78533429,   0.71570637, -14.82321258, -11.71638195]), pvalue=array([  7.42071108e-02,   4.74172676e-01,   1.03703722e-49,\n",
       "         1.05063934e-31]))"
      ]
     },
     "execution_count": 104,
     "metadata": {},
     "output_type": "execute_result"
    }
   ],
   "source": []
  },
  {
   "cell_type": "markdown",
   "metadata": {},
   "source": [
    "On pourra ausso tester si la courbe normale est trop **pointue** avec un test de *Kurtosis*. L'hypothèse nulle est que les données suivent une distribution qui n'est pas pointue."
   ]
  },
  {
   "cell_type": "code",
   "execution_count": 107,
   "metadata": {},
   "outputs": [
    {
     "data": {
      "text/plain": [
       "<matplotlib.axes._subplots.AxesSubplot at 0x7f205d0e17b8>"
      ]
     },
     "execution_count": 107,
     "metadata": {},
     "output_type": "execute_result"
    },
    {
     "data": {
      "image/png": "[encoded data removed]",
      "text/plain": [
       "<matplotlib.figure.Figure at 0x7f205d12cba8>"
      ]
     },
     "metadata": {},
     "output_type": "display_data"
    }
   ],
   "source": [
    "A =  [1, 6, 4, 5, 3, 6, 4, 5, 8, 6, 5, 7, 8, 5, 7, 9, 1, 3, 5, 7, 5, 6, 7, 4, 5, 6, 8, 2, 6, 5, 8, 6, 9]\n",
    "sns.distplot(A)"
   ]
  },
  {
   "cell_type": "code",
   "execution_count": 106,
   "metadata": {},
   "outputs": [
    {
     "data": {
      "text/plain": [
       "KurtosistestResult(statistic=array([ -1.78533429,   0.71570637, -14.82321258, -11.71638195]), pvalue=array([  7.42071108e-02,   4.74172676e-01,   1.03703722e-49,\n",
       "         1.05063934e-31]))"
      ]
     },
     "execution_count": 106,
     "metadata": {},
     "output_type": "execute_result"
    }
   ],
   "source": [
    "stats.kurtosistest(iris.iloc[:, :4], axis=0)"
   ]
  },
  {
   "cell_type": "markdown",
   "metadata": {},
   "source": [
    "Les hypothèses nulles sont rejetées au seuil 0.05 pour les deux premières colonnes (les sépales), mais sont acceptées à ce seuil pourles deux dernières colonnes (les pétales). \n",
    "\n",
    "Les **tests de normalité** de *Shapiro-Wilk* et de *Anderson-Darling* sont courrants en statistiques pour évaluer la normalité des données."
   ]
  },
  {
   "cell_type": "markdown",
   "metadata": {},
   "source": [
    "### Le théorème central limite"
   ]
  },
  {
   "cell_type": "code",
   "execution_count": null,
   "metadata": {},
   "outputs": [],
   "source": []
  },
  {
   "cell_type": "code",
   "execution_count": null,
   "metadata": {},
   "outputs": [],
   "source": []
  },
  {
   "cell_type": "code",
   "execution_count": null,
   "metadata": {},
   "outputs": [],
   "source": []
  },
  {
   "cell_type": "code",
   "execution_count": null,
   "metadata": {},
   "outputs": [],
   "source": []
  },
  {
   "cell_type": "markdown",
   "metadata": {},
   "source": [
    "## Tests d'hypothèse\n",
    "\n",
    "Selon l'expérience effectuée et la question posée, on pourra avoir recours à différents tests d'hypothèse. Chaque test a ses limitations dont il faut soigneusement se rendre compte."
   ]
  },
  {
   "cell_type": "markdown",
   "metadata": {},
   "source": [
    "### Variance, covariance et corrélation\n",
    "\n",
    "### Test de t\n",
    "\n",
    "### ANOVA\n",
    "- Anova sens unique\n",
    "- Anova double sens\n",
    "\n",
    "### MANOVA et MANCOVA\n",
    "Tout comme les ANOVA et les ANCOVA supposent que les les données sont distribuées normalement, les MANOVA et MANCOVA supposent des données multinormales. La multinornalité des données peut être testée avec un test de M (Box's M test).\n",
    "\n",
    "### Modélisation linéaire\n",
    "- GLM\n",
    "- dummification des facteurs et matrices de concept\n",
    "- Régression linéaire (lmplot, residplot)\n",
    "\n",
    "\n",
    "\n",
    "### Analyse de covariance"
   ]
  },
  {
   "cell_type": "markdown",
   "metadata": {},
   "source": [
    "### Modélisation mixte\n",
    "\n",
    "L'outil que je privilégie en biostatistique est le modèle linéaire mixte, qui consiste à intégrer dans un modèle linéaire autant des effets fixes que des effets aléatoires."
   ]
  },
  {
   "cell_type": "markdown",
   "metadata": {},
   "source": [
    "## Erreurs communes\n",
    "\n",
    "### Un résultat montrant une p-value plus élevée que 0.05 n'est pas pertinent\n",
    "\n",
    "Lors d'une conférence, Dr Evil ne présentent que les résultats significatifs de ses essais au seuil de 0.05. Certains essais ne sont pas significatifs, mais bon, ceux-ci ne sont pas importants... En écartant ces résultats, Dr Evil commet 3 erreurs:\n",
    "\n",
    "1. La p-value n'est pas un bon indicateur de l'importance d'un test statistique. L'importance d'une variable dans un modèle linéaire devrait être évaluée par la valeur de son coefficient. Son incertitude devrait être évaluée par sa variance. Une manière d'évaluer plus intuitive la variance est l'écart-type ou l'intervalle de confiance. À un certain seuil d'intervalle de confiance, la p-value traduira la probabilité qu'un coefficient soit réellement nul ait pu générer des données démontrant un coefficient égal ou supérieur.\n",
    "2. Il est tout aussi important de savoir que le traitement fonctionne que de savoir qu'il ne fonctionne pas. Les résultats démontrant des effets sont malheureusement davantage soumis aux journaux et davantage publiés que ceux ne démontrant pas d'effets ([Decullier et al., 2005]( https://doi.org/10.1136/bmj.38488.385995.8F )).\n",
    "3. Le seuil de 0.05 est arbitraire.\n",
    "\n"
   ]
  },
  {
   "cell_type": "code",
   "execution_count": 1,
   "metadata": {
    "inputHidden": false,
    "outputHidden": false
   },
   "outputs": [],
   "source": []
  },
  {
   "cell_type": "code",
   "execution_count": 1,
   "metadata": {
    "inputHidden": false,
    "outputHidden": false
   },
   "outputs": [],
   "source": []
  },
  {
   "cell_type": "code",
   "execution_count": null,
   "metadata": {
    "inputHidden": false,
    "outputHidden": false
   },
   "outputs": [],
   "source": []
  },
  {
   "cell_type": "markdown",
   "metadata": {},
   "source": [
    "## Poser la bonne question\n",
    "\n",
    "La conception d'une expérience commence par une question. \n",
    "- Quels sont les variables et leurs types\n",
    "- Quels effets désire-t-on évaluer, de quel type de variable s'agit-il\n",
    "\n",
    "\n",
    "..."
   ]
  },
  {
   "cell_type": "markdown",
   "metadata": {},
   "source": [
    "## Pile ou face? Les stats pour hackers\n",
    "\n",
    "Cet exemple de tirages à pile ou face est tiré d'une [conférence de Jake Vanderplas](https://www.youtube.com/watch?v=Iq9DzN6mvYA). Lorsque l'on lance une pièce de monnaie, le résultat est soit pile, soit face. Si la pièce n'est pas biaisée, la probabilité d'obtenir l'un ou l'autre de ces résultats est égale. `numpy` comprend des algorithmes pour générer des nombres aléatoires selon des distributions. Dans le cas d'un jeu de hasard à deux possibilités, on parle d'une distribution binomiale: on utilise la fonction `np.random.binomial` pour générer des tirages aléatoires. On peut lancer une pièce virtuelle avec Python. Mais avant tout, appelons `numpy`, `pandas` et `matplotlib.pyplot`."
   ]
  },
  {
   "cell_type": "code",
   "execution_count": 1,
   "metadata": {
    "inputHidden": false,
    "outputHidden": false
   },
   "outputs": [],
   "source": [
    "import numpy as np\n",
    "import pandas as pd\n",
    "import matplotlib.pyplot as plt\n",
    "%matplotlib inline"
   ]
  },
  {
   "cell_type": "markdown",
   "metadata": {},
   "source": [
    "*Mise en situation*: Vous jouez à pile ou face avec Schtroumpfette. Ce sera elle ou vous qui devrez payer un sac de chip au gagnant au jeu de pile ou face où la pèce est lancée 25 fois. Vous choisissez pile, elle choisi face. La fonction `np.random.binomial` retournera le nombre de 1 (pile). Quant à la fonction `np.random.seed`, elle assume que la sortie de la fonction aléatoire sera toujours la même à chaque fois que la cellule sera exécutée (pour les fins de l'exemple)."
   ]
  },
  {
   "cell_type": "code",
   "execution_count": 2,
   "metadata": {
    "inputHidden": false,
    "outputHidden": false
   },
   "outputs": [
    {
     "data": {
      "text/plain": [
       "19"
      ]
     },
     "execution_count": 2,
     "metadata": {},
     "output_type": "execute_result"
    }
   ],
   "source": [
    "np.random.seed(seed=184008)\n",
    "pf_result = np.random.binomial(n=25, p=0.5)\n",
    "pf_result"
   ]
  },
  {
   "cell_type": "markdown",
   "metadata": {},
   "source": [
    "Fantastique, vous avez 19 lancés à votre faveur: vous vous pressez de commissionner Schtroumpfette au dépanneur pour un sac de chips aux baies schtroumpfantes. Mais Schtroumpfette n'est pas d'accord: pour elle, un tel score ne peut pas avoir été le résultat d'une pièce non biaisée. Vous pourriez alors demander au Schtroumpf ingénieur d'examiner la distribution de la masse dans la pièce: mais ce serait une approche mécanistique laborieuse, et il s'avère que Schtroumpfette, qui est ferrée en stats, y va de manière analytique.\n",
    "\n",
    "La probabilité d'obtenir l'un ou l'autre des résultats (disons face, ou $F$) est de 50%, donc $P\\left( F \\right) = \\frac{1}{2}$. La probabilité d'obtenir deux $F$ consécutifs est de $P\\left( FF \\right) = \\left( \\frac{1}{2} \\right)^2$.\n",
    "\n",
    "La probabilité d'obtenir face, face, pile est de $P\\left( FF \\right) = \\left( \\frac{1}{2} \\right)^3$. Mais l'ordre dans lequel les résultats sont obtenu n'est pas important dans la question. Alors, la probabilité d'obtenir 2 face et un pile est de $P\\left( 2F, 1P \\right) = P\\left( FFP \\right) + P\\left( FPF \\right) + P\\left( PFF \\right) = \\frac{3}{8}$.\n",
    "\n",
    "Schtroumpfette connait la fonction d'une distribution binômiale, qui permet de généraliser le calcul de probabilité lorsque l'ordre n'est pas important, avec $k$ succès d'une probabilité $p$ avec $n$ tirages.\n",
    "\n",
    "$$P\\left(n, k\\right) = \\binom{n}{k} p^k \\left( 1-p \\right)^{n-k}$$\n",
    "\n",
    "où \n",
    "\n",
    "$$\\binom{n}{k} = \\frac{n!}{k!\\left( n-k\\right)!}$$\n",
    "\n",
    "où $n! = n \\times \\left(n-1 \\right) \\times ... \\times 2 \\times 1$."
   ]
  },
  {
   "cell_type": "markdown",
   "metadata": {},
   "source": [
    "Schtroumpfette recherche la probabilité d'obtenir un tel résultat en supposant que la pièce n'est pas biaisée (i.e. que la probabilités d'obtenir face ou pile est de 0.5). Vous commencez à être agile en Python et vous encodez la formule que Schtroumpfette vous transmet."
   ]
  },
  {
   "cell_type": "code",
   "execution_count": 3,
   "metadata": {},
   "outputs": [],
   "source": [
    "def my_binomial(n, k, p):\n",
    "    nk = np.math.factorial(n) / (np.math.factorial(k) * np.math.factorial(n-k))\n",
    "    prob = nk * p**k * (1-p)**(n-k)\n",
    "    return prob"
   ]
  },
  {
   "cell_type": "markdown",
   "metadata": {},
   "source": [
    "Vous calculez les probabilités d'obtenir des résultats de 19 à 25 inclusivement, puis vous en faites la somme."
   ]
  },
  {
   "cell_type": "code",
   "execution_count": 4,
   "metadata": {},
   "outputs": [
    {
     "name": "stdout",
     "output_type": "stream",
     "text": [
      "La probabilité d'obtenir 19 piles ou plus est de 0.731664896011 %\n"
     ]
    }
   ],
   "source": [
    "probs = []\n",
    "for i in range(19, 26): # avec range, la limite supérieure est exclue\n",
    "    probs.append(my_binomial(25, i, 0.5))\n",
    "    \n",
    "print(\"La probabilité d'obtenir 19 piles ou plus est de\",\n",
    "       np.sum(probs) * 100, \"%\") "
   ]
  },
  {
   "cell_type": "markdown",
   "metadata": {},
   "source": [
    "Vous pouvez aussi bien utiliser le sous-module `stats` de `scipy`."
   ]
  },
  {
   "cell_type": "code",
   "execution_count": 5,
   "metadata": {},
   "outputs": [
    {
     "data": {
      "text/plain": [
       "0.0073166489601135185"
      ]
     },
     "execution_count": 5,
     "metadata": {},
     "output_type": "execute_result"
    }
   ],
   "source": [
    "from scipy import stats\n",
    "stats.binom(25, 0.5).pmf(range(19, 26)).sum()"
   ]
  },
  {
   "cell_type": "markdown",
   "metadata": {},
   "source": [
    "La probabilité que vous venez de calculer est une **p-value**.\n",
    "\n",
    "Une **p-value** est une probabilité que le résultat soit obtenu de manière aléatoire si l'hypothèse nulle est vraie.\n",
    "\n",
    "Dans le cas qui nous concerne, il s'agit de la probabilité d'obtenir 19 succès ou plus dans un jeu non biaisé. La convention veut que le seuil de significativité d'un test en biostatistique soit de 5%. Dans ce cas particulier, la probabilité de 0.7% est plus faible que 5% et nous pouvons conclure à ce seuil que la pièce est biaisée. \n",
    "\n",
    "Nous y reviendrons, mais retenez pour l'instant que la **p-value** est dans la littérature scientifique une source importante de mauvaise interprétation et que le seuil purement arbitraire de 5% n'est pas un seuil particulièrement prudent."
   ]
  },
  {
   "cell_type": "markdown",
   "metadata": {},
   "source": [
    "Puisque vous maîtrisez bien Python, vous désirez éviter les formulations statistiques. Vous modélisez alors un grand nombre de jeux de 25 lancés que vous savez non-biaisés (avec `numpy`), puis vous calculez la proportion de ces lancés qui donnent 19 piles ou plus. Comme ceci."
   ]
  },
  {
   "cell_type": "code",
   "execution_count": 6,
   "metadata": {
    "inputHidden": false,
    "outputHidden": false
   },
   "outputs": [
    {
     "name": "stdout",
     "output_type": "stream",
     "text": [
      "La proportion des 100000 simulations ayant obtenu 19 piles ou plus est de 0.766 %\n"
     ]
    }
   ],
   "source": [
    "more_than_19 = 0 # initialisation du décompte des jeux où vous gagnez avec 19 et plus\n",
    "n_sim = 100000 # nombre de simulations\n",
    "for i in range(n_sim):\n",
    "    pf_result = np.random.binomial(n=25, p=0.5) # tirage\n",
    "    if pf_result >= 19: # si le tirage donne 19 ou plus, ajouter 1 au décompte\n",
    "        more_than_19 = more_than_19 + 1\n",
    "\n",
    "print(\"La proportion des\", n_sim, \n",
    "      \"simulations ayant obtenu 19 piles ou plus est de\",\n",
    "      more_than_19/n_sim * 100, \"%\")"
   ]
  },
  {
   "cell_type": "markdown",
   "metadata": {
    "inputHidden": false,
    "outputHidden": false
   },
   "source": [
    "Le résultat est semblable. Pour une personne habituée à réfléchir en terme de code, les tenants et aboutissants du processus par modélisation sont bien plus intuitif qu'un développement analytique. La formulation analytique reste néanmoins la référence en science.\n",
    "\n",
    "La probabilité que la pièce ne soit pas biaisée est faible. Étant donné que nous avons nous-même écrit le code pour générer le tirage, nous pouvons auditer notre pièce de monnaie virtuelle. Or nous avions bien écrit `pf_result = np.random.binomial(n=25, p=0.5)`, où `p=0.5` indique que la pièce n'était pas biaisée. Bien que la probabilité que la pièce ne soit pas biaisée est très faible, cette probabilité n'est pas nulle. Trancher l'enjeu au seuil 0.05 nous mène vers une erreur de diagnostique de type 1, où nous rejetons l'hypothèse nulle alors qu'elle est vraie."
   ]
  }
 ],
 "metadata": {
  "kernelspec": {
   "display_name": "R",
   "language": "R",
   "name": "ir"
  },
  "language_info": {
   "codemirror_mode": "r",
   "file_extension": ".r",
   "mimetype": "text/x-r-source",
   "name": "R",
   "pygments_lexer": "r",
   "version": "3.4.4"
  }
 },
 "nbformat": 4,
 "nbformat_minor": 2
}
