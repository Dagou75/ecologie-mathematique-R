{
 "cells": [
  {
   "cell_type": "markdown",
   "metadata": {},
   "source": [
    "# Chapitre 2 : La science des données avec `R`\n",
    "\n",
    "Un projet en science des données comprends trois grandes étapes. D'abord, vous devez **collecter des données** et vous les compilez adéquatement. Cela peut consister à télécharger des données existantes, exécuter un dispositif expérimental ou effectuer une recensement (étude observationnelle). Compiler les données dans un format qui puisse être importé est une tâche souvent longue et fastidieuse. Puis, vous **investiguez les données** collectées, c'est-à-dire vous les visualisez, vous appliquez des modèles et testez des hypothèses. Enfin, la **communication des résultats** consiste à présenter les connaissances qui émerge de votre analyse sous forme visuelle et narrative, *avec un langage adapté à la personne qui vous écoute*, qu'elle soit experte ou novice, réviseure de revue savante ou administratrice. [Grolemund et Wickham (2018)](http://r4ds.had.co.nz/introduction.html) propose la structure d'analyse suivante, avec de légères modifications de ma part.\n",
    "\n",
    "![](images/science-des-donnees-flow_.png)\n",
    "\n",
    "Le grand cadre spécifie **Programmer**. Oui, vous aurez besoin d'écrire du code. Mais comme je l'ai indiquer dans le premier chapitre, ceci n'est pas un cours de programmation et je préférerai les approches intuitives."
   ]
  },
  {
   "cell_type": "markdown",
   "metadata": {},
   "source": [
    "À la fin de ce chapitre, vous devrez:\n",
    "\n",
    "0. contextualiser la science des données par rapport aux statistiques,\n",
    "0. être en mesure de vous lancer dans un environnement de programmation `R`,\n",
    "0. être en seure d'effectuer des opérations d'une seule ligne en `R`, et\n",
    "0. installer et charger des modules."
   ]
  },
  {
   "cell_type": "markdown",
   "metadata": {},
   "source": [
    "## Statistiques ou Science des données?\n",
    "\n",
    "Selon [Whitlock et Schluter (2015)](http://whitlockschluter.zoology.ubc.ca/), la statistique est l'*étude des méthodes pour décrire et mesurer des aspects de la nature à partir d'échantillon*. Pour [Grolemund et Wickham (2018)](http://r4ds.had.co.nz/introduction.html), la science des données est *une discipline exitante permettant de transformer des données bruttes en compréhension, perspectives et connaissances*. Oui, *exitante*! La différence entre les deux champs d'expertise est subtile, et certaines personnes n'y voient qu'une différence de ton.\n",
    "\n",
    "<blockquote class=\"twitter-tweet\" data-lang=\"fr\"><p lang=\"en\" dir=\"ltr\">Data Science is statistics on a Mac.</p>&mdash; Big Data Borat (@BigDataBorat) <a href=\"https://twitter.com/BigDataBorat/status/372350993255518208?ref_src=twsrc%5Etfw\">27 août 2013</a></blockquote>\n",
    "<script async src=\"https://platform.twitter.com/widgets.js\" charset=\"utf-8\"></script>\n",
    "\n",
    "Confinées à ses applications traditionnelles, les statistiques sont davantage vouées à la définition de dispositifs expérimentaux et à l'exécution de tests d'hypothèses, alors que la science des données est moins linéaire, en particulier dans sa phase d'analyse, où de nouvelles questions (donc de nouvelles hypothèses) peuvent être posées au fur et à mesure de l'analyse. Cela arrive généralement davantage lorsque l'on fait face à de nombreuses observations sur lesquelles ne nombreux paramètres sont mesurés.\n",
    "\n",
    "La quantité de données et de mesures auquelles nous avons aujourd'hui accès grâce aux technologies de mesure et de stockage relativement peu dispendieux rend la science des données une discipline particulièrement attrayante, pour ne pas dire [sexy](https://hbr.org/2012/10/data-scientist-the-sexiest-job-of-the-21st-century)."
   ]
  },
  {
   "cell_type": "markdown",
   "metadata": {},
   "source": [
    "## Organiser son environnement de travail en `R`\n",
    "\n",
    "*R* est la 18ième lettre de l'alphabet latin. Mais [`R`](https://www.r-project.org) est un langage de programmation dérivé du langage `S`, qui fut initialement lancé en 1976. \n",
    "\n",
    "<img src=\"images/R_logo.svg.png\">\n",
    "\n",
    "`R` figure parmi [les langages de programmation les plus utilisés au monde](https://www.tiobe.com/tiobe-index/). Bien qu'il soit basé sur les langages statiques C et Fortran, `R` est un langage dynamique, c'est à dire que le code peut être exécuté ligne par ligne ou bloc par bloc: un avantage majeur pour des activités qui nécessitent des intéractions fréquentes. Bien que `R` soit surtout utilisé pour le calcul statistique, il s'impose de plus en plus comme outil privilégié en sciences des données en raison des récents développements de modules d'analyse, de modélisation et de visualisation, dont plusieurs seront utilisés dans ce manuel."
   ]
  },
  {
   "cell_type": "markdown",
   "metadata": {},
   "source": [
    "### Préparer son flux de travail\n",
    "\n",
    "Il existe de nombreuses manières d'utiliser `R`. Parmi celles-ci, j'en couvrirai 3:\n",
    "\n",
    "- Installation classique\n",
    "- Installation avec Anaconda\n",
    "- Utilisation de Azure Notebooks"
   ]
  },
  {
   "cell_type": "markdown",
   "metadata": {},
   "source": [
    "### Installation classique\n",
    "\n",
    "Sur Windows ou Mac, dirigez-vous [ici](https://cloud.r-project.org/), téléchargez et installez. Sur Linux, ouvrez votre gestionnaire d'application, chercher `r-base` (Ubuntu, Debian), `R-base` (openSuse) ou `R-core` (Fedora) et installez-le (asurez-vous que les librairies suivantes sont aussi installées: `gcc`, `gcc-fortran`, `gcc-c++` et `make`), vous aurez peut-être besoin d'installer des librairies supplémentaires pour faire fonctionner certains modules.\n",
    "\n",
    "> **Note**. Les modules présentés dans ce cours devraient être disponibles sur Linux, Windows et Mac. Ce n'est pas le cas pour tous les modules `R`. La plupart fonctionnent néanmoins sur Linux, dont les systèmes d'opération (je recommande [Ubuntu](https://www.ubuntu.com/download/desktop) ou l'une de ses dérivées) sont de bonnes options pour le calcul scientifique."
   ]
  },
  {
   "cell_type": "markdown",
   "metadata": {},
   "source": [
    "À cette étape, `R` devrait fonctionner dans un interprétateur de commande . Si vous lancez `R` dans un terminal (chercher `cmd` dans le menu si vous êtes sur Windows), vous obtiendrez quelque chose comme ceci. \n",
    "\n",
    "<center><img src=\"images/terminal-prompt.png\" width=800></center>"
   ]
  },
  {
   "cell_type": "markdown",
   "metadata": {},
   "source": [
    "Le symbole `>` indique que `R` attend que vos instructions. Vous voilà dans un état méditatif devant l'indéchiffrable vide du terminal. Afin de travailler dans un environnement de travail plus convivial, je recommande l'installation de l'interface [`RStudio`](https://www.rstudio.com/products/rstudio/download/), gratuite et open source: téléchargez l'installateur et suivez les intructions. `RStudio` ressemble à ceci.\n",
    "\n",
    "<center><img src=\"images/rstudio.png\" width=800></center>"
   ]
  },
  {
   "cell_type": "markdown",
   "metadata": {},
   "source": [
    "En haut à droite se trouve un menu *Project (None)*. Il s'agit d'un menu de vos projets. Je recommande d'utiliser ces projets avec RStudio, qui vous permettront de mieux gérer vos environnements de travail, en particulier en lien avec les chemins vers de vos données, graphiques, etc., que vous pouvez gérer relativement à l'emplacement de votre dossier de projet plutôt qu'à l'emplacement des fichiers sur votre machine.\n",
    "\n",
    "- En haut à gauche, vous avez vos feuilles de calcul, qui apparaîtront en tant qu'onglets. Je recommande de prendre en main les `R notebooks`, dans lesquels vous pouvez écrire du texte en format [*Markdown*](https://github.com/adam-p/markdown-here/wiki/Markdown-Here-Cheatsheet) (dont il sera question plus loin) entre des blocks de code. Ceci vous permet de détailler votre flux de travail.\n",
    "- En bas à gauche apparait la Console, où vous voyez les commandes envoyées à `R` ainsi que ses sorties. Si vous travaillez en format *notebook*, vous n'en aurez probablment pas besoin.\n",
    "- En haut à droite, les différents onglets indiquent où vous en êtes dans vos calculs. En partoiculier, la liste sous *Environment* indique les objets qui ont été générés jusqu'alors.\n",
    "- En bas à droite, on retrouve des onglets de nature variés. *Files* contient les sous-dossiers et fichiers du dossier de projet. `Plots` est l'endroit où apparaîtront vos graphiques. `Packages` contient la liste des modules déjà installés, ainsi qu'un outil de gestion des modules pour leur installation, leur désinstallation et leur mise à jour. `Help` affiche les fiches d'aide des fonctions (pour obtenir de l'aide sur une fonction dans `RStudio`, surlignez la fonction dans votre feuille de calcul, puis appuyez sur `F1`). Enfin, l'onglet `Viewer` affichera les sorties HTML, en particulier les graphiques intéractifs que vous générerez par exemple avec le module `plotly`.\n"
   ]
  },
  {
   "cell_type": "markdown",
   "metadata": {},
   "source": [
    "#### R notebooks\n",
    "\n",
    "Les `R notebooks` offrent une approche de programmation littéraire, c'est-à-dire que vous écrivez votre code comme vous écrivez une article, une thèse ou une histoire. Cette approche permet de partager plus facilement vos codes, que ce soit avec une équipe de travail ou à la communauté scientifitque pour accompagner un article scientifique en tant que matériel supplémentaire. Lorsque vous créez un notebook (`File > New file > R notebook`), les instructions de base apparaissent. Ajoutons que pour lancer du code ligne par ligne, vous pouvez surligner le code en question ou placez le curseur sur la ligne à exécuter, puis taper `Ctrl + Enter`. La sortie de `R` apparaîtra sous le bloc de code. Dans votre texte, vous pouvez ajouter des équations mathématiques en format *Mathjax* inspiré du format Latex, par exemple `$a = \\sum_{i=1}^n x_i^2$` sera affiché comme $a = \\sum_{i=1}^n x_i^2$ (pour aider dans l'édition d'équation, vous pouvez utiliser un [éditeur dans les nuages](http://www.sciweavers.org/free-online-latex-equation-editor)). Pour les titres, les caractères gras, l'insertion d'image, les hyper-liens, les tableaux, etc., référez-vous à la documentation de [*Markdown*](https://github.com/adam-p/markdown-here/wiki/Markdown-Here-Cheatsheet)."
   ]
  },
  {
   "cell_type": "markdown",
   "metadata": {},
   "source": [
    "Si votre environnement de travail était un avion, `R` serait le moteur et `RStudio` serait le cockpit!\n",
    "\n",
    "![](https://media.giphy.com/media/GmaV9oet9MAmI/giphy.gif)"
   ]
  },
  {
   "cell_type": "markdown",
   "metadata": {},
   "source": [
    "## Installation avec Anaconda\n",
    "\n",
    "Si vous cherchez une trousse complète d'analyse de données, comprenant `R` et `Python`, vous pourrez préférer [Anaconda](https://www.anaconda.com/download/#linux). Une fois installée, vous pourrez isoler une environnement de travail sur `R`, ou même isoler des environnements de travail particuliers pour vos projets. Une manière conviviale de créer des environnements de travail est de passer par l'interface *Anaconda navigator*, que vous lancerez soit dans le menu Windows, soit en ligne de commande `anaconda-navigator` sous Mac et Linux, puis d'installer `r-essentials`, `rstudio` et `jupyterlab` dans l'onglet *Environment*. Vous pourrez aussi installer `RStudio` et `Jupyter lab` via l'onglet *Home* de `Anaconda navigator`. Dans l'environnement de base, installez le package `nb_conda_kernels` pour vous assurer que tous les noyaux (`R`, `Python`, etc.) installés dans les environnements de travail soient automatiquement accessibles dans Jupyter.\n",
    "\n",
    "<center><img src=\"images/anaconda-navigator.png\" width=800></center>\n",
    "\n",
    "`Jupyter lab` est une interface notebook semblable à `R notebook`. C'est justement sous `Jupyter lab` qu'est rédigé ce document. À vrai dire, l'utilisation de `R` en Anaconda n'est pas tout à fait au point, et pourrait poser problème pour l'installation de certains modules. Si vous optez pour cette option, préparez-vous à avoir à bidouiller un peu."
   ]
  },
  {
   "cell_type": "markdown",
   "metadata": {},
   "source": [
    "### Utilisation de Azure notebooks\n",
    "\n",
    "Microsoft rend disponible gratuitement un service de notebook en ligne nommé [Azure notebooks](https://notebooks.azure.com/). Vous y aurez accès avec un compte Exchange (par exemple, votre IDUL de l'Université Laval) ou bien avec un compte Microsoft (Outlook, Skype, Hotmail, etc.). Microsoft Azure fonctionne avec Anaconda, et hérite de certaines difficultés à installer des packages. Avantages majeurs: tout fonctionne dans les nuages, donc (1) vous pouvez obtenir des performances intéressantes même si avec un processeur agé ou bas de gamme et (2) vous n'avez rien à installer sur votre machine. Désavantages majeurs: (1) vous devez être conecté à internet et (2) vous devrez installer vos modules à chaque fois que vous vous connecterez pour débuter une session de calcul. Apparamment, l'option de travail collaboratif sur un même notebook est [en cours de développement](https://github.com/Microsoft/AzureNotebooks/issues/6#issuecomment-346531536).\n",
    "\n",
    "<center><img src=\"images/azure-notebook.png\" width=800></center>\n",
    "\n"
   ]
  },
  {
   "cell_type": "markdown",
   "metadata": {},
   "source": [
    "## Premiers pas avec `R`\n",
    "\n",
    "`R` ne fonctionne pas avec des menus, en faisant danser une souris sous une musique de clics. Vous devrez donc entrer des commandes avec votre clavier, que vous apprendrez par coeur au fur et à mesure, ou que vous retrouverez en lançant des recherches sur internet. Par expérience personnelle, lorsque je travaille avec `R`, j'ai toujours un navigateur ouvert prêt à recevoir une question."
   ]
  },
  {
   "cell_type": "markdown",
   "metadata": {},
   "source": [
    "Pour l'instant, ouvrez seulement un interprétateur de commande, et lancez `R`. Voyons si `R` est aussi libre qu'on le prétend.\n",
    "\n",
    "> \"La liberté, c’est la liberté de dire que deux et deux font quatre. Si cela est accordé, tout le reste suit.\" - George Orwell, 1984"
   ]
  },
  {
   "cell_type": "code",
   "execution_count": 2,
   "metadata": {
    "inputHidden": false,
    "outputHidden": false
   },
   "outputs": [
    {
     "data": {
      "text/html": [
       "4"
      ],
      "text/latex": [
       "4"
      ],
      "text/markdown": [
       "4"
      ],
      "text/plain": [
       "[1] 4"
      ]
     },
     "metadata": {},
     "output_type": "display_data"
    }
   ],
   "source": [
    "2+2"
   ]
  },
  {
   "cell_type": "markdown",
   "metadata": {},
   "source": [
    "Et voilà.\n",
    "\n",
    "<img width=\"200\" src=\"images/braveheart224.png\">\n",
    "\n",
    "Les opérations mathématiques sont effectuées telles que l'on devrait s'attendre."
   ]
  },
  {
   "cell_type": "code",
   "execution_count": 3,
   "metadata": {
    "inputHidden": false,
    "outputHidden": false
   },
   "outputs": [
    {
     "data": {
      "text/html": [
       "23.8"
      ],
      "text/latex": [
       "23.8"
      ],
      "text/markdown": [
       "23.8"
      ],
      "text/plain": [
       "[1] 23.8"
      ]
     },
     "metadata": {},
     "output_type": "display_data"
    }
   ],
   "source": [
    "67.1-43.3"
   ]
  },
  {
   "cell_type": "code",
   "execution_count": 4,
   "metadata": {
    "inputHidden": false,
    "outputHidden": false
   },
   "outputs": [
    {
     "data": {
      "text/html": [
       "8"
      ],
      "text/latex": [
       "8"
      ],
      "text/markdown": [
       "8"
      ],
      "text/plain": [
       "[1] 8"
      ]
     },
     "metadata": {},
     "output_type": "display_data"
    }
   ],
   "source": [
    "2*4"
   ]
  },
  {
   "cell_type": "code",
   "execution_count": 5,
   "metadata": {
    "inputHidden": false,
    "outputHidden": false
   },
   "outputs": [
    {
     "data": {
      "text/html": [
       "0.5"
      ],
      "text/latex": [
       "0.5"
      ],
      "text/markdown": [
       "0.5"
      ],
      "text/plain": [
       "[1] 0.5"
      ]
     },
     "metadata": {},
     "output_type": "display_data"
    }
   ],
   "source": [
    "1/2"
   ]
  },
  {
   "cell_type": "markdown",
   "metadata": {},
   "source": [
    "L'exposant peut être noté `^`, comme c'est le cas dans *Excel*, ou `**` comme c'est le cas en `Python`."
   ]
  },
  {
   "cell_type": "code",
   "execution_count": 6,
   "metadata": {
    "inputHidden": false,
    "outputHidden": false
   },
   "outputs": [
    {
     "data": {
      "text/html": [
       "16"
      ],
      "text/latex": [
       "16"
      ],
      "text/markdown": [
       "16"
      ],
      "text/plain": [
       "[1] 16"
      ]
     },
     "metadata": {},
     "output_type": "display_data"
    }
   ],
   "source": [
    "2**4"
   ]
  },
  {
   "cell_type": "code",
   "execution_count": 7,
   "metadata": {},
   "outputs": [
    {
     "data": {
      "text/html": [
       "16"
      ],
      "text/latex": [
       "16"
      ],
      "text/markdown": [
       "16"
      ],
      "text/plain": [
       "[1] 16"
      ]
     },
     "metadata": {},
     "output_type": "display_data"
    }
   ],
   "source": [
    "2^4"
   ]
  },
  {
   "cell_type": "code",
   "execution_count": 30,
   "metadata": {
    "inputHidden": false,
    "outputHidden": false
   },
   "outputs": [
    {
     "data": {
      "text/html": [
       "0.5"
      ],
      "text/latex": [
       "0.5"
      ],
      "text/markdown": [
       "0.5"
      ],
      "text/plain": [
       "[1] 0.5"
      ]
     },
     "metadata": {},
     "output_type": "display_data"
    }
   ],
   "source": [
    "1 / 2 # les espaces ne signifie rien ici"
   ]
  },
  {
   "cell_type": "markdown",
   "metadata": {},
   "source": [
    "`R` ne lit pas ce qui suit le caractère `#`. Cela vous laisse l'opportunité de commenter un code comprenant une qéquence de plusieurs lignes. Remarquez également que la dernière opération comporte des espaces entre les nombres et l'opérateur `/`. Dans ce cas (ce n'est pas toujours le cas), les espaces ne signifient rien: ils aident seulement à éclaircir le code. Il existe des guides pour l'écriture de code en `R`. Je recommande le guide de style de [Hadley Wickahm](http://adv-r.had.co.nz/Style.html).\n",
    "\n",
    "Assigner des objets à des variables est fondamental en programmation. En `R`, on assigne traditionnellement avec la flèche `<-`, mais vous verrez parfois le `=`, quiest davantage utilisé comme standard dans d'autres langages de programmation. Par exemple."
   ]
  },
  {
   "cell_type": "code",
   "execution_count": 8,
   "metadata": {
    "collapsed": true,
    "inputHidden": false,
    "outputHidden": false
   },
   "outputs": [],
   "source": [
    "a <- 3"
   ]
  },
  {
   "cell_type": "markdown",
   "metadata": {},
   "source": [
    "Techniquement, `a` pointe vers le nombre entier 3. Conséquemment, on peut effectuer des opérations sur `a`."
   ]
  },
  {
   "cell_type": "code",
   "execution_count": 10,
   "metadata": {
    "inputHidden": false,
    "outputHidden": false
   },
   "outputs": [
    {
     "data": {
      "text/html": [
       "18"
      ],
      "text/latex": [
       "18"
      ],
      "text/markdown": [
       "18"
      ],
      "text/plain": [
       "[1] 18"
      ]
     },
     "metadata": {},
     "output_type": "display_data"
    }
   ],
   "source": [
    "a * 6"
   ]
  },
  {
   "cell_type": "code",
   "execution_count": 11,
   "metadata": {
    "inputHidden": false,
    "outputHidden": false
   },
   "outputs": [
    {
     "ename": "ERROR",
     "evalue": "Error in eval(expr, envir, enclos): objet 'A' introuvable\n",
     "output_type": "error",
     "traceback": [
      "Error in eval(expr, envir, enclos): objet 'A' introuvable\nTraceback:\n"
     ]
    }
   ],
   "source": [
    "A + 2"
   ]
  },
  {
   "cell_type": "markdown",
   "metadata": {},
   "source": [
    "Le message d'erreur nous dit que `A` n'est pas défini. Sa version minuscule, `a`, l'est pourtant. La raison est que `R` considère la *case* dans la définition des objets. Utiliser la mauvaise case mène donc à des erreurs.\n",
    "\n",
    "En général, le nom d'une variable doit toujours commencer par une lettre, et ne doit pas contenir de caractères réservés (espaces, `+`, `*`). Dans la définition des variables, plusieurs utilisent des symboles `.` pour délimiter les mots, mais la barre de soulignement `_` est à préférer. En effet, dans d'autres langages de programmation comme `Python`, le `.` a une autre signification: son utilisation est à éviter autant que possible."
   ]
  },
  {
   "cell_type": "code",
   "execution_count": 11,
   "metadata": {},
   "outputs": [
    {
     "data": {
      "text/html": [
       "15000"
      ],
      "text/latex": [
       "15000"
      ],
      "text/markdown": [
       "15000"
      ],
      "text/plain": [
       "[1] 15000"
      ]
     },
     "metadata": {},
     "output_type": "display_data"
    }
   ],
   "source": [
    "rendement_arbre = 50 # pomme/arbre\n",
    "nombre_arbre = 300 # arbre\n",
    "nombre_pomme = rendement_arbre * nombre_arbre\n",
    "nombre_pomme"
   ]
  },
  {
   "cell_type": "markdown",
   "metadata": {},
   "source": [
    "Comme chez la plupart des langages de prorgammation, `R` respecte les conventions des [priorités des opérations mathéatiques](https://fr.wikipedia.org/wiki/Ordre_des_op%C3%A9rations)."
   ]
  },
  {
   "cell_type": "code",
   "execution_count": 14,
   "metadata": {},
   "outputs": [
    {
     "data": {
      "text/html": [
       "4"
      ],
      "text/latex": [
       "4"
      ],
      "text/markdown": [
       "4"
      ],
      "text/plain": [
       "[1] 4"
      ]
     },
     "metadata": {},
     "output_type": "display_data"
    }
   ],
   "source": [
    "10 - 9 ^ 0.5 * 2"
   ]
  },
  {
   "cell_type": "markdown",
   "metadata": {},
   "source": [
    "### Types de données\n",
    "\n",
    "Jusqu'à maintenant, nous n'avons utilisé que des **nombres entiers** (*integer* ou `int`) et des **nombres réels** (*numeric* ou `float64`). `R` inclut d'autres types. La **chaîne de caractère** (*string* ou *character*) contient un ou plusieurs symboles. Elle est définie entre des double-guillemets `\" \"` ou des apostrophes `' '`. Il n'existe pas de standard sur l'utilisation de l'un ou de l'autre, mais en règle générale, on utilise les apostrophe pour les experssions courtes, contenant un simple mot ou séquence de lettres, et les guillements pour les phrases. Une raison pour cela: les guillemets sont utiles pour insérer des apostrophes dans une chaîne de caractère."
   ]
  },
  {
   "cell_type": "code",
   "execution_count": 33,
   "metadata": {
    "inputHidden": false,
    "outputHidden": false
   },
   "outputs": [
    {
     "data": {
      "text/html": [
       "'L\\'ours polaire'"
      ],
      "text/latex": [
       "'L\\textbackslash{}'ours polaire'"
      ],
      "text/markdown": [
       "'L\\'ours polaire'"
      ],
      "text/plain": [
       "[1] \"L'ours polaire\""
      ]
     },
     "metadata": {},
     "output_type": "display_data"
    }
   ],
   "source": [
    "a = \"L'ours\"\n",
    "b = \"polaire\"\n",
    "paste(a, b)"
   ]
  },
  {
   "cell_type": "markdown",
   "metadata": {},
   "source": [
    "On *colle* `a` et `b` avec la fonction `paste`. Notez que l'objet `a` a été défini précédemment. Il est possible en `R` de réassigner une variable, mais cela peut porter à confusion, jusqu'à générer des erreurs de calcul si une variable n'est pas assigné à l'objet auquel on voulait référer.\n",
    "\n",
    "Combien de caractères contient la chaîne `\"L'ours polaire\"`? `R` sait compter. Demandons-lui."
   ]
  },
  {
   "cell_type": "code",
   "execution_count": 35,
   "metadata": {
    "inputHidden": false,
    "outputHidden": false
   },
   "outputs": [
    {
     "data": {
      "text/html": [
       "14"
      ],
      "text/latex": [
       "14"
      ],
      "text/markdown": [
       "14"
      ],
      "text/plain": [
       "[1] 14"
      ]
     },
     "metadata": {},
     "output_type": "display_data"
    }
   ],
   "source": [
    "c = paste(a, b)\n",
    "nchar(c)"
   ]
  },
  {
   "cell_type": "markdown",
   "metadata": {},
   "source": [
    "Quatorze, c'est bien cela (comptez \"L'ours polaire\", en incluant l'espace). Comme `paste`, `nchar` est une fonction incluse par défaut dans l'environnement de travail de `R`: plus précisément, ces fonctions sont incluses dans le module `base`, inclut par défaut lorsque `R` est lancé. La fonction est appelée en écrivant `nchar()`. Mais une fonction de quoi? Des *arguments*, qui se trouvent entre les parenthèses. Dans ce cas, il y a un seul argument: `c`.\n",
    "\n",
    "En calcul scientifique, il est courrant de lancer des requêtes sur si une résultat est vrai ou faux."
   ]
  },
  {
   "cell_type": "code",
   "execution_count": 39,
   "metadata": {
    "inputHidden": false,
    "outputHidden": false
   },
   "outputs": [
    {
     "name": "stdout",
     "output_type": "stream",
     "text": [
      "[1] FALSE\n",
      "[1] TRUE\n",
      "[1] FALSE\n",
      "[1] TRUE\n",
      "[1] TRUE\n",
      "[1] FALSE\n"
     ]
    }
   ],
   "source": [
    "a = 17\n",
    "print(a < 10)\n",
    "print(a > 10)\n",
    "print(a == 10)\n",
    "print(a != 10)\n",
    "print(a == 17)\n",
    "print(!(a == 17))"
   ]
  },
  {
   "cell_type": "markdown",
   "metadata": {},
   "source": [
    "Je viens d'introduire un nouveau type de donnée: les données booléennes (*boolean*, ou `logical`), qui ne peuvent prendre que deux états - `TRUE` ou `FALSE`. En même temps, j'ai utilisé la fonction `print` parce que dans mon carnet, seule la dernière opération permet d'afficher le résultat. Si l'on veut forcer une sortie, on utilise `print`. Puis, on a vu plus haut que le symbole `=` est réservé pour assigner des objets: pour les tests d'égalité, on utilise le double égal, `==`, ou `!=` pour la non égalité. Enfin, pour inverser une donnée de type booléenne, on utilise le point d'exclamation `!`."
   ]
  },
  {
   "cell_type": "markdown",
   "metadata": {},
   "source": [
    "### Les collections de données\n",
    "\n",
    "Les exercices précédents ont permis de présenter les types de données offerts par défault sur Python qui sont les plus importants pour le calcul scientifique: `int` (*integer*, ou nombre entier), `numeric` (nombre réel), `character` (*string*, ou chaîne de caractère) et `logical` (booléen). D'autres s'ajouterons tout au long du cours, comme les unités de temps (date-heure), les catégories () et les géométries (points, linges, polygones) géoréférencées.\n",
    "\n",
    "Lorsque l'on procède à des opérations de calcul en science, nous utilisons rarement des valeurs uniques. Nous préférons les oragniser et les traiter en collections. Par défaut, `R` offre quatre types importants: les **vecteurs**, les **matrices**, les **listes** et les **tableaux**.\n",
    "\n",
    "#### Vecteurs\n",
    "\n",
    "D'abord, les **vecteurs** sont une série de variables d'un seul type. Un vecteur est délimité par la fonction `c( )` (`c` pour **c**oncaténation). Les éléments de la liste sont séparés par des virgules."
   ]
  },
  {
   "cell_type": "code",
   "execution_count": 48,
   "metadata": {
    "inputHidden": false,
    "outputHidden": false
   },
   "outputs": [
    {
     "data": {
      "text/html": [
       "<ol class=list-inline>\n",
       "\t<li>'Petromyzon marinus'</li>\n",
       "\t<li>'Lepisosteus osseus'</li>\n",
       "\t<li>'Amia calva'</li>\n",
       "\t<li>'Hiodon tergisus'</li>\n",
       "</ol>\n"
      ],
      "text/latex": [
       "\\begin{enumerate*}\n",
       "\\item 'Petromyzon marinus'\n",
       "\\item 'Lepisosteus osseus'\n",
       "\\item 'Amia calva'\n",
       "\\item 'Hiodon tergisus'\n",
       "\\end{enumerate*}\n"
      ],
      "text/markdown": [
       "1. 'Petromyzon marinus'\n",
       "2. 'Lepisosteus osseus'\n",
       "3. 'Amia calva'\n",
       "4. 'Hiodon tergisus'\n",
       "\n",
       "\n"
      ],
      "text/plain": [
       "[1] \"Petromyzon marinus\" \"Lepisosteus osseus\" \"Amia calva\"        \n",
       "[4] \"Hiodon tergisus\"   "
      ]
     },
     "metadata": {},
     "output_type": "display_data"
    }
   ],
   "source": [
    "espece = c('Petromyzon marinus', 'Lepisosteus osseus', 'Amia calva', 'Hiodon tergisus')\n",
    "espece"
   ]
  },
  {
   "cell_type": "markdown",
   "metadata": {},
   "source": [
    "Pour accéder aux éléments d'une liste, appelle la liste suivie de la position de l'objet désiré entre crochets. Fait important qui reviendra tout au long du cours: en Python, l'indice du premier élément est zéro."
   ]
  },
  {
   "cell_type": "code",
   "execution_count": 50,
   "metadata": {
    "inputHidden": false,
    "outputHidden": false
   },
   "outputs": [
    {
     "name": "stdout",
     "output_type": "stream",
     "text": [
      "[1] \"Petromyzon marinus\"\n",
      "[1] \"Lepisosteus osseus\"\n",
      "[1] \"Petromyzon marinus\" \"Lepisosteus osseus\" \"Amia calva\"        \n",
      "[1] \"Petromyzon marinus\" \"Amia calva\"        \n"
     ]
    }
   ],
   "source": [
    "print(espece[1])\n",
    "print(espece[2])\n",
    "print(espece[1:3])\n",
    "print(espece[c(1, 3)])"
   ]
  },
  {
   "cell_type": "markdown",
   "metadata": {},
   "source": [
    "On peut noter que le premier élément de la liste est noté `1`, et non `0` comme c'est le cas de la plupart de langages. Le raccourcis `1:3` crée une liste de nombres entiers de `1` à `3` inclusivement, c'est-à-dire l'équivalent de `c(1, 2, 3)`. En effet, on crée une liste d'indice pour soutirer des éléments d'une liste. On peut utiliser le symbole de soustraction pour retirer un ou plusieurs éléments d'un vecteur."
   ]
  },
  {
   "cell_type": "code",
   "execution_count": 52,
   "metadata": {},
   "outputs": [
    {
     "name": "stdout",
     "output_type": "stream",
     "text": [
      "[1] \"Lepisosteus osseus\" \"Hiodon tergisus\"   \n"
     ]
    }
   ],
   "source": [
    "print(espece[-c(1, 3)])"
   ]
  },
  {
   "cell_type": "markdown",
   "metadata": {},
   "source": [
    "Pour ajouter un élément à notre liste, on peut utiliser la fonction `c( )`."
   ]
  },
  {
   "cell_type": "code",
   "execution_count": 53,
   "metadata": {
    "inputHidden": false,
    "outputHidden": false
   },
   "outputs": [
    {
     "data": {
      "text/html": [
       "<ol class=list-inline>\n",
       "\t<li>'Petromyzon marinus'</li>\n",
       "\t<li>'Lepisosteus osseus'</li>\n",
       "\t<li>'Amia calva'</li>\n",
       "\t<li>'Hiodon tergisus'</li>\n",
       "\t<li>'Cyprinus carpio'</li>\n",
       "</ol>\n"
      ],
      "text/latex": [
       "\\begin{enumerate*}\n",
       "\\item 'Petromyzon marinus'\n",
       "\\item 'Lepisosteus osseus'\n",
       "\\item 'Amia calva'\n",
       "\\item 'Hiodon tergisus'\n",
       "\\item 'Cyprinus carpio'\n",
       "\\end{enumerate*}\n"
      ],
      "text/markdown": [
       "1. 'Petromyzon marinus'\n",
       "2. 'Lepisosteus osseus'\n",
       "3. 'Amia calva'\n",
       "4. 'Hiodon tergisus'\n",
       "5. 'Cyprinus carpio'\n",
       "\n",
       "\n"
      ],
      "text/plain": [
       "[1] \"Petromyzon marinus\" \"Lepisosteus osseus\" \"Amia calva\"        \n",
       "[4] \"Hiodon tergisus\"    \"Cyprinus carpio\"   "
      ]
     },
     "metadata": {},
     "output_type": "display_data"
    }
   ],
   "source": [
    "espece = c(espece, \"Cyprinus carpio\")\n",
    "espece"
   ]
  },
  {
   "cell_type": "markdown",
   "metadata": {},
   "source": [
    "Notez que l'on efface l'objet `espece` par une contaténation de l'objet `espèce`, précédemment défini, et d'un autre élément. "
   ]
  },
  {
   "cell_type": "markdown",
   "metadata": {},
   "source": [
    " En lançant `espece[6] = \"Lepomis gibbosus\"`, il est possible de changer une élément de la liste."
   ]
  },
  {
   "cell_type": "code",
   "execution_count": 56,
   "metadata": {
    "inputHidden": false,
    "outputHidden": false
   },
   "outputs": [
    {
     "data": {
      "text/html": [
       "<ol class=list-inline>\n",
       "\t<li>'Petromyzon marinus'</li>\n",
       "\t<li>'Lepisosteus osseus'</li>\n",
       "\t<li>'Lepomis gibbosus'</li>\n",
       "\t<li>'Hiodon tergisus'</li>\n",
       "\t<li>'Cyprinus carpio'</li>\n",
       "</ol>\n"
      ],
      "text/latex": [
       "\\begin{enumerate*}\n",
       "\\item 'Petromyzon marinus'\n",
       "\\item 'Lepisosteus osseus'\n",
       "\\item 'Lepomis gibbosus'\n",
       "\\item 'Hiodon tergisus'\n",
       "\\item 'Cyprinus carpio'\n",
       "\\end{enumerate*}\n"
      ],
      "text/markdown": [
       "1. 'Petromyzon marinus'\n",
       "2. 'Lepisosteus osseus'\n",
       "3. 'Lepomis gibbosus'\n",
       "4. 'Hiodon tergisus'\n",
       "5. 'Cyprinus carpio'\n",
       "\n",
       "\n"
      ],
      "text/plain": [
       "[1] \"Petromyzon marinus\" \"Lepisosteus osseus\" \"Lepomis gibbosus\"  \n",
       "[4] \"Hiodon tergisus\"    \"Cyprinus carpio\"   "
      ]
     },
     "metadata": {},
     "output_type": "display_data"
    }
   ],
   "source": [
    "espece[3] = \"Lepomis gibbosus\"\n",
    "espece"
   ]
  },
  {
   "cell_type": "markdown",
   "metadata": {},
   "source": [
    "#### Matrices\n",
    "\n",
    "Une **matrice** est un vecteur de dimension plus élevée que 1. En écologie, on dépasse rarement la deuxième dimension, quoi que les matrices en `N` dimensions soient courrantes en modélisation mathématique. Je ne considérerai pour le moment que des matrices `2D`. Comme c'est la cas des vecteurs, les matrices contiennent des valeurs de même type. En `R`, on peut attribuer aux matrices `2D` des noms de ligne et de colonne."
   ]
  },
  {
   "cell_type": "code",
   "execution_count": 57,
   "metadata": {
    "inputHidden": false,
    "outputHidden": false
   },
   "outputs": [
    {
     "data": {
      "text/html": [
       "<table>\n",
       "<tbody>\n",
       "\t<tr><td>1 </td><td>5 </td><td> 9</td></tr>\n",
       "\t<tr><td>2 </td><td>6 </td><td>10</td></tr>\n",
       "\t<tr><td>3 </td><td>7 </td><td>11</td></tr>\n",
       "\t<tr><td>4 </td><td>8 </td><td>12</td></tr>\n",
       "</tbody>\n",
       "</table>\n"
      ],
      "text/latex": [
       "\\begin{tabular}{lll}\n",
       "\t 1  & 5  &  9\\\\\n",
       "\t 2  & 6  & 10\\\\\n",
       "\t 3  & 7  & 11\\\\\n",
       "\t 4  & 8  & 12\\\\\n",
       "\\end{tabular}\n"
      ],
      "text/markdown": [
       "\n",
       "| 1  | 5  |  9 | \n",
       "| 2  | 6  | 10 | \n",
       "| 3  | 7  | 11 | \n",
       "| 4  | 8  | 12 | \n",
       "\n",
       "\n"
      ],
      "text/plain": [
       "     [,1] [,2] [,3]\n",
       "[1,] 1    5     9  \n",
       "[2,] 2    6    10  \n",
       "[3,] 3    7    11  \n",
       "[4,] 4    8    12  "
      ]
     },
     "metadata": {},
     "output_type": "display_data"
    }
   ],
   "source": [
    "mat = matrix(c(1, 2, 3, 4, 5, 6, 7, 8, 9, 10, 11, 12), ncol=3)\n",
    "mat"
   ]
  },
  {
   "cell_type": "code",
   "execution_count": 59,
   "metadata": {},
   "outputs": [
    {
     "data": {
      "text/html": [
       "<table>\n",
       "<thead><tr><th></th><th scope=col>A</th><th scope=col>B</th><th scope=col>C</th></tr></thead>\n",
       "<tbody>\n",
       "\t<tr><th scope=row>site_1</th><td>1 </td><td>5 </td><td> 9</td></tr>\n",
       "\t<tr><th scope=row>site_2</th><td>2 </td><td>6 </td><td>10</td></tr>\n",
       "\t<tr><th scope=row>site_3</th><td>3 </td><td>7 </td><td>11</td></tr>\n",
       "\t<tr><th scope=row>site_4</th><td>4 </td><td>8 </td><td>12</td></tr>\n",
       "</tbody>\n",
       "</table>\n"
      ],
      "text/latex": [
       "\\begin{tabular}{r|lll}\n",
       "  & A & B & C\\\\\n",
       "\\hline\n",
       "\tsite\\_1 & 1  & 5  &  9\\\\\n",
       "\tsite\\_2 & 2  & 6  & 10\\\\\n",
       "\tsite\\_3 & 3  & 7  & 11\\\\\n",
       "\tsite\\_4 & 4  & 8  & 12\\\\\n",
       "\\end{tabular}\n"
      ],
      "text/markdown": [
       "\n",
       "| <!--/--> | A | B | C | \n",
       "|---|---|---|---|\n",
       "| site_1 | 1  | 5  |  9 | \n",
       "| site_2 | 2  | 6  | 10 | \n",
       "| site_3 | 3  | 7  | 11 | \n",
       "| site_4 | 4  | 8  | 12 | \n",
       "\n",
       "\n"
      ],
      "text/plain": [
       "       A B C \n",
       "site_1 1 5  9\n",
       "site_2 2 6 10\n",
       "site_3 3 7 11\n",
       "site_4 4 8 12"
      ]
     },
     "metadata": {},
     "output_type": "display_data"
    }
   ],
   "source": [
    "colnames(mat) = c('A', 'B', 'C')\n",
    "rownames(mat) = c('site_1', 'site_2', 'site_3', 'site_4')\n",
    "mat"
   ]
  },
  {
   "cell_type": "code",
   "execution_count": 68,
   "metadata": {},
   "outputs": [
    {
     "name": "stdout",
     "output_type": "stream",
     "text": [
      ", , 1\n",
      "\n",
      "     [,1] [,2] [,3] [,4]\n",
      "[1,]    1    4    7   10\n",
      "[2,]    2    5    8   11\n",
      "[3,]    3    6    9   12\n",
      "\n",
      ", , 2\n",
      "\n",
      "     [,1] [,2] [,3] [,4]\n",
      "[1,]   13   16   19   22\n",
      "[2,]   14   17   20   23\n",
      "[3,]   15   18   21   24\n",
      "\n"
     ]
    }
   ],
   "source": [
    "print(array(1:24, dim=c(3,4,2)))"
   ]
  },
  {
   "cell_type": "markdown",
   "metadata": {},
   "source": [
    "#### Listes\n",
    "\n",
    "Les **listes** ressemblent aux vecteurs, mais:\n",
    "\n",
    "0. elles peuvent même contenir des variables de types hétérogènes: ellespeuvent même inclure d'autres listes.\n",
    "0. chacun des éléments de la liste peut être identifié par une clé"
   ]
  },
  {
   "cell_type": "code",
   "execution_count": null,
   "metadata": {},
   "outputs": [],
   "source": []
  },
  {
   "cell_type": "code",
   "execution_count": null,
   "metadata": {},
   "outputs": [],
   "source": []
  },
  {
   "cell_type": "markdown",
   "metadata": {},
   "source": [
    "Les **tuples**, définis `tuple` par Python, différent des listes du fait que ses éléments ne peuvent pas être modifiés. Un tuple est délimité par des parenthèses `( )`, et comme chez la liste,  ses éléments sont séparés par des virgules. Les tuples sont moins polyvalents que les listes. Vous les utiliserez probablement rarement, et surtout comme arguments dans certaines fonctions en calcul scientifique."
   ]
  },
  {
   "cell_type": "code",
   "execution_count": 17,
   "metadata": {
    "inputHidden": false,
    "outputHidden": false
   },
   "outputs": [
    {
     "ename": "TypeError",
     "evalue": "'tuple' object does not support item assignment",
     "output_type": "error",
     "traceback": [
      "\u001b[1;31m---------------------------------------------------------------------------\u001b[0m",
      "\u001b[1;31mTypeError\u001b[0m                                 Traceback (most recent call last)",
      "\u001b[1;32m<ipython-input-17-015dcfee479d>\u001b[0m in \u001b[0;36m<module>\u001b[1;34m()\u001b[0m\n\u001b[0;32m      1\u001b[0m \u001b[0mespece\u001b[0m \u001b[1;33m=\u001b[0m \u001b[1;33m(\u001b[0m\u001b[1;34m'Petromyzon marinus'\u001b[0m\u001b[1;33m,\u001b[0m \u001b[1;34m'Lepisosteus osseus'\u001b[0m\u001b[1;33m,\u001b[0m \u001b[1;34m'Amia calva'\u001b[0m\u001b[1;33m,\u001b[0m \u001b[1;34m'Hiodon tergisus'\u001b[0m\u001b[1;33m)\u001b[0m\u001b[1;33m\u001b[0m\u001b[0m\n\u001b[1;32m----> 2\u001b[1;33m \u001b[0mespece\u001b[0m\u001b[1;33m[\u001b[0m\u001b[1;36m2\u001b[0m\u001b[1;33m]\u001b[0m \u001b[1;33m=\u001b[0m \u001b[1;34m\"Lepomis gibbosus\"\u001b[0m\u001b[1;33m\u001b[0m\u001b[0m\n\u001b[0m\u001b[0;32m      3\u001b[0m \u001b[0mespece\u001b[0m\u001b[1;33m\u001b[0m\u001b[0m\n",
      "\u001b[1;31mTypeError\u001b[0m: 'tuple' object does not support item assignment"
     ]
    }
   ],
   "source": [
    "espece = ('Petromyzon marinus', 'Lepisosteus osseus', 'Amia calva', 'Hiodon tergisus')\n",
    "espece[2] = \"Lepomis gibbosus\"\n",
    "espece"
   ]
  },
  {
   "cell_type": "markdown",
   "metadata": {
    "inputHidden": false,
    "outputHidden": false
   },
   "source": [
    "Les **dictionnaires**, ou `dict`, sont des listes dont chaque élément est identifié par une clé. Un dictionnaire est délimité par des accolades sous forme `mon_dict = {'clé1': x, 'clé2': y, 'clé3': z }`. On appelle un élément par sa clé entre des crochets, par exemple `mon_dict['clé1']`.\n",
    "\n",
    "Le `dict` se rapproche d'un tableau: nous verrons plus tard que le format de tableau (offert dans un module complémentaire) est bâti à partir du format `dict`. Contrairement à un tableau où les colonnes contiennent toutes le même nombre de lignes, chaque élément du dictionnaire est indépendant des autres."
   ]
  },
  {
   "cell_type": "code",
   "execution_count": 21,
   "metadata": {
    "inputHidden": false,
    "outputHidden": false
   },
   "outputs": [
    {
     "name": "stdout",
     "output_type": "stream",
     "text": [
      "Mon tableau:  {'poids': [10, 13, 21, 4], 'espece': ['Petromyzon marinus', 'Lepisosteus osseus', 'Amia calva', 'Hiodon tergisus'], 'longueur': [35, 44, 50, 8]}\n",
      "Mes espèces: ['Petromyzon marinus', 'Lepisosteus osseus', 'Amia calva', 'Hiodon tergisus']\n",
      "Noms des clés (ou colonnes): dict_keys(['poids', 'espece', 'longueur'])\n"
     ]
    }
   ],
   "source": [
    "tableau = {'espece': ['Petromyzon marinus', 'Lepisosteus osseus', 'Amia calva', 'Hiodon tergisus'], 'poids': [10, 13, 21, 4], 'longueur': [35, 44, 50, 8]}\n",
    "print('Mon tableau: ', tableau)\n",
    "print('Mes espèces:',  tableau['espece'])\n",
    "print('Noms des clés (ou colonnes):',  tableau.keys())"
   ]
  },
  {
   "cell_type": "markdown",
   "metadata": {},
   "source": [
    "### Les fonctions (ou *méthodes*)\n",
    "\n",
    "Plus haut, j'ai présenté les fonctions `len` et `append`. Une myriade de fonctions sont livrées par défaut avec Python. Mais il en manque aussi cruellement.\n"
   ]
  },
  {
   "cell_type": "code",
   "execution_count": 18,
   "metadata": {
    "inputHidden": false,
    "outputHidden": false
   },
   "outputs": [
    {
     "ename": "NameError",
     "evalue": "name 'sqrt' is not defined",
     "output_type": "error",
     "traceback": [
      "\u001b[1;31m---------------------------------------------------------------------------\u001b[0m",
      "\u001b[1;31mNameError\u001b[0m                                 Traceback (most recent call last)",
      "\u001b[1;32m<ipython-input-18-40e415486bd6>\u001b[0m in \u001b[0;36m<module>\u001b[1;34m()\u001b[0m\n\u001b[1;32m----> 1\u001b[1;33m \u001b[0msqrt\u001b[0m\u001b[1;33m(\u001b[0m\u001b[1;36m2\u001b[0m\u001b[1;33m)\u001b[0m\u001b[1;33m\u001b[0m\u001b[0m\n\u001b[0m",
      "\u001b[1;31mNameError\u001b[0m: name 'sqrt' is not defined"
     ]
    }
   ],
   "source": [
    "sqrt(2)"
   ]
  },
  {
   "cell_type": "markdown",
   "metadata": {},
   "source": [
    "Message d'erreur: la commande `sqrt` n'est pas définie. \n",
    "\n",
    "> Quoi, Python n'est pas foutu de calculer une racine carrée?\n",
    "\n",
    "Par défaut, non.\n",
    "\n",
    "![](https://media.giphy.com/media/BuXP669E4ewLe/giphy.gif)\n",
    "\n",
    "Mais!\n",
    "\n",
    "De nombreuses extensions (les *modules*) permettent de combler ces manques. Nous aborderons ça un peu plus loin dans ce chapitre. Pour l'instant, exerçons-nous à créer notre propre fonction de racine carrée."
   ]
  },
  {
   "cell_type": "code",
   "execution_count": 20,
   "metadata": {
    "collapsed": true,
    "inputHidden": false,
    "outputHidden": false
   },
   "outputs": [],
   "source": [
    "def racine(x, n=2):\n",
    "    r = x**(1/n)\n",
    "    return r"
   ]
  },
  {
   "cell_type": "markdown",
   "metadata": {},
   "source": [
    "En Python, `def` est le mot-clé pour définir une fonction. Suit ensuite, après un espace, le nom que vous désirez donner à la fonction: `racine`. Les arguments de la fonction suivent entre les parenthèses. Dans ce cas, `x` est la valeur de laquelle on veut extraire la racine et `n` est l'ordre de la racine. L'agument `x` n'a pas de valeur par défaut: elle doit être spécifiée pour que la fonction fonctionne. La mention `n=2` signifie que si la valeur de `n` n'est pas spécifiée, elle prendra la valeur de 2 (la racine carrée). Pour marquer la fin de la définition et le début de la suite d'instructions, on utilise les deux points `:`, puis un retour de ligne. Une indentation (ou retrait) de quatre barres d'espacement signifie que l'on se trouve à l'intérieur de la suite d'instructions, où l'on calcule une valeur de `r` comme l'exposant de l'inverse de l'ordre de la racine. La dernière ligne indique ce que la fonction doit retourner."
   ]
  },
  {
   "cell_type": "code",
   "execution_count": 21,
   "metadata": {
    "inputHidden": false,
    "outputHidden": false
   },
   "outputs": [
    {
     "name": "stdout",
     "output_type": "stream",
     "text": [
      "3.0\n",
      "3.0\n",
      "2.0\n",
      "2.0\n"
     ]
    }
   ],
   "source": [
    "print(racine(9))\n",
    "print(racine(x=9))\n",
    "print(racine(8, 3))\n",
    "print(racine(x=8, n=3))"
   ]
  },
  {
   "cell_type": "markdown",
   "metadata": {},
   "source": [
    "S'ils ne sont pas spécifiés, Python comprend que les arguments sont entrés dans l'ordre défini dans la fonction. En entrant `racine(9)`, Python comprend que le `9` est attribué à `x` et donne à `n` sa valeur par défaut, `2`. Ce qui est équivalent à entrer `racine(x=9)`. Les autres entrées sont aussi équivalentes, et extraient la racine cubique. S'il se peut qu'il y ait confusion entre les arguments nommés et ceux qui ne le sont pas, Python vous retournera un message d'erreur. Règle générale, il est préférable pour la lisibilité du code de nommer les arguments plutôt que de les spécifier dans l'ordre.\n",
    "\n",
    "Supposons maintenant que vous avez une liste de données dont vous voulez extraire la racine."
   ]
  },
  {
   "cell_type": "code",
   "execution_count": 22,
   "metadata": {
    "inputHidden": false,
    "outputHidden": false
   },
   "outputs": [
    {
     "ename": "TypeError",
     "evalue": "unsupported operand type(s) for ** or pow(): 'list' and 'float'",
     "output_type": "error",
     "traceback": [
      "\u001b[1;31m---------------------------------------------------------------------------\u001b[0m",
      "\u001b[1;31mTypeError\u001b[0m                                 Traceback (most recent call last)",
      "\u001b[1;32m<ipython-input-22-2392ba347f65>\u001b[0m in \u001b[0;36m<module>\u001b[1;34m()\u001b[0m\n\u001b[0;32m      1\u001b[0m \u001b[0mdata\u001b[0m \u001b[1;33m=\u001b[0m \u001b[1;33m[\u001b[0m\u001b[1;36m3.5\u001b[0m\u001b[1;33m,\u001b[0m \u001b[1;36m8.1\u001b[0m\u001b[1;33m,\u001b[0m \u001b[1;36m10.2\u001b[0m\u001b[1;33m,\u001b[0m \u001b[1;36m0.5\u001b[0m\u001b[1;33m,\u001b[0m \u001b[1;36m5.6\u001b[0m\u001b[1;33m]\u001b[0m\u001b[1;33m\u001b[0m\u001b[0m\n\u001b[1;32m----> 2\u001b[1;33m \u001b[0mracine\u001b[0m\u001b[1;33m(\u001b[0m\u001b[0mx\u001b[0m\u001b[1;33m=\u001b[0m\u001b[0mdata\u001b[0m\u001b[1;33m,\u001b[0m \u001b[0mn\u001b[0m\u001b[1;33m=\u001b[0m\u001b[1;36m2\u001b[0m\u001b[1;33m)\u001b[0m\u001b[1;33m\u001b[0m\u001b[0m\n\u001b[0m",
      "\u001b[1;32m<ipython-input-20-5b6054ea860f>\u001b[0m in \u001b[0;36mracine\u001b[1;34m(x, n)\u001b[0m\n\u001b[0;32m      1\u001b[0m \u001b[1;32mdef\u001b[0m \u001b[0mracine\u001b[0m\u001b[1;33m(\u001b[0m\u001b[0mx\u001b[0m\u001b[1;33m,\u001b[0m \u001b[0mn\u001b[0m\u001b[1;33m=\u001b[0m\u001b[1;36m2\u001b[0m\u001b[1;33m)\u001b[0m\u001b[1;33m:\u001b[0m\u001b[1;33m\u001b[0m\u001b[0m\n\u001b[1;32m----> 2\u001b[1;33m     \u001b[0mr\u001b[0m \u001b[1;33m=\u001b[0m \u001b[0mx\u001b[0m\u001b[1;33m**\u001b[0m\u001b[1;33m(\u001b[0m\u001b[1;36m1\u001b[0m\u001b[1;33m/\u001b[0m\u001b[0mn\u001b[0m\u001b[1;33m)\u001b[0m\u001b[1;33m\u001b[0m\u001b[0m\n\u001b[0m\u001b[0;32m      3\u001b[0m     \u001b[1;32mreturn\u001b[0m \u001b[0mr\u001b[0m\u001b[1;33m\u001b[0m\u001b[0m\n",
      "\u001b[1;31mTypeError\u001b[0m: unsupported operand type(s) for ** or pow(): 'list' and 'float'"
     ]
    }
   ],
   "source": [
    "data = [3.5, 8.1, 10.2, 0.5, 5.6]\n",
    "racine(x=data, n=2)"
   ]
  },
  {
   "cell_type": "markdown",
   "metadata": {},
   "source": [
    "Oups. Python vous dit qu'il y a une erreur, et vous indique avec une flèche `---->` à quelle ligne de notre fonction elle est encourrue. Les exposants `**` (on peut aussi utiliser la fonction `pow`) ne sont pas applicables aux listes. Une solution est d'appliquer la fonction à chaque élément de la liste avec une **ittération**. On verra plus tard des manières plus efficaces de procéder. Je me sers de ce cas d'étude pour introduire les boucles ittératives."
   ]
  },
  {
   "cell_type": "markdown",
   "metadata": {},
   "source": [
    "### Les boucles\n",
    "\n",
    "Les boucles permettent d'effectuer une même suite d'opérations sur plusieurs objets. Pour faire suite à notre exemple:"
   ]
  },
  {
   "cell_type": "code",
   "execution_count": 26,
   "metadata": {
    "inputHidden": false,
    "outputHidden": false
   },
   "outputs": [
    {
     "data": {
      "text/plain": [
       "[1.8708286933869707,\n",
       " 2.8460498941515415,\n",
       " 3.1937438845342623,\n",
       " 0.7071067811865476,\n",
       " 2.3664319132398464]"
      ]
     },
     "execution_count": 26,
     "metadata": {},
     "output_type": "execute_result"
    }
   ],
   "source": [
    "racine_data = []\n",
    "for i in [0, 1, 2, 3, 4]:\n",
    "    r = racine(x=data[i], n=2)\n",
    "    racine_data.append(r)\n",
    "\n",
    "racine_data"
   ]
  },
  {
   "cell_type": "markdown",
   "metadata": {},
   "source": [
    "Nous avons d'abord créé une liste vide, `racine_data`. Ensuite, pour (**`for`**) chaque indice de la liste (`i in [0, 1, 2, 3, 4]`), nous demandons à Python d'effectuer la suite d'opération qui suit le `;` et qui est indentée de quatre espaces. Dans la suite d'opération, calculer la racine carrée de `data` à l'indice `i`, puis l'ajouter à la liste `racine_data`. Au lieu d'entrer une liste `[0, 1, 2, 3, 4]`, on aurait pu utiliser la fonction `range` et lui assigner automatiquement la longueur de la liste."
   ]
  },
  {
   "cell_type": "code",
   "execution_count": 27,
   "metadata": {
    "inputHidden": false,
    "outputHidden": false
   },
   "outputs": [
    {
     "name": "stdout",
     "output_type": "stream",
     "text": [
      "Racine carrée de  3.5  =  1.8708286933869707\n",
      "Racine carrée de  8.1  =  2.8460498941515415\n",
      "Racine carrée de  10.2  =  3.1937438845342623\n",
      "Racine carrée de  0.5  =  0.7071067811865476\n",
      "Racine carrée de  5.6  =  2.3664319132398464\n"
     ]
    }
   ],
   "source": [
    "racine_data = []\n",
    "for i in range(len(data)):\n",
    "    r = racine(x=data[i], n=2)\n",
    "    print('Racine carrée de ', data[i], ' = ', r)\n",
    "    racine_data.append(r)"
   ]
  },
  {
   "cell_type": "markdown",
   "metadata": {},
   "source": [
    "La fonction `range` retourne une séquence calculée au besoin. Elle est calculée si elle est évoquée dans une boucle ou en lançant `list`."
   ]
  },
  {
   "cell_type": "code",
   "execution_count": 28,
   "metadata": {
    "inputHidden": false,
    "outputHidden": false
   },
   "outputs": [
    {
     "name": "stdout",
     "output_type": "stream",
     "text": [
      "range(0, 5)\n",
      "[0, 1, 2, 3, 4]\n",
      "range(2, 5)\n",
      "[2, 3, 4]\n"
     ]
    }
   ],
   "source": [
    "print(range(len(data)))\n",
    "print(list(range(len(data))))\n",
    "print(range(2, len(data)))\n",
    "print(list(range(2, len(data))))"
   ]
  },
  {
   "cell_type": "markdown",
   "metadata": {},
   "source": [
    "Première observation, si un seul argument est inclus, `range` retourne une séquence partant de zéro. Seconde observation, la séquence se termine en excluant l'argument. Ainsi, `range(2,5)` retourne la séquence [2, 3, 4]. En spécifiant la longueur de data comme argument, la séquence `range(5)` retourne la liste `[0, 1, 2, 3, 4]`, soit les indices dont nous avons besoin pour itérer dans la liste.\n",
    "\n",
    "Les boucles `for` vous permettront par exemple de générer en peu de temps 10, 100, 1000 graphiques (autant que vous voulez), chacun issu de simulations obtenues à partir de conidtions initiales différentes, et de les enregistrer dans un répertoire sur votre ordinateur. Un travail qui pourrait prendre des semaines sur Excel peut être effectué en Python en quelques secondes.\n",
    "\n",
    "Un second outil est disponible pour les itérations: les boucles **`while`**. Elles effectue une opération tant qu'un critère n'est pas atteint. Elles sont utiles pour les opérations où l'on cherche une convergence. Je les couvre rapidement puisque'elles sont rarement utilisées dans les flux de travail courrants. En voici un petit exemple."
   ]
  },
  {
   "cell_type": "code",
   "execution_count": 29,
   "metadata": {
    "inputHidden": false,
    "outputHidden": false
   },
   "outputs": [
    {
     "name": "stdout",
     "output_type": "stream",
     "text": [
      "10.0\n",
      "3.1622776601683795\n",
      "1.7782794100389228\n",
      "1.333521432163324\n",
      "1.1547819846894583\n",
      "1.0746078283213176\n"
     ]
    }
   ],
   "source": [
    "x = 100\n",
    "while (x > 1.1):\n",
    "    x=racine(x)\n",
    "    print(x)"
   ]
  },
  {
   "cell_type": "markdown",
   "metadata": {},
   "source": [
    "Nous avons inité x à une valeur de 100. Puis, tant que (`while`) le test `x > 1.1` est vrai, attribuer à `x` la nouvelle valeur calculée en extrayant la racine de la valeur précédente de `x`. Enfin, indiquer la valeur avec `print`.\n",
    "\n",
    "Explorons maintenant comment Python réagit si on lui demande de calculer $\\sqrt{-1}$."
   ]
  },
  {
   "cell_type": "code",
   "execution_count": 30,
   "metadata": {
    "inputHidden": false,
    "outputHidden": false
   },
   "outputs": [
    {
     "data": {
      "text/plain": [
       "(6.123233995736766e-17+1j)"
      ]
     },
     "execution_count": 30,
     "metadata": {},
     "output_type": "execute_result"
    }
   ],
   "source": [
    "racine(x=-1, n=2)"
   ]
  },
  {
   "cell_type": "markdown",
   "metadata": {},
   "source": [
    "D'abord, Python ne retourne pas de message d'erreur, mais un nouveau type de donnée: le nombre imaginaire. Puis, `6.123233995736766e-17` n'est pas zéro, mais très proche. La résolution des calculs étant numérique, on obeserve parfois de légères déviations par rapport aux solutions mathématiques.\n",
    "\n",
    "Si pour un cas particulier, on veut éviter que notre fonction retourne un nombre imaginaire, comment s'y prendre? Avec une **condition**."
   ]
  },
  {
   "cell_type": "markdown",
   "metadata": {},
   "source": [
    "### Conditions: `if`, `elif`, `else`\n",
    "\n",
    "> `Si la condition 1 est remplie, effectuer une suite d'instruction 1. Si la condition 1 n'est pas remplie, et si la condition 2 est remplie, effectuer la suite d'instruction 2. Sinon, effectuer la suite d'instruction 3.`\n",
    "\n",
    "Voilà comment on exprime une suite de conditions. Pour notre racine d'un nombre négatif, on pourrait procéder comme suit."
   ]
  },
  {
   "cell_type": "code",
   "execution_count": 31,
   "metadata": {
    "collapsed": true,
    "inputHidden": false,
    "outputHidden": false
   },
   "outputs": [],
   "source": [
    "def racine_positive_nn(x, n=2):\n",
    "    if x<0:\n",
    "        raise ValueError(\"x est négatif\")\n",
    "    elif x==0:\n",
    "        raise ValueError(\"x est nul\")\n",
    "    else:\n",
    "        r = x**(1/n)\n",
    "        return r"
   ]
  },
  {
   "cell_type": "markdown",
   "metadata": {},
   "source": [
    "La racine positive et non-nulle (`racine_positive_nn`) comprend les mot-clés `if` (si), `elif` (une contration de *else if*) et `else` (sinon). `ValueError` est une fonction pour retourner un message d'erreur lorsqu'elle est précédée de `raise`. Comme c'est le cas pour `def` et `for`, les instructions des conditions sont indentées. Notez la double indentation (8 espaces) pour les instructions des conditions. Alors que la plupart des langages de programmation demandent d'emboîter les instructions dans des parenthèses, accolades et crochets, Python préfère nous forcer à bien indenter le code (ce que l'on devrait faire de toute manière pour améliorer la lisibilité) et s'y fier pour effectuer ses opérations."
   ]
  },
  {
   "cell_type": "code",
   "execution_count": 32,
   "metadata": {
    "inputHidden": false,
    "outputHidden": false
   },
   "outputs": [
    {
     "ename": "ValueError",
     "evalue": "x est négatif",
     "output_type": "error",
     "traceback": [
      "\u001b[0;31m---------------------------------------------------------------------------\u001b[0m",
      "\u001b[0;31mValueError\u001b[0m                                Traceback (most recent call last)",
      "\u001b[0;32m<ipython-input-32-433df026cdcb>\u001b[0m in \u001b[0;36m<module>\u001b[0;34m()\u001b[0m\n\u001b[0;32m----> 1\u001b[0;31m \u001b[0mracine_positive_nn\u001b[0m\u001b[0;34m(\u001b[0m\u001b[0mx\u001b[0m\u001b[0;34m=\u001b[0m\u001b[0;34m-\u001b[0m\u001b[0;36m1\u001b[0m\u001b[0;34m,\u001b[0m \u001b[0mn\u001b[0m\u001b[0;34m=\u001b[0m\u001b[0;36m2\u001b[0m\u001b[0;34m)\u001b[0m\u001b[0;34m\u001b[0m\u001b[0m\n\u001b[0m",
      "\u001b[0;32m<ipython-input-31-50ae7c2c1de7>\u001b[0m in \u001b[0;36mracine_positive_nn\u001b[0;34m(x, n)\u001b[0m\n\u001b[1;32m      1\u001b[0m \u001b[0;32mdef\u001b[0m \u001b[0mracine_positive_nn\u001b[0m\u001b[0;34m(\u001b[0m\u001b[0mx\u001b[0m\u001b[0;34m,\u001b[0m \u001b[0mn\u001b[0m\u001b[0;34m=\u001b[0m\u001b[0;36m2\u001b[0m\u001b[0;34m)\u001b[0m\u001b[0;34m:\u001b[0m\u001b[0;34m\u001b[0m\u001b[0m\n\u001b[1;32m      2\u001b[0m     \u001b[0;32mif\u001b[0m \u001b[0mx\u001b[0m\u001b[0;34m<\u001b[0m\u001b[0;36m0\u001b[0m\u001b[0;34m:\u001b[0m\u001b[0;34m\u001b[0m\u001b[0m\n\u001b[0;32m----> 3\u001b[0;31m         \u001b[0;32mraise\u001b[0m \u001b[0mValueError\u001b[0m\u001b[0;34m(\u001b[0m\u001b[0;34m\"x est négatif\"\u001b[0m\u001b[0;34m)\u001b[0m\u001b[0;34m\u001b[0m\u001b[0m\n\u001b[0m\u001b[1;32m      4\u001b[0m     \u001b[0;32melif\u001b[0m \u001b[0mx\u001b[0m\u001b[0;34m==\u001b[0m\u001b[0;36m0\u001b[0m\u001b[0;34m:\u001b[0m\u001b[0;34m\u001b[0m\u001b[0m\n\u001b[1;32m      5\u001b[0m         \u001b[0;32mraise\u001b[0m \u001b[0mValueError\u001b[0m\u001b[0;34m(\u001b[0m\u001b[0;34m\"x est nul\"\u001b[0m\u001b[0;34m)\u001b[0m\u001b[0;34m\u001b[0m\u001b[0m\n",
      "\u001b[0;31mValueError\u001b[0m: x est négatif"
     ]
    }
   ],
   "source": [
    "racine_positive_nn(x=-1, n=2)"
   ]
  },
  {
   "cell_type": "code",
   "execution_count": 33,
   "metadata": {
    "inputHidden": false,
    "outputHidden": false
   },
   "outputs": [
    {
     "ename": "ValueError",
     "evalue": "x est nul",
     "output_type": "error",
     "traceback": [
      "\u001b[0;31m---------------------------------------------------------------------------\u001b[0m",
      "\u001b[0;31mValueError\u001b[0m                                Traceback (most recent call last)",
      "\u001b[0;32m<ipython-input-33-f8ae6dbb9aea>\u001b[0m in \u001b[0;36m<module>\u001b[0;34m()\u001b[0m\n\u001b[0;32m----> 1\u001b[0;31m \u001b[0mracine_positive_nn\u001b[0m\u001b[0;34m(\u001b[0m\u001b[0mx\u001b[0m\u001b[0;34m=\u001b[0m\u001b[0;36m0\u001b[0m\u001b[0;34m,\u001b[0m \u001b[0mn\u001b[0m\u001b[0;34m=\u001b[0m\u001b[0;36m2\u001b[0m\u001b[0;34m)\u001b[0m\u001b[0;34m\u001b[0m\u001b[0m\n\u001b[0m",
      "\u001b[0;32m<ipython-input-31-50ae7c2c1de7>\u001b[0m in \u001b[0;36mracine_positive_nn\u001b[0;34m(x, n)\u001b[0m\n\u001b[1;32m      3\u001b[0m         \u001b[0;32mraise\u001b[0m \u001b[0mValueError\u001b[0m\u001b[0;34m(\u001b[0m\u001b[0;34m\"x est négatif\"\u001b[0m\u001b[0;34m)\u001b[0m\u001b[0;34m\u001b[0m\u001b[0m\n\u001b[1;32m      4\u001b[0m     \u001b[0;32melif\u001b[0m \u001b[0mx\u001b[0m\u001b[0;34m==\u001b[0m\u001b[0;36m0\u001b[0m\u001b[0;34m:\u001b[0m\u001b[0;34m\u001b[0m\u001b[0m\n\u001b[0;32m----> 5\u001b[0;31m         \u001b[0;32mraise\u001b[0m \u001b[0mValueError\u001b[0m\u001b[0;34m(\u001b[0m\u001b[0;34m\"x est nul\"\u001b[0m\u001b[0;34m)\u001b[0m\u001b[0;34m\u001b[0m\u001b[0m\n\u001b[0m\u001b[1;32m      6\u001b[0m     \u001b[0;32melse\u001b[0m\u001b[0;34m:\u001b[0m\u001b[0;34m\u001b[0m\u001b[0m\n\u001b[1;32m      7\u001b[0m         \u001b[0mr\u001b[0m \u001b[0;34m=\u001b[0m \u001b[0mx\u001b[0m\u001b[0;34m**\u001b[0m\u001b[0;34m(\u001b[0m\u001b[0;36m1\u001b[0m\u001b[0;34m/\u001b[0m\u001b[0mn\u001b[0m\u001b[0;34m)\u001b[0m\u001b[0;34m\u001b[0m\u001b[0m\n",
      "\u001b[0;31mValueError\u001b[0m: x est nul"
     ]
    }
   ],
   "source": [
    "racine_positive_nn(x=0, n=2)"
   ]
  },
  {
   "cell_type": "code",
   "execution_count": 34,
   "metadata": {
    "inputHidden": false,
    "outputHidden": false
   },
   "outputs": [
    {
     "data": {
      "text/plain": [
       "2.0"
      ]
     },
     "execution_count": 34,
     "metadata": {},
     "output_type": "execute_result"
    }
   ],
   "source": [
    "racine_positive_nn(x=4, n=2)"
   ]
  },
  {
   "cell_type": "markdown",
   "metadata": {},
   "source": [
    "### Charger un module\n",
    "\n",
    "Le module `numpy`, installé par défaut avec Anaconda, est une boîte d'outil de calcul numérique populée par de nombreuses foncions mathématiques. Dont la racine carrée."
   ]
  },
  {
   "cell_type": "code",
   "execution_count": 1,
   "metadata": {
    "inputHidden": false,
    "outputHidden": false
   },
   "outputs": [
    {
     "data": {
      "text/plain": [
       "3.0"
      ]
     },
     "execution_count": 1,
     "metadata": {},
     "output_type": "execute_result"
    }
   ],
   "source": [
    "import numpy as np\n",
    "np.sqrt(9)"
   ]
  },
  {
   "cell_type": "code",
   "execution_count": 36,
   "metadata": {
    "inputHidden": false,
    "outputHidden": false
   },
   "outputs": [
    {
     "data": {
      "text/plain": [
       "3.0"
      ]
     },
     "execution_count": 36,
     "metadata": {},
     "output_type": "execute_result"
    }
   ],
   "source": [
    "from numpy import sqrt\n",
    "sqrt(9)"
   ]
  },
  {
   "cell_type": "markdown",
   "metadata": {},
   "source": [
    "La plupart des fonctions que vous aurez à construire seront vouées à des instructions spécialisées à votre cas d'étude. Pour la plupart des opérations d'ordre générale (comme les racines carrées, les tests statistiques, la gestion de matrices et de tableau, les graphiques, les modèles d'apprentissage, etc.), des équipes ont déjà développé des fonctions nécessaires à leur utilisation, et les ont laissées disponibles au grand public. L'introduction à Python se termine là-dessus.\n",
    "\n",
    "Comme une langue, on n'apprend à s'exprimer en un langage informatique qu'en se mettant à l'épreuve, ce que vous ferez tout au long de ce cours.\n",
    "\n",
    "Prenons une pause de Python et passons à des technicalités."
   ]
  },
  {
   "cell_type": "markdown",
   "metadata": {},
   "source": [
    "## L'environnement de travail\n",
    "\n",
    "### Le gestionnaire `conda`\n",
    "\n",
    "Une fois que Anaconda est installé, l'[installation de modules](http://conda.pydata.org/docs/using/pkgs.html) et des [environnements virtuel](http://conda.pydata.org/docs/using/envs.html) devient possible avec le gestionnaire `conda`. Cette section ne présente qu'un aperçu de ses capacités, basé sur ce dont vous aurez besoin pour ce cours. Pour plus d'information, consultez le [guide](http://conda.pydata.org/docs/intro.html).\n",
    "\n",
    "### Installer des modules\n",
    "\n",
    "Sans module, Python ne sera pas un environnement de calcul scientifique appréciable. Heureusement, il existe des modules pour faciliter la vie des scientifiques qui désirent calculer des opérations simples comme des moyennes et des angles, ou des opérations plus compliquées comme des intégrales et des algorithmes d'intelligence artificielle. Plusieurs modules sont installés par défaut avec Anaconda. Pour lister l'ensemble des modules installés dans un environnement, ouvrez un terminal (si vous vous trouvez dans une session Python, vous devez quitter par la commande `quit()`) et lancez:\n",
    "\n",
    "```\n",
    "conda list\n",
    "```\n",
    "\n",
    "Les modules sont téléchargés et installés depuis des dépôts en ligne. L'entreprise [Continuum Analytics](https://www.continuum.io/), qui développe et supporte Anaconda, offre ses propres dépôts. Par défaut, le module `statsmodels` (que nous utiliserons pour certaines opérations) sera téléchargé depuis les dépôts par défaut si vous lancez:\n",
    "\n",
    "```\n",
    "conda install statsmodels\n",
    "```\n",
    "\n",
    "Il est préférable d'utiliser le dépôt communautaire [conda-forge](https://conda-forge.github.io/) plutôt que les dépôts officiels de Continuum Analytics. Sur conda-forge, davantage de modules sont disponibles, ceux-ci sont davantage à jour et leur  qualité est contrôlée.\n",
    "\n",
    "```\n",
    "conda config --add channels conda-forge\n",
    "```\n",
    "\n",
    "Par la suite, tous les modules seront téléchargés depuis conda-forge. Pour effectuer une mise à jour de tous les modules, lancez:\n",
    "\n",
    "```\n",
    "conda update --all\n",
    "```\n",
    "\n",
    "### Installer des environnements virtuels\n",
    "Vous voilà en train de travailler sur des données complexes qui demandent plusieurs opérations. Vous avez l'habitude, à toutes les semaines, de lancer `conda update --all` pour mettre à jour les modules, ce qui corrige les bogues et ajoute des fonctionnalités. L'équipe de développement d'un module a décidé de modifier, pour le mieux, une fonction. Vous n'êtes pas au courant de ce changement et vous passez deux jours à cherche ce qui cause ce message d'erreur dans vos calculs. Vous envoyez votre fichier de calcul à votre collègue qui n'a pas mis à jour ce module, puis vos corrections lui causent des problèmes. Croyez-moi, ça arrive souvent.\n",
    "\n",
    "Les environnements virtuels sont là pour éviter cela. Il s'agit d'un répertoire dans lequel Python ainsi que ses modules sont isolés. Pour un projet spécifique, vous pouvez créer un environnement virtuel sous Python 2.7.9 et installer des versions de modules spécifiques sans les mettre à jour. Ça permet d'une part de travailler avec des outils qui ne changent pas en cours de projet, et d'autre part à travailler entre collègues avec les mêmes versions.\n",
    "\n",
    "Pour créer un environnement nommé `fertilisation_laitue` incluant Python en version 2.7.9 et le module `statsmodels` version 0.6.0, lancez:\n",
    "\n",
    "```\n",
    "conda create -n fertilisation_laitue python=2.7.9\n",
    "```\n",
    "\n",
    "Le répertoire de projet sera automatiquement installé dans le répertoire `envs` de votre installation de Anaconda.\n",
    "\n",
    "Pour activer cet environnement, sous Linux et en OS X:\n",
    "\n",
    "```\n",
    "source activate fertilisation_laitue\n",
    "```\n",
    "\n",
    "Sous Windows:\n",
    "\n",
    "```\n",
    "activate fertilisation_laitue\n",
    "```\n",
    "\n",
    "Depuis l'environnement virtuel, vous pouvez installer les modules dont vous avez besoin, en spécifiant la version. Par exemple,\n",
    "\n",
    "```\n",
    "conda install statsmodels=0.6.0\n",
    "```\n",
    "\n",
    "Depuis votre environnement virtuel (y compris l'environnement `root`), vous pouvez aussi lancer Jupyter, une interface qui vous permettra d'intéragir de manière conviviale avec Python.\n",
    "\n",
    "À titre d'exemple, préparons-nous au cours en créant un environnement virtuel qui incluera la version de Python 3.5. Précédemment, nous avions fait cela en deux étapes: (1) créer l'environnement, puis (2) installer les bibliothèques. Nous pouvons tout aussi bien le faire d'un coup. Je nomme arbitrairement l'environnement `ecolopy`.\n",
    "\n",
    "```\n",
    "conda create -n ecolopy numpy scipy pandas matplotlib jupyterlab\n",
    "```\n",
    "\n",
    "Activons l'environnement (Linux et OS X: `source activate ecolopy`, Windows: `activate ecolopy`), puis installons les bibliothèques nécessaires. Puisque j'utilise Linux,\n",
    "\n",
    "```\n",
    "source activate ecolopy\n",
    "```\n",
    "\n",
    "Pour partager un environnement de travail avec des collègues ou avec la postérité, vous pouvez générer une liste de prérequis via `conda list -e > req.txt`, à partir de laquelle quiconque utlise Anaconda pourra créer un environnement virtuel identique au vôtre via `conda create -n ecolopy environment --file req.txt`.\n",
    "\n",
    "Pour tester l'environnement, lancez python!\n",
    "\n",
    "```\n",
    "python\n",
    "```\n",
    "\n",
    "Pour ce cours, vous êtes libres de générer un environnement de travail ou de travailler dans l'environnement par défaut (nommé `root`)."
   ]
  },
  {
   "cell_type": "markdown",
   "metadata": {},
   "source": [
    "La première ligne importe le module NumPy (`numpy`) et en crée une instance dont on choisi optionnellement le nom: `np` (utilisé conventionnellement pour `numpy`). Ce faisant, on appelle `numpy` et on le lie avec `np`. Ainsi, on peut aller chercher l'instance `sqrt` de `np` avec `np.sqrt()`. Si l'on ne cherche qu'à importer la fonction sqrt et que l'on ne comte pas utiliser le tout NumPy:"
   ]
  },
  {
   "cell_type": "markdown",
   "metadata": {},
   "source": [
    "De nombreux modules seront utilisés lors de ce cours. La section suivante vise à les présenter brièvement."
   ]
  },
  {
   "cell_type": "markdown",
   "metadata": {},
   "source": [
    "### Modules de base\n",
    "\n",
    "#### NumPy\n",
    "NumPy, une contraction de *Numerical Python*, donne accès à de nombreuses fonctions mathématiques et intervient inmanquablement pour effectuer des opérations sur les matrices. La grande majorité des opérations effectuées lors de ce cours fera explicitement ou implicitement (via un autre module s'appuyant sur NumPy) référence à NumPy. NumPy permet notamment:\n",
    "\n",
    "- de donner accès à des [opérations mathématiques de base](https://docs.scipy.org/doc/numpy/reference/routines.math.html) comme la racine carrée, la trigonométrie, les logarithmes, etc.;\n",
    "- d'effectuer des opérations rapides sur des matrices multidimentionnelles (ndarray, ou n-dimensionnal array), dont des calculs d'[algèbre linéaire](https://docs.scipy.org/doc/numpy/reference/routines.linalg.html);\n",
    "- d'effectuer des calculs élément par élément, ligne par ligne, colonne par colonne, etc., grâce à la \"vectorisation\" - par exemple en additionnant un scalaire à un vecteur, le scalaire sera additionné à tous les éléments du vecteur;\n",
    "- d'[importer et exporter](https://docs.scipy.org/doc/numpy/reference/routines.io.html) des fichiers de données;\n",
    "- de [générer des nombres aléatoires](https://docs.scipy.org/doc/numpy/reference/routines.random.html) selon des lois de probabilité.\n",
    "\n",
    "\n",
    "#### SciPy\n",
    "Basée sur NumPy, [SciPy](http://www.scipy.org/scipylib/index.html) est une collection de fonctions mathématiques offrant une panoplie d'outil pour le calcul scientifique.  Il simplifie certaines fonctions de Numpy, et  offre des gadgets qui se rendront essentiels pour des opérations courrantes, notamment:\n",
    "\n",
    "- calcul intégral et résolution de systèmes d'équations différentielles ordinaires\n",
    "- interpolation entre coordonnées\n",
    "- traitement et analyse de signal\n",
    "\n",
    "Note. Un bibliothèque portant le préfixe *scikit* fait partie de la [trousse d'extensions de SciPy](http://scikits.appspot.com/scikits). \n",
    "\n",
    "#### pandas\n",
    "Les données  sont souvent organisées sous forme de tableau, les colonnes représentant les variables mesurées et les lignes représentant les observations. La bibliothèque [pandas](http://pandas.pydata.org/) offre un kit d'outil pour travailler avec des tableaux de données (`DataFrame`) de manière efficace.  Avec une rapidité d'exécution héritée de NumPy, pandas inclut l'approche des bases de données relationnelles (SQL) pour filtrer, découper, synthétiser, formater et fusionner des tableaux.\n",
    "\n",
    "#### matplotlib\n",
    "Les graphiques sont des synthèses visuelles de données qui autrement seraient pénibles à interpréter. Malgré les récents développements en visualisation sur Python, [`matplotlib`](http://matplotlib.org/) reste la bibliothèque de base pour la présentation de graphiques: nuages de points, lignes, boxplots, histogrammes, contours, etc. Il y en a d'autres comme `altair`, `seaborn` et `bokeh`, qui vous seront présentées au moment opportun."
   ]
  },
  {
   "cell_type": "markdown",
   "metadata": {},
   "source": [
    "### Modules spécialisés: <<<À AJUSTER À LA FIN>>>\n",
    "\n",
    "#### `SymPy`\n",
    "Le calcul symbolique a une place théorique importante en calcul scientifique. [`SymPy`](http://www.sympy.org/en/index.html) sera utilisée pour valider des fonctions issues d'équations différentielles.\n",
    "\n",
    "#### `statsmodels`\n",
    "Plus que de la statistique, la bibliothèque [`statsmodels`](http://statsmodels.sourceforge.net/) est conçue comme accompagnatrice dans l'analyse de données. Elle aidera à effectuer des statistiques comme des analyses de variance, des régressions et des analyses de survie, mais aussi des opérations de prétraitement comme l'imputation de données manquantes.\n",
    "\n",
    "#### `scikit-learn`\n",
    "L'apprentissage automatique (*machine learning* en anglais), permet de détecter des structures dans les données dans l'objectif de prédire une nouvelle occurance, que ce soit un ou plusieurs variables numériques (régression) ou catégorielles (classification). De nombreux algorhitmes sont appelés à être utilisés en sciences de la vie. [`scikit-learn`](http://scikit-learn.org/stable/#) est une trousse d'outil permettant d'appréhender ces outils complexes de manière efficace, conviviale et cohérente, en plus d'offir la possibilité d'empaqueter des machines d'apprentissage dans des logiciels. La documentation de scikit-learn est d'une rare qualité. `scikit-learn` peut aussi être utilisé pour effectuer des classifications non supervisées (classifier des données qui n'ont pas de catégorie prédéterminées), notamment l'analyse de partitionnement (*clustering* en anglais).\n",
    "\n",
    "#### `scikit-bio`\n",
    "[`scikit-bio`](http://scikit-bio.org/) sera utilisé principalement pour l'analyse compositionnelle et pour l'ordination. Ses possibilités ne s'arrêtent toutefois pas là. Techniquement, la bibliothèque `scikit-bio` a moins de lien avec `scikit-learn` qu'avec [`QIIME`](https://qiime.org/), un logiciel libre dédié à la bioinformatique, une discipline connexe au génie écologique, mais axée sur l'analyse génétique.\n",
    "\n",
    "#### `bokeh`\n",
    "Un graphique est une représentation visuelle de données. Bien que matplotlib un outil essentiel au calcul scientifique avec Python, de nombreuses autres bibliothèques ont été développées pour combler ses lacunes. L'une d'entre elle émerge du transfert de la publication traditionnelle (papier, puis pdf) vers la publication de documents interactifs. [`bokeh`](http://bokeh.pydata.org/en/latest/) est une bibliothèque qui, parmi d'autres (notamment [`plotly`](https://plot.ly/) et [`mpld3`](https://mpld3.github.io/)), offre la possibilité de créer des graphiques intéractifs. Bonus: bokeh est aussi une plateforme de développement de logiciels scientifiques.\n",
    "\n",
    "#### `ggplot`\n",
    "**gg**, pour Grammar of Graphics. C'est avant tout un langage pour exprimer le passage de la donnée à sa représentation graphique. Le module `ggplot2` est l'un des plus prisés du langage `R`. Un groupe de travail a heureusement planché sur une [version Python](http://ggplot.yhathq.com/), moins complète mais hautement utile pour tracer des graphiques de manière conviviale autant pour l'exploration de données que pour la publication.\n",
    "\n",
    "#### `SfePy`\n",
    "[*Simple Finite Elements with Python*](http://sfepy.org/) est un gros module conçu pour appréhender de la manière la plus simple possible la modélisation d'équations différentielles partielles par éléments finis. Cette méthode, largement utilisée en ingénierie, sera utile pour modéliser une panoplie de mécanismes déterministes: les transferts d'énergie, l'écoulement de l'eau, le transport des solutés et la dispersion des espèces.\n",
    "\n",
    "#### `lifelines`\n",
    "Combien de temps reste-t-il avant un événment? C'est la question que pose l'analyste de survie. [`lifelines`](https://lifelines.readthedocs.io/en/latest/) est un module Python conçu exactement pour cela."
   ]
  },
  {
   "cell_type": "markdown",
   "metadata": {},
   "source": [
    "### Interfaces\n",
    "On les appelle des interfaces graphiques ou des environnement intégrés de développement et son conçus pour faciliter l'utilisation d'un langage de programmation, souvent pour des applications particulières. Utiliser Python uniquement dans un terminal n'est pas très pratique pour garder la trace des calculs. Comme la plupart des interfaces conçus pour le calcul scientifique, Jupyter comporte trois composantes: un éditeur de commande, un moyen d'exécuter les commandes et un afficheur de graphiques.\n",
    "\n",
    "#### Jupyter\n",
    "##### Jupyter lab\n",
    "Anciennement nommé IPython notebook, puis Jupyter notebook, [Jupyter lab](https://github.com/jupyterlab/jupyterlab) s'inspire d'un format usuelle en science: le carnet de laboratoire.\n",
    "\n",
    "<!--![](images/jupyter-screenshot.png)-->\n",
    "<img src=\"https://raw.githubusercontent.com/jupyterlab/jupyterlab/master/jupyter-plugins-demo.gif\" width=\"600\">\n",
    "\n",
    "Jupyter lab fonctionne dans une fenêtre de navigateur internet. Le code est interprété par IPython, un interprétateur pour le calcul scientifique sur Python. Chaque cellule peut contenir un texte explicatif (édité en [markdown](https://www.youtube.com/watch?v=6A5EpqqDOdk), un outil de traitement de texte où le formattage est effectué dans texte à l'aide de caractères spéciaux), incluant des équations (écrites en format LaTeX via [MathJax](https://www.mathjax.org/) - il existe des [éditeurs d'équations en ligne](http://www.sciweavers.org/free-online-latex-equation-editor)), ou des morceaux de code. Par ailleurs, ces notes de cours sont rédigées dans des carnets Jupyter.\n",
    "\n",
    "##### nteract\n",
    "Afin de libérer Jupyter du navigateur web, une équipe a développé le logiciel [nteract](https://nteract.io), une version épurée de Jupyter en format d'application bureau. **C'est l'interface que nous allons utiliser lors de ce cours**. Téléchargez l'installateur et installez!\n",
    "\n",
    "#### Autres\n",
    "L'interface de [Rodeo](https://www.yhat.com/products/rodeo) comprend des fenêtres pour l'édition de code, pour interprétateur IPython, pour la session de travail et pour afficher les graphiques. En fait, il imite l'interface de RStudio pour R. C'est une solution visuellement élégante et moderne, mais  pas aussi complète que Spyder.\n",
    "\n",
    "Spyder est un acronyme pour \"Scientific PYthon Development EnviRonment\". Si vous avez installé Anaconda, [Spyder](https://github.com/spyder-ide/spyder) est déjà installé sur votre ordiateur. Il est comparable à Rodeo, mais est plus ancien, plus complet, mais aussi plus complexe. \n",
    "\n",
    "Il existe aussi plusieurs autres environnements de développement en mode libre ([Atom/Hydrogen](https://github.com/nteract/hydrogen), [Eclipse/PyDev](http://www.pydev.org/), [Komodo IDE](http://www.activestate.com/komodo-ide), [Lighttable](http://lighttable.com/), [Ninja IDE](http://ninja-ide.org/home/)). Mais certaines préféreront seulement utiliser un bon éditeur texte ([Atom](https://atom.io/), [Brackets](http://brackets.io/), [LighttTable](http://lighttable.com/), [Notepad++](https://notepad-plus-plus.org/), etc.) accompagné d'un terminal sous [IPython](http://ipython.org/). "
   ]
  },
  {
   "cell_type": "markdown",
   "metadata": {},
   "source": [
    "## Astuces pour utiliser Jupyter\n",
    "\n",
    "Ce manuel est créé avec Jupyter. En double-cliquant dans ses cellules de texte, vous aurez accès au code *markdown*, un langage HTML simplifié permettant d'insérer des titres, des tableaux, des emphases en italique et en gras, des équations, des liens, des citations, des encadrés, des listes, etc."
   ]
  },
  {
   "cell_type": "markdown",
   "metadata": {},
   "source": [
    "### Cellule markdown\n",
    "\n",
    "Formatter un texte en markdown est relativement facile. Vous utiliserez sans doute ces outils:\n",
    "\n",
    "```\n",
    "# Titre 1\n",
    "## Titre 2\n",
    "###### Titre 6\n",
    "\n",
    "Formater du `code alligné`. Ou bien un\n",
    "\n",
    "\\```\n",
    "paragraphe dédié au code\n",
    "\\```\n",
    "\n",
    "Liste à puce\n",
    "- item 1\n",
    "- item 2\n",
    "    - item 2.1\n",
    "        - item 2.1.1\n",
    "\n",
    "Liste numérotée\n",
    "0. item 1\n",
    "0. item 2\n",
    "    0. item 2.1\n",
    "        0. item 2.1.1\n",
    "\n",
    "Texte emphasé en *italique* ou en **gras**.\n",
    "\n",
    "[Hyperlien](www.python.org)\n",
    "\n",
    "Insérer une image\n",
    "![]()\n",
    "\n",
    "Insérer une équation en ligne: $\\alpha + \\beta$. Ou en un paragraphe:\n",
    "\n",
    "$$ c = \\sqrt{\\left( a^2 + b^2 \\right)} $$\n",
    "\n",
    "| Symbole | Format |\n",
    "| --- | ---|\n",
    "| Titre 1 | \\# Titre 1|\n",
    "| Titre 2 | \\## Titre 2|\n",
    "| Titre 6 | \\###### Titre 6|\n",
    "| code ligne | \\`code\\`|\n",
    "| code paragraphe | \\`\\`\\`code\\`\\`\\`|\n",
    "| Items de liste à puce | \\- item avec indentation pour les sous-items |\n",
    "| Items de liste numérotée | 0. item avec indentation pour les sous-items |\n",
    "| Italique | Texte emphasé en \\*italique\\* |\n",
    "| Gras | Texte emphasé en \\*\\*gras\\*\\* |\n",
    "| Hyperlien | Créer un \\[lien\\](https://python.org) |\n",
    "| Image | Insérer une image \\!\\[\\](....png) |\n",
    "| Équation | Insérer une équation en format LaTeX \\$c = \\sqrt \\left( a^2 + b^2 \\right)\\$ |\n",
    "```"
   ]
  },
  {
   "cell_type": "markdown",
   "metadata": {},
   "source": [
    "### Cellule de code\n",
    "\n",
    "Il était suggéré au cours de ce chapitre d'entrer les commandes dans un terminal. À partir d'ici, il sera préférable d'utiliser un notebook à partir d'ici, et d'excécuter les calculs dans des cellules de code."
   ]
  },
  {
   "cell_type": "code",
   "execution_count": 2,
   "metadata": {},
   "outputs": [
    {
     "data": {
      "text/plain": [
       "2.5"
      ]
     },
     "execution_count": 2,
     "metadata": {},
     "output_type": "execute_result"
    }
   ],
   "source": [
    "a = 5/2\n",
    "a"
   ]
  }
 ],
 "metadata": {
  "anaconda-cloud": {},
  "kernel_info": {
   "name": "ir"
  },
  "kernelspec": {
   "display_name": "R",
   "language": "R",
   "name": "ir"
  },
  "language_info": {
   "codemirror_mode": "r",
   "file_extension": ".r",
   "mimetype": "text/x-r-source",
   "name": "R",
   "pygments_lexer": "r",
   "version": "3.4.4"
  },
  "nteract": {
   "version": "0.9.0"
  }
 },
 "nbformat": 4,
 "nbformat_minor": 2
}
