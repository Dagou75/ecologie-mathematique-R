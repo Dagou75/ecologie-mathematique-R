{
 "cells": [
  {
   "cell_type": "markdown",
   "metadata": {},
   "source": [
    "# Chapitre 2 : La science des données avec R\n",
    "\n",
    "Un projet en science des données comprends trois grandes étapes. D'abord, vous devez **collecter des données** et vous les compilez adéquatement. Cela peut consister à télécharger des données existantes, exécuter un dispositif expérimental ou effectuer une recensement (étude observationnelle). Compiler les données dans un format qui puisse être importé est une tâche souvent longue et fastidieuse. Puis, vous **investiguez les données** collectées, c'est-à-dire vous les visualisez, vous appliquez des modèles et testez des hypothèses. Enfin, la **communication des résultats** consiste à présenter les connaissances qui émerge de votre analyse sous forme visuelle et narrative, *avec un langage adapté à la personne qui vous écoute*, qu'elle soit experte ou novice, réviseure de revue savante ou administratrice. [Grolemund et Wickham (2018)](http://r4ds.had.co.nz/introduction.html) propose la structure d'analyse suivante, avec de légères modifications de ma part.\n",
    "\n",
    "![](images/science-des-donnees-flow_.png)\n",
    "\n",
    "Le grand cadre spécifie **Programmer**. Oui, vous aurez besoin d'écrire du code. Mais comme je l'ai indiquer dans le premier chapitre, ceci n'est pas un cours de programmation et je préférerai les approches intuitives."
   ]
  },
  {
   "cell_type": "markdown",
   "metadata": {},
   "source": [
    "À la fin de ce chapitre, vous devrez:\n",
    "\n",
    "0. contextualiser la science des données par rapport aux statistiques,\n",
    "0. être en mesure de vous lancer dans un environnement de programmation R,\n",
    "0. être en seure d'effectuer des opérations d'une seule ligne en R, et\n",
    "0. installer et charger des modules."
   ]
  },
  {
   "cell_type": "markdown",
   "metadata": {},
   "source": [
    "## Statistiques ou Science des données?\n",
    "\n",
    "Selon [Whitlock et Schluter (2015)](http://whitlockschluter.zoology.ubc.ca/), la statistique est l'*étude des méthodes pour décrire et mesurer des aspects de la nature à partir d'échantillon*. Pour [Grolemund et Wickham (2018)](http://r4ds.had.co.nz/introduction.html), la science des données est *une discipline exitante permettant de transformer des données bruttes en compréhension, perspectives et connaissances*. Oui, *exitante*! La différence entre les deux champs d'expertise est subtile, et certaines personnes n'y voient qu'une différence de ton.\n",
    "\n",
    "<blockquote class=\"twitter-tweet\" data-lang=\"fr\"><p lang=\"en\" dir=\"ltr\">Data Science is statistics on a Mac.</p>&mdash; Big Data Borat (@BigDataBorat) <a href=\"https://twitter.com/BigDataBorat/status/372350993255518208?ref_src=twsrc%5Etfw\">27 août 2013</a></blockquote>\n",
    "<script async src=\"https://platform.twitter.com/widgets.js\" charset=\"utf-8\"></script>\n",
    "\n",
    "Confinées à ses applications traditionnelles, les statistiques sont davantage vouées à la définition de dispositifs expérimentaux et à l'exécution de tests d'hypothèses, alors que la science des données est moins linéaire, en particulier dans sa phase d'analyse, où de nouvelles questions (donc de nouvelles hypothèses) peuvent être posées au fur et à mesure de l'analyse. Cela arrive généralement davantage lorsque l'on fait face à de nombreuses observations sur lesquelles ne nombreux paramètres sont mesurés.\n",
    "\n",
    "La quantité de données et de mesures auquelles nous avons aujourd'hui accès grâce aux technologies de mesure et de stockage relativement peu dispendieux rend la science des données une discipline particulièrement attrayante, pour ne pas dire [sexy](https://hbr.org/2012/10/data-scientist-the-sexiest-job-of-the-21st-century)."
   ]
  },
  {
   "cell_type": "markdown",
   "metadata": {},
   "source": [
    "## Organiser son environnement de travail en R\n",
    "\n",
    "*R* est la 18ième lettre de l'alphabet latin. Mais [R](https://www.r-project.org) est un langage de programmation dérivé du langage S, qui fut initialement lancé en 1976. \n",
    "\n",
    "<img src=\"images/R_logo.svg.png\">\n",
    "\n",
    "R figure parmi [les langages de programmation les plus utilisés au monde](https://www.tiobe.com/tiobe-index/). Bien qu'il soit basé sur les langages statiques C et Fortran, R est un langage dynamique, c'est à dire que le code peut être exécuté ligne par ligne ou bloc par bloc: un avantage majeur pour des activités qui nécessitent des intéractions fréquentes. Bien que R soit surtout utilisé pour le calcul statistique, il s'impose de plus en plus comme outil privilégié en sciences des données en raison des récents développements de modules d'analyse, de modélisation et de visualisation, dont plusieurs seront utilisés dans ce manuel."
   ]
  },
  {
   "cell_type": "markdown",
   "metadata": {},
   "source": [
    "### Préparer son flux de travail\n",
    "\n",
    "Il existe de nombreuses manières d'utiliser R. Parmi celles-ci, j'en couvrirai 3:\n",
    "\n",
    "- Installation classique\n",
    "- Installation avec Anaconda\n",
    "- Utilisation de Azure Notebooks"
   ]
  },
  {
   "cell_type": "markdown",
   "metadata": {},
   "source": [
    "### Installation classique\n",
    "\n",
    "Sur Windows ou Mac, dirigez-vous [ici](https://cloud.r-project.org/), téléchargez et installez. Sur Linux, ouvrez votre gestionnaire d'application, chercher `r-base` (Ubuntu, Debian), `R-base` (openSuse) ou `R-core` (Fedora) et installez-le (asurez-vous que les librairies suivantes sont aussi installées: `gcc`, `gcc-fortran`, `gcc-c++` et `make`), vous aurez peut-être besoin d'installer des librairies supplémentaires pour faire fonctionner certains modules.\n",
    "\n",
    "> **Note**. Les modules présentés dans ce cours devraient être disponibles sur Linux, Windows et Mac. Ce n'est pas le cas pour tous les modules R. La plupart fonctionnent néanmoins sur Linux, dont les systèmes d'opération (je recommande [Ubuntu](https://www.ubuntu.com/download/desktop) ou l'une de ses dérivées) sont de bonnes options pour le calcul scientifique."
   ]
  },
  {
   "cell_type": "markdown",
   "metadata": {},
   "source": [
    "À cette étape, R devrait fonctionner dans un interprétateur de commande . Si vous lancez R dans un terminal (chercher `cmd` dans le menu si vous êtes sur Windows), vous obtiendrez quelque chose comme ceci. \n",
    "\n",
    "<center><img src=\"images/terminal-prompt.png\" width=800></center>"
   ]
  },
  {
   "cell_type": "markdown",
   "metadata": {},
   "source": [
    "Le symbole `>` indique que R attend que vos instructions. Vous voilà dans un état méditatif devant l'indéchiffrable vide du terminal. Afin de travailler dans un environnement de travail plus convivial, je recommande l'installation de l'interface [RStudio](https://www.rstudio.com/products/rstudio/download/), gratuite et open source: téléchargez l'installateur et suivez les intructions. RStudio ressemble à ceci.\n",
    "\n",
    "<center><img src=\"images/rstudio.png\" width=800></center>"
   ]
  },
  {
   "cell_type": "markdown",
   "metadata": {},
   "source": [
    "En haut à droite se trouve un menu *Project (None)*. Il s'agit d'un menu de vos projets. Je recommande d'utiliser ces projets avec RStudio, qui vous permettront de mieux gérer vos environnements de travail, en particulier en lien avec les chemins vers de vos données, graphiques, etc., que vous pouvez gérer relativement à l'emplacement de votre dossier de projet plutôt qu'à l'emplacement des fichiers sur votre machine.\n",
    "\n",
    "- En haut à gauche, vous avez vos feuilles de calcul, qui apparaîtront en tant qu'onglets. Je recommande de prendre en main les *R notebooks*, dans lesquels vous pouvez écrire du texte en format [*Markdown*](https://github.com/adam-p/markdown-here/wiki/Markdown-Here-Cheatsheet) (dont il sera question plus loin) entre des blocks de code. Ceci vous permet de détailler votre flux de travail.\n",
    "- En bas à gauche apparait la Console, où vous voyez les commandes envoyées à R ainsi que ses sorties. Si vous travaillez en format *notebook*, vous n'en aurez probablment pas besoin.\n",
    "- En haut à droite, les différents onglets indiquent où vous en êtes dans vos calculs. En partoiculier, la liste sous *Environment* indique les objets qui ont été générés jusqu'alors.\n",
    "- En bas à droite, on retrouve des onglets de nature variés. *Files* contient les sous-dossiers et fichiers du dossier de projet. *Plots* est l'endroit où apparaîtront vos graphiques. *Packages* contient la liste des modules déjà installés, ainsi qu'un outil de gestion des modules pour leur installation, leur désinstallation et leur mise à jour. *Help* affiche les fiches d'aide des fonctions (pour obtenir de l'aide sur une fonction dans RStudio, surlignez la fonction dans votre feuille de calcul, puis appuyez sur `F1`). Enfin, l'onglet *Viewer* affichera les sorties HTML, en particulier les graphiques intéractifs que vous générerez par exemple avec le module `plotly`.\n"
   ]
  },
  {
   "cell_type": "markdown",
   "metadata": {},
   "source": [
    "#### R notebooks\n",
    "\n",
    "Les `R notebooks` offrent une approche de programmation littéraire, c'est-à-dire que vous écrivez votre code comme vous écrivez une article, une thèse ou une histoire. Cette approche permet de partager plus facilement vos codes, que ce soit avec une équipe de travail ou à la communauté scientifitque pour accompagner un article scientifique en tant que matériel supplémentaire. Lorsque vous créez un notebook (*File > New file > R notebook*), les instructions de base apparaissent. Ajoutons que pour lancer du code ligne par ligne, vous pouvez surligner le code en question ou placez le curseur sur la ligne à exécuter, puis taper `Ctrl + Enter`. La sortie de R apparaîtra sous le bloc de code. Dans votre texte, vous pouvez ajouter des équations mathématiques en format *Mathjax* inspiré du format Latex, par exemple `$a = \\sum_{i=1}^n x_i^2$` sera affiché comme $a = \\sum_{i=1}^n x_i^2$ (pour aider dans l'édition d'équation, vous pouvez utiliser un [éditeur dans les nuages](http://www.sciweavers.org/free-online-latex-equation-editor)). Pour les titres, les caractères gras, l'insertion d'image, les hyper-liens, les tableaux, etc., référez-vous à la documentation de [*Markdown*](https://github.com/adam-p/markdown-here/wiki/Markdown-Here-Cheatsheet)."
   ]
  },
  {
   "cell_type": "markdown",
   "metadata": {},
   "source": [
    "Si votre environnement de travail était un avion, R serait le moteur et RStudio serait le cockpit!\n",
    "\n",
    "![](https://media.giphy.com/media/GmaV9oet9MAmI/giphy.gif)"
   ]
  },
  {
   "cell_type": "markdown",
   "metadata": {},
   "source": [
    "## Installation avec Anaconda\n",
    "\n",
    "Si vous cherchez une trousse complète d'analyse de données, comprenant R et Python, vous pourrez préférer [Anaconda](https://www.anaconda.com/download/#linux). Une fois installée, vous pourrez isoler une environnement de travail sur R, ou même isoler des environnements de travail particuliers pour vos projets. Une manière conviviale de créer des environnements de travail est de passer par l'interface *Anaconda navigator*, que vous lancerez soit dans le menu Windows, soit en ligne de commande `anaconda-navigator` sous Mac et Linux, puis d'installer `r-essentials`, `rstudio` et `jupyterlab` dans l'onglet *Environment*. Vous pourrez aussi installer `RStudio` et `Jupyter lab` via l'onglet *Home* de `Anaconda navigator`. Dans l'environnement de base, installez le package `nb_conda_kernels` pour vous assurer que tous les noyaux (R, Python, etc.) installés dans les environnements de travail soient automatiquement accessibles dans Jupyter.\n",
    "\n",
    "<center><img src=\"images/anaconda-navigator.png\" width=800></center>\n",
    "\n",
    "*Jupyter lab* est une interface notebook semblable à *R notebook*. C'est justement sous *Jupyter lab* qu'est rédigé ce document. À vrai dire, l'utilisation de R en Anaconda n'est pas tout à fait au point, et pourrait poser problème pour l'installation de certains modules. Si vous optez pour cette option, préparez-vous à avoir à bidouiller un peu."
   ]
  },
  {
   "cell_type": "markdown",
   "metadata": {},
   "source": [
    "### Utilisation de Azure notebooks\n",
    "\n",
    "Microsoft rend disponible gratuitement un service de notebook en ligne nommé [Azure notebooks](https://notebooks.azure.com/). Vous y aurez accès avec un compte Exchange (par exemple, votre IDUL de l'Université Laval) ou bien avec un compte Microsoft (Outlook, Skype, Hotmail, etc.). Microsoft Azure fonctionne avec Anaconda, et hérite de certaines difficultés à installer des packages. Avantages majeurs: tout fonctionne dans les nuages, donc (1) vous pouvez obtenir des performances intéressantes même si avec un processeur agé ou bas de gamme et (2) vous n'avez rien à installer sur votre machine. Désavantages majeurs: (1) vous devez être conecté à internet et (2) vous devrez installer vos modules à chaque fois que vous vous connecterez pour débuter une session de calcul. Apparamment, l'option de travail collaboratif sur un même notebook est [en cours de développement](https://github.com/Microsoft/AzureNotebooks/issues/6#issuecomment-346531536).\n",
    "\n",
    "<center><img src=\"images/azure-notebook.png\" width=800></center>\n",
    "\n"
   ]
  },
  {
   "cell_type": "markdown",
   "metadata": {},
   "source": [
    "## Premiers pas avec R\n",
    "\n",
    "R ne fonctionne pas avec des menus, en faisant danser une souris sous une musique de clics. Vous devrez donc entrer des commandes avec votre clavier, que vous apprendrez par coeur au fur et à mesure, ou que vous retrouverez en lançant des recherches sur internet. Par expérience personnelle, lorsque je travaille avec R, j'ai toujours un navigateur ouvert prêt à recevoir une question."
   ]
  },
  {
   "cell_type": "markdown",
   "metadata": {},
   "source": [
    "Les étapes qui suivent sont des premiers pas. Elles ne feront pas de vous des *ceintures noires* dela prorgammation. La plupart des utilisateurs de R ont appris R en se pratiquant sur leurs données, en frappant des murs, en apprenant comment les escalader ou les contourner..."
   ]
  },
  {
   "cell_type": "markdown",
   "metadata": {},
   "source": [
    "Pour l'instant, ouvrez seulement un interprétateur de commande, et lancez R. Voyons si R est aussi libre qu'on le prétend.\n",
    "\n",
    "> \"La liberté, c’est la liberté de dire que deux et deux font quatre. Si cela est accordé, tout le reste suit.\" - George Orwell, 1984"
   ]
  },
  {
   "cell_type": "code",
   "execution_count": 38,
   "metadata": {
    "inputHidden": false,
    "outputHidden": false
   },
   "outputs": [
    {
     "data": {
      "text/html": [
       "4"
      ],
      "text/latex": [
       "4"
      ],
      "text/markdown": [
       "4"
      ],
      "text/plain": [
       "[1] 4"
      ]
     },
     "metadata": {},
     "output_type": "display_data"
    }
   ],
   "source": [
    "2+2"
   ]
  },
  {
   "cell_type": "markdown",
   "metadata": {},
   "source": [
    "Et voilà.\n",
    "\n",
    "<img width=\"200\" src=\"images/braveheart224.png\">\n",
    "\n",
    "Les opérations mathématiques sont effectuées telles que l'on devrait s'attendre."
   ]
  },
  {
   "cell_type": "code",
   "execution_count": 39,
   "metadata": {
    "inputHidden": false,
    "outputHidden": false
   },
   "outputs": [
    {
     "data": {
      "text/html": [
       "23.8"
      ],
      "text/latex": [
       "23.8"
      ],
      "text/markdown": [
       "23.8"
      ],
      "text/plain": [
       "[1] 23.8"
      ]
     },
     "metadata": {},
     "output_type": "display_data"
    }
   ],
   "source": [
    "67.1-43.3"
   ]
  },
  {
   "cell_type": "code",
   "execution_count": 40,
   "metadata": {
    "inputHidden": false,
    "outputHidden": false
   },
   "outputs": [
    {
     "data": {
      "text/html": [
       "8"
      ],
      "text/latex": [
       "8"
      ],
      "text/markdown": [
       "8"
      ],
      "text/plain": [
       "[1] 8"
      ]
     },
     "metadata": {},
     "output_type": "display_data"
    }
   ],
   "source": [
    "2*4"
   ]
  },
  {
   "cell_type": "code",
   "execution_count": 41,
   "metadata": {
    "inputHidden": false,
    "outputHidden": false
   },
   "outputs": [
    {
     "data": {
      "text/html": [
       "0.5"
      ],
      "text/latex": [
       "0.5"
      ],
      "text/markdown": [
       "0.5"
      ],
      "text/plain": [
       "[1] 0.5"
      ]
     },
     "metadata": {},
     "output_type": "display_data"
    }
   ],
   "source": [
    "1/2"
   ]
  },
  {
   "cell_type": "markdown",
   "metadata": {},
   "source": [
    "L'exposant peut être noté `^`, comme c'est le cas dans *Excel*, ou `**` comme c'est le cas en `Python`."
   ]
  },
  {
   "cell_type": "code",
   "execution_count": 42,
   "metadata": {
    "inputHidden": false,
    "outputHidden": false
   },
   "outputs": [
    {
     "data": {
      "text/html": [
       "16"
      ],
      "text/latex": [
       "16"
      ],
      "text/markdown": [
       "16"
      ],
      "text/plain": [
       "[1] 16"
      ]
     },
     "metadata": {},
     "output_type": "display_data"
    }
   ],
   "source": [
    "2**4"
   ]
  },
  {
   "cell_type": "code",
   "execution_count": 43,
   "metadata": {},
   "outputs": [
    {
     "data": {
      "text/html": [
       "16"
      ],
      "text/latex": [
       "16"
      ],
      "text/markdown": [
       "16"
      ],
      "text/plain": [
       "[1] 16"
      ]
     },
     "metadata": {},
     "output_type": "display_data"
    }
   ],
   "source": [
    "2^4"
   ]
  },
  {
   "cell_type": "code",
   "execution_count": 44,
   "metadata": {
    "inputHidden": false,
    "outputHidden": false
   },
   "outputs": [
    {
     "data": {
      "text/html": [
       "0.5"
      ],
      "text/latex": [
       "0.5"
      ],
      "text/markdown": [
       "0.5"
      ],
      "text/plain": [
       "[1] 0.5"
      ]
     },
     "metadata": {},
     "output_type": "display_data"
    }
   ],
   "source": [
    "1 / 2 # les espaces ne signifie rien ici"
   ]
  },
  {
   "cell_type": "markdown",
   "metadata": {},
   "source": [
    "R ne lit pas ce qui suit le caractère `#`. Cela vous laisse l'opportunité de commenter un code comprenant une qéquence de plusieurs lignes. Remarquez également que la dernière opération comporte des espaces entre les nombres et l'opérateur `/`. Dans ce cas (ce n'est pas toujours le cas), les espaces ne signifient rien: ils aident seulement à éclaircir le code. Il existe des guides pour l'écriture de code en R. Je recommande le guide de style de [Hadley Wickahm](http://adv-r.had.co.nz/Style.html).\n",
    "\n",
    "Assigner des objets à des variables est fondamental en programmation. En R, on assigne traditionnellement avec la flèche `<-`, mais vous verrez parfois le `=`, quiest davantage utilisé comme standard dans d'autres langages de programmation. Par exemple."
   ]
  },
  {
   "cell_type": "code",
   "execution_count": 45,
   "metadata": {
    "collapsed": true,
    "inputHidden": false,
    "outputHidden": false
   },
   "outputs": [],
   "source": [
    "a <- 3"
   ]
  },
  {
   "cell_type": "markdown",
   "metadata": {},
   "source": [
    "Techniquement, `a` pointe vers le nombre entier 3. Conséquemment, on peut effectuer des opérations sur `a`."
   ]
  },
  {
   "cell_type": "code",
   "execution_count": 46,
   "metadata": {
    "inputHidden": false,
    "outputHidden": false
   },
   "outputs": [
    {
     "data": {
      "text/html": [
       "18"
      ],
      "text/latex": [
       "18"
      ],
      "text/markdown": [
       "18"
      ],
      "text/plain": [
       "[1] 18"
      ]
     },
     "metadata": {},
     "output_type": "display_data"
    }
   ],
   "source": [
    "a * 6"
   ]
  },
  {
   "cell_type": "code",
   "execution_count": 47,
   "metadata": {
    "inputHidden": false,
    "outputHidden": false
   },
   "outputs": [
    {
     "ename": "ERROR",
     "evalue": "Error in eval(expr, envir, enclos): objet 'A' introuvable\n",
     "execution_count": 47,
     "output_type": "error",
     "traceback": [
      "Error in eval(expr, envir, enclos): objet 'A' introuvable\nTraceback:\n"
     ]
    }
   ],
   "source": [
    "A + 2"
   ]
  },
  {
   "cell_type": "markdown",
   "metadata": {},
   "source": [
    "Le message d'erreur nous dit que `A` n'est pas défini. Sa version minuscule, `a`, l'est pourtant. La raison est que R considère la *case* dans la définition des objets. Utiliser la mauvaise case mène donc à des erreurs.\n",
    "\n",
    "**Note**. Les messages d'erreur ne sont pas toujours clairs, mais vous apprendrez à les comprendre. Dans tous les cas, ils sont fait pour vous aider. Lisez-les attentivement!\n",
    "\n",
    "En général, le nom d'une variable doit toujours commencer par une lettre, et ne doit pas contenir de caractères réservés (espaces, `+`, `*`). Dans la définition des variables, plusieurs utilisent des symboles `.` pour délimiter les mots, mais la barre de soulignement `_` est à préférer. En effet, dans d'autres langages de programmation comme Python, le `.` a une autre signification: son utilisation est à éviter autant que possible.\n",
    "\n",
    "**Note**. À ce stade, vous serez probablement plus à l'aise de copier-coller ces commandes dans votre terminal."
   ]
  },
  {
   "cell_type": "code",
   "execution_count": 80,
   "metadata": {},
   "outputs": [
    {
     "data": {
      "text/html": [
       "15000"
      ],
      "text/latex": [
       "15000"
      ],
      "text/markdown": [
       "15000"
      ],
      "text/plain": [
       "[1] 15000"
      ]
     },
     "metadata": {},
     "output_type": "display_data"
    }
   ],
   "source": [
    "rendement_arbre <- 50 # pomme/arbre\n",
    "nombre_arbre <- 300 # arbre\n",
    "nombre_pomme <- rendement_arbre * nombre_arbre\n",
    "nombre_pomme"
   ]
  },
  {
   "cell_type": "markdown",
   "metadata": {},
   "source": [
    "Comme chez la plupart des langages de prorgammation, R respecte les conventions des [priorités des opérations mathéatiques](https://fr.wikipedia.org/wiki/Ordre_des_op%C3%A9rations)."
   ]
  },
  {
   "cell_type": "code",
   "execution_count": 81,
   "metadata": {},
   "outputs": [
    {
     "data": {
      "text/html": [
       "4"
      ],
      "text/latex": [
       "4"
      ],
      "text/markdown": [
       "4"
      ],
      "text/plain": [
       "[1] 4"
      ]
     },
     "metadata": {},
     "output_type": "display_data"
    }
   ],
   "source": [
    "10 - 9 ^ 0.5 * 2"
   ]
  },
  {
   "cell_type": "markdown",
   "metadata": {},
   "source": [
    "### Types de données\n",
    "\n",
    "Jusqu'à maintenant, nous n'avons utilisé que des **nombres entiers** (*integer* ou `int`) et des **nombres réels** (*numeric* ou `float64`). R inclut d'autres types. La **chaîne de caractère** (*string* ou *character*) contient un ou plusieurs symboles. Elle est définie entre des double-guillemets `\" \"` ou des apostrophes `' '`. Il n'existe pas de standard sur l'utilisation de l'un ou de l'autre, mais en règle générale, on utilise les apostrophe pour les experssions courtes, contenant un simple mot ou séquence de lettres, et les guillements pour les phrases. Une raison pour cela: les guillemets sont utiles pour insérer des apostrophes dans une chaîne de caractère."
   ]
  },
  {
   "cell_type": "code",
   "execution_count": 82,
   "metadata": {
    "inputHidden": false,
    "outputHidden": false
   },
   "outputs": [
    {
     "data": {
      "text/html": [
       "'L\\'ours polaire'"
      ],
      "text/latex": [
       "'L\\textbackslash{}'ours polaire'"
      ],
      "text/markdown": [
       "'L\\'ours polaire'"
      ],
      "text/plain": [
       "[1] \"L'ours polaire\""
      ]
     },
     "metadata": {},
     "output_type": "display_data"
    }
   ],
   "source": [
    "a <- \"L'ours\"\n",
    "b <- \"polaire\"\n",
    "paste(a, b)"
   ]
  },
  {
   "cell_type": "markdown",
   "metadata": {},
   "source": [
    "On *colle* `a` et `b` avec la fonction `paste`. Notez que l'objet `a` a été défini précédemment. Il est possible en R de réassigner une variable, mais cela peut porter à confusion, jusqu'à générer des erreurs de calcul si une variable n'est pas assigné à l'objet auquel on voulait référer.\n",
    "\n",
    "Combien de caractères contient la chaîne `\"L'ours polaire\"`? R sait compter. Demandons-lui."
   ]
  },
  {
   "cell_type": "code",
   "execution_count": 51,
   "metadata": {
    "inputHidden": false,
    "outputHidden": false
   },
   "outputs": [
    {
     "data": {
      "text/html": [
       "14"
      ],
      "text/latex": [
       "14"
      ],
      "text/markdown": [
       "14"
      ],
      "text/plain": [
       "[1] 14"
      ]
     },
     "metadata": {},
     "output_type": "display_data"
    }
   ],
   "source": [
    "c <- paste(a, b)\n",
    "nchar(c)"
   ]
  },
  {
   "cell_type": "markdown",
   "metadata": {},
   "source": [
    "Quatorze, c'est bien cela (comptez \"L'ours polaire\", en incluant l'espace). Comme `paste`, `nchar` est une fonction incluse par défaut dans l'environnement de travail de R: plus précisément, ces fonctions sont incluses dans le module `base`, inclut par défaut lorsque R est lancé. La fonction est appelée en écrivant `nchar()`. Mais une fonction de quoi? Des *arguments*, qui se trouvent entre les parenthèses. Dans ce cas, il y a un seul argument: `c`.\n",
    "\n",
    "En calcul scientifique, il est courrant de lancer des requêtes sur si une résultat est vrai ou faux."
   ]
  },
  {
   "cell_type": "code",
   "execution_count": 83,
   "metadata": {
    "inputHidden": false,
    "outputHidden": false
   },
   "outputs": [
    {
     "name": "stdout",
     "output_type": "stream",
     "text": [
      "[1] FALSE\n",
      "[1] TRUE\n",
      "[1] FALSE\n",
      "[1] TRUE\n",
      "[1] TRUE\n",
      "[1] FALSE\n"
     ]
    }
   ],
   "source": [
    "a <- 17\n",
    "print(a < 10)\n",
    "print(a > 10)\n",
    "print(a == 10)\n",
    "print(a != 10)\n",
    "print(a == 17)\n",
    "print(!(a == 17))"
   ]
  },
  {
   "cell_type": "markdown",
   "metadata": {},
   "source": [
    "Je viens d'introduire un nouveau type de donnée: les données booléennes (*boolean*, ou `logical`), qui ne peuvent prendre que deux états - `TRUE` ou `FALSE`. En même temps, j'ai utilisé la fonction `print` parce que dans mon carnet, seule la dernière opération permet d'afficher le résultat. Si l'on veut forcer une sortie, on utilise `print`. Puis, on a vu plus haut que le symbole `=` est réservé pour assigner des objets: pour les tests d'égalité, on utilise le double égal, `==`, ou `!=` pour la non égalité. Enfin, pour inverser une donnée de type booléenne, on utilise le point d'exclamation `!`."
   ]
  },
  {
   "cell_type": "markdown",
   "metadata": {},
   "source": [
    "### Les collections de données\n",
    "\n",
    "Les exercices précédents ont permis de présenter les types de données offerts par défault sur R qui sont les plus importants pour le calcul scientifique: `int` (*integer*, ou nombre entier), `numeric` (nombre réel), `character` (*string*, ou chaîne de caractère) et `logical` (booléen). D'autres s'ajouterons tout au long du cours, comme les catégories (`factor`) et les unités de temps (date-heure).\n",
    "\n",
    "Lorsque l'on procède à des opérations de calcul en science, nous utilisons rarement des valeurs uniques. Nous préférons les organiser et les traiter en collections. Par défaut, R offre quatre types importants de collections: les **vecteurs**, les **matrices**, les **listes** et les **tableaux**."
   ]
  },
  {
   "cell_type": "markdown",
   "metadata": {},
   "source": [
    "#### Vecteurs\n",
    "\n",
    "D'abord, les **vecteurs** sont une série de variables de même type. Un vecteur est délimité par la fonction `c( )` (`c` pour **c**oncaténation). Les éléments de la liste sont séparés par des virgules."
   ]
  },
  {
   "cell_type": "code",
   "execution_count": 53,
   "metadata": {
    "inputHidden": false,
    "outputHidden": false
   },
   "outputs": [
    {
     "data": {
      "text/html": [
       "<ol class=list-inline>\n",
       "\t<li>'Petromyzon marinus'</li>\n",
       "\t<li>'Lepisosteus osseus'</li>\n",
       "\t<li>'Amia calva'</li>\n",
       "\t<li>'Hiodon tergisus'</li>\n",
       "</ol>\n"
      ],
      "text/latex": [
       "\\begin{enumerate*}\n",
       "\\item 'Petromyzon marinus'\n",
       "\\item 'Lepisosteus osseus'\n",
       "\\item 'Amia calva'\n",
       "\\item 'Hiodon tergisus'\n",
       "\\end{enumerate*}\n"
      ],
      "text/markdown": [
       "1. 'Petromyzon marinus'\n",
       "2. 'Lepisosteus osseus'\n",
       "3. 'Amia calva'\n",
       "4. 'Hiodon tergisus'\n",
       "\n",
       "\n"
      ],
      "text/plain": [
       "[1] \"Petromyzon marinus\" \"Lepisosteus osseus\" \"Amia calva\"        \n",
       "[4] \"Hiodon tergisus\"   "
      ]
     },
     "metadata": {},
     "output_type": "display_data"
    }
   ],
   "source": [
    "espece <- c('Petromyzon marinus', 'Lepisosteus osseus', 'Amia calva', 'Hiodon tergisus')\n",
    "espece"
   ]
  },
  {
   "cell_type": "markdown",
   "metadata": {},
   "source": [
    "Pour accéder aux éléments d'une liste, appelle la liste suivie de la position de l'objet désiré entre crochets."
   ]
  },
  {
   "cell_type": "code",
   "execution_count": 54,
   "metadata": {
    "inputHidden": false,
    "outputHidden": false
   },
   "outputs": [
    {
     "name": "stdout",
     "output_type": "stream",
     "text": [
      "[1] \"Petromyzon marinus\"\n",
      "[1] \"Lepisosteus osseus\"\n",
      "[1] \"Petromyzon marinus\" \"Lepisosteus osseus\" \"Amia calva\"        \n",
      "[1] \"Petromyzon marinus\" \"Amia calva\"        \n"
     ]
    }
   ],
   "source": [
    "print(espece[1])\n",
    "print(espece[2])\n",
    "print(espece[1:3])\n",
    "print(espece[c(1, 3)])"
   ]
  },
  {
   "cell_type": "markdown",
   "metadata": {},
   "source": [
    "On peut noter que le premier élément de la liste est noté `1`, et non `0` comme c'est le cas de la plupart de langages. Le raccourcis `1:3` crée une liste de nombres entiers de `1` à `3` inclusivement, c'est-à-dire l'équivalent de `c(1, 2, 3)`. En effet, on crée une liste d'indices pour soutirer des éléments d'une liste. On peut utiliser le symbole de soustraction pour retirer un ou plusieurs éléments d'un vecteur."
   ]
  },
  {
   "cell_type": "code",
   "execution_count": 55,
   "metadata": {},
   "outputs": [
    {
     "name": "stdout",
     "output_type": "stream",
     "text": [
      "[1] \"Lepisosteus osseus\" \"Hiodon tergisus\"   \n"
     ]
    }
   ],
   "source": [
    "print(espece[-c(1, 3)])"
   ]
  },
  {
   "cell_type": "markdown",
   "metadata": {},
   "source": [
    "Pour ajouter un élément à notre liste, on peut utiliser la fonction `c( )`."
   ]
  },
  {
   "cell_type": "code",
   "execution_count": 84,
   "metadata": {
    "inputHidden": false,
    "outputHidden": false
   },
   "outputs": [
    {
     "data": {
      "text/html": [
       "<ol class=list-inline>\n",
       "\t<li>'Petromyzon marinus'</li>\n",
       "\t<li>'Lepisosteus osseus'</li>\n",
       "\t<li>'Lepomis gibbosus'</li>\n",
       "\t<li>'Hiodon tergisus'</li>\n",
       "\t<li>'Cyprinus carpio'</li>\n",
       "\t<li>'Cyprinus carpio'</li>\n",
       "</ol>\n"
      ],
      "text/latex": [
       "\\begin{enumerate*}\n",
       "\\item 'Petromyzon marinus'\n",
       "\\item 'Lepisosteus osseus'\n",
       "\\item 'Lepomis gibbosus'\n",
       "\\item 'Hiodon tergisus'\n",
       "\\item 'Cyprinus carpio'\n",
       "\\item 'Cyprinus carpio'\n",
       "\\end{enumerate*}\n"
      ],
      "text/markdown": [
       "1. 'Petromyzon marinus'\n",
       "2. 'Lepisosteus osseus'\n",
       "3. 'Lepomis gibbosus'\n",
       "4. 'Hiodon tergisus'\n",
       "5. 'Cyprinus carpio'\n",
       "6. 'Cyprinus carpio'\n",
       "\n",
       "\n"
      ],
      "text/plain": [
       "[1] \"Petromyzon marinus\" \"Lepisosteus osseus\" \"Lepomis gibbosus\"  \n",
       "[4] \"Hiodon tergisus\"    \"Cyprinus carpio\"    \"Cyprinus carpio\"   "
      ]
     },
     "metadata": {},
     "output_type": "display_data"
    }
   ],
   "source": [
    "espece <- c(espece, \"Cyprinus carpio\")\n",
    "espece"
   ]
  },
  {
   "cell_type": "markdown",
   "metadata": {},
   "source": [
    "Notez que l'on efface l'objet `espece` par une contaténation de l'objet `espece`, précédemment défini, et d'un autre élément. "
   ]
  },
  {
   "cell_type": "markdown",
   "metadata": {},
   "source": [
    " En lançant `espece[3] <- \"Lepomis gibbosus\"`, il est possible de changer une élément de la liste."
   ]
  },
  {
   "cell_type": "code",
   "execution_count": 85,
   "metadata": {
    "inputHidden": false,
    "outputHidden": false
   },
   "outputs": [
    {
     "data": {
      "text/html": [
       "<ol class=list-inline>\n",
       "\t<li>'Petromyzon marinus'</li>\n",
       "\t<li>'Lepisosteus osseus'</li>\n",
       "\t<li>'Lepomis gibbosus'</li>\n",
       "\t<li>'Hiodon tergisus'</li>\n",
       "\t<li>'Cyprinus carpio'</li>\n",
       "\t<li>'Cyprinus carpio'</li>\n",
       "</ol>\n"
      ],
      "text/latex": [
       "\\begin{enumerate*}\n",
       "\\item 'Petromyzon marinus'\n",
       "\\item 'Lepisosteus osseus'\n",
       "\\item 'Lepomis gibbosus'\n",
       "\\item 'Hiodon tergisus'\n",
       "\\item 'Cyprinus carpio'\n",
       "\\item 'Cyprinus carpio'\n",
       "\\end{enumerate*}\n"
      ],
      "text/markdown": [
       "1. 'Petromyzon marinus'\n",
       "2. 'Lepisosteus osseus'\n",
       "3. 'Lepomis gibbosus'\n",
       "4. 'Hiodon tergisus'\n",
       "5. 'Cyprinus carpio'\n",
       "6. 'Cyprinus carpio'\n",
       "\n",
       "\n"
      ],
      "text/plain": [
       "[1] \"Petromyzon marinus\" \"Lepisosteus osseus\" \"Lepomis gibbosus\"  \n",
       "[4] \"Hiodon tergisus\"    \"Cyprinus carpio\"    \"Cyprinus carpio\"   "
      ]
     },
     "metadata": {},
     "output_type": "display_data"
    }
   ],
   "source": [
    "espece[3] <- \"Lepomis gibbosus\"\n",
    "espece"
   ]
  },
  {
   "cell_type": "markdown",
   "metadata": {},
   "source": [
    "#### Matrices\n",
    "\n",
    "Une **matrice** est un vecteur de dimension plus élevée que 1. En écologie, on dépasse rarement la deuxième dimension, quoi que les matrices en `N` dimensions soient courrantes en modélisation mathématique. Je ne considérerai pour le moment que des matrices `2D`. Comme c'est la cas des vecteurs, les matrices contiennent des valeurs de même type. En R, on peut attribuer aux matrices `2D` des noms de ligne et de colonne."
   ]
  },
  {
   "cell_type": "code",
   "execution_count": 86,
   "metadata": {
    "inputHidden": false,
    "outputHidden": false
   },
   "outputs": [
    {
     "data": {
      "text/html": [
       "<table>\n",
       "<tbody>\n",
       "\t<tr><td>1 </td><td>5 </td><td> 9</td></tr>\n",
       "\t<tr><td>2 </td><td>6 </td><td>10</td></tr>\n",
       "\t<tr><td>3 </td><td>7 </td><td>11</td></tr>\n",
       "\t<tr><td>4 </td><td>8 </td><td>12</td></tr>\n",
       "</tbody>\n",
       "</table>\n"
      ],
      "text/latex": [
       "\\begin{tabular}{lll}\n",
       "\t 1  & 5  &  9\\\\\n",
       "\t 2  & 6  & 10\\\\\n",
       "\t 3  & 7  & 11\\\\\n",
       "\t 4  & 8  & 12\\\\\n",
       "\\end{tabular}\n"
      ],
      "text/markdown": [
       "\n",
       "| 1  | 5  |  9 | \n",
       "| 2  | 6  | 10 | \n",
       "| 3  | 7  | 11 | \n",
       "| 4  | 8  | 12 | \n",
       "\n",
       "\n"
      ],
      "text/plain": [
       "     [,1] [,2] [,3]\n",
       "[1,] 1    5     9  \n",
       "[2,] 2    6    10  \n",
       "[3,] 3    7    11  \n",
       "[4,] 4    8    12  "
      ]
     },
     "metadata": {},
     "output_type": "display_data"
    }
   ],
   "source": [
    "mat <- matrix(c(1, 2, 3, 4, 5, 6, 7, 8, 9, 10, 11, 12), ncol=3)\n",
    "mat"
   ]
  },
  {
   "cell_type": "code",
   "execution_count": 87,
   "metadata": {},
   "outputs": [
    {
     "data": {
      "text/html": [
       "<table>\n",
       "<thead><tr><th></th><th scope=col>A</th><th scope=col>B</th><th scope=col>C</th></tr></thead>\n",
       "<tbody>\n",
       "\t<tr><th scope=row>site_1</th><td>1 </td><td>5 </td><td> 9</td></tr>\n",
       "\t<tr><th scope=row>site_2</th><td>2 </td><td>6 </td><td>10</td></tr>\n",
       "\t<tr><th scope=row>site_3</th><td>3 </td><td>7 </td><td>11</td></tr>\n",
       "\t<tr><th scope=row>site_4</th><td>4 </td><td>8 </td><td>12</td></tr>\n",
       "</tbody>\n",
       "</table>\n"
      ],
      "text/latex": [
       "\\begin{tabular}{r|lll}\n",
       "  & A & B & C\\\\\n",
       "\\hline\n",
       "\tsite\\_1 & 1  & 5  &  9\\\\\n",
       "\tsite\\_2 & 2  & 6  & 10\\\\\n",
       "\tsite\\_3 & 3  & 7  & 11\\\\\n",
       "\tsite\\_4 & 4  & 8  & 12\\\\\n",
       "\\end{tabular}\n"
      ],
      "text/markdown": [
       "\n",
       "| <!--/--> | A | B | C | \n",
       "|---|---|---|---|\n",
       "| site_1 | 1  | 5  |  9 | \n",
       "| site_2 | 2  | 6  | 10 | \n",
       "| site_3 | 3  | 7  | 11 | \n",
       "| site_4 | 4  | 8  | 12 | \n",
       "\n",
       "\n"
      ],
      "text/plain": [
       "       A B C \n",
       "site_1 1 5  9\n",
       "site_2 2 6 10\n",
       "site_3 3 7 11\n",
       "site_4 4 8 12"
      ]
     },
     "metadata": {},
     "output_type": "display_data"
    }
   ],
   "source": [
    "colnames(mat) <- c('A', 'B', 'C')\n",
    "rownames(mat) <- c('site_1', 'site_2', 'site_3', 'site_4')\n",
    "mat"
   ]
  },
  {
   "cell_type": "markdown",
   "metadata": {},
   "source": [
    "On peut soutirer les noms de colonne et les noms de ligne. Le résultat est un vecteur."
   ]
  },
  {
   "cell_type": "code",
   "execution_count": 88,
   "metadata": {},
   "outputs": [
    {
     "data": {
      "text/html": [
       "<ol class=list-inline>\n",
       "\t<li>'A'</li>\n",
       "\t<li>'B'</li>\n",
       "\t<li>'C'</li>\n",
       "</ol>\n"
      ],
      "text/latex": [
       "\\begin{enumerate*}\n",
       "\\item 'A'\n",
       "\\item 'B'\n",
       "\\item 'C'\n",
       "\\end{enumerate*}\n"
      ],
      "text/markdown": [
       "1. 'A'\n",
       "2. 'B'\n",
       "3. 'C'\n",
       "\n",
       "\n"
      ],
      "text/plain": [
       "[1] \"A\" \"B\" \"C\""
      ]
     },
     "metadata": {},
     "output_type": "display_data"
    }
   ],
   "source": [
    "colnames(mat)"
   ]
  },
  {
   "cell_type": "code",
   "execution_count": 89,
   "metadata": {},
   "outputs": [
    {
     "data": {
      "text/html": [
       "<ol class=list-inline>\n",
       "\t<li>'site_1'</li>\n",
       "\t<li>'site_2'</li>\n",
       "\t<li>'site_3'</li>\n",
       "\t<li>'site_4'</li>\n",
       "</ol>\n"
      ],
      "text/latex": [
       "\\begin{enumerate*}\n",
       "\\item 'site\\_1'\n",
       "\\item 'site\\_2'\n",
       "\\item 'site\\_3'\n",
       "\\item 'site\\_4'\n",
       "\\end{enumerate*}\n"
      ],
      "text/markdown": [
       "1. 'site_1'\n",
       "2. 'site_2'\n",
       "3. 'site_3'\n",
       "4. 'site_4'\n",
       "\n",
       "\n"
      ],
      "text/plain": [
       "[1] \"site_1\" \"site_2\" \"site_3\" \"site_4\""
      ]
     },
     "metadata": {},
     "output_type": "display_data"
    }
   ],
   "source": [
    "rownames(mat)"
   ]
  },
  {
   "cell_type": "markdown",
   "metadata": {},
   "source": [
    "#### Listes\n",
    "\n",
    "Les **listes** sont des collections hétérogènes dans lesquelles on peut placer les objets désirés, sans distinction: elles peuvent même inclure d'autres listes. Chacun des éléments de la liste peut être identifié par une clé."
   ]
  },
  {
   "cell_type": "code",
   "execution_count": 90,
   "metadata": {},
   "outputs": [
    {
     "data": {
      "text/html": [
       "<dl>\n",
       "\t<dt>$especes</dt>\n",
       "\t\t<dd><ol class=list-inline>\n",
       "\t<li>'Petromyzon marinus'</li>\n",
       "\t<li>'Lepisosteus osseus'</li>\n",
       "\t<li>'Amia calva'</li>\n",
       "\t<li>'Hiodon tergisus'</li>\n",
       "</ol>\n",
       "</dd>\n",
       "\t<dt>$site</dt>\n",
       "\t\t<dd>'A101'</dd>\n",
       "\t<dt>$stations_meteos</dt>\n",
       "\t\t<dd><ol class=list-inline>\n",
       "\t<li>'746583'</li>\n",
       "\t<li>'783786'</li>\n",
       "\t<li>'856363'</li>\n",
       "</ol>\n",
       "</dd>\n",
       "</dl>\n"
      ],
      "text/latex": [
       "\\begin{description}\n",
       "\\item[\\$especes] \\begin{enumerate*}\n",
       "\\item 'Petromyzon marinus'\n",
       "\\item 'Lepisosteus osseus'\n",
       "\\item 'Amia calva'\n",
       "\\item 'Hiodon tergisus'\n",
       "\\end{enumerate*}\n",
       "\n",
       "\\item[\\$site] 'A101'\n",
       "\\item[\\$stations\\_meteos] \\begin{enumerate*}\n",
       "\\item '746583'\n",
       "\\item '783786'\n",
       "\\item '856363'\n",
       "\\end{enumerate*}\n",
       "\n",
       "\\end{description}\n"
      ],
      "text/markdown": [
       "$especes\n",
       ":   1. 'Petromyzon marinus'\n",
       "2. 'Lepisosteus osseus'\n",
       "3. 'Amia calva'\n",
       "4. 'Hiodon tergisus'\n",
       "\n",
       "\n",
       "\n",
       "$site\n",
       ":   'A101'\n",
       "$stations_meteos\n",
       ":   1. '746583'\n",
       "2. '783786'\n",
       "3. '856363'\n",
       "\n",
       "\n",
       "\n",
       "\n",
       "\n"
      ],
      "text/plain": [
       "$especes\n",
       "[1] \"Petromyzon marinus\" \"Lepisosteus osseus\" \"Amia calva\"        \n",
       "[4] \"Hiodon tergisus\"   \n",
       "\n",
       "$site\n",
       "[1] \"A101\"\n",
       "\n",
       "$stations_meteos\n",
       "[1] \"746583\" \"783786\" \"856363\"\n"
      ]
     },
     "metadata": {},
     "output_type": "display_data"
    }
   ],
   "source": [
    "ma_liste <- list(especes = c('Petromyzon marinus', 'Lepisosteus osseus', \n",
    "                             'Amia calva', 'Hiodon tergisus'),\n",
    "                 site = 'A101',\n",
    "                stations_meteos = c('746583', '783786', '856363'))\n",
    "ma_liste"
   ]
  },
  {
   "cell_type": "markdown",
   "metadata": {},
   "source": [
    "Les éléments de la liste peuvent être soutirés par le nom de la clé ou par l'indice, de cette mannière."
   ]
  },
  {
   "cell_type": "code",
   "execution_count": 91,
   "metadata": {},
   "outputs": [
    {
     "data": {
      "text/html": [
       "<ol class=list-inline>\n",
       "\t<li>'Petromyzon marinus'</li>\n",
       "\t<li>'Lepisosteus osseus'</li>\n",
       "\t<li>'Amia calva'</li>\n",
       "\t<li>'Hiodon tergisus'</li>\n",
       "</ol>\n"
      ],
      "text/latex": [
       "\\begin{enumerate*}\n",
       "\\item 'Petromyzon marinus'\n",
       "\\item 'Lepisosteus osseus'\n",
       "\\item 'Amia calva'\n",
       "\\item 'Hiodon tergisus'\n",
       "\\end{enumerate*}\n"
      ],
      "text/markdown": [
       "1. 'Petromyzon marinus'\n",
       "2. 'Lepisosteus osseus'\n",
       "3. 'Amia calva'\n",
       "4. 'Hiodon tergisus'\n",
       "\n",
       "\n"
      ],
      "text/plain": [
       "[1] \"Petromyzon marinus\" \"Lepisosteus osseus\" \"Amia calva\"        \n",
       "[4] \"Hiodon tergisus\"   "
      ]
     },
     "metadata": {},
     "output_type": "display_data"
    }
   ],
   "source": [
    "ma_liste$especes"
   ]
  },
  {
   "cell_type": "code",
   "execution_count": 92,
   "metadata": {},
   "outputs": [
    {
     "data": {
      "text/html": [
       "<ol class=list-inline>\n",
       "\t<li>'Petromyzon marinus'</li>\n",
       "\t<li>'Lepisosteus osseus'</li>\n",
       "\t<li>'Amia calva'</li>\n",
       "\t<li>'Hiodon tergisus'</li>\n",
       "</ol>\n"
      ],
      "text/latex": [
       "\\begin{enumerate*}\n",
       "\\item 'Petromyzon marinus'\n",
       "\\item 'Lepisosteus osseus'\n",
       "\\item 'Amia calva'\n",
       "\\item 'Hiodon tergisus'\n",
       "\\end{enumerate*}\n"
      ],
      "text/markdown": [
       "1. 'Petromyzon marinus'\n",
       "2. 'Lepisosteus osseus'\n",
       "3. 'Amia calva'\n",
       "4. 'Hiodon tergisus'\n",
       "\n",
       "\n"
      ],
      "text/plain": [
       "[1] \"Petromyzon marinus\" \"Lepisosteus osseus\" \"Amia calva\"        \n",
       "[4] \"Hiodon tergisus\"   "
      ]
     },
     "metadata": {},
     "output_type": "display_data"
    }
   ],
   "source": [
    "ma_liste[[1]]"
   ]
  },
  {
   "cell_type": "markdown",
   "metadata": {},
   "source": [
    "**Exercice**. Accéder au deuxième élément du vecteur d'espèces dans la liste `ma_liste`."
   ]
  },
  {
   "cell_type": "markdown",
   "metadata": {},
   "source": [
    "#### Tableaux\n",
    "\n",
    "Enfin, le type de collection de données le plus important est le tableau, ou `data.frame`. Techniquement, il s'agit d'une liste composée de vecteurs de même longueur. Chaque colonne peut ainsi prendre un type de donnée indépendamment des autres colonnes."
   ]
  },
  {
   "cell_type": "code",
   "execution_count": 93,
   "metadata": {
    "inputHidden": false,
    "outputHidden": false
   },
   "outputs": [
    {
     "data": {
      "text/html": [
       "<table>\n",
       "<thead><tr><th scope=col>espece</th><th scope=col>poids</th><th scope=col>longueur</th></tr></thead>\n",
       "<tbody>\n",
       "\t<tr><td>Petromyzon marinus</td><td>10                </td><td>35                </td></tr>\n",
       "\t<tr><td>Lepisosteus osseus</td><td>13                </td><td>44                </td></tr>\n",
       "\t<tr><td>Amia calva        </td><td>21                </td><td>50                </td></tr>\n",
       "\t<tr><td>Hiodon tergisus   </td><td> 4                </td><td> 8                </td></tr>\n",
       "</tbody>\n",
       "</table>\n"
      ],
      "text/latex": [
       "\\begin{tabular}{r|lll}\n",
       " espece & poids & longueur\\\\\n",
       "\\hline\n",
       "\t Petromyzon marinus & 10                 & 35                \\\\\n",
       "\t Lepisosteus osseus & 13                 & 44                \\\\\n",
       "\t Amia calva         & 21                 & 50                \\\\\n",
       "\t Hiodon tergisus    &  4                 &  8                \\\\\n",
       "\\end{tabular}\n"
      ],
      "text/markdown": [
       "\n",
       "espece | poids | longueur | \n",
       "|---|---|---|---|\n",
       "| Petromyzon marinus | 10                 | 35                 | \n",
       "| Lepisosteus osseus | 13                 | 44                 | \n",
       "| Amia calva         | 21                 | 50                 | \n",
       "| Hiodon tergisus    |  4                 |  8                 | \n",
       "\n",
       "\n"
      ],
      "text/plain": [
       "  espece             poids longueur\n",
       "1 Petromyzon marinus 10    35      \n",
       "2 Lepisosteus osseus 13    44      \n",
       "3 Amia calva         21    50      \n",
       "4 Hiodon tergisus     4     8      "
      ]
     },
     "metadata": {},
     "output_type": "display_data"
    }
   ],
   "source": [
    "tableau <- data.frame(espece = c('Petromyzon marinus', 'Lepisosteus osseus', \n",
    "                                'Amia calva', 'Hiodon tergisus'),\n",
    "                     poids = c(10, 13, 21, 4),\n",
    "                     longueur = c(35, 44, 50, 8))\n",
    "tableau"
   ]
  },
  {
   "cell_type": "markdown",
   "metadata": {},
   "source": [
    "Les éléments d'un tableau se manipulent comme ceux d'une matrice et les colonnes peuvent être appelés comme les éléments d'une liste."
   ]
  },
  {
   "cell_type": "code",
   "execution_count": 94,
   "metadata": {},
   "outputs": [
    {
     "data": {
      "text/html": [
       "<table>\n",
       "<thead><tr><th scope=col>poids</th><th scope=col>longueur</th></tr></thead>\n",
       "<tbody>\n",
       "\t<tr><td>10</td><td>35</td></tr>\n",
       "\t<tr><td>13</td><td>44</td></tr>\n",
       "\t<tr><td>21</td><td>50</td></tr>\n",
       "\t<tr><td> 4</td><td> 8</td></tr>\n",
       "</tbody>\n",
       "</table>\n"
      ],
      "text/latex": [
       "\\begin{tabular}{r|ll}\n",
       " poids & longueur\\\\\n",
       "\\hline\n",
       "\t 10 & 35\\\\\n",
       "\t 13 & 44\\\\\n",
       "\t 21 & 50\\\\\n",
       "\t  4 &  8\\\\\n",
       "\\end{tabular}\n"
      ],
      "text/markdown": [
       "\n",
       "poids | longueur | \n",
       "|---|---|---|---|\n",
       "| 10 | 35 | \n",
       "| 13 | 44 | \n",
       "| 21 | 50 | \n",
       "|  4 |  8 | \n",
       "\n",
       "\n"
      ],
      "text/plain": [
       "  poids longueur\n",
       "1 10    35      \n",
       "2 13    44      \n",
       "3 21    50      \n",
       "4  4     8      "
      ]
     },
     "metadata": {},
     "output_type": "display_data"
    }
   ],
   "source": [
    "tableau[, 2:3]"
   ]
  },
  {
   "cell_type": "code",
   "execution_count": 95,
   "metadata": {},
   "outputs": [
    {
     "data": {
      "text/html": [
       "<ol class=list-inline>\n",
       "\t<li>10</li>\n",
       "\t<li>13</li>\n",
       "\t<li>21</li>\n",
       "\t<li>4</li>\n",
       "</ol>\n"
      ],
      "text/latex": [
       "\\begin{enumerate*}\n",
       "\\item 10\n",
       "\\item 13\n",
       "\\item 21\n",
       "\\item 4\n",
       "\\end{enumerate*}\n"
      ],
      "text/markdown": [
       "1. 10\n",
       "2. 13\n",
       "3. 21\n",
       "4. 4\n",
       "\n",
       "\n"
      ],
      "text/plain": [
       "[1] 10 13 21  4"
      ]
     },
     "metadata": {},
     "output_type": "display_data"
    }
   ],
   "source": [
    "tableau$poids"
   ]
  },
  {
   "cell_type": "markdown",
   "metadata": {},
   "source": [
    "Vous verrez aussi, quoi que rarement, ce format, qui à la différence du format `$` génère un tableau."
   ]
  },
  {
   "cell_type": "code",
   "execution_count": 96,
   "metadata": {},
   "outputs": [
    {
     "data": {
      "text/html": [
       "<table>\n",
       "<thead><tr><th scope=col>poids</th></tr></thead>\n",
       "<tbody>\n",
       "\t<tr><td>10</td></tr>\n",
       "\t<tr><td>13</td></tr>\n",
       "\t<tr><td>21</td></tr>\n",
       "\t<tr><td> 4</td></tr>\n",
       "</tbody>\n",
       "</table>\n"
      ],
      "text/latex": [
       "\\begin{tabular}{r|l}\n",
       " poids\\\\\n",
       "\\hline\n",
       "\t 10\\\\\n",
       "\t 13\\\\\n",
       "\t 21\\\\\n",
       "\t  4\\\\\n",
       "\\end{tabular}\n"
      ],
      "text/markdown": [
       "\n",
       "poids | \n",
       "|---|---|---|---|\n",
       "| 10 | \n",
       "| 13 | \n",
       "| 21 | \n",
       "|  4 | \n",
       "\n",
       "\n"
      ],
      "text/plain": [
       "  poids\n",
       "1 10   \n",
       "2 13   \n",
       "3 21   \n",
       "4  4   "
      ]
     },
     "metadata": {},
     "output_type": "display_data"
    }
   ],
   "source": [
    "tableau['poids']"
   ]
  },
  {
   "cell_type": "markdown",
   "metadata": {},
   "source": [
    "Le tableau est le format de collection à privilégier pour manipuler des données. Récemment, le format de tableau `tibble` a été créé par l'équipe de RStudio pour offrir un format plus moderne."
   ]
  },
  {
   "cell_type": "markdown",
   "metadata": {},
   "source": [
    "### Les fonctions\n",
    "\n",
    "Lorsque vous écrivez une commande suivit de parenthèses, comme `data.frame(especes = ...)`, vous demandez à R de passer à l'action en appelant une fonction. De manière très générale, une fonction transforme quelque chose en quelque chose d'autre.\n",
    "\n",
    "![](images/fonctions_io_.png)\n",
    "\n",
    "Par exemple, la fonction `mean()` prend une collection de nombre comme entrée, puis en sort vous devinez quoi."
   ]
  },
  {
   "cell_type": "code",
   "execution_count": 97,
   "metadata": {},
   "outputs": [
    {
     "data": {
      "text/html": [
       "12"
      ],
      "text/latex": [
       "12"
      ],
      "text/markdown": [
       "12"
      ],
      "text/plain": [
       "[1] 12"
      ]
     },
     "metadata": {},
     "output_type": "display_data"
    }
   ],
   "source": [
    "mean(tableau$poids)"
   ]
  },
  {
   "cell_type": "markdown",
   "metadata": {},
   "source": [
    "Les entrées sont appelés les **arguments** de la fonction. Leur définition est toujours disponible dans la documentation.\n",
    "\n",
    "**Exercice**. Familiarisez-vous avec la documentation de R en lançant `?mean`. Truc: si vous avez pris de l'avance et que vous travaillez déjà en RStudio, mettez le terme en surbrillance, puis appuyez sur F1."
   ]
  },
  {
   "cell_type": "markdown",
   "metadata": {},
   "source": [
    "Vous verrez dans la documentation que la fonction `mean()` demande trois arguments, `x`, `trim` et `na.rm`. Or nous avons seulement placé un vecteur, sans spécifier d'argument!\n",
    "\n",
    "En effet. En l'absence d'une définition des arguments, R supposera que les arguments dans la parenthèse, séparés par une virgule, sont présentés dans le même ordre que celui spécifié dans la définition de la fonction (celle qui est présentée dans le fichier d'aide). Dans le cas qui nous intéresse, `mean(tableau$poids)` est équivalent à `mean(x = tableau$poids)`.\n",
    "\n",
    "Maintenant, selon la fiche d'aire l'argument `na.rm` est un valeur logique spécifiant si oui (`TRUE`) ou non (`FALSE`) les valeurs manquantes doivent être considérées (une moyenne d'un vecteur comprenant au moins un `NA` sera de `NA`). En ne spécifiant rien, R prend la valeur par défaut, telle que spécifiée dans la documentation. Il en va de même que l'argument `trim`, qui permet d'élaguer des valeurs extrêmes. Dans la fiche d'aide,  `mean(x, trim = 0, na.rm = FALSE, ...)` signifie que par défaut, l'argument `x` est vide (il doit donc être spécifié), l'argument `trim` est de 0 et l'argument `na.rm` est `FALSE`."
   ]
  },
  {
   "cell_type": "code",
   "execution_count": 98,
   "metadata": {},
   "outputs": [
    {
     "data": {
      "text/html": [
       "&lt;NA&gt;"
      ],
      "text/latex": [
       "<NA>"
      ],
      "text/markdown": [
       "&lt;NA&gt;"
      ],
      "text/plain": [
       "[1] NA"
      ]
     },
     "metadata": {},
     "output_type": "display_data"
    }
   ],
   "source": [
    "mean(c(6, 1, 7, 4, 9, NA, 1))"
   ]
  },
  {
   "cell_type": "code",
   "execution_count": 99,
   "metadata": {},
   "outputs": [
    {
     "data": {
      "text/html": [
       "4.66666666666667"
      ],
      "text/latex": [
       "4.66666666666667"
      ],
      "text/markdown": [
       "4.66666666666667"
      ],
      "text/plain": [
       "[1] 4.666667"
      ]
     },
     "metadata": {},
     "output_type": "display_data"
    }
   ],
   "source": [
    "mean(c(6, 1, 7, 4, 9, NA, 1), na.rm = TRUE)"
   ]
  },
  {
   "cell_type": "markdown",
   "metadata": {},
   "source": [
    "Vous n'êtes pas emprisonné par les fonctions offertes par R. Vous pouvez installer des modules qui complètent les fonctions de base de R: on le verra un peu plus loin dans ce chapitre. Mais pour l'instant, voyons comment vous pouvez créer vos propres fonctions. Disons que vous voulez créer une fonction qui calcule la sortie de $x^3-2y+a$. Pour obtenir la réponse on a besoin des arguments `x`, `y` et `a`. La sortie de la fonction est ici triviale: la réponse de l'équation. L'opération `function` permet de prendre ça en charge."
   ]
  },
  {
   "cell_type": "code",
   "execution_count": 107,
   "metadata": {},
   "outputs": [],
   "source": [
    "operation_f <- function(x, y, a = 10) {\n",
    "    return(x^3-2*y+a)\n",
    "}"
   ]
  },
  {
   "cell_type": "markdown",
   "metadata": {},
   "source": [
    "Notez que `a` a une valeur par défaut. La sortie de la fonction est ce qui se trouve entre les parenthèses de `return`. Vous pouvez maintenant utiliser la fonction operation_nl au besoin."
   ]
  },
  {
   "cell_type": "code",
   "execution_count": 108,
   "metadata": {},
   "outputs": [
    {
     "data": {
      "text/html": [
       "3"
      ],
      "text/latex": [
       "3"
      ],
      "text/markdown": [
       "3"
      ],
      "text/plain": [
       "[1] 3"
      ]
     },
     "metadata": {},
     "output_type": "display_data"
    }
   ],
   "source": [
    "operation_f(x = 2, y = 3, a = 1)"
   ]
  },
  {
   "cell_type": "markdown",
   "metadata": {},
   "source": [
    "Une telle fonction est peu utile. Mais l'utilisation de fonctions personnalisées vous permettra d'éviter de répéter la même opération plusieurs fois dans un flux de travail, en évitant de générer trop de code, donc aussi de potentielles erreurs. Personnellement, j'utilise les fonctions surtout pour générer des graphiques personnalisés."
   ]
  },
  {
   "cell_type": "markdown",
   "metadata": {},
   "source": [
    "**Exercice**. Afin d'acquérir de l'autonomie, vous devrez être en mesure de trouver le nom des commandes dont vous avez besoin pour effectuer la tâche que vous désirer effectuer. Cela peut causer des frustrations, mais vous vous sentirez toujours plus à l'aise vec R jour après jour. L'exercice ici est de trouver par vous-même la commande qui vous permettra mesurer la longueur d'un vecteur. "
   ]
  },
  {
   "cell_type": "markdown",
   "metadata": {},
   "source": [
    "### Les boucles\n",
    "\n",
    "Les boucles permettent d'effectuer une même suite d'opérations sur plusieurs objets. Pour faire suite à notre exemple, nous désirons obtenir le résultat de l'opération *f* pour des paramètres que nous enregistrons dans ce tableau."
   ]
  },
  {
   "cell_type": "code",
   "execution_count": 109,
   "metadata": {},
   "outputs": [
    {
     "data": {
      "text/html": [
       "<table>\n",
       "<thead><tr><th scope=col>x</th><th scope=col>y</th><th scope=col>a</th></tr></thead>\n",
       "<tbody>\n",
       "\t<tr><td>2</td><td>3</td><td>6</td></tr>\n",
       "\t<tr><td>4</td><td>4</td><td>1</td></tr>\n",
       "\t<tr><td>1</td><td>8</td><td>8</td></tr>\n",
       "\t<tr><td>5</td><td>1</td><td>2</td></tr>\n",
       "\t<tr><td>6</td><td>0</td><td>5</td></tr>\n",
       "</tbody>\n",
       "</table>\n"
      ],
      "text/latex": [
       "\\begin{tabular}{r|lll}\n",
       " x & y & a\\\\\n",
       "\\hline\n",
       "\t 2 & 3 & 6\\\\\n",
       "\t 4 & 4 & 1\\\\\n",
       "\t 1 & 8 & 8\\\\\n",
       "\t 5 & 1 & 2\\\\\n",
       "\t 6 & 0 & 5\\\\\n",
       "\\end{tabular}\n"
      ],
      "text/markdown": [
       "\n",
       "x | y | a | \n",
       "|---|---|---|---|---|\n",
       "| 2 | 3 | 6 | \n",
       "| 4 | 4 | 1 | \n",
       "| 1 | 8 | 8 | \n",
       "| 5 | 1 | 2 | \n",
       "| 6 | 0 | 5 | \n",
       "\n",
       "\n"
      ],
      "text/plain": [
       "  x y a\n",
       "1 2 3 6\n",
       "2 4 4 1\n",
       "3 1 8 8\n",
       "4 5 1 2\n",
       "5 6 0 5"
      ]
     },
     "metadata": {},
     "output_type": "display_data"
    }
   ],
   "source": [
    "params <- data.frame(x = c(2, 4, 1, 5, 6),\n",
    "                     y = c(3, 4, 8, 1, 0),\n",
    "                     a = c(6, 1, 8, 2, 5))\n",
    "params"
   ]
  },
  {
   "cell_type": "markdown",
   "metadata": {},
   "source": [
    "Nous créons un vecteur vide, puis nous itérons ligne par ligne en remplissant le vecteur."
   ]
  },
  {
   "cell_type": "code",
   "execution_count": 111,
   "metadata": {},
   "outputs": [
    {
     "data": {
      "text/html": [
       "<ol class=list-inline>\n",
       "\t<li>8</li>\n",
       "\t<li>57</li>\n",
       "\t<li>-7</li>\n",
       "\t<li>125</li>\n",
       "\t<li>221</li>\n",
       "</ol>\n"
      ],
      "text/latex": [
       "\\begin{enumerate*}\n",
       "\\item 8\n",
       "\\item 57\n",
       "\\item -7\n",
       "\\item 125\n",
       "\\item 221\n",
       "\\end{enumerate*}\n"
      ],
      "text/markdown": [
       "1. 8\n",
       "2. 57\n",
       "3. -7\n",
       "4. 125\n",
       "5. 221\n",
       "\n",
       "\n"
      ],
      "text/plain": [
       "[1]   8  57  -7 125 221"
      ]
     },
     "metadata": {},
     "output_type": "display_data"
    }
   ],
   "source": [
    "operation_res <- c()\n",
    "for (i in 1:nrow(params)) {\n",
    "    operation_res[i] <- operation_f(x = params[i, 1], y = params[i, 2], a = params[i, 3])\n",
    "}\n",
    "operation_res"
   ]
  },
  {
   "cell_type": "markdown",
   "metadata": {},
   "source": [
    "En faisant varier `i` sur des valeurs du vecteur donné par la séquence de nombre entiers de 1 au nombre de ligne du tableau de paramètres, nous demandons à R d'effectuer la suite d'opération entre les accolades `{}`. À chaque boucle, `i` prend une valeur de la séquence. `i` est utilisé ici comme indice de la ligne à soutirer du tableau `params`, qui correspond à l'indice dans le vecteur operation_res.\n",
    "\n",
    "Ainsi, chaque résultat est calculé dans l'ordre des lignes du tableau de paramètres et l'on pourra très bien y coller nos résultats:"
   ]
  },
  {
   "cell_type": "code",
   "execution_count": 112,
   "metadata": {},
   "outputs": [
    {
     "data": {
      "text/html": [
       "<table>\n",
       "<thead><tr><th scope=col>x</th><th scope=col>y</th><th scope=col>a</th><th scope=col>resultats</th></tr></thead>\n",
       "<tbody>\n",
       "\t<tr><td>2  </td><td>3  </td><td>6  </td><td>  8</td></tr>\n",
       "\t<tr><td>4  </td><td>4  </td><td>1  </td><td> 57</td></tr>\n",
       "\t<tr><td>1  </td><td>8  </td><td>8  </td><td> -7</td></tr>\n",
       "\t<tr><td>5  </td><td>1  </td><td>2  </td><td>125</td></tr>\n",
       "\t<tr><td>6  </td><td>0  </td><td>5  </td><td>221</td></tr>\n",
       "</tbody>\n",
       "</table>\n"
      ],
      "text/latex": [
       "\\begin{tabular}{r|llll}\n",
       " x & y & a & resultats\\\\\n",
       "\\hline\n",
       "\t 2   & 3   & 6   &   8\\\\\n",
       "\t 4   & 4   & 1   &  57\\\\\n",
       "\t 1   & 8   & 8   &  -7\\\\\n",
       "\t 5   & 1   & 2   & 125\\\\\n",
       "\t 6   & 0   & 5   & 221\\\\\n",
       "\\end{tabular}\n"
      ],
      "text/markdown": [
       "\n",
       "x | y | a | resultats | \n",
       "|---|---|---|---|---|\n",
       "| 2   | 3   | 6   |   8 | \n",
       "| 4   | 4   | 1   |  57 | \n",
       "| 1   | 8   | 8   |  -7 | \n",
       "| 5   | 1   | 2   | 125 | \n",
       "| 6   | 0   | 5   | 221 | \n",
       "\n",
       "\n"
      ],
      "text/plain": [
       "  x y a resultats\n",
       "1 2 3 6   8      \n",
       "2 4 4 1  57      \n",
       "3 1 8 8  -7      \n",
       "4 5 1 2 125      \n",
       "5 6 0 5 221      "
      ]
     },
     "metadata": {},
     "output_type": "display_data"
    }
   ],
   "source": [
    "params$resultats <- operation_res\n",
    "params"
   ]
  },
  {
   "cell_type": "markdown",
   "metadata": {},
   "source": [
    "Notez que puisque la colonne `resultat` n'existe pas dans le tableau `params`, R crée automatiquement une nouvelle colonne."
   ]
  },
  {
   "cell_type": "markdown",
   "metadata": {},
   "source": [
    "Les boucles `for` vous permettront par exemple de générer en peu de temps 10, 100, 1000 graphiques (autant que vous voulez), chacun issu de simulations obtenues à partir de conidtions initiales différentes, et de les enregistrer dans un répertoire sur votre ordinateur. Un travail qui pourrait prendre des semaines sur Excel peut être effectué en R en quelques secondes.\n",
    "\n",
    "Un second outil est disponible pour les itérations: les boucles **`while`**. Elles effectue une opération tant qu'un critère n'est pas atteint. Elles sont utiles pour les opérations où l'on cherche une convergence. Je les couvre rapidement puisque'elles sont rarement utilisées dans les flux de travail courrants. En voici un petit exemple."
   ]
  },
  {
   "cell_type": "code",
   "execution_count": 113,
   "metadata": {
    "inputHidden": false,
    "outputHidden": false
   },
   "outputs": [
    {
     "name": "stdout",
     "output_type": "stream",
     "text": [
      "[1] 10\n",
      "[1] 3.162278\n",
      "[1] 1.778279\n",
      "[1] 1.333521\n",
      "[1] 1.154782\n",
      "[1] 1.074608\n"
     ]
    }
   ],
   "source": [
    "x <- 100\n",
    "while (x > 1.1) {\n",
    "    x <- sqrt(x)\n",
    "    print(x)\n",
    "}\n",
    "    "
   ]
  },
  {
   "cell_type": "markdown",
   "metadata": {},
   "source": [
    "Nous avons inité x à une valeur de 100. Puis, tant que (`while`) le test `x > 1.1` est vrai, attribuer à `x` la nouvelle valeur calculée en extrayant la racine de la valeur précédente de `x`. Enfin, indiquer la valeur avec `print`."
   ]
  },
  {
   "cell_type": "markdown",
   "metadata": {},
   "source": [
    "### Conditions: if, else if, else\n",
    "\n",
    "> Si la condition 1 est remplie, effectuer une suite d'instruction 1. Si la condition 1 n'est pas remplie, et si la condition 2 est remplie, effectuer la suite d'instruction 2. Sinon, effectuer la suite d'instruction 3.\n",
    "\n",
    "Voilà comment on exprime une suite de conditions. Prenons l'exemple simple d'une discrétisation d'une valeur continue. Si $x<10$, il est classé comme faible. Si $10 \\leq x <20$, il est classé comme moyen. Si $x \\geq 20$, il est classé comme élevé. Plaçons cette classification dans une fonction."
   ]
  },
  {
   "cell_type": "code",
   "execution_count": 115,
   "metadata": {
    "collapsed": true,
    "inputHidden": false,
    "outputHidden": false
   },
   "outputs": [],
   "source": [
    "classification <- function(x, lim1=10, lim2=20)  {\n",
    "    if (x < lim1) {\n",
    "        categorie <- \"faible\"\n",
    "    } else if (x < lim2) {\n",
    "        categorie <- \"moyen\"\n",
    "    } else {\n",
    "        categorie <- \"élevé\"\n",
    "    }\n",
    "    return(categorie)\n",
    "}"
   ]
  },
  {
   "cell_type": "code",
   "execution_count": 117,
   "metadata": {},
   "outputs": [
    {
     "data": {
      "text/html": [
       "'faible'"
      ],
      "text/latex": [
       "'faible'"
      ],
      "text/markdown": [
       "'faible'"
      ],
      "text/plain": [
       "[1] \"faible\""
      ]
     },
     "metadata": {},
     "output_type": "display_data"
    }
   ],
   "source": [
    "classification(-10)"
   ]
  },
  {
   "cell_type": "code",
   "execution_count": 118,
   "metadata": {},
   "outputs": [
    {
     "data": {
      "text/html": [
       "'moyen'"
      ],
      "text/latex": [
       "'moyen'"
      ],
      "text/markdown": [
       "'moyen'"
      ],
      "text/plain": [
       "[1] \"moyen\""
      ]
     },
     "metadata": {},
     "output_type": "display_data"
    }
   ],
   "source": [
    "classification(15.4)"
   ]
  },
  {
   "cell_type": "code",
   "execution_count": 119,
   "metadata": {},
   "outputs": [
    {
     "data": {
      "text/html": [
       "'élevé'"
      ],
      "text/latex": [
       "'élevé'"
      ],
      "text/markdown": [
       "'élevé'"
      ],
      "text/plain": [
       "[1] \"élevé\""
      ]
     },
     "metadata": {},
     "output_type": "display_data"
    }
   ],
   "source": [
    "classification(10000)"
   ]
  },
  {
   "cell_type": "markdown",
   "metadata": {},
   "source": [
    "Une condition est définie avec le `if`, suivi du test à vrai ou faux entre parenthèse. Si le test retourne un *vrai* (`TRUE`), l'instruction entre accolades est exécutée. Si elle est fausse, on passe au suivant."
   ]
  },
  {
   "cell_type": "markdown",
   "metadata": {},
   "source": [
    "**Exercice**. Explorer les commandes `ifelse` et `cut` et réfléchissez à la manière qu'ils pourraient être utilées pour effectuer une discrétisation plus efficacement qu'avec les `if` et les `else`."
   ]
  },
  {
   "cell_type": "markdown",
   "metadata": {},
   "source": [
    "### Installer et charger un module\n",
    "\n",
    "La plupart des opérations d'ordre général (comme les racines carrées, les tests statistiques, la gestion de matrices et de tableau, les graphiques, etc.) sont accessibles grâce aux modules de base de R, qui sont installés et chargés par défaut lors du démarrage de R. Des équipes de travail ont néanmoins développé plusieurs modules pour répondre à leurs besoins spécialisés, et les ont laissées disponibles au grand public dans des modules que vous pouvez installer d'un dépôt CRAN (le AppStore de R), d'un dépôt Anaconda (le AppStore de Anaconda, si vous utilisez cette plate-forme), d'un dépôt Github (dépôts décentralisés), etc.\n",
    "\n",
    "RStudio possède un pratique bouton *Install* qui vous permet d'y inscrire une liste de modules. Le navigateur anaconda offre aussi une interface d'installation. La commande R pour installer un module est `install.packages(\"ggplot2\")`, si par exemple vous désirez installer `ggplot2`, le module graphique par excellence en R. C'est la commande que RStudio lancera tout seul si vous lui demandez d'installer `ggplot2`.\n",
    "\n",
    "Les modules sont l'équivalent des applications spécialisées que vous installez sur un téléphone mobile. Pour les utiliser, il faut les ouvir.\n",
    "\n",
    "Généralement, j'ouvre toutes les applications nécessaires à mon flux de travail au tout début de ma feuille de calcul (la prochaine cellule retournera un message d'erreur si les packages ne sont pas installés)."
   ]
  },
  {
   "cell_type": "code",
   "execution_count": 120,
   "metadata": {},
   "outputs": [
    {
     "name": "stderr",
     "output_type": "stream",
     "text": [
      "── Attaching packages ─────────────────────────────────────── tidyverse 1.2.1 ──\n",
      "✔ ggplot2 3.0.0     ✔ purrr   0.2.5\n",
      "✔ tibble  1.4.2     ✔ dplyr   0.7.6\n",
      "✔ tidyr   0.8.1     ✔ stringr 1.3.1\n",
      "✔ readr   1.1.1     ✔ forcats 0.3.0\n",
      "── Conflicts ────────────────────────────────────────── tidyverse_conflicts() ──\n",
      "✖ dplyr::filter() masks stats::filter()\n",
      "✖ dplyr::lag()    masks stats::lag()\n",
      "Loading required package: permute\n",
      "Loading required package: lattice\n",
      "This is vegan 2.5-2\n",
      "\n",
      "Attaching package: ‘nlme’\n",
      "\n",
      "The following object is masked from ‘package:dplyr’:\n",
      "\n",
      "    collapse\n",
      "\n"
     ]
    }
   ],
   "source": [
    "library(\"tidyverse\") # méta-package qui charge entre autres dplyr et ggplot2\n",
    "library(\"vegan\")\n",
    "library(\"nlme\")"
   ]
  },
  {
   "cell_type": "markdown",
   "metadata": {},
   "source": [
    "Les modules sont installés sur votre ordinateur à un endroit que vous pourrez retrouver avec la commande `.libPaths()`"
   ]
  },
  {
   "cell_type": "markdown",
   "metadata": {},
   "source": [
    "**Exercice**. À partir d'ici jusqu'à la fin du cours, nous utiliserons RStudio. Ouvrez-le et familiarisez-vous avec l'interface! Quelques petits trucs:\n",
    "\n",
    "- pour lancer une ligne, placez-votre curseur sur la ligne, puis appuyez sur Ctrl+Enter\n",
    "- pour lancer une partie de code précise, mettez le en surbrillance, puis Ctrl+Enter\n",
    "- utilisez toujours le gestionnaire de projets, en haut à droite!\n",
    "- installez le module `tidyverse`\n",
    "- lancez data(iris) pour obtenir un tableau d'exercice, puis cliquez sur l'objet dans la fenêtre environnement\n",
    "- essayer R notebook"
   ]
  },
  {
   "cell_type": "markdown",
   "metadata": {},
   "source": [
    "## Enfin...\n",
    "\n",
    "\n",
    "Comme une langue, on n'apprend à s'exprimer en un langage informatique qu'en se mettant à l'épreuve, ce que vous ferez tout au long de ce cours. Pour vous encourager, voici quelques trucs pour apprendre à coder en R.\n",
    "\n",
    "- **R n'aime pas l'ambiguité**. Une simple virgule mal placée et il ne sait plus quoi faire. Cela peut être frustrant au début, mais cette rigidité est nécessaire pour effectuer du calcul scientifique.\n",
    "- **Le copier-coller est votre ami**. En gardant à l'esprit que vous être responsable de votre code et que vous respectez les droits d'auteur, n'ayez pas peur de copier-coller des lignes de code et de personnaliser par la suite.\n",
    "- **L'erreur que vous obtenez: d'autres l'on obtenue avant vous**. Le site de question-réponse [stackoverflow](https://stackoverflow.com/questions/tagged/r) est une ressource inestimable où des gens ayant posté des questions ont reçu des réponses d'experts (les meilleures réponses et les meilleures questions apparaissent en premier). Apprenez à chercher intelligemment des réponses en formulant précisément vos questions!\n",
    "- **Étudiez et pratiquez**. Les messages d'erreur en R sont courrants, même chez les personnes expérimentées. La meilleure manière d'apprendre une langue est de la parler, d'étudier ses suscepptibilités, de les tester dans une conversation, etc."
   ]
  },
  {
   "cell_type": "code",
   "execution_count": null,
   "metadata": {},
   "outputs": [],
   "source": []
  }
 ],
 "metadata": {
  "anaconda-cloud": {},
  "kernel_info": {
   "name": "ir"
  },
  "kernelspec": {
   "display_name": "R",
   "language": "R",
   "name": "ir"
  },
  "language_info": {
   "codemirror_mode": "r",
   "file_extension": ".r",
   "mimetype": "text/x-r-source",
   "name": "R",
   "pygments_lexer": "r",
   "version": "3.4.4"
  },
  "nteract": {
   "version": "0.9.0"
  }
 },
 "nbformat": 4,
 "nbformat_minor": 2
}
